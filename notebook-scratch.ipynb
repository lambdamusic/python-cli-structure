{
 "metadata": {
  "language_info": {
   "codemirror_mode": {
    "name": "ipython",
    "version": 3
   },
   "file_extension": ".py",
   "mimetype": "text/x-python",
   "name": "python",
   "nbconvert_exporter": "python",
   "pygments_lexer": "ipython3",
   "version": "3.9.1"
  },
  "orig_nbformat": 2,
  "kernelspec": {
   "name": "python3",
   "display_name": "Python 3.9.1 64-bit ('dash': virtualenvwrapper)"
  },
  "metadata": {
   "interpreter": {
    "hash": "7977b4234fcf02ce8ac53fba0058602d738661eaae711b73b86e81cb1aae74a3"
   }
  },
  "interpreter": {
   "hash": "7977b4234fcf02ce8ac53fba0058602d738661eaae711b73b86e81cb1aae74a3"
  }
 },
 "nbformat": 4,
 "nbformat_minor": 2,
 "cells": [
  {
   "source": [
    "# Scratch notebook\n",
    "\n",
    "Quick tests and throw-away code"
   ],
   "cell_type": "markdown",
   "metadata": {}
  },
  {
   "cell_type": "code",
   "execution_count": 1,
   "metadata": {},
   "outputs": [],
   "source": [
    "import plotly.express as px\n",
    "import pandas as pd\n",
    "import random\n",
    "import pycountry\n",
    "\n",
    "# quick testing lib\n",
    "from src.libs.gbq import testq\n"
   ]
  },
  {
   "cell_type": "code",
   "execution_count": 2,
   "metadata": {},
   "outputs": [
    {
     "output_type": "stream",
     "name": "stdout",
     "text": [
      "No matching queries found.\nOptions:\n 10_references_topten.sql\n6_authors_researchers.sql\n5_res_places.sql\n2_get_journal_from_keyword.sql\n12_competitors_performance.sql\n8_citations_top_ten.sql\n4_recurring_authors.sql\n9_references_by_pubtype.sql\n7_citations_by_pubtype.sql\n3_pubs_by_year.sql\n11_competing_journals.sql\n1_get_title.sql\n"
     ]
    }
   ],
   "source": [
    "testq(\"_\")\n"
   ]
  },
  {
   "cell_type": "code",
   "execution_count": 29,
   "metadata": {},
   "outputs": [
    {
     "output_type": "stream",
     "name": "stdout",
     "text": [
      "Using default arg `j_id=\"jour.1115214\"`\n\u001b[2m>>[16:40:40]debug>>: Running: '5_res_places.sql'.. using Kwargs: '{'j_id': 'jour.1115214'}'\u001b[0m\n"
     ]
    },
    {
     "output_type": "execute_result",
     "data": {
      "text/plain": [
       "      people         gridid         country country_code           city  \\\n",
       "0          4  grid.419447.b   United States           US        Ardmore   \n",
       "1         20  grid.239395.7   United States           US         Boston   \n",
       "2          4    grid.5491.9  United Kingdom           GB    Southampton   \n",
       "3         43  grid.27860.3b   United States           US          Davis   \n",
       "4         65    grid.4367.6   United States           US       St Louis   \n",
       "...      ...            ...             ...          ...            ...   \n",
       "1978       1  grid.410372.3   United States           US  San Francisco   \n",
       "1979       1  grid.265438.e   United States           US    Schenectady   \n",
       "1980       1  grid.258331.e           Japan           JP      Takamatsu   \n",
       "1981       1  grid.454388.6         Austria           AT         Vienna   \n",
       "1982       1  grid.266426.2   United States           US           Hilo   \n",
       "\n",
       "            lat        long  \n",
       "0     34.184410  -97.095200  \n",
       "1     42.339787  -71.105186  \n",
       "2     50.934631   -1.395950  \n",
       "3     38.540001 -121.750000  \n",
       "4     38.649033  -90.310852  \n",
       "...         ...         ...  \n",
       "1978  37.782471 -122.504234  \n",
       "1979  42.817768  -73.930534  \n",
       "1980  34.342972  134.037643  \n",
       "1981  48.236557   16.383814  \n",
       "1982  19.699600 -155.081604  \n",
       "\n",
       "[1983 rows x 7 columns]"
      ],
      "text/html": "<div>\n<style scoped>\n    .dataframe tbody tr th:only-of-type {\n        vertical-align: middle;\n    }\n\n    .dataframe tbody tr th {\n        vertical-align: top;\n    }\n\n    .dataframe thead th {\n        text-align: right;\n    }\n</style>\n<table border=\"1\" class=\"dataframe\">\n  <thead>\n    <tr style=\"text-align: right;\">\n      <th></th>\n      <th>people</th>\n      <th>gridid</th>\n      <th>country</th>\n      <th>country_code</th>\n      <th>city</th>\n      <th>lat</th>\n      <th>long</th>\n    </tr>\n  </thead>\n  <tbody>\n    <tr>\n      <th>0</th>\n      <td>4</td>\n      <td>grid.419447.b</td>\n      <td>United States</td>\n      <td>US</td>\n      <td>Ardmore</td>\n      <td>34.184410</td>\n      <td>-97.095200</td>\n    </tr>\n    <tr>\n      <th>1</th>\n      <td>20</td>\n      <td>grid.239395.7</td>\n      <td>United States</td>\n      <td>US</td>\n      <td>Boston</td>\n      <td>42.339787</td>\n      <td>-71.105186</td>\n    </tr>\n    <tr>\n      <th>2</th>\n      <td>4</td>\n      <td>grid.5491.9</td>\n      <td>United Kingdom</td>\n      <td>GB</td>\n      <td>Southampton</td>\n      <td>50.934631</td>\n      <td>-1.395950</td>\n    </tr>\n    <tr>\n      <th>3</th>\n      <td>43</td>\n      <td>grid.27860.3b</td>\n      <td>United States</td>\n      <td>US</td>\n      <td>Davis</td>\n      <td>38.540001</td>\n      <td>-121.750000</td>\n    </tr>\n    <tr>\n      <th>4</th>\n      <td>65</td>\n      <td>grid.4367.6</td>\n      <td>United States</td>\n      <td>US</td>\n      <td>St Louis</td>\n      <td>38.649033</td>\n      <td>-90.310852</td>\n    </tr>\n    <tr>\n      <th>...</th>\n      <td>...</td>\n      <td>...</td>\n      <td>...</td>\n      <td>...</td>\n      <td>...</td>\n      <td>...</td>\n      <td>...</td>\n    </tr>\n    <tr>\n      <th>1978</th>\n      <td>1</td>\n      <td>grid.410372.3</td>\n      <td>United States</td>\n      <td>US</td>\n      <td>San Francisco</td>\n      <td>37.782471</td>\n      <td>-122.504234</td>\n    </tr>\n    <tr>\n      <th>1979</th>\n      <td>1</td>\n      <td>grid.265438.e</td>\n      <td>United States</td>\n      <td>US</td>\n      <td>Schenectady</td>\n      <td>42.817768</td>\n      <td>-73.930534</td>\n    </tr>\n    <tr>\n      <th>1980</th>\n      <td>1</td>\n      <td>grid.258331.e</td>\n      <td>Japan</td>\n      <td>JP</td>\n      <td>Takamatsu</td>\n      <td>34.342972</td>\n      <td>134.037643</td>\n    </tr>\n    <tr>\n      <th>1981</th>\n      <td>1</td>\n      <td>grid.454388.6</td>\n      <td>Austria</td>\n      <td>AT</td>\n      <td>Vienna</td>\n      <td>48.236557</td>\n      <td>16.383814</td>\n    </tr>\n    <tr>\n      <th>1982</th>\n      <td>1</td>\n      <td>grid.266426.2</td>\n      <td>United States</td>\n      <td>US</td>\n      <td>Hilo</td>\n      <td>19.699600</td>\n      <td>-155.081604</td>\n    </tr>\n  </tbody>\n</table>\n<p>1983 rows × 7 columns</p>\n</div>"
     },
     "metadata": {},
     "execution_count": 29
    }
   ],
   "source": [
    "df = testq(\"5_res_places.sql\")\n",
    "df"
   ]
  },
  {
   "cell_type": "code",
   "execution_count": 10,
   "metadata": {},
   "outputs": [],
   "source": [
    "germany = pycountry.countries.get(alpha_2='DE')"
   ]
  },
  {
   "cell_type": "code",
   "execution_count": 12,
   "metadata": {},
   "outputs": [
    {
     "output_type": "execute_result",
     "data": {
      "text/plain": [
       "'DEU'"
      ]
     },
     "metadata": {},
     "execution_count": 12
    }
   ],
   "source": [
    "germany.alpha_3"
   ]
  },
  {
   "cell_type": "code",
   "execution_count": 26,
   "metadata": {},
   "outputs": [],
   "source": [
    "dft = px.data.gapminder().query(\"year==2007\")"
   ]
  },
  {
   "cell_type": "code",
   "execution_count": 27,
   "metadata": {},
   "outputs": [
    {
     "output_type": "execute_result",
     "data": {
      "text/plain": [
       "                 country continent  year  lifeExp       pop     gdpPercap  \\\n",
       "11           Afghanistan      Asia  2007   43.828  31889923    974.580338   \n",
       "23               Albania    Europe  2007   76.423   3600523   5937.029526   \n",
       "35               Algeria    Africa  2007   72.301  33333216   6223.367465   \n",
       "47                Angola    Africa  2007   42.731  12420476   4797.231267   \n",
       "59             Argentina  Americas  2007   75.320  40301927  12779.379640   \n",
       "...                  ...       ...   ...      ...       ...           ...   \n",
       "1655             Vietnam      Asia  2007   74.249  85262356   2441.576404   \n",
       "1667  West Bank and Gaza      Asia  2007   73.422   4018332   3025.349798   \n",
       "1679         Yemen, Rep.      Asia  2007   62.698  22211743   2280.769906   \n",
       "1691              Zambia    Africa  2007   42.384  11746035   1271.211593   \n",
       "1703            Zimbabwe    Africa  2007   43.487  12311143    469.709298   \n",
       "\n",
       "     iso_alpha  iso_num  \n",
       "11         AFG        4  \n",
       "23         ALB        8  \n",
       "35         DZA       12  \n",
       "47         AGO       24  \n",
       "59         ARG       32  \n",
       "...        ...      ...  \n",
       "1655       VNM      704  \n",
       "1667       PSE      275  \n",
       "1679       YEM      887  \n",
       "1691       ZMB      894  \n",
       "1703       ZWE      716  \n",
       "\n",
       "[142 rows x 8 columns]"
      ],
      "text/html": "<div>\n<style scoped>\n    .dataframe tbody tr th:only-of-type {\n        vertical-align: middle;\n    }\n\n    .dataframe tbody tr th {\n        vertical-align: top;\n    }\n\n    .dataframe thead th {\n        text-align: right;\n    }\n</style>\n<table border=\"1\" class=\"dataframe\">\n  <thead>\n    <tr style=\"text-align: right;\">\n      <th></th>\n      <th>country</th>\n      <th>continent</th>\n      <th>year</th>\n      <th>lifeExp</th>\n      <th>pop</th>\n      <th>gdpPercap</th>\n      <th>iso_alpha</th>\n      <th>iso_num</th>\n    </tr>\n  </thead>\n  <tbody>\n    <tr>\n      <th>11</th>\n      <td>Afghanistan</td>\n      <td>Asia</td>\n      <td>2007</td>\n      <td>43.828</td>\n      <td>31889923</td>\n      <td>974.580338</td>\n      <td>AFG</td>\n      <td>4</td>\n    </tr>\n    <tr>\n      <th>23</th>\n      <td>Albania</td>\n      <td>Europe</td>\n      <td>2007</td>\n      <td>76.423</td>\n      <td>3600523</td>\n      <td>5937.029526</td>\n      <td>ALB</td>\n      <td>8</td>\n    </tr>\n    <tr>\n      <th>35</th>\n      <td>Algeria</td>\n      <td>Africa</td>\n      <td>2007</td>\n      <td>72.301</td>\n      <td>33333216</td>\n      <td>6223.367465</td>\n      <td>DZA</td>\n      <td>12</td>\n    </tr>\n    <tr>\n      <th>47</th>\n      <td>Angola</td>\n      <td>Africa</td>\n      <td>2007</td>\n      <td>42.731</td>\n      <td>12420476</td>\n      <td>4797.231267</td>\n      <td>AGO</td>\n      <td>24</td>\n    </tr>\n    <tr>\n      <th>59</th>\n      <td>Argentina</td>\n      <td>Americas</td>\n      <td>2007</td>\n      <td>75.320</td>\n      <td>40301927</td>\n      <td>12779.379640</td>\n      <td>ARG</td>\n      <td>32</td>\n    </tr>\n    <tr>\n      <th>...</th>\n      <td>...</td>\n      <td>...</td>\n      <td>...</td>\n      <td>...</td>\n      <td>...</td>\n      <td>...</td>\n      <td>...</td>\n      <td>...</td>\n    </tr>\n    <tr>\n      <th>1655</th>\n      <td>Vietnam</td>\n      <td>Asia</td>\n      <td>2007</td>\n      <td>74.249</td>\n      <td>85262356</td>\n      <td>2441.576404</td>\n      <td>VNM</td>\n      <td>704</td>\n    </tr>\n    <tr>\n      <th>1667</th>\n      <td>West Bank and Gaza</td>\n      <td>Asia</td>\n      <td>2007</td>\n      <td>73.422</td>\n      <td>4018332</td>\n      <td>3025.349798</td>\n      <td>PSE</td>\n      <td>275</td>\n    </tr>\n    <tr>\n      <th>1679</th>\n      <td>Yemen, Rep.</td>\n      <td>Asia</td>\n      <td>2007</td>\n      <td>62.698</td>\n      <td>22211743</td>\n      <td>2280.769906</td>\n      <td>YEM</td>\n      <td>887</td>\n    </tr>\n    <tr>\n      <th>1691</th>\n      <td>Zambia</td>\n      <td>Africa</td>\n      <td>2007</td>\n      <td>42.384</td>\n      <td>11746035</td>\n      <td>1271.211593</td>\n      <td>ZMB</td>\n      <td>894</td>\n    </tr>\n    <tr>\n      <th>1703</th>\n      <td>Zimbabwe</td>\n      <td>Africa</td>\n      <td>2007</td>\n      <td>43.487</td>\n      <td>12311143</td>\n      <td>469.709298</td>\n      <td>ZWE</td>\n      <td>716</td>\n    </tr>\n  </tbody>\n</table>\n<p>142 rows × 8 columns</p>\n</div>"
     },
     "metadata": {},
     "execution_count": 27
    }
   ],
   "source": [
    "dft"
   ]
  },
  {
   "cell_type": "code",
   "execution_count": 28,
   "metadata": {},
   "outputs": [
    {
     "output_type": "display_data",
     "data": {
      "application/vnd.plotly.v1+json": {
       "config": {
        "plotlyServerURL": "https://plot.ly"
       },
       "data": [
        {
         "coloraxis": "coloraxis",
         "geo": "geo",
         "hovertemplate": "<b>%{hovertext}</b><br><br>iso_alpha=%{location}<br>lifeExp=%{z}<extra></extra>",
         "hovertext": [
          "Afghanistan",
          "Albania",
          "Algeria",
          "Angola",
          "Argentina",
          "Australia",
          "Austria",
          "Bahrain",
          "Bangladesh",
          "Belgium",
          "Benin",
          "Bolivia",
          "Bosnia and Herzegovina",
          "Botswana",
          "Brazil",
          "Bulgaria",
          "Burkina Faso",
          "Burundi",
          "Cambodia",
          "Cameroon",
          "Canada",
          "Central African Republic",
          "Chad",
          "Chile",
          "China",
          "Colombia",
          "Comoros",
          "Congo, Dem. Rep.",
          "Congo, Rep.",
          "Costa Rica",
          "Cote d'Ivoire",
          "Croatia",
          "Cuba",
          "Czech Republic",
          "Denmark",
          "Djibouti",
          "Dominican Republic",
          "Ecuador",
          "Egypt",
          "El Salvador",
          "Equatorial Guinea",
          "Eritrea",
          "Ethiopia",
          "Finland",
          "France",
          "Gabon",
          "Gambia",
          "Germany",
          "Ghana",
          "Greece",
          "Guatemala",
          "Guinea",
          "Guinea-Bissau",
          "Haiti",
          "Honduras",
          "Hong Kong, China",
          "Hungary",
          "Iceland",
          "India",
          "Indonesia",
          "Iran",
          "Iraq",
          "Ireland",
          "Israel",
          "Italy",
          "Jamaica",
          "Japan",
          "Jordan",
          "Kenya",
          "Korea, Dem. Rep.",
          "Korea, Rep.",
          "Kuwait",
          "Lebanon",
          "Lesotho",
          "Liberia",
          "Libya",
          "Madagascar",
          "Malawi",
          "Malaysia",
          "Mali",
          "Mauritania",
          "Mauritius",
          "Mexico",
          "Mongolia",
          "Montenegro",
          "Morocco",
          "Mozambique",
          "Myanmar",
          "Namibia",
          "Nepal",
          "Netherlands",
          "New Zealand",
          "Nicaragua",
          "Niger",
          "Nigeria",
          "Norway",
          "Oman",
          "Pakistan",
          "Panama",
          "Paraguay",
          "Peru",
          "Philippines",
          "Poland",
          "Portugal",
          "Puerto Rico",
          "Reunion",
          "Romania",
          "Rwanda",
          "Sao Tome and Principe",
          "Saudi Arabia",
          "Senegal",
          "Serbia",
          "Sierra Leone",
          "Singapore",
          "Slovak Republic",
          "Slovenia",
          "Somalia",
          "South Africa",
          "Spain",
          "Sri Lanka",
          "Sudan",
          "Swaziland",
          "Sweden",
          "Switzerland",
          "Syria",
          "Taiwan",
          "Tanzania",
          "Thailand",
          "Togo",
          "Trinidad and Tobago",
          "Tunisia",
          "Turkey",
          "Uganda",
          "United Kingdom",
          "United States",
          "Uruguay",
          "Venezuela",
          "Vietnam",
          "West Bank and Gaza",
          "Yemen, Rep.",
          "Zambia",
          "Zimbabwe"
         ],
         "locations": [
          "AFG",
          "ALB",
          "DZA",
          "AGO",
          "ARG",
          "AUS",
          "AUT",
          "BHR",
          "BGD",
          "BEL",
          "BEN",
          "BOL",
          "BIH",
          "BWA",
          "BRA",
          "BGR",
          "BFA",
          "BDI",
          "KHM",
          "CMR",
          "CAN",
          "CAF",
          "TCD",
          "CHL",
          "CHN",
          "COL",
          "COM",
          "COD",
          "COG",
          "CRI",
          "CIV",
          "HRV",
          "CUB",
          "CZE",
          "DNK",
          "DJI",
          "DOM",
          "ECU",
          "EGY",
          "SLV",
          "GNQ",
          "ERI",
          "ETH",
          "FIN",
          "FRA",
          "GAB",
          "GMB",
          "DEU",
          "GHA",
          "GRC",
          "GTM",
          "GIN",
          "GNB",
          "HTI",
          "HND",
          "HKG",
          "HUN",
          "ISL",
          "IND",
          "IDN",
          "IRN",
          "IRQ",
          "IRL",
          "ISR",
          "ITA",
          "JAM",
          "JPN",
          "JOR",
          "KEN",
          "KOR",
          "KOR",
          "KWT",
          "LBN",
          "LSO",
          "LBR",
          "LBY",
          "MDG",
          "MWI",
          "MYS",
          "MLI",
          "MRT",
          "MUS",
          "MEX",
          "MNG",
          "MNE",
          "MAR",
          "MOZ",
          "MMR",
          "NAM",
          "NPL",
          "NLD",
          "NZL",
          "NIC",
          "NER",
          "NGA",
          "NOR",
          "OMN",
          "PAK",
          "PAN",
          "PRY",
          "PER",
          "PHL",
          "POL",
          "PRT",
          "PRI",
          "REU",
          "ROU",
          "RWA",
          "STP",
          "SAU",
          "SEN",
          "SRB",
          "SLE",
          "SGP",
          "SVK",
          "SVN",
          "SOM",
          "ZAF",
          "ESP",
          "LKA",
          "SDN",
          "SWZ",
          "SWE",
          "CHE",
          "SYR",
          "TWN",
          "TZA",
          "THA",
          "TGO",
          "TTO",
          "TUN",
          "TUR",
          "UGA",
          "GBR",
          "USA",
          "URY",
          "VEN",
          "VNM",
          "PSE",
          "YEM",
          "ZMB",
          "ZWE"
         ],
         "name": "",
         "type": "choropleth",
         "z": [
          43.828,
          76.423,
          72.301,
          42.731,
          75.32,
          81.235,
          79.829,
          75.635,
          64.062,
          79.441,
          56.728,
          65.554,
          74.852,
          50.728,
          72.39,
          73.005,
          52.295,
          49.58,
          59.723,
          50.43,
          80.653,
          44.741,
          50.651,
          78.553,
          72.961,
          72.889,
          65.152,
          46.462,
          55.322,
          78.782,
          48.328,
          75.748,
          78.273,
          76.486,
          78.332,
          54.791,
          72.235,
          74.994,
          71.338,
          71.878,
          51.579,
          58.04,
          52.947,
          79.313,
          80.657,
          56.735,
          59.448,
          79.406,
          60.022,
          79.483,
          70.259,
          56.007,
          46.388,
          60.916,
          70.198,
          82.208,
          73.338,
          81.757,
          64.698,
          70.65,
          70.964,
          59.545,
          78.885,
          80.745,
          80.546,
          72.567,
          82.603,
          72.535,
          54.11,
          67.297,
          78.623,
          77.588,
          71.993,
          42.592,
          45.678,
          73.952,
          59.443,
          48.303,
          74.241,
          54.467,
          64.164,
          72.801,
          76.195,
          66.803,
          74.543,
          71.164,
          42.082,
          62.069,
          52.906,
          63.785,
          79.762,
          80.204,
          72.899,
          56.867,
          46.859,
          80.196,
          75.64,
          65.483,
          75.537,
          71.752,
          71.421,
          71.688,
          75.563,
          78.098,
          78.746,
          76.442,
          72.476,
          46.242,
          65.528,
          72.777,
          63.062,
          74.002,
          42.568,
          79.972,
          74.663,
          77.926,
          48.159,
          49.339,
          80.941,
          72.396,
          58.556,
          39.613,
          80.884,
          81.701,
          74.143,
          78.4,
          52.517,
          70.616,
          58.42,
          69.819,
          73.923,
          71.777,
          51.542,
          79.425,
          78.242,
          76.384,
          73.747,
          74.249,
          73.422,
          62.698,
          42.384,
          43.487
         ]
        }
       ],
       "layout": {
        "coloraxis": {
         "colorbar": {
          "title": {
           "text": "lifeExp"
          }
         },
         "colorscale": [
          [
           0,
           "#0d0887"
          ],
          [
           0.1111111111111111,
           "#46039f"
          ],
          [
           0.2222222222222222,
           "#7201a8"
          ],
          [
           0.3333333333333333,
           "#9c179e"
          ],
          [
           0.4444444444444444,
           "#bd3786"
          ],
          [
           0.5555555555555556,
           "#d8576b"
          ],
          [
           0.6666666666666666,
           "#ed7953"
          ],
          [
           0.7777777777777778,
           "#fb9f3a"
          ],
          [
           0.8888888888888888,
           "#fdca26"
          ],
          [
           1,
           "#f0f921"
          ]
         ]
        },
        "geo": {
         "center": {},
         "domain": {
          "x": [
           0,
           1
          ],
          "y": [
           0,
           1
          ]
         }
        },
        "legend": {
         "tracegroupgap": 0
        },
        "margin": {
         "t": 60
        },
        "template": {
         "data": {
          "bar": [
           {
            "error_x": {
             "color": "#2a3f5f"
            },
            "error_y": {
             "color": "#2a3f5f"
            },
            "marker": {
             "line": {
              "color": "#E5ECF6",
              "width": 0.5
             }
            },
            "type": "bar"
           }
          ],
          "barpolar": [
           {
            "marker": {
             "line": {
              "color": "#E5ECF6",
              "width": 0.5
             }
            },
            "type": "barpolar"
           }
          ],
          "carpet": [
           {
            "aaxis": {
             "endlinecolor": "#2a3f5f",
             "gridcolor": "white",
             "linecolor": "white",
             "minorgridcolor": "white",
             "startlinecolor": "#2a3f5f"
            },
            "baxis": {
             "endlinecolor": "#2a3f5f",
             "gridcolor": "white",
             "linecolor": "white",
             "minorgridcolor": "white",
             "startlinecolor": "#2a3f5f"
            },
            "type": "carpet"
           }
          ],
          "choropleth": [
           {
            "colorbar": {
             "outlinewidth": 0,
             "ticks": ""
            },
            "type": "choropleth"
           }
          ],
          "contour": [
           {
            "colorbar": {
             "outlinewidth": 0,
             "ticks": ""
            },
            "colorscale": [
             [
              0,
              "#0d0887"
             ],
             [
              0.1111111111111111,
              "#46039f"
             ],
             [
              0.2222222222222222,
              "#7201a8"
             ],
             [
              0.3333333333333333,
              "#9c179e"
             ],
             [
              0.4444444444444444,
              "#bd3786"
             ],
             [
              0.5555555555555556,
              "#d8576b"
             ],
             [
              0.6666666666666666,
              "#ed7953"
             ],
             [
              0.7777777777777778,
              "#fb9f3a"
             ],
             [
              0.8888888888888888,
              "#fdca26"
             ],
             [
              1,
              "#f0f921"
             ]
            ],
            "type": "contour"
           }
          ],
          "contourcarpet": [
           {
            "colorbar": {
             "outlinewidth": 0,
             "ticks": ""
            },
            "type": "contourcarpet"
           }
          ],
          "heatmap": [
           {
            "colorbar": {
             "outlinewidth": 0,
             "ticks": ""
            },
            "colorscale": [
             [
              0,
              "#0d0887"
             ],
             [
              0.1111111111111111,
              "#46039f"
             ],
             [
              0.2222222222222222,
              "#7201a8"
             ],
             [
              0.3333333333333333,
              "#9c179e"
             ],
             [
              0.4444444444444444,
              "#bd3786"
             ],
             [
              0.5555555555555556,
              "#d8576b"
             ],
             [
              0.6666666666666666,
              "#ed7953"
             ],
             [
              0.7777777777777778,
              "#fb9f3a"
             ],
             [
              0.8888888888888888,
              "#fdca26"
             ],
             [
              1,
              "#f0f921"
             ]
            ],
            "type": "heatmap"
           }
          ],
          "heatmapgl": [
           {
            "colorbar": {
             "outlinewidth": 0,
             "ticks": ""
            },
            "colorscale": [
             [
              0,
              "#0d0887"
             ],
             [
              0.1111111111111111,
              "#46039f"
             ],
             [
              0.2222222222222222,
              "#7201a8"
             ],
             [
              0.3333333333333333,
              "#9c179e"
             ],
             [
              0.4444444444444444,
              "#bd3786"
             ],
             [
              0.5555555555555556,
              "#d8576b"
             ],
             [
              0.6666666666666666,
              "#ed7953"
             ],
             [
              0.7777777777777778,
              "#fb9f3a"
             ],
             [
              0.8888888888888888,
              "#fdca26"
             ],
             [
              1,
              "#f0f921"
             ]
            ],
            "type": "heatmapgl"
           }
          ],
          "histogram": [
           {
            "marker": {
             "colorbar": {
              "outlinewidth": 0,
              "ticks": ""
             }
            },
            "type": "histogram"
           }
          ],
          "histogram2d": [
           {
            "colorbar": {
             "outlinewidth": 0,
             "ticks": ""
            },
            "colorscale": [
             [
              0,
              "#0d0887"
             ],
             [
              0.1111111111111111,
              "#46039f"
             ],
             [
              0.2222222222222222,
              "#7201a8"
             ],
             [
              0.3333333333333333,
              "#9c179e"
             ],
             [
              0.4444444444444444,
              "#bd3786"
             ],
             [
              0.5555555555555556,
              "#d8576b"
             ],
             [
              0.6666666666666666,
              "#ed7953"
             ],
             [
              0.7777777777777778,
              "#fb9f3a"
             ],
             [
              0.8888888888888888,
              "#fdca26"
             ],
             [
              1,
              "#f0f921"
             ]
            ],
            "type": "histogram2d"
           }
          ],
          "histogram2dcontour": [
           {
            "colorbar": {
             "outlinewidth": 0,
             "ticks": ""
            },
            "colorscale": [
             [
              0,
              "#0d0887"
             ],
             [
              0.1111111111111111,
              "#46039f"
             ],
             [
              0.2222222222222222,
              "#7201a8"
             ],
             [
              0.3333333333333333,
              "#9c179e"
             ],
             [
              0.4444444444444444,
              "#bd3786"
             ],
             [
              0.5555555555555556,
              "#d8576b"
             ],
             [
              0.6666666666666666,
              "#ed7953"
             ],
             [
              0.7777777777777778,
              "#fb9f3a"
             ],
             [
              0.8888888888888888,
              "#fdca26"
             ],
             [
              1,
              "#f0f921"
             ]
            ],
            "type": "histogram2dcontour"
           }
          ],
          "mesh3d": [
           {
            "colorbar": {
             "outlinewidth": 0,
             "ticks": ""
            },
            "type": "mesh3d"
           }
          ],
          "parcoords": [
           {
            "line": {
             "colorbar": {
              "outlinewidth": 0,
              "ticks": ""
             }
            },
            "type": "parcoords"
           }
          ],
          "pie": [
           {
            "automargin": true,
            "type": "pie"
           }
          ],
          "scatter": [
           {
            "marker": {
             "colorbar": {
              "outlinewidth": 0,
              "ticks": ""
             }
            },
            "type": "scatter"
           }
          ],
          "scatter3d": [
           {
            "line": {
             "colorbar": {
              "outlinewidth": 0,
              "ticks": ""
             }
            },
            "marker": {
             "colorbar": {
              "outlinewidth": 0,
              "ticks": ""
             }
            },
            "type": "scatter3d"
           }
          ],
          "scattercarpet": [
           {
            "marker": {
             "colorbar": {
              "outlinewidth": 0,
              "ticks": ""
             }
            },
            "type": "scattercarpet"
           }
          ],
          "scattergeo": [
           {
            "marker": {
             "colorbar": {
              "outlinewidth": 0,
              "ticks": ""
             }
            },
            "type": "scattergeo"
           }
          ],
          "scattergl": [
           {
            "marker": {
             "colorbar": {
              "outlinewidth": 0,
              "ticks": ""
             }
            },
            "type": "scattergl"
           }
          ],
          "scattermapbox": [
           {
            "marker": {
             "colorbar": {
              "outlinewidth": 0,
              "ticks": ""
             }
            },
            "type": "scattermapbox"
           }
          ],
          "scatterpolar": [
           {
            "marker": {
             "colorbar": {
              "outlinewidth": 0,
              "ticks": ""
             }
            },
            "type": "scatterpolar"
           }
          ],
          "scatterpolargl": [
           {
            "marker": {
             "colorbar": {
              "outlinewidth": 0,
              "ticks": ""
             }
            },
            "type": "scatterpolargl"
           }
          ],
          "scatterternary": [
           {
            "marker": {
             "colorbar": {
              "outlinewidth": 0,
              "ticks": ""
             }
            },
            "type": "scatterternary"
           }
          ],
          "surface": [
           {
            "colorbar": {
             "outlinewidth": 0,
             "ticks": ""
            },
            "colorscale": [
             [
              0,
              "#0d0887"
             ],
             [
              0.1111111111111111,
              "#46039f"
             ],
             [
              0.2222222222222222,
              "#7201a8"
             ],
             [
              0.3333333333333333,
              "#9c179e"
             ],
             [
              0.4444444444444444,
              "#bd3786"
             ],
             [
              0.5555555555555556,
              "#d8576b"
             ],
             [
              0.6666666666666666,
              "#ed7953"
             ],
             [
              0.7777777777777778,
              "#fb9f3a"
             ],
             [
              0.8888888888888888,
              "#fdca26"
             ],
             [
              1,
              "#f0f921"
             ]
            ],
            "type": "surface"
           }
          ],
          "table": [
           {
            "cells": {
             "fill": {
              "color": "#EBF0F8"
             },
             "line": {
              "color": "white"
             }
            },
            "header": {
             "fill": {
              "color": "#C8D4E3"
             },
             "line": {
              "color": "white"
             }
            },
            "type": "table"
           }
          ]
         },
         "layout": {
          "annotationdefaults": {
           "arrowcolor": "#2a3f5f",
           "arrowhead": 0,
           "arrowwidth": 1
          },
          "autotypenumbers": "strict",
          "coloraxis": {
           "colorbar": {
            "outlinewidth": 0,
            "ticks": ""
           }
          },
          "colorscale": {
           "diverging": [
            [
             0,
             "#8e0152"
            ],
            [
             0.1,
             "#c51b7d"
            ],
            [
             0.2,
             "#de77ae"
            ],
            [
             0.3,
             "#f1b6da"
            ],
            [
             0.4,
             "#fde0ef"
            ],
            [
             0.5,
             "#f7f7f7"
            ],
            [
             0.6,
             "#e6f5d0"
            ],
            [
             0.7,
             "#b8e186"
            ],
            [
             0.8,
             "#7fbc41"
            ],
            [
             0.9,
             "#4d9221"
            ],
            [
             1,
             "#276419"
            ]
           ],
           "sequential": [
            [
             0,
             "#0d0887"
            ],
            [
             0.1111111111111111,
             "#46039f"
            ],
            [
             0.2222222222222222,
             "#7201a8"
            ],
            [
             0.3333333333333333,
             "#9c179e"
            ],
            [
             0.4444444444444444,
             "#bd3786"
            ],
            [
             0.5555555555555556,
             "#d8576b"
            ],
            [
             0.6666666666666666,
             "#ed7953"
            ],
            [
             0.7777777777777778,
             "#fb9f3a"
            ],
            [
             0.8888888888888888,
             "#fdca26"
            ],
            [
             1,
             "#f0f921"
            ]
           ],
           "sequentialminus": [
            [
             0,
             "#0d0887"
            ],
            [
             0.1111111111111111,
             "#46039f"
            ],
            [
             0.2222222222222222,
             "#7201a8"
            ],
            [
             0.3333333333333333,
             "#9c179e"
            ],
            [
             0.4444444444444444,
             "#bd3786"
            ],
            [
             0.5555555555555556,
             "#d8576b"
            ],
            [
             0.6666666666666666,
             "#ed7953"
            ],
            [
             0.7777777777777778,
             "#fb9f3a"
            ],
            [
             0.8888888888888888,
             "#fdca26"
            ],
            [
             1,
             "#f0f921"
            ]
           ]
          },
          "colorway": [
           "#636efa",
           "#EF553B",
           "#00cc96",
           "#ab63fa",
           "#FFA15A",
           "#19d3f3",
           "#FF6692",
           "#B6E880",
           "#FF97FF",
           "#FECB52"
          ],
          "font": {
           "color": "#2a3f5f"
          },
          "geo": {
           "bgcolor": "white",
           "lakecolor": "white",
           "landcolor": "#E5ECF6",
           "showlakes": true,
           "showland": true,
           "subunitcolor": "white"
          },
          "hoverlabel": {
           "align": "left"
          },
          "hovermode": "closest",
          "mapbox": {
           "style": "light"
          },
          "paper_bgcolor": "white",
          "plot_bgcolor": "#E5ECF6",
          "polar": {
           "angularaxis": {
            "gridcolor": "white",
            "linecolor": "white",
            "ticks": ""
           },
           "bgcolor": "#E5ECF6",
           "radialaxis": {
            "gridcolor": "white",
            "linecolor": "white",
            "ticks": ""
           }
          },
          "scene": {
           "xaxis": {
            "backgroundcolor": "#E5ECF6",
            "gridcolor": "white",
            "gridwidth": 2,
            "linecolor": "white",
            "showbackground": true,
            "ticks": "",
            "zerolinecolor": "white"
           },
           "yaxis": {
            "backgroundcolor": "#E5ECF6",
            "gridcolor": "white",
            "gridwidth": 2,
            "linecolor": "white",
            "showbackground": true,
            "ticks": "",
            "zerolinecolor": "white"
           },
           "zaxis": {
            "backgroundcolor": "#E5ECF6",
            "gridcolor": "white",
            "gridwidth": 2,
            "linecolor": "white",
            "showbackground": true,
            "ticks": "",
            "zerolinecolor": "white"
           }
          },
          "shapedefaults": {
           "line": {
            "color": "#2a3f5f"
           }
          },
          "ternary": {
           "aaxis": {
            "gridcolor": "white",
            "linecolor": "white",
            "ticks": ""
           },
           "baxis": {
            "gridcolor": "white",
            "linecolor": "white",
            "ticks": ""
           },
           "bgcolor": "#E5ECF6",
           "caxis": {
            "gridcolor": "white",
            "linecolor": "white",
            "ticks": ""
           }
          },
          "title": {
           "x": 0.05
          },
          "xaxis": {
           "automargin": true,
           "gridcolor": "white",
           "linecolor": "white",
           "ticks": "",
           "title": {
            "standoff": 15
           },
           "zerolinecolor": "white",
           "zerolinewidth": 2
          },
          "yaxis": {
           "automargin": true,
           "gridcolor": "white",
           "linecolor": "white",
           "ticks": "",
           "title": {
            "standoff": 15
           },
           "zerolinecolor": "white",
           "zerolinewidth": 2
          }
         }
        }
       }
      }
     },
     "metadata": {}
    }
   ],
   "source": [
    "px.choropleth(dft, locations=\"iso_alpha\",\n",
    "                    color=\"lifeExp\", # lifeExp is a column of gapminder\n",
    "                    hover_name=\"country\", # column to add to hover information\n",
    "                    color_continuous_scale=px.colors.sequential.Plasma)"
   ]
  },
  {
   "cell_type": "code",
   "execution_count": 32,
   "metadata": {},
   "outputs": [
    {
     "output_type": "execute_result",
     "data": {
      "text/plain": [
       "           people          lat         long\n",
       "count  1983.00000  1981.000000  1981.000000\n",
       "mean      6.79173    37.769987    -6.243416\n",
       "std      19.91512    18.175428    81.387927\n",
       "min       1.00000   -45.864895  -158.017349\n",
       "25%       1.00000    35.022778   -77.097977\n",
       "50%       2.00000    40.723686     2.175969\n",
       "75%       5.00000    48.529610    26.089838\n",
       "max     374.00000    69.681625   176.265610"
      ],
      "text/html": "<div>\n<style scoped>\n    .dataframe tbody tr th:only-of-type {\n        vertical-align: middle;\n    }\n\n    .dataframe tbody tr th {\n        vertical-align: top;\n    }\n\n    .dataframe thead th {\n        text-align: right;\n    }\n</style>\n<table border=\"1\" class=\"dataframe\">\n  <thead>\n    <tr style=\"text-align: right;\">\n      <th></th>\n      <th>people</th>\n      <th>lat</th>\n      <th>long</th>\n    </tr>\n  </thead>\n  <tbody>\n    <tr>\n      <th>count</th>\n      <td>1983.00000</td>\n      <td>1981.000000</td>\n      <td>1981.000000</td>\n    </tr>\n    <tr>\n      <th>mean</th>\n      <td>6.79173</td>\n      <td>37.769987</td>\n      <td>-6.243416</td>\n    </tr>\n    <tr>\n      <th>std</th>\n      <td>19.91512</td>\n      <td>18.175428</td>\n      <td>81.387927</td>\n    </tr>\n    <tr>\n      <th>min</th>\n      <td>1.00000</td>\n      <td>-45.864895</td>\n      <td>-158.017349</td>\n    </tr>\n    <tr>\n      <th>25%</th>\n      <td>1.00000</td>\n      <td>35.022778</td>\n      <td>-77.097977</td>\n    </tr>\n    <tr>\n      <th>50%</th>\n      <td>2.00000</td>\n      <td>40.723686</td>\n      <td>2.175969</td>\n    </tr>\n    <tr>\n      <th>75%</th>\n      <td>5.00000</td>\n      <td>48.529610</td>\n      <td>26.089838</td>\n    </tr>\n    <tr>\n      <th>max</th>\n      <td>374.00000</td>\n      <td>69.681625</td>\n      <td>176.265610</td>\n    </tr>\n  </tbody>\n</table>\n</div>"
     },
     "metadata": {},
     "execution_count": 32
    }
   ],
   "source": [
    "df.describe()"
   ]
  },
  {
   "cell_type": "code",
   "execution_count": 38,
   "metadata": {},
   "outputs": [],
   "source": [
    "def get_iso_3(iso2):\n",
    "    if pycountry.countries.get(alpha_2=iso2):\n",
    "        return pycountry.countries.get(alpha_2=iso2).alpha_3\n",
    "    else:\n",
    "        return \"\"\n",
    "\n",
    "df['iso_alpha'] = df['country_code'].apply(lambda x: get_iso_3(x))"
   ]
  },
  {
   "cell_type": "code",
   "execution_count": 49,
   "metadata": {},
   "outputs": [
    {
     "output_type": "execute_result",
     "data": {
      "text/plain": [
       "      people         gridid         country country_code           city  \\\n",
       "0          4  grid.419447.b   United States           US        Ardmore   \n",
       "1         20  grid.239395.7   United States           US         Boston   \n",
       "2          4    grid.5491.9  United Kingdom           GB    Southampton   \n",
       "3         43  grid.27860.3b   United States           US          Davis   \n",
       "4         65    grid.4367.6   United States           US       St Louis   \n",
       "...      ...            ...             ...          ...            ...   \n",
       "1978       1  grid.410372.3   United States           US  San Francisco   \n",
       "1979       1  grid.265438.e   United States           US    Schenectady   \n",
       "1980       1  grid.258331.e           Japan           JP      Takamatsu   \n",
       "1981       1  grid.454388.6         Austria           AT         Vienna   \n",
       "1982       1  grid.266426.2   United States           US           Hilo   \n",
       "\n",
       "            lat        long iso_alpha  \n",
       "0     34.184410  -97.095200       USA  \n",
       "1     42.339787  -71.105186       USA  \n",
       "2     50.934631   -1.395950       GBR  \n",
       "3     38.540001 -121.750000       USA  \n",
       "4     38.649033  -90.310852       USA  \n",
       "...         ...         ...       ...  \n",
       "1978  37.782471 -122.504234       USA  \n",
       "1979  42.817768  -73.930534       USA  \n",
       "1980  34.342972  134.037643       JPN  \n",
       "1981  48.236557   16.383814       AUT  \n",
       "1982  19.699600 -155.081604       USA  \n",
       "\n",
       "[1983 rows x 8 columns]"
      ],
      "text/html": "<div>\n<style scoped>\n    .dataframe tbody tr th:only-of-type {\n        vertical-align: middle;\n    }\n\n    .dataframe tbody tr th {\n        vertical-align: top;\n    }\n\n    .dataframe thead th {\n        text-align: right;\n    }\n</style>\n<table border=\"1\" class=\"dataframe\">\n  <thead>\n    <tr style=\"text-align: right;\">\n      <th></th>\n      <th>people</th>\n      <th>gridid</th>\n      <th>country</th>\n      <th>country_code</th>\n      <th>city</th>\n      <th>lat</th>\n      <th>long</th>\n      <th>iso_alpha</th>\n    </tr>\n  </thead>\n  <tbody>\n    <tr>\n      <th>0</th>\n      <td>4</td>\n      <td>grid.419447.b</td>\n      <td>United States</td>\n      <td>US</td>\n      <td>Ardmore</td>\n      <td>34.184410</td>\n      <td>-97.095200</td>\n      <td>USA</td>\n    </tr>\n    <tr>\n      <th>1</th>\n      <td>20</td>\n      <td>grid.239395.7</td>\n      <td>United States</td>\n      <td>US</td>\n      <td>Boston</td>\n      <td>42.339787</td>\n      <td>-71.105186</td>\n      <td>USA</td>\n    </tr>\n    <tr>\n      <th>2</th>\n      <td>4</td>\n      <td>grid.5491.9</td>\n      <td>United Kingdom</td>\n      <td>GB</td>\n      <td>Southampton</td>\n      <td>50.934631</td>\n      <td>-1.395950</td>\n      <td>GBR</td>\n    </tr>\n    <tr>\n      <th>3</th>\n      <td>43</td>\n      <td>grid.27860.3b</td>\n      <td>United States</td>\n      <td>US</td>\n      <td>Davis</td>\n      <td>38.540001</td>\n      <td>-121.750000</td>\n      <td>USA</td>\n    </tr>\n    <tr>\n      <th>4</th>\n      <td>65</td>\n      <td>grid.4367.6</td>\n      <td>United States</td>\n      <td>US</td>\n      <td>St Louis</td>\n      <td>38.649033</td>\n      <td>-90.310852</td>\n      <td>USA</td>\n    </tr>\n    <tr>\n      <th>...</th>\n      <td>...</td>\n      <td>...</td>\n      <td>...</td>\n      <td>...</td>\n      <td>...</td>\n      <td>...</td>\n      <td>...</td>\n      <td>...</td>\n    </tr>\n    <tr>\n      <th>1978</th>\n      <td>1</td>\n      <td>grid.410372.3</td>\n      <td>United States</td>\n      <td>US</td>\n      <td>San Francisco</td>\n      <td>37.782471</td>\n      <td>-122.504234</td>\n      <td>USA</td>\n    </tr>\n    <tr>\n      <th>1979</th>\n      <td>1</td>\n      <td>grid.265438.e</td>\n      <td>United States</td>\n      <td>US</td>\n      <td>Schenectady</td>\n      <td>42.817768</td>\n      <td>-73.930534</td>\n      <td>USA</td>\n    </tr>\n    <tr>\n      <th>1980</th>\n      <td>1</td>\n      <td>grid.258331.e</td>\n      <td>Japan</td>\n      <td>JP</td>\n      <td>Takamatsu</td>\n      <td>34.342972</td>\n      <td>134.037643</td>\n      <td>JPN</td>\n    </tr>\n    <tr>\n      <th>1981</th>\n      <td>1</td>\n      <td>grid.454388.6</td>\n      <td>Austria</td>\n      <td>AT</td>\n      <td>Vienna</td>\n      <td>48.236557</td>\n      <td>16.383814</td>\n      <td>AUT</td>\n    </tr>\n    <tr>\n      <th>1982</th>\n      <td>1</td>\n      <td>grid.266426.2</td>\n      <td>United States</td>\n      <td>US</td>\n      <td>Hilo</td>\n      <td>19.699600</td>\n      <td>-155.081604</td>\n      <td>USA</td>\n    </tr>\n  </tbody>\n</table>\n<p>1983 rows × 8 columns</p>\n</div>"
     },
     "metadata": {},
     "execution_count": 49
    }
   ],
   "source": [
    "df"
   ]
  },
  {
   "cell_type": "code",
   "execution_count": 41,
   "metadata": {},
   "outputs": [],
   "source": [
    "df2 = df.groupby(['iso_alpha', 'country'], as_index=False)['people'].sum()"
   ]
  },
  {
   "cell_type": "code",
   "execution_count": 42,
   "metadata": {},
   "outputs": [
    {
     "output_type": "execute_result",
     "data": {
      "text/plain": [
       "   iso_alpha               country  people\n",
       "0        ARE  United Arab Emirates       2\n",
       "1        ARG             Argentina       5\n",
       "2        AUS             Australia     282\n",
       "3        AUT               Austria      85\n",
       "4        BEL               Belgium     132\n",
       "..       ...                   ...     ...\n",
       "72       UKR               Ukraine       2\n",
       "73       USA         United States    7279\n",
       "74       VNM               Vietnam       1\n",
       "75       ZAF          South Africa       9\n",
       "76       ZMB                Zambia       1\n",
       "\n",
       "[77 rows x 3 columns]"
      ],
      "text/html": "<div>\n<style scoped>\n    .dataframe tbody tr th:only-of-type {\n        vertical-align: middle;\n    }\n\n    .dataframe tbody tr th {\n        vertical-align: top;\n    }\n\n    .dataframe thead th {\n        text-align: right;\n    }\n</style>\n<table border=\"1\" class=\"dataframe\">\n  <thead>\n    <tr style=\"text-align: right;\">\n      <th></th>\n      <th>iso_alpha</th>\n      <th>country</th>\n      <th>people</th>\n    </tr>\n  </thead>\n  <tbody>\n    <tr>\n      <th>0</th>\n      <td>ARE</td>\n      <td>United Arab Emirates</td>\n      <td>2</td>\n    </tr>\n    <tr>\n      <th>1</th>\n      <td>ARG</td>\n      <td>Argentina</td>\n      <td>5</td>\n    </tr>\n    <tr>\n      <th>2</th>\n      <td>AUS</td>\n      <td>Australia</td>\n      <td>282</td>\n    </tr>\n    <tr>\n      <th>3</th>\n      <td>AUT</td>\n      <td>Austria</td>\n      <td>85</td>\n    </tr>\n    <tr>\n      <th>4</th>\n      <td>BEL</td>\n      <td>Belgium</td>\n      <td>132</td>\n    </tr>\n    <tr>\n      <th>...</th>\n      <td>...</td>\n      <td>...</td>\n      <td>...</td>\n    </tr>\n    <tr>\n      <th>72</th>\n      <td>UKR</td>\n      <td>Ukraine</td>\n      <td>2</td>\n    </tr>\n    <tr>\n      <th>73</th>\n      <td>USA</td>\n      <td>United States</td>\n      <td>7279</td>\n    </tr>\n    <tr>\n      <th>74</th>\n      <td>VNM</td>\n      <td>Vietnam</td>\n      <td>1</td>\n    </tr>\n    <tr>\n      <th>75</th>\n      <td>ZAF</td>\n      <td>South Africa</td>\n      <td>9</td>\n    </tr>\n    <tr>\n      <th>76</th>\n      <td>ZMB</td>\n      <td>Zambia</td>\n      <td>1</td>\n    </tr>\n  </tbody>\n</table>\n<p>77 rows × 3 columns</p>\n</div>"
     },
     "metadata": {},
     "execution_count": 42
    }
   ],
   "source": [
    "df2"
   ]
  },
  {
   "cell_type": "code",
   "execution_count": 50,
   "metadata": {},
   "outputs": [
    {
     "output_type": "display_data",
     "data": {
      "application/vnd.plotly.v1+json": {
       "config": {
        "plotlyServerURL": "https://plot.ly"
       },
       "data": [
        {
         "coloraxis": "coloraxis",
         "geo": "geo",
         "hovertemplate": "<b>%{hovertext}</b><br><br>iso_alpha=%{location}<br>people=%{z}<extra></extra>",
         "hovertext": [
          "United States",
          "United States",
          "United Kingdom",
          "United States",
          "United States",
          "United Kingdom",
          "United States",
          "South Korea",
          "Japan",
          "United Kingdom",
          "United States",
          "China",
          "Netherlands",
          "Mexico",
          "Switzerland",
          "United States",
          "Japan",
          "China",
          "United States",
          "United Kingdom",
          "Canada",
          "Romania",
          "China",
          "Japan",
          "United States",
          "United States",
          "United States",
          "South Korea",
          "United States",
          "United States",
          "China",
          "Turkey",
          "United States",
          "United States",
          "Argentina",
          "France",
          "Brazil",
          "Sweden",
          "Spain",
          "United States",
          "United States",
          "Japan",
          "India",
          "China",
          "Nepal",
          "Austria",
          "United States",
          "Panama",
          "United States",
          "China",
          "Denmark",
          "United Kingdom",
          "Germany",
          "China",
          "Australia",
          "Brazil",
          "United States",
          "China",
          "Spain",
          "Finland",
          "Germany",
          "France",
          "United States",
          "Germany",
          "India",
          "Poland",
          "Japan",
          "Spain",
          "Germany",
          "Finland",
          "Thailand",
          "Netherlands",
          "Germany",
          "United States",
          "United States",
          "United States",
          "United Kingdom",
          "Australia",
          "United Kingdom",
          "United States",
          "Australia",
          "Austria",
          "United States",
          "Germany",
          "Netherlands",
          "Hungary",
          "Japan",
          "United States",
          "United States",
          "Malaysia",
          "United States",
          "Germany",
          "Italy",
          "United States",
          "United States",
          "Spain",
          "Singapore",
          "United States",
          "United Kingdom",
          "United States",
          "Italy",
          "Germany",
          "Portugal",
          "United States",
          "Australia",
          "United States",
          "China",
          "Germany",
          "France",
          "South Korea",
          "United States",
          "Germany",
          "Germany",
          "Singapore",
          "United States",
          "China",
          "United Kingdom",
          "China",
          "United States",
          "United Kingdom",
          "United States",
          "China",
          "China",
          "Denmark",
          "United States",
          "Japan",
          "United States",
          "Netherlands",
          "United States",
          "United States",
          "United States",
          "Canada",
          "Spain",
          "Germany",
          "Israel",
          "Germany",
          "United States",
          "United States",
          "Egypt",
          "South Korea",
          "South Korea",
          "China",
          "Nicaragua",
          "United Kingdom",
          "France",
          "United States",
          "Italy",
          "United States",
          "United States",
          "Mexico",
          "Germany",
          "China",
          "Australia",
          "United States",
          "United States",
          "United States",
          "Slovenia",
          "Germany",
          "United States",
          "United States",
          "Japan",
          "United Kingdom",
          "United Kingdom",
          "United States",
          "Germany",
          "France",
          "South Korea",
          "Croatia",
          "United States",
          "Germany",
          "France",
          "United States",
          "United States",
          "China",
          "Japan",
          "Germany",
          "France",
          "United States",
          "Japan",
          "United States",
          "India",
          "United States",
          "Italy",
          "United Kingdom",
          "Belgium",
          "India",
          "United States",
          "Australia",
          "United States",
          "United States",
          "Japan",
          "United States",
          "France",
          "Switzerland",
          "Switzerland",
          "Canada",
          "United States",
          "United Kingdom",
          "United States",
          "United States",
          "France",
          "United States",
          "United Kingdom",
          "Estonia",
          "United States",
          "Germany",
          "United States",
          "Australia",
          "France",
          "Spain",
          "Australia",
          "China",
          "Brazil",
          "United Kingdom",
          "United Kingdom",
          "China",
          "United Kingdom",
          "Switzerland",
          "India",
          "United States",
          "Germany",
          "Germany",
          "United Kingdom",
          "China",
          "Brazil",
          "United Kingdom",
          "Poland",
          "France",
          "Sweden",
          "United States",
          "United Kingdom",
          "Germany",
          "France",
          "United Kingdom",
          "Jordan",
          "Japan",
          "China",
          "France",
          "China",
          "Belgium",
          "United States",
          "United Kingdom",
          "Qatar",
          "France",
          "United States",
          "United States",
          "India",
          "Germany",
          "India",
          "Finland",
          "Taiwan",
          "United States",
          "Germany",
          "United States",
          "Thailand",
          "France",
          "Netherlands",
          "Turkey",
          "Italy",
          "United States",
          "United States",
          "United States",
          "Denmark",
          "France",
          "China",
          "United States",
          "United States",
          "United Kingdom",
          "United States",
          "Australia",
          "Singapore",
          "Bangladesh",
          "Germany",
          "Germany",
          "United States",
          "Japan",
          "France",
          "United States",
          "United States",
          "United States",
          "United Kingdom",
          "United States",
          "France",
          "United States",
          "United States",
          "United States",
          "Canada",
          "United States",
          "United States",
          "United States",
          "Australia",
          "China",
          "United States",
          "United States",
          "Germany",
          "Thailand",
          "China",
          "United States",
          "United States",
          "Austria",
          "France",
          "Australia",
          "New Zealand",
          "United States",
          "United States",
          "United States",
          "Spain",
          "Netherlands",
          "United States",
          "United States",
          "Singapore",
          "Switzerland",
          "France",
          "United States",
          "China",
          "Hungary",
          "Germany",
          "Brazil",
          "China",
          "Taiwan",
          "Netherlands",
          "Ukraine",
          "Netherlands",
          "China",
          "Denmark",
          "Japan",
          "Germany",
          "Spain",
          "Panama",
          "United States",
          "Chile",
          "United States",
          "United States",
          "United States",
          "Spain",
          "Taiwan",
          "Australia",
          "Belgium",
          "United States",
          "United Kingdom",
          "United States",
          "United States",
          "United States",
          "Japan",
          "China",
          "Spain",
          "France",
          "Russia",
          "United States",
          "Spain",
          "France",
          "United States",
          "France",
          "United States",
          "United States",
          "United States",
          "United States",
          "United States",
          "United Kingdom",
          "United States",
          "India",
          "United States",
          "Malaysia",
          "China",
          "United States",
          "United States",
          "United States",
          "United Kingdom",
          "China",
          "Denmark",
          "Sweden",
          "China",
          "United States",
          "Germany",
          "South Korea",
          "United States",
          "China",
          "United States",
          "Czechia",
          "United Kingdom",
          "India",
          "South Korea",
          "United Kingdom",
          "Nigeria",
          "United States",
          "China",
          "Netherlands",
          "Greece",
          "China",
          "United States",
          "Germany",
          "United Kingdom",
          "China",
          "United Kingdom",
          "United States",
          "Japan",
          "United States",
          "United Kingdom",
          "United States",
          "United States",
          "China",
          "Belgium",
          "United States",
          "Russia",
          "United Kingdom",
          "South Korea",
          "Italy",
          "Taiwan",
          "China",
          "Norway",
          "South Korea",
          "Germany",
          "United Arab Emirates",
          "United States",
          "United States",
          "China",
          "France",
          "Brazil",
          "United States",
          "United States",
          "Netherlands",
          "United States",
          "United States",
          "Germany",
          "France",
          "United States",
          "France",
          "China",
          "United Kingdom",
          "Czechia",
          "United States",
          "France",
          "United States",
          "Canada",
          "United States",
          "United Kingdom",
          "Germany",
          "Colombia",
          "United States",
          "Netherlands",
          "China",
          "Germany",
          "United States",
          "China",
          "France",
          "Italy",
          "United States",
          "China",
          "United Kingdom",
          "China",
          "United Kingdom",
          "Australia",
          "Belgium",
          "United States",
          "Japan",
          "United States",
          "Canada",
          "Australia",
          "Australia",
          "Thailand",
          "United States",
          "United States",
          "India",
          "Switzerland",
          "Japan",
          "Germany",
          "United States",
          "Brazil",
          "United Kingdom",
          "United States",
          "Canada",
          "Belgium",
          "United States",
          "United Kingdom",
          "Germany",
          "United States",
          "United States",
          "China",
          "United States",
          "France",
          "United States",
          "United States",
          "United States",
          "United States",
          "Canada",
          "Canada",
          "United Kingdom",
          "United States",
          "Canada",
          "Netherlands",
          "Finland",
          "United States",
          "United Kingdom",
          "United States",
          "Spain",
          "Belgium",
          "Germany",
          "United States",
          "Japan",
          "United States",
          "Japan",
          "United States",
          "India",
          "Austria",
          "Germany",
          "Australia",
          "United States",
          "United States",
          "South Korea",
          "China",
          "Spain",
          "Italy",
          "Italy",
          "Japan",
          "China",
          "United States",
          "Netherlands",
          "United States",
          "Spain",
          "China",
          "Panama",
          "United States",
          "China",
          "United States",
          "United States",
          "China",
          "Iran",
          "United States",
          "United States",
          "Canada",
          "Belgium",
          "India",
          "Lithuania",
          "Brazil",
          "Italy",
          "United States",
          "Greece",
          "United States",
          "United States",
          "China",
          "United States",
          "United States",
          "United States",
          "United States",
          "India",
          "China",
          "United States",
          "Australia",
          "United States",
          "United States",
          "China",
          "China",
          "Senegal",
          "United States",
          "Belgium",
          "Czechia",
          "United States",
          "United States",
          "Israel",
          "Spain",
          "United States",
          "United States",
          "Japan",
          "United States",
          "Singapore",
          "United States",
          "Ukraine",
          "United States",
          "Sweden",
          "China",
          "France",
          "United States",
          "United States",
          "United States",
          "Australia",
          "United States",
          "United States",
          "United States",
          "Germany",
          "Netherlands",
          "United States",
          "China",
          "Russia",
          "China",
          "United States",
          "United Kingdom",
          "Canada",
          "United States",
          "United States",
          "China",
          "South Africa",
          "United States",
          "China",
          "Japan",
          "United States",
          "United States",
          "Saudi Arabia",
          "China",
          "United States",
          "United States",
          "Netherlands",
          "United States",
          "Netherlands",
          "Spain",
          "Brazil",
          "France",
          "China",
          "United States",
          "United Kingdom",
          "United States",
          "China",
          "Hungary",
          "United States",
          "Egypt",
          "China",
          "China",
          "United Kingdom",
          "Germany",
          "United States",
          "United States",
          "United Kingdom",
          "South Korea",
          "United States",
          "Russia",
          "United Kingdom",
          "Australia",
          "China",
          "United Kingdom",
          "United States",
          "Mexico",
          "Germany",
          "Germany",
          "South Korea",
          "China",
          "United States",
          "Germany",
          "Poland",
          "Germany",
          "United States",
          "China",
          "United Kingdom",
          "United Kingdom",
          "Netherlands",
          "China",
          "United States",
          "Japan",
          "France",
          "United States",
          "United States",
          "United Kingdom",
          "United States",
          "Argentina",
          "Belgium",
          "United States",
          "China",
          "United States",
          "United States",
          "China",
          "Canada",
          "United States",
          "Canada",
          "Finland",
          "Finland",
          "United Kingdom",
          "Germany",
          "United Kingdom",
          "United Kingdom",
          "Germany",
          "United States",
          "United States",
          "China",
          "France",
          "United States",
          "United States",
          "United Kingdom",
          "France",
          "United States",
          "Germany",
          "Canada",
          "Belgium",
          "Japan",
          "United States",
          "Germany",
          "United States",
          "United States",
          "Ireland",
          "Israel",
          "Japan",
          "Austria",
          "Singapore",
          "United Kingdom",
          "France",
          "United States",
          "France",
          "Germany",
          "China",
          "China",
          "Italy",
          "Switzerland",
          "Japan",
          "Italy",
          "United States",
          "United States",
          "Austria",
          "United Kingdom",
          "France",
          "United States",
          "Finland",
          "Norway",
          "France",
          "France",
          "Cyprus",
          "India",
          "United States",
          "Germany",
          "United States",
          "Zambia",
          "Canada",
          "China",
          "Austria",
          "United States",
          "United States",
          "United States",
          "United States",
          "Malaysia",
          "Czechia",
          "Iceland",
          "United States",
          "Switzerland",
          "Germany",
          "United States",
          "Germany",
          "Canada",
          "France",
          "United States",
          "United States",
          "New Zealand",
          "United States",
          "United States",
          "Australia",
          "Germany",
          "United Kingdom",
          "United Kingdom",
          "South Korea",
          "China",
          "Morocco",
          "United States",
          "United States",
          "United States",
          "Italy",
          "United States",
          "China",
          "United States",
          "Poland",
          "United Kingdom",
          "United States",
          "Germany",
          "Australia",
          "United States",
          "United States",
          "China",
          "Austria",
          "Denmark",
          "Israel",
          "France",
          "South Korea",
          "Uganda",
          "Czechia",
          "Canada",
          "Taiwan",
          "United States",
          "United States",
          "United States",
          "China",
          "United States",
          "United States",
          "United States",
          "United States",
          "United States",
          "France",
          "United States",
          "United States",
          "Denmark",
          "United States",
          "United Kingdom",
          "United States",
          "Germany",
          "Finland",
          "Colombia",
          "United States",
          "United States",
          "Chile",
          "Germany",
          "China",
          "China",
          "Italy",
          "Canada",
          "United States",
          "United States",
          "United States",
          "Netherlands",
          "Germany",
          "United Kingdom",
          "Germany",
          "United States",
          "Germany",
          "South Korea",
          "United States",
          "United Kingdom",
          "Netherlands",
          "United States",
          "Iceland",
          "Spain",
          "United States",
          "Germany",
          "United States",
          "United States",
          "Sweden",
          "United States",
          "France",
          "United States",
          "United States",
          "Australia",
          "Switzerland",
          "Austria",
          "United States",
          "United States",
          "United States",
          "Taiwan",
          "United States",
          "United States",
          "China",
          "Germany",
          "China",
          "China",
          "Japan",
          "United States",
          "India",
          "United States",
          "United States",
          "South Korea",
          "New Zealand",
          "Italy",
          "Germany",
          "New Zealand",
          "Spain",
          "France",
          "Japan",
          "United States",
          "India",
          "Russia",
          "United Kingdom",
          "United States",
          "United States",
          "United Kingdom",
          "Germany",
          "United States",
          "Canada",
          "Australia",
          "Japan",
          "United States",
          "Canada",
          "United States",
          "Israel",
          "United States",
          "United States",
          "Japan",
          "United States",
          "United States",
          "Norway",
          "United States",
          "United States",
          "Canada",
          "United Kingdom",
          "France",
          "United States",
          "Germany",
          "Switzerland",
          "Switzerland",
          "New Zealand",
          "United States",
          "United States",
          "United Kingdom",
          "Brazil",
          "Germany",
          "China",
          "China",
          "Denmark",
          "United States",
          "United States",
          "United States",
          "United States",
          "Germany",
          "United States",
          "Germany",
          "United States",
          "Germany",
          "Germany",
          "United States",
          "China",
          "Russia",
          "Portugal",
          "Austria",
          "United States",
          "France",
          "Canada",
          "Switzerland",
          "United States",
          "China",
          "United Kingdom",
          "United States",
          "New Zealand",
          "United States",
          "United States",
          "United Kingdom",
          "South Korea",
          "Netherlands",
          "United States",
          "United States",
          "United States",
          "France",
          "China",
          "United Kingdom",
          "Spain",
          "United States",
          "United States",
          "Saudi Arabia",
          "Norway",
          "Switzerland",
          "Russia",
          "South Korea",
          "South Korea",
          "United States",
          "Japan",
          "Germany",
          "United States",
          "Iran",
          "Germany",
          "Japan",
          "Germany",
          "Ireland",
          "China",
          "United States",
          "Japan",
          "Austria",
          "Canada",
          "France",
          "New Zealand",
          "Hungary",
          "South Korea",
          "Switzerland",
          "India",
          "Australia",
          "United States",
          "United States",
          "South Korea",
          "Sweden",
          "Germany",
          "United States",
          "United Kingdom",
          "United States",
          "United States",
          "United States",
          "United States",
          "Israel",
          "United States",
          "Australia",
          "Germany",
          "United States",
          "South Korea",
          "Israel",
          "United States",
          "United States",
          "United States",
          "Germany",
          "United States",
          "Italy",
          "India",
          "South Korea",
          "United States",
          "Finland",
          "Germany",
          "Iceland",
          "United States",
          "China",
          "United States",
          "United Kingdom",
          "Netherlands",
          "United States",
          "South Korea",
          "United States",
          "Germany",
          "Qatar",
          "Germany",
          "Australia",
          "France",
          "Austria",
          "United States",
          "Israel",
          "United States",
          "United States",
          "Japan",
          "United States",
          "United States",
          "Germany",
          "United States",
          "China",
          "Taiwan",
          "Egypt",
          "United States",
          "Canada",
          "Italy",
          "United States",
          "Russia",
          "Israel",
          "United States",
          "Mexico",
          "Brazil",
          "South Korea",
          "New Zealand",
          "Japan",
          "United States",
          "United States",
          "United States",
          "China",
          "United States",
          "Norway",
          "Singapore",
          "United States",
          "Ireland",
          "Ireland",
          "United States",
          "Switzerland",
          "China",
          "United States",
          "United States",
          "Switzerland",
          "Switzerland",
          "Germany",
          "Israel",
          "Germany",
          "Germany",
          "United States",
          "Netherlands",
          "Japan",
          "France",
          "Japan",
          "France",
          "United States",
          "China",
          "China",
          "Switzerland",
          "Australia",
          "Japan",
          "Mexico",
          "Italy",
          "United Kingdom",
          "Canada",
          "Germany",
          "Denmark",
          "United States",
          "South Korea",
          "Mexico",
          "Egypt",
          "United Kingdom",
          "United States",
          "United States",
          "United States",
          "United States",
          "United States",
          "Italy",
          "United States",
          "France",
          "United States",
          "United States",
          "Japan",
          "Spain",
          "Italy",
          "United States",
          "Greece",
          "Australia",
          "United Kingdom",
          "United Kingdom",
          "United States",
          "Czechia",
          "China",
          "China",
          "France",
          "Turkey",
          "United States",
          "India",
          "Italy",
          "China",
          "United States",
          "Colombia",
          "United States",
          "Germany",
          "United States",
          "Germany",
          "Australia",
          "Germany",
          "Turkey",
          "China",
          "United Kingdom",
          "Jordan",
          "United States",
          "France",
          "United States",
          "China",
          "Israel",
          "Canada",
          "France",
          "United States",
          "United States",
          "Germany",
          "Australia",
          "United Kingdom",
          "United States",
          "Brazil",
          "Japan",
          "Italy",
          "Singapore",
          "Australia",
          "Germany",
          "South Korea",
          "India",
          "France",
          "United States",
          "Sweden",
          "United States",
          "Sierra Leone",
          "Qatar",
          "Canada",
          "Australia",
          "United States",
          "United Kingdom",
          "Switzerland",
          "United Kingdom",
          "Czechia",
          "United States",
          "United States",
          "France",
          "Spain",
          "United States",
          "United States",
          "Germany",
          "Argentina",
          "China",
          "Netherlands",
          "China",
          "United Kingdom",
          "United States",
          "India",
          "Japan",
          "Germany",
          "United States",
          "Israel",
          "Finland",
          "Canada",
          "United States",
          "Netherlands",
          "United States",
          "United States",
          "United States",
          "China",
          "United States",
          "United Kingdom",
          "Spain",
          "United Kingdom",
          "Denmark",
          "Finland",
          "Spain",
          "China",
          "Pakistan",
          "Netherlands",
          "United States",
          "Belgium",
          "United States",
          "China",
          "China",
          "Canada",
          "United States",
          "United States",
          "United States",
          "China",
          "Austria",
          "United States",
          "United States",
          "China",
          "France",
          "Japan",
          "India",
          "Niger",
          "Denmark",
          "United States",
          "Finland",
          "United States",
          "United States",
          "France",
          "Germany",
          "United States",
          "Japan",
          "Ireland",
          "United States",
          "Saudi Arabia",
          "Germany",
          "United States",
          "United Kingdom",
          "United Kingdom",
          "South Korea",
          "United States",
          "United States",
          "Israel",
          "France",
          "Japan",
          "United States",
          "United States",
          "Germany",
          "China",
          "Sweden",
          "Luxembourg",
          "France",
          "Denmark",
          "United Kingdom",
          "United States",
          "United States",
          "India",
          "United States",
          "China",
          "United States",
          "Austria",
          "Japan",
          "Canada",
          "United States",
          "Singapore",
          "South Korea",
          "Germany",
          "Trinidad and Tobago",
          "Italy",
          "Germany",
          "France",
          "Netherlands",
          "Canada",
          "Sweden",
          "United States",
          "China",
          "Singapore",
          "United States",
          "United States",
          "France",
          "China",
          "United States",
          "South Korea",
          "China",
          "India",
          "France",
          "United States",
          "Italy",
          "Argentina",
          "United States",
          "Netherlands",
          "Norway",
          "China",
          "United Kingdom",
          "Chile",
          "Belgium",
          "United States",
          "United States",
          "United States",
          "Netherlands",
          "Russia",
          "Germany",
          "United States",
          "United States",
          "Germany",
          "Germany",
          "Japan",
          "Canada",
          "United States",
          "Canada",
          "Canada",
          "Russia",
          "Germany",
          "United States",
          "China",
          "Spain",
          "United States",
          "Germany",
          "United States",
          "United States",
          "Israel",
          "United States",
          "United States",
          "United States",
          "United States",
          "United States",
          "United States",
          "Sweden",
          "United States",
          "United States",
          "South Africa",
          "China",
          "United States",
          "United States",
          "United States",
          "United States",
          "United States",
          "New Zealand",
          "United States",
          "South Korea",
          "China",
          "United Arab Emirates",
          "China",
          "Belgium",
          "United States",
          "United States",
          "Switzerland",
          "Germany",
          "Japan",
          "China",
          "Germany",
          "South Korea",
          "Spain",
          "United States",
          "China",
          "Spain",
          "United States",
          "Germany",
          "United States",
          "United States",
          "United States",
          "Sweden",
          "United Kingdom",
          "United States",
          "Egypt",
          "United States",
          "United States",
          "Canada",
          "China",
          "Portugal",
          "United States",
          "Netherlands",
          "China",
          "India",
          "Germany",
          "United States",
          "United States",
          "Australia",
          "United States",
          "United States",
          "United States",
          "United States",
          "France",
          "United States",
          "Russia",
          "Japan",
          "United States",
          "Italy",
          "China",
          "Australia",
          "Norway",
          "Israel",
          "France",
          "United States",
          "France",
          "Switzerland",
          "United States",
          "Qatar",
          "Italy",
          "Pakistan",
          "South Korea",
          "Italy",
          "United Kingdom",
          "Croatia",
          "United States",
          "Netherlands",
          "United Kingdom",
          "South Korea",
          "United States",
          "United States",
          "India",
          "United Kingdom",
          "Austria",
          "Italy",
          "China",
          "Italy",
          "Peru",
          "United States",
          "China",
          "United States",
          "United Kingdom",
          "Belgium",
          "United Kingdom",
          "United States",
          "United States",
          "United States",
          "South Africa",
          "India",
          "Australia",
          "United States",
          "United States",
          "United Kingdom",
          "Canada",
          "Netherlands",
          "Cuba",
          "Croatia",
          "Sri Lanka",
          "Italy",
          "Spain",
          "United States",
          "Spain",
          "Chile",
          "United States",
          "United States",
          "United States",
          "Thailand",
          "Serbia",
          "Germany",
          "United States",
          "United States",
          "United States",
          "United States",
          "China",
          "Germany",
          "Germany",
          "United States",
          "Spain",
          "Germany",
          "United States",
          "Netherlands",
          "United States",
          "Colombia",
          "Germany",
          "United States",
          "United States",
          "Switzerland",
          "South Korea",
          "United States",
          "United Kingdom",
          "China",
          "United Kingdom",
          "United States",
          "China",
          "United States",
          "United States",
          "Germany",
          "Germany",
          "United States",
          "Germany",
          "United States",
          "Australia",
          "United States",
          "United States",
          "Australia",
          "United States",
          "South Korea",
          "Slovenia",
          "Australia",
          "Germany",
          "Sweden",
          "Germany",
          "United States",
          "United States",
          "United Kingdom",
          "China",
          "United States",
          "Australia",
          "China",
          "France",
          "United Kingdom",
          "United States",
          "United States",
          "China",
          "Canada",
          "United States",
          "Germany",
          "Taiwan",
          "Russia",
          "United States",
          "United Kingdom",
          "Japan",
          "China",
          "Austria",
          "Canada",
          "France",
          "Switzerland",
          "United States",
          "United States",
          "Greece",
          "Russia",
          "United States",
          "Spain",
          "India",
          "France",
          "Germany",
          "China",
          "South Korea",
          "United States",
          "Japan",
          "France",
          "Canada",
          "United Kingdom",
          "United States",
          "Finland",
          "France",
          "Spain",
          "United Kingdom",
          "South Korea",
          "Colombia",
          "United States",
          "United States",
          "China",
          "United States",
          "Spain",
          "United States",
          "United Kingdom",
          "United States",
          "Germany",
          "Italy",
          "United Kingdom",
          "United States",
          "Germany",
          "United States",
          "United States",
          "China",
          "United States",
          "United States",
          "France",
          "United States",
          "United States",
          "Germany",
          "Switzerland",
          "United States",
          "China",
          "Netherlands",
          "China",
          "Netherlands",
          "United Kingdom",
          "Singapore",
          "Russia",
          "Italy",
          "Germany",
          "China",
          "United States",
          "Canada",
          "United States",
          "Switzerland",
          "Belgium",
          "Germany",
          "Argentina",
          "China",
          "United Kingdom",
          "China",
          "United States",
          "United Kingdom",
          "United States",
          "Austria",
          "United Kingdom",
          "Denmark",
          "Italy",
          "United States",
          "United States",
          "United States",
          "South Korea",
          "United States",
          "United States",
          "Hungary",
          "Austria",
          "United States",
          "South Korea",
          "United Kingdom",
          "United Kingdom",
          "United States",
          "Denmark",
          "Switzerland",
          "France",
          "Portugal",
          "France",
          "Italy",
          "Japan",
          "Italy",
          "Germany",
          "New Zealand",
          "Australia",
          "China",
          "United States",
          "United States",
          "United Kingdom",
          "India",
          "China",
          "Philippines",
          "Germany",
          "United States",
          "Austria",
          "United States",
          "United States",
          "Italy",
          "United States",
          "Germany",
          "Spain",
          "Finland",
          "United States",
          "United States",
          "Singapore",
          "Switzerland",
          "Malaysia",
          "Italy",
          "China",
          "China",
          "Sweden",
          "Sri Lanka",
          "Italy",
          "United States",
          "Germany",
          "United Kingdom",
          "United Kingdom",
          "United States",
          "United States",
          "United Kingdom",
          "Germany",
          "United States",
          "United States",
          "Germany",
          "United States",
          "Madagascar",
          "United States",
          "United States",
          "Australia",
          "United States",
          "Japan",
          "Germany",
          "United States",
          "Canada",
          "United States",
          "United States",
          "United Kingdom",
          "United States",
          "China",
          "Germany",
          "United States",
          "Canada",
          "United States",
          "United States",
          "United States",
          "United States",
          "United States",
          "United Kingdom",
          "United States",
          "United States",
          "United Kingdom",
          "Germany",
          "Israel",
          "United States",
          "Germany",
          "United States",
          "Japan",
          "France",
          "Switzerland",
          "China",
          "Belgium",
          "South Korea",
          "Belgium",
          "Finland",
          "United States",
          "United States",
          "Netherlands",
          "South Korea",
          "Spain",
          "Germany",
          "France",
          "China",
          "Japan",
          "Germany",
          "China",
          "Germany",
          "United States",
          "France",
          "United Kingdom",
          "Canada",
          "India",
          "Israel",
          "China",
          "United Kingdom",
          "India",
          "United States",
          "Netherlands",
          "United States",
          "China",
          "United States",
          "Canada",
          "United States",
          "United Kingdom",
          "Spain",
          "United States",
          "United States",
          "United States",
          "United States",
          "South Korea",
          "Canada",
          "United States",
          "Finland",
          "Japan",
          "United States",
          "United States",
          "United States",
          "Germany",
          "Australia",
          "United States",
          "Switzerland",
          "China",
          "China",
          "United States",
          "Belgium",
          "United States",
          "Netherlands",
          "Italy",
          "France",
          "United States",
          "Japan",
          "Netherlands",
          "United States",
          "Germany",
          "Germany",
          "Vietnam",
          "Germany",
          "United Kingdom",
          "United States",
          "Turkey",
          "China",
          "Japan",
          "India",
          "United States",
          "Netherlands",
          "Germany",
          "Switzerland",
          "United States",
          "Spain",
          "Spain",
          "Spain",
          "Canada",
          "Portugal",
          "United States",
          "France",
          "United States",
          "United States",
          "China",
          "United States",
          "United States",
          "United States",
          "Greece",
          "United States",
          "Switzerland",
          "United States",
          "Germany",
          "Australia",
          "United States",
          "Germany",
          "United States",
          "United States",
          "Portugal",
          "South Korea",
          "United Kingdom",
          "India",
          "China",
          "United States",
          "France",
          "Denmark",
          "United States",
          "United States",
          "United States",
          "India",
          "Canada",
          "United States",
          "China",
          "United States",
          "China",
          "Germany",
          "Turkey",
          "Greece",
          "Norway",
          "United States",
          "Austria",
          "Hungary",
          "South Africa",
          "Belgium",
          "Singapore",
          "Russia",
          "Luxembourg",
          "Mexico",
          "Germany",
          "India",
          "China",
          "United States",
          "Japan",
          "United States",
          "Japan",
          "Singapore",
          "China",
          "United States",
          "United States",
          "Spain",
          "Japan",
          "United States",
          "United Kingdom",
          "United States",
          "China",
          "United States",
          "France",
          "Germany",
          "Turkey",
          "United States",
          "United States",
          "United States",
          "United States",
          "New Zealand",
          "United States",
          "Switzerland",
          "France",
          "France",
          "Denmark",
          "France",
          "South Africa",
          "United States",
          "Canada",
          "Switzerland",
          "United States",
          "United States",
          "Belgium",
          "United States",
          "France",
          "Australia",
          "Canada",
          "United States",
          "China",
          "Denmark",
          "United States",
          "United States",
          "United States",
          "United States",
          "China",
          "China",
          "United States",
          "Slovenia",
          "United States",
          "United States",
          "Israel",
          "Germany",
          "United States",
          "United States",
          "United States",
          "United States",
          "Morocco",
          "United States",
          "Germany",
          "Malaysia",
          "China",
          "United States",
          "United States",
          "Tanzania",
          "United Kingdom",
          "United States",
          "Honduras",
          "Peru",
          "Germany",
          "United States",
          "Ireland",
          "United States",
          "Japan",
          "Germany",
          "South Korea",
          "Denmark",
          "Japan",
          "Italy",
          "Israel",
          "Switzerland",
          "China",
          "United States",
          "United Kingdom",
          "France",
          "Norway",
          "Lithuania",
          "China",
          "Spain",
          "United Kingdom",
          "Norway",
          "South Korea",
          "Spain",
          "China",
          "United States",
          "Estonia",
          "United States",
          "China",
          "Belgium",
          "United States",
          "Australia",
          "United States",
          "Czechia",
          "China",
          "United States",
          "United States",
          "United States",
          "Sweden",
          "Italy",
          "United States",
          "United States",
          "France",
          "United States",
          "Canada",
          "United States",
          "United States",
          "United States",
          "Germany",
          "New Zealand",
          "Austria",
          "United States",
          "United States",
          "Nigeria",
          "Taiwan",
          "United States",
          "United States",
          "Singapore",
          "United States",
          "Germany",
          "India",
          "United States",
          "United Kingdom",
          "Netherlands",
          "Switzerland",
          "Spain",
          "United States",
          "United States",
          "Austria",
          "Singapore",
          "Canada",
          "United States",
          "Germany",
          "Germany",
          "United States",
          "China",
          "Japan",
          "United States",
          "Canada",
          "United States",
          "Italy",
          "United States",
          "Taiwan",
          "China",
          "United States",
          "United States",
          "United States",
          "United States",
          "Spain",
          "United States",
          "United States",
          "Netherlands",
          "China",
          "France",
          "Norway",
          "United States",
          "United States",
          "United States",
          "Taiwan",
          "China",
          "Japan",
          "United States",
          "France",
          "Turkey",
          "United States",
          "United States",
          "United Kingdom",
          "Australia",
          "Netherlands",
          "France",
          "France",
          "Germany",
          "Belgium",
          "Sweden",
          "United Kingdom",
          "United States",
          "United States",
          "Japan",
          "Austria",
          "United States"
         ],
         "locations": [
          "USA",
          "USA",
          "GBR",
          "USA",
          "USA",
          "GBR",
          "USA",
          "KOR",
          "JPN",
          "GBR",
          "USA",
          "CHN",
          "NLD",
          "MEX",
          "CHE",
          "USA",
          "JPN",
          "CHN",
          "USA",
          "GBR",
          "CAN",
          "ROU",
          "CHN",
          "JPN",
          "USA",
          "USA",
          "USA",
          "KOR",
          "USA",
          "USA",
          "CHN",
          "TUR",
          "USA",
          "USA",
          "ARG",
          "FRA",
          "BRA",
          "SWE",
          "ESP",
          "USA",
          "USA",
          "JPN",
          "IND",
          "CHN",
          "NPL",
          "AUT",
          "USA",
          "PAN",
          "USA",
          "CHN",
          "DNK",
          "GBR",
          "DEU",
          "CHN",
          "AUS",
          "BRA",
          "USA",
          "CHN",
          "ESP",
          "FIN",
          "DEU",
          "FRA",
          "USA",
          "DEU",
          "IND",
          "POL",
          "JPN",
          "ESP",
          "DEU",
          "FIN",
          "THA",
          "NLD",
          "DEU",
          "USA",
          "USA",
          "USA",
          "GBR",
          "AUS",
          "GBR",
          "USA",
          "AUS",
          "AUT",
          "USA",
          "DEU",
          "NLD",
          "HUN",
          "JPN",
          "USA",
          "USA",
          "MYS",
          "USA",
          "DEU",
          "ITA",
          "USA",
          "USA",
          "ESP",
          "SGP",
          "USA",
          "GBR",
          "USA",
          "ITA",
          "DEU",
          "PRT",
          "USA",
          "AUS",
          "USA",
          "CHN",
          "DEU",
          "FRA",
          "KOR",
          "USA",
          "DEU",
          "DEU",
          "SGP",
          "USA",
          "CHN",
          "GBR",
          "CHN",
          "USA",
          "GBR",
          "USA",
          "CHN",
          "CHN",
          "DNK",
          "USA",
          "JPN",
          "USA",
          "NLD",
          "USA",
          "USA",
          "USA",
          "CAN",
          "ESP",
          "DEU",
          "ISR",
          "DEU",
          "USA",
          "USA",
          "EGY",
          "KOR",
          "KOR",
          "CHN",
          "NIC",
          "GBR",
          "FRA",
          "USA",
          "ITA",
          "USA",
          "USA",
          "MEX",
          "DEU",
          "CHN",
          "AUS",
          "USA",
          "USA",
          "USA",
          "SVN",
          "DEU",
          "USA",
          "USA",
          "JPN",
          "GBR",
          "GBR",
          "USA",
          "DEU",
          "FRA",
          "KOR",
          "HRV",
          "USA",
          "DEU",
          "FRA",
          "USA",
          "USA",
          "CHN",
          "JPN",
          "DEU",
          "FRA",
          "USA",
          "JPN",
          "USA",
          "IND",
          "USA",
          "ITA",
          "GBR",
          "BEL",
          "IND",
          "USA",
          "AUS",
          "USA",
          "USA",
          "JPN",
          "USA",
          "FRA",
          "CHE",
          "CHE",
          "CAN",
          "USA",
          "GBR",
          "USA",
          "USA",
          "FRA",
          "USA",
          "GBR",
          "EST",
          "USA",
          "DEU",
          "USA",
          "AUS",
          "FRA",
          "ESP",
          "AUS",
          "CHN",
          "BRA",
          "GBR",
          "GBR",
          "CHN",
          "GBR",
          "CHE",
          "IND",
          "USA",
          "DEU",
          "DEU",
          "GBR",
          "CHN",
          "BRA",
          "GBR",
          "POL",
          "FRA",
          "SWE",
          "USA",
          "GBR",
          "DEU",
          "FRA",
          "GBR",
          "JOR",
          "JPN",
          "CHN",
          "FRA",
          "CHN",
          "BEL",
          "USA",
          "GBR",
          "QAT",
          "FRA",
          "USA",
          "USA",
          "IND",
          "DEU",
          "IND",
          "FIN",
          "TWN",
          "USA",
          "DEU",
          "USA",
          "THA",
          "FRA",
          "NLD",
          "TUR",
          "ITA",
          "USA",
          "USA",
          "USA",
          "DNK",
          "FRA",
          "CHN",
          "USA",
          "USA",
          "GBR",
          "USA",
          "AUS",
          "SGP",
          "BGD",
          "DEU",
          "DEU",
          "USA",
          "JPN",
          "FRA",
          "USA",
          "USA",
          "USA",
          "GBR",
          "USA",
          "FRA",
          "USA",
          "USA",
          "USA",
          "CAN",
          "USA",
          "USA",
          "USA",
          "AUS",
          "CHN",
          "USA",
          "USA",
          "DEU",
          "THA",
          "CHN",
          "USA",
          "USA",
          "AUT",
          "FRA",
          "AUS",
          "NZL",
          "USA",
          "USA",
          "USA",
          "ESP",
          "NLD",
          "USA",
          "USA",
          "SGP",
          "CHE",
          "FRA",
          "USA",
          "CHN",
          "HUN",
          "DEU",
          "BRA",
          "CHN",
          "TWN",
          "NLD",
          "UKR",
          "NLD",
          "CHN",
          "DNK",
          "JPN",
          "DEU",
          "ESP",
          "PAN",
          "USA",
          "CHL",
          "USA",
          "USA",
          "USA",
          "ESP",
          "TWN",
          "AUS",
          "BEL",
          "USA",
          "GBR",
          "USA",
          "USA",
          "USA",
          "JPN",
          "CHN",
          "ESP",
          "FRA",
          "RUS",
          "USA",
          "ESP",
          "FRA",
          "USA",
          "FRA",
          "USA",
          "USA",
          "USA",
          "USA",
          "USA",
          "GBR",
          "USA",
          "IND",
          "USA",
          "MYS",
          "CHN",
          "USA",
          "USA",
          "USA",
          "GBR",
          "CHN",
          "DNK",
          "SWE",
          "CHN",
          "USA",
          "DEU",
          "KOR",
          "USA",
          "CHN",
          "USA",
          "CZE",
          "GBR",
          "IND",
          "KOR",
          "GBR",
          "NGA",
          "USA",
          "CHN",
          "NLD",
          "GRC",
          "CHN",
          "USA",
          "DEU",
          "GBR",
          "CHN",
          "GBR",
          "USA",
          "JPN",
          "USA",
          "GBR",
          "USA",
          "USA",
          "CHN",
          "BEL",
          "USA",
          "RUS",
          "GBR",
          "KOR",
          "ITA",
          "TWN",
          "CHN",
          "NOR",
          "KOR",
          "DEU",
          "ARE",
          "USA",
          "USA",
          "CHN",
          "FRA",
          "BRA",
          "USA",
          "USA",
          "NLD",
          "USA",
          "USA",
          "DEU",
          "FRA",
          "USA",
          "FRA",
          "CHN",
          "GBR",
          "CZE",
          "USA",
          "FRA",
          "USA",
          "CAN",
          "USA",
          "GBR",
          "DEU",
          "COL",
          "USA",
          "NLD",
          "CHN",
          "DEU",
          "USA",
          "CHN",
          "FRA",
          "ITA",
          "USA",
          "CHN",
          "GBR",
          "CHN",
          "GBR",
          "AUS",
          "BEL",
          "USA",
          "JPN",
          "USA",
          "CAN",
          "AUS",
          "AUS",
          "THA",
          "USA",
          "USA",
          "IND",
          "CHE",
          "JPN",
          "DEU",
          "USA",
          "BRA",
          "GBR",
          "USA",
          "CAN",
          "BEL",
          "USA",
          "GBR",
          "DEU",
          "USA",
          "USA",
          "CHN",
          "USA",
          "FRA",
          "USA",
          "USA",
          "USA",
          "USA",
          "CAN",
          "CAN",
          "GBR",
          "USA",
          "CAN",
          "NLD",
          "FIN",
          "USA",
          "GBR",
          "USA",
          "ESP",
          "BEL",
          "DEU",
          "USA",
          "JPN",
          "USA",
          "JPN",
          "USA",
          "IND",
          "AUT",
          "DEU",
          "AUS",
          "USA",
          "USA",
          "KOR",
          "CHN",
          "ESP",
          "ITA",
          "ITA",
          "JPN",
          "CHN",
          "USA",
          "NLD",
          "USA",
          "ESP",
          "CHN",
          "PAN",
          "USA",
          "CHN",
          "USA",
          "USA",
          "CHN",
          "IRN",
          "USA",
          "USA",
          "CAN",
          "BEL",
          "IND",
          "LTU",
          "BRA",
          "ITA",
          "USA",
          "GRC",
          "USA",
          "USA",
          "CHN",
          "USA",
          "USA",
          "USA",
          "USA",
          "IND",
          "CHN",
          "USA",
          "AUS",
          "USA",
          "USA",
          "CHN",
          "CHN",
          "SEN",
          "USA",
          "BEL",
          "CZE",
          "USA",
          "USA",
          "ISR",
          "ESP",
          "USA",
          "USA",
          "JPN",
          "USA",
          "SGP",
          "USA",
          "UKR",
          "USA",
          "SWE",
          "CHN",
          "FRA",
          "USA",
          "USA",
          "USA",
          "AUS",
          "USA",
          "USA",
          "USA",
          "DEU",
          "NLD",
          "USA",
          "CHN",
          "RUS",
          "CHN",
          "USA",
          "GBR",
          "CAN",
          "USA",
          "USA",
          "CHN",
          "ZAF",
          "USA",
          "CHN",
          "JPN",
          "USA",
          "USA",
          "SAU",
          "CHN",
          "USA",
          "USA",
          "NLD",
          "USA",
          "NLD",
          "ESP",
          "BRA",
          "FRA",
          "CHN",
          "USA",
          "GBR",
          "USA",
          "CHN",
          "HUN",
          "USA",
          "EGY",
          "CHN",
          "CHN",
          "GBR",
          "DEU",
          "USA",
          "USA",
          "GBR",
          "KOR",
          "USA",
          "RUS",
          "GBR",
          "AUS",
          "CHN",
          "GBR",
          "USA",
          "MEX",
          "DEU",
          "DEU",
          "KOR",
          "CHN",
          "USA",
          "DEU",
          "POL",
          "DEU",
          "USA",
          "CHN",
          "GBR",
          "GBR",
          "NLD",
          "CHN",
          "USA",
          "JPN",
          "FRA",
          "USA",
          "USA",
          "GBR",
          "USA",
          "ARG",
          "BEL",
          "USA",
          "CHN",
          "USA",
          "USA",
          "CHN",
          "CAN",
          "USA",
          "CAN",
          "FIN",
          "FIN",
          "GBR",
          "DEU",
          "GBR",
          "GBR",
          "DEU",
          "USA",
          "USA",
          "CHN",
          "FRA",
          "USA",
          "USA",
          "GBR",
          "FRA",
          "USA",
          "DEU",
          "CAN",
          "BEL",
          "JPN",
          "USA",
          "DEU",
          "USA",
          "USA",
          "IRL",
          "ISR",
          "JPN",
          "AUT",
          "SGP",
          "GBR",
          "FRA",
          "USA",
          "FRA",
          "DEU",
          "CHN",
          "CHN",
          "ITA",
          "CHE",
          "JPN",
          "ITA",
          "USA",
          "USA",
          "AUT",
          "GBR",
          "FRA",
          "USA",
          "FIN",
          "NOR",
          "FRA",
          "FRA",
          "CYP",
          "IND",
          "USA",
          "DEU",
          "USA",
          "ZMB",
          "CAN",
          "CHN",
          "AUT",
          "USA",
          "USA",
          "USA",
          "USA",
          "MYS",
          "CZE",
          "ISL",
          "USA",
          "CHE",
          "DEU",
          "USA",
          "DEU",
          "CAN",
          "FRA",
          "USA",
          "USA",
          "NZL",
          "USA",
          "USA",
          "AUS",
          "DEU",
          "GBR",
          "GBR",
          "KOR",
          "CHN",
          "MAR",
          "USA",
          "USA",
          "USA",
          "ITA",
          "USA",
          "CHN",
          "USA",
          "POL",
          "GBR",
          "USA",
          "DEU",
          "AUS",
          "USA",
          "USA",
          "CHN",
          "AUT",
          "DNK",
          "ISR",
          "FRA",
          "KOR",
          "UGA",
          "CZE",
          "CAN",
          "TWN",
          "USA",
          "USA",
          "USA",
          "CHN",
          "USA",
          "USA",
          "USA",
          "USA",
          "USA",
          "FRA",
          "USA",
          "USA",
          "DNK",
          "USA",
          "GBR",
          "USA",
          "DEU",
          "FIN",
          "COL",
          "USA",
          "USA",
          "CHL",
          "DEU",
          "CHN",
          "CHN",
          "ITA",
          "CAN",
          "USA",
          "USA",
          "USA",
          "NLD",
          "DEU",
          "GBR",
          "DEU",
          "USA",
          "DEU",
          "KOR",
          "USA",
          "GBR",
          "NLD",
          "USA",
          "ISL",
          "ESP",
          "USA",
          "DEU",
          "USA",
          "USA",
          "SWE",
          "USA",
          "FRA",
          "USA",
          "USA",
          "AUS",
          "CHE",
          "AUT",
          "USA",
          "USA",
          "USA",
          "TWN",
          "USA",
          "USA",
          "CHN",
          "DEU",
          "CHN",
          "CHN",
          "JPN",
          "USA",
          "IND",
          "USA",
          "USA",
          "KOR",
          "NZL",
          "ITA",
          "DEU",
          "NZL",
          "ESP",
          "FRA",
          "JPN",
          "USA",
          "IND",
          "RUS",
          "GBR",
          "USA",
          "USA",
          "GBR",
          "DEU",
          "USA",
          "CAN",
          "AUS",
          "JPN",
          "USA",
          "CAN",
          "USA",
          "ISR",
          "USA",
          "USA",
          "JPN",
          "USA",
          "USA",
          "NOR",
          "USA",
          "USA",
          "CAN",
          "GBR",
          "FRA",
          "USA",
          "DEU",
          "CHE",
          "CHE",
          "NZL",
          "USA",
          "USA",
          "GBR",
          "BRA",
          "DEU",
          "CHN",
          "CHN",
          "DNK",
          "USA",
          "USA",
          "USA",
          "USA",
          "DEU",
          "USA",
          "DEU",
          "USA",
          "DEU",
          "DEU",
          "USA",
          "CHN",
          "RUS",
          "PRT",
          "AUT",
          "USA",
          "FRA",
          "CAN",
          "CHE",
          "USA",
          "CHN",
          "GBR",
          "USA",
          "NZL",
          "USA",
          "USA",
          "GBR",
          "KOR",
          "NLD",
          "USA",
          "USA",
          "USA",
          "FRA",
          "CHN",
          "GBR",
          "ESP",
          "USA",
          "USA",
          "SAU",
          "NOR",
          "CHE",
          "RUS",
          "KOR",
          "KOR",
          "USA",
          "JPN",
          "DEU",
          "USA",
          "IRN",
          "DEU",
          "JPN",
          "DEU",
          "IRL",
          "CHN",
          "USA",
          "JPN",
          "AUT",
          "CAN",
          "FRA",
          "NZL",
          "HUN",
          "KOR",
          "CHE",
          "IND",
          "AUS",
          "USA",
          "USA",
          "KOR",
          "SWE",
          "DEU",
          "USA",
          "GBR",
          "USA",
          "USA",
          "USA",
          "USA",
          "ISR",
          "USA",
          "AUS",
          "DEU",
          "USA",
          "KOR",
          "ISR",
          "USA",
          "USA",
          "USA",
          "DEU",
          "USA",
          "ITA",
          "IND",
          "KOR",
          "USA",
          "FIN",
          "DEU",
          "ISL",
          "USA",
          "CHN",
          "USA",
          "GBR",
          "NLD",
          "USA",
          "KOR",
          "USA",
          "DEU",
          "QAT",
          "DEU",
          "AUS",
          "FRA",
          "AUT",
          "USA",
          "ISR",
          "USA",
          "USA",
          "JPN",
          "USA",
          "USA",
          "DEU",
          "USA",
          "CHN",
          "TWN",
          "EGY",
          "USA",
          "CAN",
          "ITA",
          "USA",
          "RUS",
          "ISR",
          "USA",
          "MEX",
          "BRA",
          "KOR",
          "NZL",
          "JPN",
          "USA",
          "USA",
          "USA",
          "CHN",
          "USA",
          "NOR",
          "SGP",
          "USA",
          "IRL",
          "IRL",
          "USA",
          "CHE",
          "CHN",
          "USA",
          "USA",
          "CHE",
          "CHE",
          "DEU",
          "ISR",
          "DEU",
          "DEU",
          "USA",
          "NLD",
          "JPN",
          "FRA",
          "JPN",
          "FRA",
          "USA",
          "CHN",
          "CHN",
          "CHE",
          "AUS",
          "JPN",
          "MEX",
          "ITA",
          "GBR",
          "CAN",
          "DEU",
          "DNK",
          "USA",
          "KOR",
          "MEX",
          "EGY",
          "GBR",
          "USA",
          "USA",
          "USA",
          "USA",
          "USA",
          "ITA",
          "USA",
          "FRA",
          "USA",
          "USA",
          "JPN",
          "ESP",
          "ITA",
          "USA",
          "GRC",
          "AUS",
          "GBR",
          "GBR",
          "USA",
          "CZE",
          "CHN",
          "CHN",
          "FRA",
          "TUR",
          "USA",
          "IND",
          "ITA",
          "CHN",
          "USA",
          "COL",
          "USA",
          "DEU",
          "USA",
          "DEU",
          "AUS",
          "DEU",
          "TUR",
          "CHN",
          "GBR",
          "JOR",
          "USA",
          "FRA",
          "USA",
          "CHN",
          "ISR",
          "CAN",
          "FRA",
          "USA",
          "USA",
          "DEU",
          "AUS",
          "GBR",
          "USA",
          "BRA",
          "JPN",
          "ITA",
          "SGP",
          "AUS",
          "DEU",
          "KOR",
          "IND",
          "FRA",
          "USA",
          "SWE",
          "USA",
          "SLE",
          "QAT",
          "CAN",
          "AUS",
          "USA",
          "GBR",
          "CHE",
          "GBR",
          "CZE",
          "USA",
          "USA",
          "FRA",
          "ESP",
          "USA",
          "USA",
          "DEU",
          "ARG",
          "CHN",
          "NLD",
          "CHN",
          "GBR",
          "USA",
          "IND",
          "JPN",
          "DEU",
          "USA",
          "ISR",
          "FIN",
          "CAN",
          "USA",
          "NLD",
          "USA",
          "USA",
          "USA",
          "CHN",
          "USA",
          "GBR",
          "ESP",
          "GBR",
          "DNK",
          "FIN",
          "ESP",
          "CHN",
          "PAK",
          "NLD",
          "USA",
          "BEL",
          "USA",
          "CHN",
          "CHN",
          "CAN",
          "USA",
          "USA",
          "USA",
          "CHN",
          "AUT",
          "USA",
          "USA",
          "CHN",
          "FRA",
          "JPN",
          "IND",
          "NER",
          "DNK",
          "USA",
          "FIN",
          "USA",
          "USA",
          "FRA",
          "DEU",
          "USA",
          "JPN",
          "IRL",
          "USA",
          "SAU",
          "DEU",
          "USA",
          "GBR",
          "GBR",
          "KOR",
          "USA",
          "USA",
          "ISR",
          "FRA",
          "JPN",
          "USA",
          "USA",
          "DEU",
          "CHN",
          "SWE",
          "LUX",
          "FRA",
          "DNK",
          "GBR",
          "USA",
          "USA",
          "IND",
          "USA",
          "CHN",
          "USA",
          "AUT",
          "JPN",
          "CAN",
          "USA",
          "SGP",
          "KOR",
          "DEU",
          "TTO",
          "ITA",
          "DEU",
          "FRA",
          "NLD",
          "CAN",
          "SWE",
          "USA",
          "CHN",
          "SGP",
          "USA",
          "USA",
          "FRA",
          "CHN",
          "USA",
          "KOR",
          "CHN",
          "IND",
          "FRA",
          "USA",
          "ITA",
          "ARG",
          "USA",
          "NLD",
          "NOR",
          "CHN",
          "GBR",
          "CHL",
          "BEL",
          "USA",
          "USA",
          "USA",
          "NLD",
          "RUS",
          "DEU",
          "USA",
          "USA",
          "DEU",
          "DEU",
          "JPN",
          "CAN",
          "USA",
          "CAN",
          "CAN",
          "RUS",
          "DEU",
          "USA",
          "CHN",
          "ESP",
          "USA",
          "DEU",
          "USA",
          "USA",
          "ISR",
          "USA",
          "USA",
          "USA",
          "USA",
          "USA",
          "USA",
          "SWE",
          "USA",
          "USA",
          "ZAF",
          "CHN",
          "USA",
          "USA",
          "USA",
          "USA",
          "USA",
          "NZL",
          "USA",
          "KOR",
          "CHN",
          "ARE",
          "CHN",
          "BEL",
          "USA",
          "USA",
          "CHE",
          "DEU",
          "JPN",
          "CHN",
          "DEU",
          "KOR",
          "ESP",
          "USA",
          "CHN",
          "ESP",
          "USA",
          "DEU",
          "USA",
          "USA",
          "USA",
          "SWE",
          "GBR",
          "USA",
          "EGY",
          "USA",
          "USA",
          "CAN",
          "CHN",
          "PRT",
          "USA",
          "NLD",
          "CHN",
          "IND",
          "DEU",
          "USA",
          "USA",
          "AUS",
          "USA",
          "USA",
          "USA",
          "USA",
          "FRA",
          "USA",
          "RUS",
          "JPN",
          "USA",
          "ITA",
          "CHN",
          "AUS",
          "NOR",
          "ISR",
          "FRA",
          "USA",
          "FRA",
          "CHE",
          "USA",
          "QAT",
          "ITA",
          "PAK",
          "KOR",
          "ITA",
          "GBR",
          "HRV",
          "USA",
          "NLD",
          "GBR",
          "KOR",
          "USA",
          "USA",
          "IND",
          "GBR",
          "AUT",
          "ITA",
          "CHN",
          "ITA",
          "PER",
          "USA",
          "CHN",
          "USA",
          "GBR",
          "BEL",
          "GBR",
          "USA",
          "USA",
          "USA",
          "ZAF",
          "IND",
          "AUS",
          "USA",
          "USA",
          "GBR",
          "CAN",
          "NLD",
          "CUB",
          "HRV",
          "LKA",
          "ITA",
          "ESP",
          "USA",
          "ESP",
          "CHL",
          "USA",
          "USA",
          "USA",
          "THA",
          "SRB",
          "DEU",
          "USA",
          "USA",
          "USA",
          "USA",
          "CHN",
          "DEU",
          "DEU",
          "USA",
          "ESP",
          "DEU",
          "USA",
          "NLD",
          "USA",
          "COL",
          "DEU",
          "USA",
          "USA",
          "CHE",
          "KOR",
          "USA",
          "GBR",
          "CHN",
          "GBR",
          "USA",
          "CHN",
          "USA",
          "USA",
          "DEU",
          "DEU",
          "USA",
          "DEU",
          "USA",
          "AUS",
          "USA",
          "USA",
          "AUS",
          "USA",
          "KOR",
          "SVN",
          "AUS",
          "DEU",
          "SWE",
          "DEU",
          "USA",
          "USA",
          "GBR",
          "CHN",
          "USA",
          "AUS",
          "CHN",
          "FRA",
          "GBR",
          "USA",
          "USA",
          "CHN",
          "CAN",
          "USA",
          "DEU",
          "TWN",
          "RUS",
          "USA",
          "GBR",
          "JPN",
          "CHN",
          "AUT",
          "CAN",
          "FRA",
          "CHE",
          "USA",
          "USA",
          "GRC",
          "RUS",
          "USA",
          "ESP",
          "IND",
          "FRA",
          "DEU",
          "CHN",
          "KOR",
          "USA",
          "JPN",
          "FRA",
          "CAN",
          "GBR",
          "USA",
          "FIN",
          "FRA",
          "ESP",
          "GBR",
          "KOR",
          "COL",
          "USA",
          "USA",
          "CHN",
          "USA",
          "ESP",
          "USA",
          "GBR",
          "USA",
          "DEU",
          "ITA",
          "GBR",
          "USA",
          "DEU",
          "USA",
          "USA",
          "CHN",
          "USA",
          "USA",
          "FRA",
          "USA",
          "USA",
          "DEU",
          "CHE",
          "USA",
          "CHN",
          "NLD",
          "CHN",
          "NLD",
          "GBR",
          "SGP",
          "RUS",
          "ITA",
          "DEU",
          "CHN",
          "USA",
          "CAN",
          "USA",
          "CHE",
          "BEL",
          "DEU",
          "ARG",
          "CHN",
          "GBR",
          "CHN",
          "USA",
          "GBR",
          "USA",
          "AUT",
          "GBR",
          "DNK",
          "ITA",
          "USA",
          "USA",
          "USA",
          "KOR",
          "USA",
          "USA",
          "HUN",
          "AUT",
          "USA",
          "KOR",
          "GBR",
          "GBR",
          "USA",
          "DNK",
          "CHE",
          "FRA",
          "PRT",
          "FRA",
          "ITA",
          "JPN",
          "ITA",
          "DEU",
          "NZL",
          "AUS",
          "CHN",
          "USA",
          "USA",
          "GBR",
          "IND",
          "CHN",
          "PHL",
          "DEU",
          "USA",
          "AUT",
          "USA",
          "USA",
          "ITA",
          "USA",
          "DEU",
          "ESP",
          "FIN",
          "USA",
          "USA",
          "SGP",
          "CHE",
          "MYS",
          "ITA",
          "CHN",
          "CHN",
          "SWE",
          "LKA",
          "ITA",
          "USA",
          "DEU",
          "GBR",
          "GBR",
          "USA",
          "USA",
          "GBR",
          "DEU",
          "USA",
          "USA",
          "DEU",
          "USA",
          "MDG",
          "USA",
          "USA",
          "AUS",
          "USA",
          "JPN",
          "DEU",
          "USA",
          "CAN",
          "USA",
          "USA",
          "GBR",
          "USA",
          "CHN",
          "DEU",
          "USA",
          "CAN",
          "USA",
          "USA",
          "USA",
          "USA",
          "USA",
          "GBR",
          "USA",
          "USA",
          "GBR",
          "DEU",
          "ISR",
          "USA",
          "DEU",
          "USA",
          "JPN",
          "FRA",
          "CHE",
          "CHN",
          "BEL",
          "KOR",
          "BEL",
          "FIN",
          "USA",
          "USA",
          "NLD",
          "KOR",
          "ESP",
          "DEU",
          "FRA",
          "CHN",
          "JPN",
          "DEU",
          "CHN",
          "DEU",
          "USA",
          "FRA",
          "GBR",
          "CAN",
          "IND",
          "ISR",
          "CHN",
          "GBR",
          "IND",
          "USA",
          "NLD",
          "USA",
          "CHN",
          "USA",
          "CAN",
          "USA",
          "GBR",
          "ESP",
          "USA",
          "USA",
          "USA",
          "USA",
          "KOR",
          "CAN",
          "USA",
          "FIN",
          "JPN",
          "USA",
          "USA",
          "USA",
          "DEU",
          "AUS",
          "USA",
          "CHE",
          "CHN",
          "CHN",
          "USA",
          "BEL",
          "USA",
          "NLD",
          "ITA",
          "FRA",
          "USA",
          "JPN",
          "NLD",
          "USA",
          "DEU",
          "DEU",
          "VNM",
          "DEU",
          "GBR",
          "USA",
          "TUR",
          "CHN",
          "JPN",
          "IND",
          "USA",
          "NLD",
          "DEU",
          "CHE",
          "USA",
          "ESP",
          "ESP",
          "ESP",
          "CAN",
          "PRT",
          "USA",
          "FRA",
          "USA",
          "USA",
          "CHN",
          "USA",
          "USA",
          "USA",
          "GRC",
          "USA",
          "CHE",
          "USA",
          "DEU",
          "AUS",
          "USA",
          "DEU",
          "USA",
          "USA",
          "PRT",
          "KOR",
          "GBR",
          "IND",
          "CHN",
          "USA",
          "FRA",
          "DNK",
          "USA",
          "USA",
          "USA",
          "IND",
          "CAN",
          "USA",
          "CHN",
          "USA",
          "CHN",
          "DEU",
          "TUR",
          "GRC",
          "NOR",
          "USA",
          "AUT",
          "HUN",
          "ZAF",
          "BEL",
          "SGP",
          "RUS",
          "LUX",
          "MEX",
          "DEU",
          "IND",
          "CHN",
          "USA",
          "JPN",
          "USA",
          "JPN",
          "SGP",
          "CHN",
          "USA",
          "USA",
          "ESP",
          "JPN",
          "USA",
          "GBR",
          "USA",
          "CHN",
          "USA",
          "FRA",
          "DEU",
          "TUR",
          "USA",
          "USA",
          "USA",
          "USA",
          "NZL",
          "USA",
          "CHE",
          "FRA",
          "FRA",
          "DNK",
          "FRA",
          "ZAF",
          "USA",
          "CAN",
          "CHE",
          "USA",
          "USA",
          "BEL",
          "USA",
          "FRA",
          "AUS",
          "CAN",
          "USA",
          "CHN",
          "DNK",
          "USA",
          "USA",
          "USA",
          "USA",
          "CHN",
          "CHN",
          "USA",
          "SVN",
          "USA",
          "USA",
          "ISR",
          "DEU",
          "USA",
          "USA",
          "USA",
          "USA",
          "MAR",
          "USA",
          "DEU",
          "MYS",
          "CHN",
          "USA",
          "USA",
          "TZA",
          "GBR",
          "USA",
          "HND",
          "PER",
          "DEU",
          "USA",
          "IRL",
          "USA",
          "JPN",
          "DEU",
          "KOR",
          "DNK",
          "JPN",
          "ITA",
          "ISR",
          "CHE",
          "CHN",
          "USA",
          "GBR",
          "FRA",
          "NOR",
          "LTU",
          "CHN",
          "ESP",
          "GBR",
          "NOR",
          "KOR",
          "ESP",
          "CHN",
          "USA",
          "EST",
          "USA",
          "CHN",
          "BEL",
          "USA",
          "AUS",
          "USA",
          "CZE",
          "CHN",
          "USA",
          "USA",
          "USA",
          "SWE",
          "ITA",
          "USA",
          "USA",
          "FRA",
          "USA",
          "CAN",
          "USA",
          "USA",
          "USA",
          "DEU",
          "NZL",
          "AUT",
          "USA",
          "USA",
          "NGA",
          "TWN",
          "USA",
          "USA",
          "SGP",
          "USA",
          "DEU",
          "IND",
          "USA",
          "GBR",
          "NLD",
          "CHE",
          "ESP",
          "USA",
          "USA",
          "AUT",
          "SGP",
          "CAN",
          "USA",
          "DEU",
          "DEU",
          "USA",
          "CHN",
          "JPN",
          "USA",
          "CAN",
          "USA",
          "ITA",
          "USA",
          "TWN",
          "CHN",
          "USA",
          "USA",
          "USA",
          "USA",
          "ESP",
          "USA",
          "USA",
          "NLD",
          "CHN",
          "FRA",
          "NOR",
          "USA",
          "USA",
          "USA",
          "TWN",
          "CHN",
          "JPN",
          "USA",
          "FRA",
          "TUR",
          "USA",
          "USA",
          "GBR",
          "AUS",
          "NLD",
          "FRA",
          "FRA",
          "DEU",
          "BEL",
          "SWE",
          "GBR",
          "USA",
          "USA",
          "JPN",
          "AUT",
          "USA"
         ],
         "name": "",
         "type": "choropleth",
         "z": [
          4,
          20,
          4,
          43,
          65,
          7,
          26,
          17,
          1,
          5,
          6,
          8,
          25,
          13,
          14,
          11,
          1,
          16,
          2,
          1,
          1,
          1,
          13,
          2,
          14,
          1,
          1,
          5,
          3,
          3,
          1,
          1,
          2,
          6,
          1,
          1,
          10,
          9,
          2,
          1,
          1,
          10,
          1,
          2,
          1,
          1,
          1,
          1,
          1,
          1,
          2,
          2,
          3,
          5,
          4,
          2,
          3,
          6,
          1,
          1,
          2,
          1,
          3,
          3,
          2,
          1,
          1,
          1,
          1,
          1,
          1,
          3,
          2,
          6,
          2,
          1,
          2,
          1,
          2,
          2,
          2,
          1,
          1,
          1,
          2,
          1,
          1,
          1,
          1,
          1,
          1,
          1,
          1,
          1,
          1,
          1,
          23,
          26,
          1,
          51,
          1,
          2,
          2,
          14,
          11,
          33,
          1,
          4,
          4,
          3,
          1,
          4,
          3,
          12,
          9,
          12,
          4,
          2,
          2,
          2,
          2,
          6,
          11,
          2,
          4,
          5,
          2,
          12,
          20,
          2,
          4,
          24,
          1,
          1,
          2,
          3,
          1,
          1,
          1,
          2,
          8,
          4,
          1,
          1,
          4,
          1,
          2,
          2,
          1,
          2,
          1,
          1,
          1,
          1,
          1,
          2,
          1,
          1,
          2,
          3,
          1,
          1,
          4,
          2,
          1,
          1,
          2,
          2,
          1,
          1,
          1,
          1,
          1,
          2,
          1,
          1,
          1,
          1,
          1,
          1,
          1,
          2,
          3,
          1,
          57,
          1,
          44,
          37,
          1,
          24,
          10,
          79,
          2,
          41,
          13,
          7,
          17,
          6,
          7,
          1,
          8,
          6,
          1,
          1,
          9,
          7,
          4,
          2,
          9,
          1,
          4,
          2,
          4,
          4,
          2,
          6,
          1,
          6,
          3,
          7,
          3,
          1,
          1,
          1,
          1,
          1,
          1,
          1,
          2,
          1,
          1,
          5,
          2,
          1,
          1,
          1,
          1,
          3,
          2,
          2,
          1,
          1,
          2,
          2,
          1,
          1,
          1,
          3,
          1,
          2,
          1,
          1,
          1,
          1,
          1,
          1,
          1,
          1,
          1,
          1,
          1,
          2,
          1,
          1,
          1,
          108,
          23,
          69,
          16,
          25,
          27,
          1,
          1,
          6,
          2,
          26,
          1,
          87,
          54,
          21,
          38,
          13,
          6,
          24,
          1,
          7,
          19,
          2,
          6,
          1,
          2,
          10,
          6,
          8,
          2,
          2,
          17,
          1,
          1,
          9,
          1,
          18,
          1,
          3,
          1,
          10,
          3,
          6,
          6,
          1,
          6,
          2,
          1,
          2,
          5,
          1,
          1,
          3,
          1,
          1,
          1,
          1,
          1,
          1,
          2,
          1,
          5,
          6,
          2,
          1,
          1,
          2,
          1,
          1,
          1,
          1,
          1,
          1,
          1,
          1,
          1,
          1,
          1,
          2,
          2,
          1,
          1,
          4,
          1,
          1,
          1,
          1,
          1,
          1,
          1,
          1,
          2,
          1,
          1,
          2,
          1,
          1,
          1,
          1,
          17,
          87,
          175,
          20,
          61,
          51,
          27,
          58,
          14,
          6,
          37,
          39,
          3,
          3,
          1,
          4,
          2,
          25,
          5,
          3,
          68,
          10,
          26,
          1,
          1,
          13,
          2,
          2,
          9,
          6,
          20,
          11,
          2,
          8,
          4,
          1,
          2,
          5,
          20,
          4,
          2,
          6,
          2,
          1,
          2,
          7,
          4,
          2,
          1,
          3,
          4,
          3,
          1,
          1,
          2,
          1,
          1,
          14,
          1,
          2,
          1,
          1,
          1,
          1,
          3,
          1,
          1,
          2,
          1,
          1,
          1,
          1,
          1,
          1,
          1,
          3,
          1,
          2,
          1,
          1,
          1,
          1,
          1,
          1,
          3,
          1,
          1,
          2,
          3,
          1,
          1,
          1,
          1,
          1,
          1,
          2,
          1,
          1,
          1,
          1,
          1,
          1,
          1,
          1,
          1,
          1,
          1,
          1,
          1,
          1,
          1,
          39,
          67,
          2,
          3,
          6,
          75,
          36,
          1,
          170,
          10,
          14,
          1,
          52,
          6,
          23,
          1,
          1,
          1,
          1,
          6,
          2,
          2,
          16,
          1,
          13,
          2,
          1,
          2,
          1,
          13,
          3,
          4,
          5,
          2,
          1,
          1,
          1,
          3,
          3,
          3,
          10,
          5,
          4,
          1,
          2,
          1,
          1,
          5,
          5,
          2,
          1,
          1,
          1,
          1,
          1,
          1,
          1,
          2,
          1,
          1,
          2,
          1,
          1,
          5,
          2,
          2,
          1,
          2,
          1,
          1,
          1,
          2,
          2,
          1,
          1,
          1,
          1,
          2,
          2,
          1,
          1,
          1,
          1,
          1,
          4,
          99,
          110,
          10,
          4,
          4,
          3,
          1,
          5,
          30,
          1,
          2,
          15,
          16,
          5,
          3,
          1,
          17,
          14,
          37,
          20,
          6,
          3,
          20,
          18,
          26,
          50,
          7,
          1,
          25,
          20,
          1,
          4,
          2,
          7,
          1,
          1,
          2,
          2,
          3,
          4,
          9,
          3,
          3,
          1,
          3,
          1,
          2,
          5,
          7,
          1,
          2,
          1,
          2,
          1,
          1,
          1,
          3,
          2,
          2,
          2,
          2,
          1,
          1,
          1,
          1,
          2,
          1,
          1,
          1,
          2,
          3,
          1,
          1,
          1,
          2,
          1,
          2,
          1,
          1,
          1,
          2,
          1,
          1,
          1,
          1,
          1,
          1,
          1,
          1,
          1,
          1,
          1,
          1,
          1,
          1,
          1,
          265,
          8,
          7,
          42,
          99,
          13,
          5,
          75,
          4,
          22,
          15,
          1,
          14,
          1,
          1,
          3,
          5,
          24,
          7,
          8,
          1,
          4,
          4,
          3,
          1,
          7,
          15,
          11,
          1,
          4,
          2,
          2,
          3,
          6,
          1,
          5,
          4,
          1,
          3,
          1,
          1,
          1,
          1,
          4,
          1,
          2,
          2,
          6,
          1,
          6,
          4,
          1,
          1,
          1,
          1,
          2,
          4,
          6,
          1,
          1,
          1,
          2,
          2,
          1,
          1,
          1,
          6,
          1,
          1,
          1,
          1,
          2,
          2,
          6,
          1,
          1,
          4,
          2,
          1,
          1,
          1,
          1,
          1,
          1,
          1,
          1,
          1,
          1,
          1,
          1,
          2,
          3,
          2,
          1,
          1,
          1,
          1,
          1,
          1,
          1,
          1,
          1,
          1,
          5,
          95,
          11,
          74,
          61,
          7,
          1,
          2,
          3,
          7,
          3,
          1,
          1,
          5,
          16,
          2,
          1,
          7,
          1,
          1,
          1,
          4,
          1,
          2,
          1,
          15,
          16,
          3,
          3,
          2,
          4,
          4,
          2,
          5,
          1,
          5,
          1,
          3,
          13,
          3,
          16,
          21,
          9,
          3,
          1,
          3,
          2,
          2,
          1,
          5,
          8,
          3,
          5,
          2,
          7,
          1,
          1,
          3,
          4,
          3,
          1,
          1,
          1,
          1,
          3,
          2,
          1,
          2,
          1,
          3,
          2,
          1,
          1,
          2,
          2,
          2,
          2,
          1,
          1,
          1,
          3,
          2,
          1,
          1,
          1,
          1,
          1,
          1,
          2,
          1,
          1,
          1,
          1,
          1,
          1,
          16,
          26,
          55,
          6,
          23,
          3,
          33,
          46,
          33,
          42,
          9,
          9,
          1,
          4,
          8,
          2,
          2,
          2,
          16,
          7,
          1,
          7,
          33,
          1,
          6,
          5,
          17,
          24,
          5,
          10,
          2,
          2,
          1,
          8,
          10,
          1,
          8,
          2,
          1,
          7,
          1,
          3,
          1,
          6,
          1,
          1,
          1,
          1,
          2,
          3,
          4,
          10,
          14,
          4,
          1,
          4,
          1,
          7,
          1,
          1,
          9,
          1,
          4,
          5,
          3,
          1,
          1,
          1,
          1,
          2,
          1,
          1,
          5,
          1,
          1,
          2,
          1,
          1,
          1,
          1,
          1,
          1,
          1,
          1,
          1,
          1,
          2,
          2,
          1,
          1,
          1,
          1,
          1,
          1,
          1,
          1,
          1,
          1,
          1,
          1,
          80,
          18,
          92,
          28,
          45,
          16,
          104,
          10,
          8,
          15,
          15,
          23,
          6,
          10,
          12,
          8,
          1,
          4,
          13,
          11,
          1,
          2,
          6,
          3,
          2,
          1,
          2,
          1,
          2,
          1,
          9,
          1,
          1,
          4,
          6,
          2,
          4,
          2,
          2,
          1,
          3,
          2,
          1,
          1,
          1,
          1,
          1,
          1,
          1,
          1,
          2,
          1,
          1,
          1,
          1,
          1,
          2,
          1,
          1,
          1,
          2,
          2,
          1,
          1,
          1,
          1,
          1,
          42,
          5,
          20,
          24,
          8,
          5,
          7,
          1,
          3,
          7,
          22,
          31,
          3,
          86,
          1,
          12,
          6,
          17,
          23,
          3,
          8,
          10,
          16,
          6,
          4,
          1,
          1,
          1,
          7,
          3,
          21,
          1,
          1,
          4,
          4,
          8,
          3,
          1,
          3,
          1,
          1,
          1,
          1,
          2,
          1,
          3,
          2,
          12,
          11,
          1,
          12,
          2,
          1,
          3,
          1,
          1,
          4,
          2,
          1,
          1,
          8,
          1,
          1,
          4,
          1,
          1,
          1,
          1,
          5,
          1,
          3,
          1,
          3,
          1,
          1,
          1,
          1,
          1,
          2,
          1,
          1,
          1,
          1,
          1,
          1,
          1,
          1,
          1,
          1,
          1,
          3,
          2,
          24,
          17,
          18,
          50,
          60,
          1,
          26,
          2,
          7,
          16,
          11,
          1,
          2,
          5,
          10,
          3,
          4,
          2,
          1,
          5,
          2,
          1,
          6,
          1,
          1,
          3,
          7,
          11,
          5,
          5,
          1,
          1,
          6,
          1,
          3,
          1,
          6,
          2,
          3,
          1,
          1,
          1,
          1,
          2,
          2,
          1,
          4,
          2,
          3,
          2,
          1,
          1,
          2,
          1,
          2,
          1,
          3,
          5,
          3,
          3,
          1,
          1,
          1,
          1,
          2,
          1,
          1,
          1,
          2,
          3,
          1,
          3,
          4,
          1,
          3,
          1,
          1,
          1,
          1,
          1,
          1,
          1,
          1,
          1,
          2,
          1,
          1,
          1,
          1,
          1,
          1,
          1,
          1,
          1,
          1,
          1,
          1,
          1,
          1,
          1,
          1,
          18,
          227,
          211,
          7,
          22,
          7,
          12,
          1,
          3,
          76,
          10,
          14,
          1,
          16,
          38,
          18,
          9,
          11,
          17,
          15,
          2,
          4,
          6,
          3,
          9,
          5,
          2,
          8,
          8,
          2,
          2,
          5,
          2,
          1,
          3,
          1,
          5,
          1,
          1,
          2,
          1,
          1,
          2,
          3,
          1,
          1,
          11,
          1,
          1,
          4,
          3,
          4,
          7,
          1,
          1,
          6,
          1,
          3,
          1,
          4,
          3,
          2,
          5,
          4,
          1,
          2,
          3,
          5,
          2,
          1,
          1,
          1,
          1,
          3,
          1,
          1,
          2,
          1,
          4,
          1,
          1,
          2,
          1,
          1,
          1,
          1,
          1,
          1,
          2,
          1,
          2,
          1,
          1,
          2,
          1,
          2,
          1,
          1,
          1,
          1,
          1,
          1,
          1,
          3,
          1,
          1,
          1,
          1,
          2,
          1,
          1,
          1,
          1,
          9,
          28,
          1,
          12,
          6,
          4,
          9,
          1,
          32,
          2,
          1,
          4,
          3,
          1,
          10,
          12,
          10,
          1,
          4,
          1,
          4,
          3,
          18,
          1,
          7,
          1,
          2,
          1,
          1,
          2,
          1,
          1,
          1,
          9,
          19,
          18,
          1,
          4,
          1,
          2,
          2,
          3,
          2,
          1,
          1,
          6,
          1,
          2,
          5,
          1,
          1,
          1,
          1,
          1,
          1,
          5,
          1,
          1,
          3,
          1,
          3,
          1,
          5,
          2,
          6,
          3,
          2,
          1,
          1,
          2,
          2,
          4,
          3,
          1,
          1,
          1,
          1,
          1,
          1,
          1,
          1,
          1,
          1,
          1,
          1,
          1,
          1,
          1,
          1,
          1,
          1,
          1,
          1,
          4,
          113,
          27,
          57,
          22,
          32,
          9,
          9,
          2,
          5,
          8,
          1,
          4,
          3,
          10,
          22,
          6,
          10,
          5,
          2,
          3,
          35,
          1,
          39,
          9,
          7,
          1,
          6,
          9,
          9,
          9,
          3,
          4,
          3,
          11,
          2,
          11,
          9,
          3,
          2,
          2,
          6,
          1,
          1,
          1,
          3,
          5,
          3,
          2,
          1,
          8,
          11,
          2,
          5,
          5,
          5,
          1,
          4,
          1,
          1,
          1,
          2,
          1,
          1,
          1,
          1,
          2,
          2,
          1,
          1,
          1,
          1,
          1,
          1,
          1,
          1,
          1,
          5,
          2,
          2,
          3,
          1,
          1,
          1,
          1,
          1,
          12,
          8,
          3,
          15,
          12,
          16,
          11,
          29,
          374,
          82,
          9,
          3,
          1,
          19,
          35,
          3,
          6,
          12,
          2,
          29,
          4,
          6,
          19,
          5,
          2,
          3,
          1,
          2,
          2,
          1,
          1,
          2,
          4,
          1,
          16,
          11,
          8,
          12,
          2,
          6,
          3,
          2,
          7,
          1,
          3,
          5,
          5,
          7,
          1,
          2,
          1,
          1,
          1,
          2,
          8,
          3,
          2,
          1,
          4,
          2,
          2,
          3,
          4,
          2,
          2,
          2,
          2,
          1,
          1,
          3,
          2,
          1,
          1,
          1,
          2,
          2,
          1,
          1,
          2,
          3,
          1,
          12,
          1,
          3,
          4,
          4,
          1,
          2,
          1,
          1,
          1,
          1,
          1,
          3,
          3,
          1,
          1,
          1,
          1,
          2,
          1,
          1,
          1,
          1,
          1,
          1,
          1,
          1,
          1,
          1,
          1,
          4,
          1,
          10,
          357,
          168,
          30,
          56,
          1,
          4,
          66,
          9,
          2,
          1,
          35,
          6,
          11,
          2,
          14,
          1,
          15,
          2,
          1,
          1,
          10,
          11,
          32,
          8,
          1,
          17,
          4,
          17,
          14,
          15,
          2,
          12,
          3,
          1,
          3,
          1,
          4,
          1,
          1,
          1,
          4,
          1,
          1,
          2,
          1,
          1,
          3,
          3,
          4,
          1,
          1,
          3,
          1,
          1,
          1,
          1,
          2,
          8,
          1,
          1,
          1,
          1,
          1,
          3,
          1,
          1,
          1,
          1,
          2,
          1,
          1,
          1,
          1,
          1,
          1,
          1,
          1,
          1,
          1,
          1,
          1,
          1,
          1,
          45,
          60,
          9,
          9,
          32,
          89,
          1,
          1,
          31,
          18,
          13,
          5,
          1,
          10,
          23,
          3,
          14,
          10,
          14,
          4,
          1,
          19,
          2,
          4,
          2,
          2,
          2,
          13,
          4,
          1,
          2,
          1,
          1,
          10,
          5,
          7,
          8,
          1,
          2,
          1,
          11,
          10,
          2,
          2,
          1,
          1,
          1,
          1,
          1,
          1,
          1,
          5,
          1,
          1,
          10,
          2,
          3,
          1,
          1,
          1,
          1,
          1,
          1,
          1,
          1,
          3,
          3,
          1,
          1,
          2,
          1,
          2,
          2,
          1,
          1,
          1,
          1,
          1,
          1,
          1,
          1,
          3,
          1,
          2,
          1,
          1,
          1,
          1,
          1,
          1,
          1,
          1,
          1,
          1,
          1,
          1,
          1,
          1,
          5,
          24,
          26,
          10,
          10,
          24,
          5,
          33,
          2,
          2,
          18,
          17,
          29,
          2,
          36,
          24,
          4,
          1,
          7,
          1,
          4,
          5,
          7,
          5,
          1,
          4,
          16,
          3,
          6,
          2,
          7,
          7,
          4,
          1,
          12,
          2,
          1,
          2,
          2,
          1,
          3,
          1,
          2,
          1,
          6,
          2,
          1,
          7,
          1,
          3,
          2,
          2,
          2,
          1,
          2,
          1,
          2,
          1,
          1,
          3,
          3,
          1,
          2,
          1,
          1,
          1,
          3,
          2,
          2,
          1,
          1,
          2,
          2,
          1,
          1,
          1,
          2,
          1,
          1,
          1,
          1,
          1,
          1,
          1,
          1,
          1,
          1,
          1,
          1,
          2,
          1,
          1,
          33,
          22,
          20,
          2,
          9,
          18,
          46,
          49,
          16,
          7,
          1,
          1,
          30,
          3,
          16,
          6,
          7,
          6,
          7,
          1,
          17,
          9,
          3,
          1,
          1,
          8,
          3,
          8,
          5,
          1,
          3,
          2,
          20,
          6,
          3,
          2,
          2,
          1,
          2,
          6,
          2,
          2,
          1,
          1,
          1,
          2,
          7,
          1,
          1,
          1,
          1,
          1,
          1,
          2,
          1,
          1,
          1,
          2,
          1,
          1,
          1,
          2,
          1,
          1,
          2,
          1,
          3,
          1,
          1,
          1,
          1,
          3,
          1,
          1,
          1,
          2,
          1,
          1,
          1,
          1,
          1,
          1,
          1,
          1,
          1,
          1,
          1,
          1,
          1,
          1
         ]
        }
       ],
       "layout": {
        "coloraxis": {
         "colorbar": {
          "title": {
           "text": "people"
          }
         },
         "colorscale": [
          [
           0,
           "rgb(247,251,255)"
          ],
          [
           0.125,
           "rgb(222,235,247)"
          ],
          [
           0.25,
           "rgb(198,219,239)"
          ],
          [
           0.375,
           "rgb(158,202,225)"
          ],
          [
           0.5,
           "rgb(107,174,214)"
          ],
          [
           0.625,
           "rgb(66,146,198)"
          ],
          [
           0.75,
           "rgb(33,113,181)"
          ],
          [
           0.875,
           "rgb(8,81,156)"
          ],
          [
           1,
           "rgb(8,48,107)"
          ]
         ]
        },
        "geo": {
         "center": {},
         "domain": {
          "x": [
           0,
           1
          ],
          "y": [
           0,
           1
          ]
         }
        },
        "legend": {
         "tracegroupgap": 0
        },
        "margin": {
         "t": 60
        },
        "template": {
         "data": {
          "bar": [
           {
            "error_x": {
             "color": "#2a3f5f"
            },
            "error_y": {
             "color": "#2a3f5f"
            },
            "marker": {
             "line": {
              "color": "#E5ECF6",
              "width": 0.5
             }
            },
            "type": "bar"
           }
          ],
          "barpolar": [
           {
            "marker": {
             "line": {
              "color": "#E5ECF6",
              "width": 0.5
             }
            },
            "type": "barpolar"
           }
          ],
          "carpet": [
           {
            "aaxis": {
             "endlinecolor": "#2a3f5f",
             "gridcolor": "white",
             "linecolor": "white",
             "minorgridcolor": "white",
             "startlinecolor": "#2a3f5f"
            },
            "baxis": {
             "endlinecolor": "#2a3f5f",
             "gridcolor": "white",
             "linecolor": "white",
             "minorgridcolor": "white",
             "startlinecolor": "#2a3f5f"
            },
            "type": "carpet"
           }
          ],
          "choropleth": [
           {
            "colorbar": {
             "outlinewidth": 0,
             "ticks": ""
            },
            "type": "choropleth"
           }
          ],
          "contour": [
           {
            "colorbar": {
             "outlinewidth": 0,
             "ticks": ""
            },
            "colorscale": [
             [
              0,
              "#0d0887"
             ],
             [
              0.1111111111111111,
              "#46039f"
             ],
             [
              0.2222222222222222,
              "#7201a8"
             ],
             [
              0.3333333333333333,
              "#9c179e"
             ],
             [
              0.4444444444444444,
              "#bd3786"
             ],
             [
              0.5555555555555556,
              "#d8576b"
             ],
             [
              0.6666666666666666,
              "#ed7953"
             ],
             [
              0.7777777777777778,
              "#fb9f3a"
             ],
             [
              0.8888888888888888,
              "#fdca26"
             ],
             [
              1,
              "#f0f921"
             ]
            ],
            "type": "contour"
           }
          ],
          "contourcarpet": [
           {
            "colorbar": {
             "outlinewidth": 0,
             "ticks": ""
            },
            "type": "contourcarpet"
           }
          ],
          "heatmap": [
           {
            "colorbar": {
             "outlinewidth": 0,
             "ticks": ""
            },
            "colorscale": [
             [
              0,
              "#0d0887"
             ],
             [
              0.1111111111111111,
              "#46039f"
             ],
             [
              0.2222222222222222,
              "#7201a8"
             ],
             [
              0.3333333333333333,
              "#9c179e"
             ],
             [
              0.4444444444444444,
              "#bd3786"
             ],
             [
              0.5555555555555556,
              "#d8576b"
             ],
             [
              0.6666666666666666,
              "#ed7953"
             ],
             [
              0.7777777777777778,
              "#fb9f3a"
             ],
             [
              0.8888888888888888,
              "#fdca26"
             ],
             [
              1,
              "#f0f921"
             ]
            ],
            "type": "heatmap"
           }
          ],
          "heatmapgl": [
           {
            "colorbar": {
             "outlinewidth": 0,
             "ticks": ""
            },
            "colorscale": [
             [
              0,
              "#0d0887"
             ],
             [
              0.1111111111111111,
              "#46039f"
             ],
             [
              0.2222222222222222,
              "#7201a8"
             ],
             [
              0.3333333333333333,
              "#9c179e"
             ],
             [
              0.4444444444444444,
              "#bd3786"
             ],
             [
              0.5555555555555556,
              "#d8576b"
             ],
             [
              0.6666666666666666,
              "#ed7953"
             ],
             [
              0.7777777777777778,
              "#fb9f3a"
             ],
             [
              0.8888888888888888,
              "#fdca26"
             ],
             [
              1,
              "#f0f921"
             ]
            ],
            "type": "heatmapgl"
           }
          ],
          "histogram": [
           {
            "marker": {
             "colorbar": {
              "outlinewidth": 0,
              "ticks": ""
             }
            },
            "type": "histogram"
           }
          ],
          "histogram2d": [
           {
            "colorbar": {
             "outlinewidth": 0,
             "ticks": ""
            },
            "colorscale": [
             [
              0,
              "#0d0887"
             ],
             [
              0.1111111111111111,
              "#46039f"
             ],
             [
              0.2222222222222222,
              "#7201a8"
             ],
             [
              0.3333333333333333,
              "#9c179e"
             ],
             [
              0.4444444444444444,
              "#bd3786"
             ],
             [
              0.5555555555555556,
              "#d8576b"
             ],
             [
              0.6666666666666666,
              "#ed7953"
             ],
             [
              0.7777777777777778,
              "#fb9f3a"
             ],
             [
              0.8888888888888888,
              "#fdca26"
             ],
             [
              1,
              "#f0f921"
             ]
            ],
            "type": "histogram2d"
           }
          ],
          "histogram2dcontour": [
           {
            "colorbar": {
             "outlinewidth": 0,
             "ticks": ""
            },
            "colorscale": [
             [
              0,
              "#0d0887"
             ],
             [
              0.1111111111111111,
              "#46039f"
             ],
             [
              0.2222222222222222,
              "#7201a8"
             ],
             [
              0.3333333333333333,
              "#9c179e"
             ],
             [
              0.4444444444444444,
              "#bd3786"
             ],
             [
              0.5555555555555556,
              "#d8576b"
             ],
             [
              0.6666666666666666,
              "#ed7953"
             ],
             [
              0.7777777777777778,
              "#fb9f3a"
             ],
             [
              0.8888888888888888,
              "#fdca26"
             ],
             [
              1,
              "#f0f921"
             ]
            ],
            "type": "histogram2dcontour"
           }
          ],
          "mesh3d": [
           {
            "colorbar": {
             "outlinewidth": 0,
             "ticks": ""
            },
            "type": "mesh3d"
           }
          ],
          "parcoords": [
           {
            "line": {
             "colorbar": {
              "outlinewidth": 0,
              "ticks": ""
             }
            },
            "type": "parcoords"
           }
          ],
          "pie": [
           {
            "automargin": true,
            "type": "pie"
           }
          ],
          "scatter": [
           {
            "marker": {
             "colorbar": {
              "outlinewidth": 0,
              "ticks": ""
             }
            },
            "type": "scatter"
           }
          ],
          "scatter3d": [
           {
            "line": {
             "colorbar": {
              "outlinewidth": 0,
              "ticks": ""
             }
            },
            "marker": {
             "colorbar": {
              "outlinewidth": 0,
              "ticks": ""
             }
            },
            "type": "scatter3d"
           }
          ],
          "scattercarpet": [
           {
            "marker": {
             "colorbar": {
              "outlinewidth": 0,
              "ticks": ""
             }
            },
            "type": "scattercarpet"
           }
          ],
          "scattergeo": [
           {
            "marker": {
             "colorbar": {
              "outlinewidth": 0,
              "ticks": ""
             }
            },
            "type": "scattergeo"
           }
          ],
          "scattergl": [
           {
            "marker": {
             "colorbar": {
              "outlinewidth": 0,
              "ticks": ""
             }
            },
            "type": "scattergl"
           }
          ],
          "scattermapbox": [
           {
            "marker": {
             "colorbar": {
              "outlinewidth": 0,
              "ticks": ""
             }
            },
            "type": "scattermapbox"
           }
          ],
          "scatterpolar": [
           {
            "marker": {
             "colorbar": {
              "outlinewidth": 0,
              "ticks": ""
             }
            },
            "type": "scatterpolar"
           }
          ],
          "scatterpolargl": [
           {
            "marker": {
             "colorbar": {
              "outlinewidth": 0,
              "ticks": ""
             }
            },
            "type": "scatterpolargl"
           }
          ],
          "scatterternary": [
           {
            "marker": {
             "colorbar": {
              "outlinewidth": 0,
              "ticks": ""
             }
            },
            "type": "scatterternary"
           }
          ],
          "surface": [
           {
            "colorbar": {
             "outlinewidth": 0,
             "ticks": ""
            },
            "colorscale": [
             [
              0,
              "#0d0887"
             ],
             [
              0.1111111111111111,
              "#46039f"
             ],
             [
              0.2222222222222222,
              "#7201a8"
             ],
             [
              0.3333333333333333,
              "#9c179e"
             ],
             [
              0.4444444444444444,
              "#bd3786"
             ],
             [
              0.5555555555555556,
              "#d8576b"
             ],
             [
              0.6666666666666666,
              "#ed7953"
             ],
             [
              0.7777777777777778,
              "#fb9f3a"
             ],
             [
              0.8888888888888888,
              "#fdca26"
             ],
             [
              1,
              "#f0f921"
             ]
            ],
            "type": "surface"
           }
          ],
          "table": [
           {
            "cells": {
             "fill": {
              "color": "#EBF0F8"
             },
             "line": {
              "color": "white"
             }
            },
            "header": {
             "fill": {
              "color": "#C8D4E3"
             },
             "line": {
              "color": "white"
             }
            },
            "type": "table"
           }
          ]
         },
         "layout": {
          "annotationdefaults": {
           "arrowcolor": "#2a3f5f",
           "arrowhead": 0,
           "arrowwidth": 1
          },
          "autotypenumbers": "strict",
          "coloraxis": {
           "colorbar": {
            "outlinewidth": 0,
            "ticks": ""
           }
          },
          "colorscale": {
           "diverging": [
            [
             0,
             "#8e0152"
            ],
            [
             0.1,
             "#c51b7d"
            ],
            [
             0.2,
             "#de77ae"
            ],
            [
             0.3,
             "#f1b6da"
            ],
            [
             0.4,
             "#fde0ef"
            ],
            [
             0.5,
             "#f7f7f7"
            ],
            [
             0.6,
             "#e6f5d0"
            ],
            [
             0.7,
             "#b8e186"
            ],
            [
             0.8,
             "#7fbc41"
            ],
            [
             0.9,
             "#4d9221"
            ],
            [
             1,
             "#276419"
            ]
           ],
           "sequential": [
            [
             0,
             "#0d0887"
            ],
            [
             0.1111111111111111,
             "#46039f"
            ],
            [
             0.2222222222222222,
             "#7201a8"
            ],
            [
             0.3333333333333333,
             "#9c179e"
            ],
            [
             0.4444444444444444,
             "#bd3786"
            ],
            [
             0.5555555555555556,
             "#d8576b"
            ],
            [
             0.6666666666666666,
             "#ed7953"
            ],
            [
             0.7777777777777778,
             "#fb9f3a"
            ],
            [
             0.8888888888888888,
             "#fdca26"
            ],
            [
             1,
             "#f0f921"
            ]
           ],
           "sequentialminus": [
            [
             0,
             "#0d0887"
            ],
            [
             0.1111111111111111,
             "#46039f"
            ],
            [
             0.2222222222222222,
             "#7201a8"
            ],
            [
             0.3333333333333333,
             "#9c179e"
            ],
            [
             0.4444444444444444,
             "#bd3786"
            ],
            [
             0.5555555555555556,
             "#d8576b"
            ],
            [
             0.6666666666666666,
             "#ed7953"
            ],
            [
             0.7777777777777778,
             "#fb9f3a"
            ],
            [
             0.8888888888888888,
             "#fdca26"
            ],
            [
             1,
             "#f0f921"
            ]
           ]
          },
          "colorway": [
           "#636efa",
           "#EF553B",
           "#00cc96",
           "#ab63fa",
           "#FFA15A",
           "#19d3f3",
           "#FF6692",
           "#B6E880",
           "#FF97FF",
           "#FECB52"
          ],
          "font": {
           "color": "#2a3f5f"
          },
          "geo": {
           "bgcolor": "white",
           "lakecolor": "white",
           "landcolor": "#E5ECF6",
           "showlakes": true,
           "showland": true,
           "subunitcolor": "white"
          },
          "hoverlabel": {
           "align": "left"
          },
          "hovermode": "closest",
          "mapbox": {
           "style": "light"
          },
          "paper_bgcolor": "white",
          "plot_bgcolor": "#E5ECF6",
          "polar": {
           "angularaxis": {
            "gridcolor": "white",
            "linecolor": "white",
            "ticks": ""
           },
           "bgcolor": "#E5ECF6",
           "radialaxis": {
            "gridcolor": "white",
            "linecolor": "white",
            "ticks": ""
           }
          },
          "scene": {
           "xaxis": {
            "backgroundcolor": "#E5ECF6",
            "gridcolor": "white",
            "gridwidth": 2,
            "linecolor": "white",
            "showbackground": true,
            "ticks": "",
            "zerolinecolor": "white"
           },
           "yaxis": {
            "backgroundcolor": "#E5ECF6",
            "gridcolor": "white",
            "gridwidth": 2,
            "linecolor": "white",
            "showbackground": true,
            "ticks": "",
            "zerolinecolor": "white"
           },
           "zaxis": {
            "backgroundcolor": "#E5ECF6",
            "gridcolor": "white",
            "gridwidth": 2,
            "linecolor": "white",
            "showbackground": true,
            "ticks": "",
            "zerolinecolor": "white"
           }
          },
          "shapedefaults": {
           "line": {
            "color": "#2a3f5f"
           }
          },
          "ternary": {
           "aaxis": {
            "gridcolor": "white",
            "linecolor": "white",
            "ticks": ""
           },
           "baxis": {
            "gridcolor": "white",
            "linecolor": "white",
            "ticks": ""
           },
           "bgcolor": "#E5ECF6",
           "caxis": {
            "gridcolor": "white",
            "linecolor": "white",
            "ticks": ""
           }
          },
          "title": {
           "x": 0.05
          },
          "xaxis": {
           "automargin": true,
           "gridcolor": "white",
           "linecolor": "white",
           "ticks": "",
           "title": {
            "standoff": 15
           },
           "zerolinecolor": "white",
           "zerolinewidth": 2
          },
          "yaxis": {
           "automargin": true,
           "gridcolor": "white",
           "linecolor": "white",
           "ticks": "",
           "title": {
            "standoff": 15
           },
           "zerolinecolor": "white",
           "zerolinewidth": 2
          }
         }
        }
       }
      }
     },
     "metadata": {}
    }
   ],
   "source": [
    "px.choropleth(df, locations=\"iso_alpha\",\n",
    "                    color=\"people\", \n",
    "                    hover_name=\"country\", \n",
    "                    color_continuous_scale=px.colors.sequential.Blues)"
   ]
  },
  {
   "cell_type": "code",
   "execution_count": 4,
   "metadata": {},
   "outputs": [
    {
     "output_type": "display_data",
     "data": {
      "application/vnd.plotly.v1+json": {
       "config": {
        "plotlyServerURL": "https://plot.ly"
       },
       "data": [
        {
         "customdata": [
          [
           "grid.7159.a",
           "Spain",
           "Alcalá de Henares"
          ],
          [
           "grid.428104.b",
           "Spain",
           "Logroño"
          ],
          [
           "grid.9224.d",
           "Spain",
           "Seville"
          ],
          [
           "grid.10863.3c",
           "Spain",
           "Oviedo"
          ],
          [
           "grid.4795.f",
           "Spain",
           "Madrid"
          ],
          [
           "grid.15043.33",
           "Spain",
           "Lleida"
          ],
          [
           "grid.5239.d",
           "Spain",
           "Valladolid"
          ],
          [
           "grid.5841.8",
           "Spain",
           "Barcelona"
          ],
          [
           "grid.489350.3",
           "Spain",
           "Seville"
          ],
          [
           "grid.429036.a",
           "Spain",
           "Madrid"
          ],
          [
           "grid.411083.f",
           "Spain",
           "Barcelona"
          ],
          [
           "grid.419051.8",
           "Spain",
           "Paterna"
          ],
          [
           "grid.5924.a",
           "Spain",
           "Pamplona"
          ],
          [
           "grid.411109.c",
           "Spain",
           "Seville"
          ],
          [
           "grid.452531.4",
           "Spain",
           "Salamanca"
          ],
          [
           "grid.507638.f",
           "Spain",
           "Valencia"
          ],
          [
           "grid.4711.3",
           "Spain",
           "Madrid"
          ],
          [
           "grid.5690.a",
           "Spain",
           "Madrid"
          ],
          [
           "grid.7821.c",
           "Spain",
           "Santander"
          ],
          [
           "grid.411901.c",
           "Spain",
           "Cordova"
          ],
          [
           "grid.10215.37",
           "Spain",
           "Málaga"
          ],
          [
           "grid.466857.e",
           "Spain",
           "Esporles"
          ],
          [
           "grid.428469.5",
           "Spain",
           "Madrid"
          ],
          [
           "grid.11480.3c",
           "Spain",
           "Leioa"
          ],
          [
           "grid.419276.f",
           "Spain",
           "Moncada"
          ],
          [
           "grid.425162.6",
           "Spain",
           "Cordova"
          ],
          [
           "grid.428865.5",
           "Spain",
           "Cordova"
          ],
          [
           "grid.507636.1",
           "Spain",
           "Barcelona"
          ],
          [
           "grid.7722.0",
           "Spain",
           "Barcelona"
          ],
          [
           "grid.11478.3b",
           "Spain",
           "Barcelona"
          ],
          [
           "grid.425902.8",
           "Spain",
           "Barcelona"
          ],
          [
           "grid.10097.3f",
           "Spain",
           "Barcelona"
          ],
          [
           "grid.418284.3",
           "Spain",
           "Barcelona"
          ],
          [
           "grid.432046.7",
           "Spain",
           "Valencia"
          ],
          [
           "grid.443875.9",
           "Spain",
           "Madrid"
          ],
          [
           "grid.8461.b",
           "Spain",
           "Madrid"
          ],
          [
           "grid.15449.3d",
           "Spain",
           "Seville"
          ],
          [
           "grid.10403.36",
           "Spain",
           "Barcelona"
          ],
          [
           "grid.430994.3",
           "Spain",
           "Barcelona"
          ],
          [
           "grid.5612.0",
           "Spain",
           "Barcelona"
          ],
          [
           "grid.418701.b",
           "Spain",
           "Barcelona"
          ],
          [
           "grid.26811.3c",
           "Spain",
           "Elche"
          ],
          [
           "grid.459872.5",
           "Spain",
           "Paterna"
          ]
         ],
         "geo": "geo",
         "hovertemplate": "<b>%{hovertext}</b><br><br>country=%{customdata[1]}<br>people=%{marker.size}<br>lat=%{lat}<br>long=%{lon}<br>gridid=%{customdata[0]}<br>city=%{customdata[2]}<extra></extra>",
         "hovertext": [
          "grid.7159.a",
          "grid.428104.b",
          "grid.9224.d",
          "grid.10863.3c",
          "grid.4795.f",
          "grid.15043.33",
          "grid.5239.d",
          "grid.5841.8",
          "grid.489350.3",
          "grid.429036.a",
          "grid.411083.f",
          "grid.419051.8",
          "grid.5924.a",
          "grid.411109.c",
          "grid.452531.4",
          "grid.507638.f",
          "grid.4711.3",
          "grid.5690.a",
          "grid.7821.c",
          "grid.411901.c",
          "grid.10215.37",
          "grid.466857.e",
          "grid.428469.5",
          "grid.11480.3c",
          "grid.419276.f",
          "grid.425162.6",
          "grid.428865.5",
          "grid.507636.1",
          "grid.7722.0",
          "grid.11478.3b",
          "grid.425902.8",
          "grid.10097.3f",
          "grid.418284.3",
          "grid.432046.7",
          "grid.443875.9",
          "grid.8461.b",
          "grid.15449.3d",
          "grid.10403.36",
          "grid.430994.3",
          "grid.5612.0",
          "grid.418701.b",
          "grid.26811.3c",
          "grid.459872.5"
         ],
         "lat": [
          40.48253631591797,
          42.45145034790039,
          37.381080627441406,
          43.36180114746094,
          40.447872161865234,
          41.6151123046875,
          41.65917205810547,
          41.38666534423828,
          37.39506149291992,
          40.44174575805664,
          41.42808151245117,
          39.514957427978516,
          42.801387786865234,
          37.36166763305664,
          40.96513748168945,
          39.514129638671875,
          40.595882415771484,
          40.44919967651367,
          43.472999572753906,
          37.88472366333008,
          36.720001220703125,
          39.66654586791992,
          40.544761657714844,
          43.33555603027344,
          39.58977508544922,
          37.8599739074707,
          37.86744689941406,
          41.385196685791016,
          41.38301086425781,
          41.385215759277344,
          41.3916130065918,
          41.389320373535156,
          41.34540557861328,
          39.51621627807617,
          40.44865036010742,
          40.443843841552734,
          37.35499954223633,
          41.389347076416016,
          41.4267463684082,
          41.39029312133789,
          42.02494812011719,
          38.275001525878906,
          39.51606369018555
         ],
         "legendgroup": "Spain",
         "lon": [
          -3.3611509799957275,
          -2.42520809173584,
          -5.991015911102295,
          -5.84630012512207,
          -3.7286300659179688,
          0.6200519800186157,
          -4.710278034210205,
          2.163888931274414,
          -6.0105719566345215,
          -3.6875669956207275,
          2.142277956008911,
          -0.4243659973144531,
          -1.6597219705581665,
          -5.980556011199951,
          -5.673121929168701,
          -0.425585001707077,
          -3.6881749629974365,
          -3.728100061416626,
          -3.8010001182556152,
          -4.788332939147949,
          -4.416110992431641,
          2.580873966217041,
          -3.690222978591919,
          -2.978332996368408,
          -0.39518898725509644,
          -4.7984490394592285,
          -4.797575950622559,
          2.1960620880126953,
          2.118083953857422,
          2.1940670013427734,
          2.174747943878174,
          2.1163249015808105,
          2.1102850437164307,
          -0.42306798696517944,
          -3.582042932510376,
          -3.7159969806671143,
          -5.938000202178955,
          2.1507139205932617,
          2.1414060592651367,
          2.1899259090423584,
          2.814352035522461,
          -0.6841670274734497,
          -0.4222649931907654
         ],
         "marker": {
          "color": "#636efa",
          "size": [
           1,
           1,
           1,
           2,
           5,
           3,
           1,
           4,
           2,
           1,
           3,
           1,
           3,
           1,
           1,
           1,
           1,
           3,
           1,
           2,
           2,
           1,
           5,
           2,
           6,
           1,
           1,
           1,
           10,
           29,
           2,
           7,
           1,
           1,
           1,
           1,
           1,
           6,
           1,
           9,
           1,
           1,
           1
          ],
          "sizemode": "area",
          "sizeref": 0.935,
          "symbol": "circle"
         },
         "mode": "markers",
         "name": "Spain",
         "showlegend": true,
         "type": "scattergeo"
        },
        {
         "customdata": [
          [
           "grid.7107.1",
           "United Kingdom",
           "Aberdeen"
          ],
          [
           "grid.416523.7",
           "United Kingdom",
           "Manchester"
          ],
          [
           "grid.11984.35",
           "United Kingdom",
           "Glasgow"
          ],
          [
           "grid.449973.4",
           "United Kingdom",
           "Cambridge"
          ],
          [
           "grid.507837.e",
           "United Kingdom",
           "Ilkeston"
          ],
          [
           "grid.420006.0",
           "United Kingdom",
           "Oxford"
          ],
          [
           "grid.413991.7",
           "United Kingdom",
           "Sheffield"
          ],
          [
           "grid.8186.7",
           "United Kingdom",
           "Aberystwyth"
          ],
          [
           "grid.462573.1",
           "United Kingdom",
           "Cambridge"
          ],
          [
           "grid.4827.9",
           "United Kingdom",
           "Swansea"
          ],
          [
           "grid.418707.d",
           "United Kingdom",
           "London"
          ],
          [
           "grid.4777.3",
           "United Kingdom",
           "Belfast"
          ],
          [
           "grid.6572.6",
           "United Kingdom",
           "Birmingham"
          ],
          [
           "grid.5337.2",
           "United Kingdom",
           "Bristol"
          ],
          [
           "grid.9909.9",
           "United Kingdom",
           "Leeds"
          ],
          [
           "grid.417899.a",
           "United Kingdom",
           "Newport"
          ],
          [
           "grid.18886.3f",
           "United Kingdom",
           "London"
          ],
          [
           "grid.7445.2",
           "United Kingdom",
           "London"
          ],
          [
           "grid.10025.36",
           "United Kingdom",
           "Liverpool"
          ],
          [
           "grid.4563.4",
           "United Kingdom",
           "Nottingham"
          ],
          [
           "grid.35937.3b",
           "United Kingdom",
           "London"
          ],
          [
           "grid.410415.5",
           "United Kingdom",
           "Oban"
          ],
          [
           "grid.8241.f",
           "United Kingdom",
           "Dundee"
          ],
          [
           "grid.5600.3",
           "United Kingdom",
           "Cardiff"
          ],
          [
           "grid.8756.c",
           "United Kingdom",
           "Glasgow"
          ],
          [
           "grid.7340.0",
           "United Kingdom",
           "Bath"
          ],
          [
           "grid.12082.39",
           "United Kingdom",
           "Brighton"
          ],
          [
           "grid.42475.30",
           "United Kingdom",
           "Cambridge"
          ],
          [
           "grid.7372.1",
           "United Kingdom",
           "Coventry"
          ],
          [
           "grid.8356.8",
           "United Kingdom",
           "Colchester"
          ],
          [
           "grid.9835.7",
           "United Kingdom",
           "Lancaster"
          ],
          [
           "grid.8273.e",
           "United Kingdom",
           "Norwich"
          ],
          [
           "grid.40368.39",
           "United Kingdom",
           "Norwich"
          ],
          [
           "grid.5475.3",
           "United Kingdom",
           "Guildford"
          ],
          [
           "grid.5685.e",
           "United Kingdom",
           "York"
          ],
          [
           "grid.28577.3f",
           "United Kingdom",
           "London"
          ],
          [
           "grid.14868.33",
           "United Kingdom",
           "London"
          ],
          [
           "grid.7728.a",
           "United Kingdom",
           "London"
          ],
          [
           "grid.12641.30",
           "United Kingdom",
           "Coleraine"
          ],
          [
           "grid.474202.7",
           "United Kingdom",
           "Bristol"
          ],
          [
           "grid.418195.0",
           "United Kingdom",
           "Cambridge"
          ],
          [
           "grid.415068.e",
           "United Kingdom",
           "Cambridge"
          ],
          [
           "grid.417687.b",
           "United Kingdom",
           "Abingdon"
          ],
          [
           "grid.9757.c",
           "United Kingdom",
           "Newcastle-under-Lyme"
          ],
          [
           "grid.17595.3f",
           "United Kingdom",
           "Cambridge"
          ],
          [
           "grid.14830.3e",
           "United Kingdom",
           "Norwich"
          ],
          [
           "grid.482685.5",
           "United Kingdom",
           "Dalkeith"
          ],
          [
           "grid.14105.31",
           "United Kingdom",
           "London"
          ],
          [
           "grid.7273.1",
           "United Kingdom",
           "Birmingham"
          ],
          [
           "grid.48004.38",
           "United Kingdom",
           "Liverpool"
          ],
          [
           "grid.8991.9",
           "United Kingdom",
           "London"
          ],
          [
           "grid.13063.37",
           "United Kingdom",
           "London"
          ],
          [
           "grid.5335.0",
           "United Kingdom",
           "Cambridge"
          ],
          [
           "grid.8391.3",
           "United Kingdom",
           "Exeter"
          ],
          [
           "grid.9918.9",
           "United Kingdom",
           "Leicester"
          ],
          [
           "grid.76978.37",
           "United Kingdom",
           "Didcot"
          ],
          [
           "grid.5491.9",
           "United Kingdom",
           "Southampton"
          ],
          [
           "grid.418566.8",
           "United Kingdom",
           "Tadworth"
          ],
          [
           "grid.415490.d",
           "United Kingdom",
           "Birmingham"
          ],
          [
           "grid.451388.3",
           "United Kingdom",
           "London"
          ],
          [
           "grid.271308.f",
           "United Kingdom",
           "London"
          ],
          [
           "grid.502751.4",
           "United Kingdom",
           "London"
          ],
          [
           "grid.426884.4",
           "United Kingdom",
           "Edinburgh"
          ],
          [
           "grid.301713.7",
           "United Kingdom",
           "Glasgow"
          ],
          [
           "grid.410658.e",
           "United Kingdom",
           "Pontypridd"
          ],
          [
           "grid.7628.b",
           "United Kingdom",
           "Oxford"
          ],
          [
           "grid.417068.c",
           "United Kingdom",
           "Edinburgh"
          ],
          [
           "grid.420737.5",
           "United Kingdom",
           "Cambridge"
          ],
          [
           "grid.5072.0",
           "United Kingdom",
           "London"
          ],
          [
           "grid.1006.7",
           "United Kingdom",
           "Newcastle upon Tyne"
          ],
          [
           "grid.4464.2",
           "United Kingdom",
           "London"
          ],
          [
           "grid.476695.f",
           "United Kingdom",
           "Edinburgh"
          ],
          [
           "grid.52788.30",
           "United Kingdom",
           "London"
          ],
          [
           "grid.5379.8",
           "United Kingdom",
           "Manchester"
          ],
          [
           "grid.4425.7",
           "United Kingdom",
           "Liverpool"
          ],
          [
           "grid.11835.3e",
           "United Kingdom",
           "Sheffield"
          ],
          [
           "grid.83440.3b",
           "United Kingdom",
           "London"
          ],
          [
           "grid.13097.3c",
           "United Kingdom",
           "London"
          ],
          [
           "grid.9531.e",
           "United Kingdom",
           "Edinburgh"
          ],
          [
           "grid.11914.3c",
           "United Kingdom",
           "St Andrews"
          ],
          [
           "grid.70909.37",
           "United Kingdom",
           "Potters Bar"
          ],
          [
           "grid.415598.4",
           "United Kingdom",
           "Nottingham"
          ],
          [
           "grid.19873.34",
           "United Kingdom",
           "Stoke-on-Trent"
          ],
          [
           "grid.18888.31",
           "United Kingdom",
           "Norwich"
          ],
          [
           "grid.421962.a",
           "United Kingdom",
           "Oxford"
          ],
          [
           "grid.63622.33",
           "United Kingdom",
           "Woking"
          ],
          [
           "grid.4970.a",
           "United Kingdom",
           "Egham"
          ],
          [
           "grid.452579.8",
           "United Kingdom",
           "London"
          ],
          [
           "grid.431456.1",
           "United Kingdom",
           "London"
          ],
          [
           "grid.410519.8",
           "United Kingdom",
           "London"
          ],
          [
           "grid.57981.32",
           "United Kingdom",
           "London"
          ],
          [
           "grid.4305.2",
           "United Kingdom",
           "Edinburgh"
          ],
          [
           "grid.498239.d",
           "United Kingdom",
           "Cambridge"
          ],
          [
           "grid.419328.5",
           "United Kingdom",
           "Newcastle upon Tyne"
          ],
          [
           "grid.421605.4",
           "United Kingdom",
           "Norwich"
          ],
          [
           "grid.450850.c",
           "United Kingdom",
           "Abingdon"
          ],
          [
           "grid.437069.f",
           "United Kingdom",
           "Abingdon"
          ],
          [
           "grid.494924.6",
           "United Kingdom",
           "Wallingford"
          ],
          [
           "grid.437060.6",
           "United Kingdom",
           "Oxford"
          ],
          [
           "grid.459303.8",
           "United Kingdom",
           "Abingdon"
          ],
          [
           "grid.418236.a",
           "United Kingdom",
           "London"
          ],
          [
           "grid.451056.3",
           "United Kingdom",
           "London"
          ],
          [
           "grid.476798.3",
           "United Kingdom",
           "London"
          ],
          [
           "grid.437456.7",
           "United Kingdom",
           "Edinburgh"
          ],
          [
           "grid.483689.8",
           "United Kingdom",
           "Edinburgh"
          ],
          [
           "grid.439475.8",
           "United Kingdom",
           "Cardiff"
          ],
          [
           "grid.6518.a",
           "United Kingdom",
           "Bristol"
          ],
          [
           "grid.225360.0",
           "United Kingdom",
           "Cambridge"
          ],
          [
           "grid.10306.34",
           "United Kingdom",
           "Cambridge"
          ],
          [
           "grid.431853.8",
           "United Kingdom",
           "Cambridge"
          ],
          [
           "grid.24029.3d",
           "United Kingdom",
           "Cambridge"
          ],
          [
           "grid.417815.e",
           "United Kingdom",
           "Cambridge"
          ],
          [
           "grid.24488.32",
           "United Kingdom",
           "Cambridge"
          ],
          [
           "grid.434747.7",
           "United Kingdom",
           "Cambridge"
          ],
          [
           "grid.449998.1",
           "United Kingdom",
           "Manchester"
          ],
          [
           "grid.12361.37",
           "United Kingdom",
           "Nottingham"
          ],
          [
           "grid.497865.1",
           "United Kingdom",
           "Oxford"
          ],
          [
           "grid.270683.8",
           "United Kingdom",
           "Oxford"
          ],
          [
           "grid.11201.33",
           "United Kingdom",
           "Plymouth"
          ],
          [
           "grid.12026.37",
           "United Kingdom",
           "Cranfield"
          ],
          [
           "grid.422947.e",
           "United Kingdom",
           "London"
          ],
          [
           "grid.420545.2",
           "United Kingdom",
           "London"
          ],
          [
           "grid.52996.31",
           "United Kingdom",
           "London"
          ],
          [
           "grid.449997.e",
           "United Kingdom",
           "Edinburgh"
          ],
          [
           "grid.4991.5",
           "United Kingdom",
           "Oxford"
          ],
          [
           "grid.439257.e",
           "United Kingdom",
           "London"
          ],
          [
           "grid.4868.2",
           "United Kingdom",
           "London"
          ],
          [
           "grid.418374.d",
           "United Kingdom",
           "Harpenden"
          ],
          [
           "grid.46699.34",
           "United Kingdom",
           "London"
          ]
         ],
         "geo": "geo",
         "hovertemplate": "<b>%{hovertext}</b><br><br>country=%{customdata[1]}<br>people=%{marker.size}<br>lat=%{lat}<br>long=%{lon}<br>gridid=%{customdata[0]}<br>city=%{customdata[2]}<extra></extra>",
         "hovertext": [
          "grid.7107.1",
          "grid.416523.7",
          "grid.11984.35",
          "grid.449973.4",
          "grid.507837.e",
          "grid.420006.0",
          "grid.413991.7",
          "grid.8186.7",
          "grid.462573.1",
          "grid.4827.9",
          "grid.418707.d",
          "grid.4777.3",
          "grid.6572.6",
          "grid.5337.2",
          "grid.9909.9",
          "grid.417899.a",
          "grid.18886.3f",
          "grid.7445.2",
          "grid.10025.36",
          "grid.4563.4",
          "grid.35937.3b",
          "grid.410415.5",
          "grid.8241.f",
          "grid.5600.3",
          "grid.8756.c",
          "grid.7340.0",
          "grid.12082.39",
          "grid.42475.30",
          "grid.7372.1",
          "grid.8356.8",
          "grid.9835.7",
          "grid.8273.e",
          "grid.40368.39",
          "grid.5475.3",
          "grid.5685.e",
          "grid.28577.3f",
          "grid.14868.33",
          "grid.7728.a",
          "grid.12641.30",
          "grid.474202.7",
          "grid.418195.0",
          "grid.415068.e",
          "grid.417687.b",
          "grid.9757.c",
          "grid.17595.3f",
          "grid.14830.3e",
          "grid.482685.5",
          "grid.14105.31",
          "grid.7273.1",
          "grid.48004.38",
          "grid.8991.9",
          "grid.13063.37",
          "grid.5335.0",
          "grid.8391.3",
          "grid.9918.9",
          "grid.76978.37",
          "grid.5491.9",
          "grid.418566.8",
          "grid.415490.d",
          "grid.451388.3",
          "grid.271308.f",
          "grid.502751.4",
          "grid.426884.4",
          "grid.301713.7",
          "grid.410658.e",
          "grid.7628.b",
          "grid.417068.c",
          "grid.420737.5",
          "grid.5072.0",
          "grid.1006.7",
          "grid.4464.2",
          "grid.476695.f",
          "grid.52788.30",
          "grid.5379.8",
          "grid.4425.7",
          "grid.11835.3e",
          "grid.83440.3b",
          "grid.13097.3c",
          "grid.9531.e",
          "grid.11914.3c",
          "grid.70909.37",
          "grid.415598.4",
          "grid.19873.34",
          "grid.18888.31",
          "grid.421962.a",
          "grid.63622.33",
          "grid.4970.a",
          "grid.452579.8",
          "grid.431456.1",
          "grid.410519.8",
          "grid.57981.32",
          "grid.4305.2",
          "grid.498239.d",
          "grid.419328.5",
          "grid.421605.4",
          "grid.450850.c",
          "grid.437069.f",
          "grid.494924.6",
          "grid.437060.6",
          "grid.459303.8",
          "grid.418236.a",
          "grid.451056.3",
          "grid.476798.3",
          "grid.437456.7",
          "grid.483689.8",
          "grid.439475.8",
          "grid.6518.a",
          "grid.225360.0",
          "grid.10306.34",
          "grid.431853.8",
          "grid.24029.3d",
          "grid.417815.e",
          "grid.24488.32",
          "grid.434747.7",
          "grid.449998.1",
          "grid.12361.37",
          "grid.497865.1",
          "grid.270683.8",
          "grid.11201.33",
          "grid.12026.37",
          "grid.422947.e",
          "grid.420545.2",
          "grid.52996.31",
          "grid.449997.e",
          "grid.4991.5",
          "grid.439257.e",
          "grid.4868.2",
          "grid.418374.d",
          "grid.46699.34"
         ],
         "lat": [
          57.165061950683594,
          53.459442138671875,
          55.861717224121094,
          52.20526123046875,
          52.95130920410156,
          51.5755729675293,
          53.38066864013672,
          52.41897201538086,
          52.176513671875,
          51.60972213745117,
          51.51189422607422,
          54.5845947265625,
          52.450557708740234,
          51.456390380859375,
          53.807220458984375,
          52.77947998046875,
          51.3443489074707,
          51.498600006103516,
          53.4061164855957,
          52.93806838989258,
          51.49686050415039,
          56.451290130615234,
          56.45722198486328,
          51.487701416015625,
          55.87230682373047,
          51.379600524902344,
          50.86527633666992,
          52.17527770996094,
          52.37943649291992,
          51.87793731689453,
          54.010746002197266,
          52.621665954589844,
          52.62382125854492,
          51.24305725097656,
          53.945701599121094,
          51.527950286865234,
          51.526390075683594,
          51.5347900390625,
          55.14777755737305,
          51.45974349975586,
          52.13309860229492,
          52.199188232421875,
          51.65884017944336,
          53.00299835205078,
          52.247310638427734,
          52.62240982055664,
          55.86589813232422,
          51.51475524902344,
          52.486000061035156,
          53.40861129760742,
          51.52090072631836,
          51.51417922973633,
          52.20445251464844,
          50.737342834472656,
          52.62132263183594,
          51.573333740234375,
          50.93463134765625,
          51.27178955078125,
          52.45108413696289,
          51.52548599243164,
          51.691043853759766,
          51.50379180908203,
          55.92164993286133,
          55.90294647216797,
          51.4801139831543,
          51.75518035888672,
          55.96327209472656,
          52.097164154052734,
          51.49079895019531,
          54.97800064086914,
          51.52111053466797,
          55.90938186645508,
          51.5258674621582,
          53.46704864501953,
          53.40299987792969,
          53.38138961791992,
          51.524471282958984,
          51.511417388916016,
          55.90925598144531,
          56.34172439575195,
          51.688480377197266,
          52.943599700927734,
          53.009483337402344,
          52.622188568115234,
          51.76348876953125,
          51.29302215576172,
          51.425872802734375,
          51.59036636352539,
          51.5088996887207,
          51.515846252441406,
          51.49636459350586,
          55.94489669799805,
          52.177207946777344,
          54.96817398071289,
          52.62169647216797,
          51.62287902832031,
          51.62466812133789,
          51.60233688354492,
          51.71451187133789,
          51.622013092041016,
          51.48820114135742,
          51.50270462036133,
          51.48820114135742,
          55.92051696777344,
          55.92124557495117,
          51.476806640625,
          51.50020980834961,
          52.079933166503906,
          52.07994842529297,
          52.2352180480957,
          52.174381256103516,
          51.519588470458984,
          52.19491958618164,
          52.11235046386719,
          53.46540451049805,
          52.95640182495117,
          51.76520919799805,
          51.751914978027344,
          50.37592697143555,
          52.073333740234375,
          51.51941680908203,
          51.5048828125,
          51.5246467590332,
          55.92146682739258,
          51.75343704223633,
          51.527503967285156,
          51.5242805480957,
          51.81040954589844,
          51.46799850463867
         ],
         "legendgroup": "United Kingdom",
         "lon": [
          -2.1022980213165283,
          -2.225277900695801,
          -4.241700172424316,
          0.12307699769735336,
          -1.3008559942245483,
          -1.32008695602417,
          -1.490833044052124,
          -4.063920974731445,
          0.141744002699852,
          -3.980556011199951,
          -0.10508699715137482,
          -5.934060096740723,
          -1.930556058883667,
          -2.6044440269470215,
          -1.5516669750213623,
          -2.42732310295105,
          -0.18920999765396118,
          -0.175477996468544,
          -2.965604066848755,
          -1.1967029571533203,
          -0.1763879954814911,
          -5.440752029418945,
          -2.9802780151367188,
          -3.178999900817871,
          -4.2882208824157715,
          -2.328000068664551,
          -0.08555600047111511,
          0.13332299888134003,
          -1.5615019798278809,
          0.9471960067749023,
          -2.790303945541382,
          1.2416670322418213,
          1.2245229482650757,
          -0.5894439816474915,
          -1.0561879873275757,
          -0.1022690013051033,
          -0.16083300113677979,
          -0.4715299904346466,
          -6.672222137451172,
          -2.5916690826416016,
          0.20329000055789948,
          0.12239000201225281,
          -1.2282429933547974,
          -2.2730000019073486,
          0.09853500127792358,
          1.2213269472122192,
          -3.199084997177124,
          -0.1194320023059845,
          -1.8895000219345093,
          -2.9691669940948486,
          -0.1307000070810318,
          -0.11772000044584274,
          0.11490800231695175,
          -3.535159111022949,
          -1.1246639490127563,
          -1.314721941947937,
          -1.3959499597549438,
          -0.25360798835754395,
          -1.9413809776306152,
          -0.13545691967010498,
          -0.11340100318193436,
          -0.08744999766349792,
          -3.1762421131134033,
          -4.317486763000488,
          -3.1689329147338867,
          -1.2245789766311646,
          -3.2327098846435547,
          0.10519000142812729,
          -0.1729000061750412,
          -1.6150000095367432,
          -0.12888899445533752,
          -3.1527459621429443,
          -0.13500499725341797,
          -2.23388409614563,
          -2.9700000286102295,
          -1.488271951675415,
          -0.13398170471191406,
          -0.11672700196504593,
          -3.3197829723358154,
          -2.7927629947662354,
          -0.24140000343322754,
          -1.1857000589370728,
          -2.176175117492676,
          1.2228950262069702,
          -1.2168489694595337,
          -0.6350929737091064,
          -0.5630729794502258,
          -0.37985000014305115,
          -0.13899999856948853,
          -0.151870995759964,
          -0.1009259968996048,
          -3.189284086227417,
          0.13552099466323853,
          -1.6216269731521606,
          1.2189350128173828,
          -1.296983003616333,
          -1.2956429719924927,
          -1.110687017440796,
          -1.2197610139846802,
          -1.291944980621338,
          -0.31668999791145325,
          -0.1253499984741211,
          -0.3167549967765808,
          -3.1296489238739014,
          -3.1300530433654785,
          -3.1695449352264404,
          -2.547489881515503,
          0.18673600256443024,
          0.1855659931898117,
          0.1537189930677414,
          0.141292005777359,
          -0.18164600431919098,
          0.13490499556064606,
          0.22713500261306763,
          -2.229024887084961,
          -1.1519999504089355,
          -1.2205430269241333,
          -1.2152379751205444,
          -4.139290809631348,
          -0.6277779936790466,
          -0.13168300688266754,
          -0.08893900364637375,
          -0.13556499779224396,
          -3.1719179153442383,
          -1.25400972366333,
          -0.08951500058174133,
          -0.04039499908685684,
          -0.3562549948692322,
          -0.09380000084638596
         ],
         "marker": {
          "color": "#EF553B",
          "size": [
           3,
           1,
           1,
           3,
           1,
           1,
           1,
           1,
           1,
           1,
           2,
           5,
           12,
           8,
           4,
           1,
           7,
           38,
           9,
           26,
           2,
           1,
           1,
           8,
           4,
           4,
           4,
           16,
           6,
           2,
           1,
           16,
           8,
           3,
           6,
           1,
           1,
           1,
           2,
           1,
           19,
           6,
           1,
           1,
           1,
           20,
           1,
           3,
           2,
           2,
           1,
           4,
           82,
           6,
           2,
           1,
           4,
           7,
           3,
           50,
           4,
           1,
           2,
           1,
           1,
           1,
           1,
           1,
           2,
           7,
           1,
           1,
           1,
           22,
           1,
           4,
           69,
           15,
           1,
           1,
           12,
           1,
           1,
           1,
           2,
           1,
           1,
           1,
           2,
           2,
           2,
           20,
           5,
           1,
           5,
           1,
           15,
           3,
           15,
           1,
           5,
           1,
           1,
           1,
           2,
           1,
           1,
           75,
           50,
           1,
           2,
           1,
           2,
           8,
           1,
           1,
           1,
           2,
           1,
           1,
           1,
           1,
           4,
           5,
           76,
           1,
           7,
           5,
           1
          ],
          "sizemode": "area",
          "sizeref": 0.935,
          "symbol": "circle"
         },
         "mode": "markers",
         "name": "United Kingdom",
         "showlegend": true,
         "type": "scattergeo"
        },
        {
         "customdata": [
          [
           "grid.67033.31",
           "United States",
           "Boston"
          ],
          [
           "grid.265438.e",
           "United States",
           "Schenectady"
          ],
          [
           "grid.411461.7",
           "United States",
           "Knoxville"
          ],
          [
           "grid.59062.38",
           "United States",
           "Burlington"
          ],
          [
           "grid.413734.6",
           "United States",
           "New York"
          ],
          [
           "grid.420176.6",
           "United States",
           "Arlington"
          ],
          [
           "grid.483504.e",
           "United States",
           "Pine Bluff"
          ],
          [
           "grid.487961.5",
           "United States",
           "Berkeley"
          ],
          [
           "grid.507310.0",
           "United States",
           "Albany"
          ],
          [
           "grid.418416.e",
           "United States",
           "Concord"
          ],
          [
           "grid.492938.d",
           "United States",
           "Anaheim"
          ],
          [
           "grid.421404.7",
           "United States",
           "San Francisco"
          ],
          [
           "grid.486194.6",
           "United States",
           "San Francisco"
          ],
          [
           "grid.474017.1",
           "United States",
           "San Francisco"
          ],
          [
           "grid.476870.a",
           "United States",
           "Washington D.C."
          ],
          [
           "grid.467642.5",
           "United States",
           "Atlanta"
          ],
          [
           "grid.486911.3",
           "United States",
           "Chicago"
          ],
          [
           "grid.250060.1",
           "United States",
           "Baton Rouge"
          ],
          [
           "grid.428337.9",
           "United States",
           "Woburn"
          ],
          [
           "grid.432444.1",
           "United States",
           "Worcester"
          ],
          [
           "grid.482909.e",
           "United States",
           "Chevy Chase"
          ],
          [
           "grid.453125.4",
           "United States",
           "Bethesda"
          ],
          [
           "grid.507874.9",
           "United States",
           "Gaithersburg"
          ],
          [
           "grid.483500.a",
           "United States",
           "Silver Spring"
          ],
          [
           "grid.417768.b",
           "United States",
           "Bethesda"
          ],
          [
           "grid.483503.9",
           "United States",
           "Laurel"
          ],
          [
           "grid.432957.e",
           "United States",
           "Baltimore"
          ],
          [
           "grid.492575.8",
           "United States",
           "Raleigh"
          ],
          [
           "grid.417388.1",
           "United States",
           "New York"
          ],
          [
           "grid.492966.6",
           "United States",
           "Annandale"
          ],
          [
           "grid.47100.32",
           "United States",
           "New Haven"
          ],
          [
           "grid.257167.0",
           "United States",
           "New York"
          ],
          [
           "grid.241054.6",
           "United States",
           "Little Rock"
          ],
          [
           "grid.411017.2",
           "United States",
           "Fayetteville"
          ],
          [
           "grid.266102.1",
           "United States",
           "San Francisco"
          ],
          [
           "grid.430503.1",
           "United States",
           "Aurora"
          ],
          [
           "grid.266190.a",
           "United States",
           "Boulder"
          ],
          [
           "grid.266186.d",
           "United States",
           "Colorado Springs"
          ],
          [
           "grid.254549.b",
           "United States",
           "Golden"
          ],
          [
           "grid.47894.36",
           "United States",
           "Fort Collins"
          ],
          [
           "grid.421470.4",
           "United States",
           "New Haven"
          ],
          [
           "grid.239560.b",
           "United States",
           "Washington D.C."
          ],
          [
           "grid.164971.c",
           "United States",
           "Chicago"
          ],
          [
           "grid.417540.3",
           "United States",
           "Indianapolis"
          ],
          [
           "grid.262642.6",
           "United States",
           "Terre Haute"
          ],
          [
           "grid.21107.35",
           "United States",
           "Baltimore"
          ],
          [
           "grid.263825.8",
           "United States",
           "Cape Girardeau"
          ],
          [
           "grid.260120.7",
           "United States",
           "Starkville"
          ],
          [
           "grid.266818.3",
           "United States",
           "Reno"
          ],
          [
           "grid.264484.8",
           "United States",
           "Syracuse"
          ],
          [
           "grid.261331.4",
           "United States",
           "Columbus"
          ],
          [
           "grid.267337.4",
           "United States",
           "Toledo"
          ],
          [
           "grid.170202.6",
           "United States",
           "Eugene"
          ],
          [
           "grid.412713.2",
           "United States",
           "Philadelphia"
          ],
          [
           "grid.411115.1",
           "United States",
           "Philadelphia"
          ],
          [
           "grid.152326.1",
           "United States",
           "Nashville"
          ],
          [
           "grid.412807.8",
           "United States",
           "Nashville"
          ],
          [
           "grid.264756.4",
           "United States",
           "College Station"
          ],
          [
           "grid.267323.1",
           "United States",
           "Richardson"
          ],
          [
           "grid.240145.6",
           "United States",
           "Houston"
          ],
          [
           "grid.89336.37",
           "United States",
           "Austin"
          ],
          [
           "grid.262103.4",
           "United States",
           "Prairie View"
          ],
          [
           "grid.253294.b",
           "United States",
           "Provo"
          ],
          [
           "grid.438526.e",
           "United States",
           "Blacksburg"
          ],
          [
           "grid.274295.f",
           "United States",
           "New York"
          ],
          [
           "grid.418559.4",
           "United States",
           "San Diego"
          ],
          [
           "grid.26790.3a",
           "United States",
           "Coral Gables"
          ],
          [
           "grid.292487.2",
           "United States",
           "Johnston"
          ],
          [
           "grid.417480.e",
           "United States",
           "Waltham"
          ],
          [
           "grid.265990.1",
           "United States",
           "Baltimore"
          ],
          [
           "grid.249880.f",
           "United States",
           "Bar Harbor"
          ],
          [
           "grid.412750.5",
           "United States",
           "Rochester"
          ],
          [
           "grid.239578.2",
           "United States",
           "Cleveland"
          ],
          [
           "grid.266436.3",
           "United States",
           "Houston"
          ],
          [
           "grid.264784.b",
           "United States",
           "Lubbock"
          ],
          [
           "grid.32224.35",
           "United States",
           "Boston"
          ],
          [
           "grid.214458.e",
           "United States",
           "Ann Arbor"
          ],
          [
           "grid.24827.3b",
           "United States",
           "Cincinnati"
          ],
          [
           "grid.27755.32",
           "United States",
           "Charlottesville"
          ],
          [
           "grid.134907.8",
           "United States",
           "New York"
          ],
          [
           "grid.50956.3f",
           "United States",
           "Los Angeles"
          ],
          [
           "grid.239546.f",
           "United States",
           "Los Angeles"
          ],
          [
           "grid.43582.38",
           "United States",
           "Loma Linda"
          ],
          [
           "grid.261930.f",
           "United States",
           "San Diego"
          ],
          [
           "grid.217200.6",
           "United States",
           "La Jolla"
          ],
          [
           "grid.418000.d",
           "United States",
           "Stanford"
          ],
          [
           "grid.27860.3b",
           "United States",
           "Davis"
          ],
          [
           "grid.410445.0",
           "United States",
           "Honolulu"
          ],
          [
           "grid.417587.8",
           "United States",
           "Silver Spring"
          ],
          [
           "grid.94225.38",
           "United States",
           "Gaithersburg"
          ],
          [
           "grid.507869.5",
           "United States",
           "Gaithersburg"
          ],
          [
           "grid.268187.2",
           "United States",
           "Kalamazoo"
          ],
          [
           "grid.418554.9",
           "United States",
           "Creve Coeur"
          ],
          [
           "grid.508985.9",
           "United States",
           "Greenville"
          ],
          [
           "grid.60094.3b",
           "United States",
           "Saratoga Springs"
          ],
          [
           "grid.147455.6",
           "United States",
           "Pittsburgh"
          ],
          [
           "grid.249335.a",
           "United States",
           "Philadelphia"
          ],
          [
           "grid.39382.33",
           "United States",
           "Houston"
          ],
          [
           "grid.240741.4",
           "United States",
           "Seattle"
          ],
          [
           "grid.257992.2",
           "United States",
           "Jacksonville"
          ],
          [
           "grid.215654.1",
           "United States",
           "Tempe"
          ],
          [
           "grid.134563.6",
           "United States",
           "Tucson"
          ],
          [
           "grid.253555.1",
           "United States",
           "Chico"
          ],
          [
           "grid.42505.36",
           "United States",
           "Los Angeles"
          ],
          [
           "grid.418412.a",
           "United States",
           "Ridgefield"
          ],
          [
           "grid.63054.34",
           "United States",
           "Storrs"
          ],
          [
           "grid.281926.6",
           "United States",
           "Washington D.C."
          ],
          [
           "grid.39936.36",
           "United States",
           "Washington D.C."
          ],
          [
           "grid.417467.7",
           "United States",
           "Jacksonville"
          ],
          [
           "grid.213917.f",
           "United States",
           "Atlanta"
          ],
          [
           "grid.417574.4",
           "United States",
           "Chicago"
          ],
          [
           "grid.94365.3d",
           "United States",
           "Bethesda"
          ],
          [
           "grid.66875.3a",
           "United States",
           "Rochester"
          ],
          [
           "grid.40803.3f",
           "United States",
           "Raleigh"
          ],
          [
           "grid.266862.e",
           "United States",
           "Grand Forks"
          ],
          [
           "grid.266813.8",
           "United States",
           "Omaha"
          ],
          [
           "grid.260896.3",
           "United States",
           "Newark"
          ],
          [
           "grid.417429.d",
           "United States",
           "New Brunswick"
          ],
          [
           "grid.266832.b",
           "United States",
           "Albuquerque"
          ],
          [
           "grid.24805.3b",
           "United States",
           "Las Cruces"
          ],
          [
           "grid.419971.3",
           "United States",
           "New York"
          ],
          [
           "grid.51462.34",
           "United States",
           "New York"
          ],
          [
           "grid.239573.9",
           "United States",
           "Cincinnati"
          ],
          [
           "grid.264727.2",
           "United States",
           "Philadelphia"
          ],
          [
           "grid.26090.3d",
           "United States",
           "Clemson"
          ],
          [
           "grid.53857.3c",
           "United States",
           "Logan"
          ],
          [
           "grid.59734.3c",
           "United States",
           "New York"
          ],
          [
           "grid.265892.2",
           "United States",
           "Birmingham"
          ],
          [
           "grid.427785.b",
           "United States",
           "Phoenix"
          ],
          [
           "grid.266093.8",
           "United States",
           "Irvine"
          ],
          [
           "grid.253565.2",
           "United States",
           "San Bernardino"
          ],
          [
           "grid.250671.7",
           "United States",
           "La Jolla"
          ],
          [
           "grid.266100.3",
           "United States",
           "San Diego"
          ],
          [
           "grid.462962.d",
           "United States",
           "San Diego"
          ],
          [
           "grid.242678.d",
           "United States",
           "San Francisco"
          ],
          [
           "grid.419318.6",
           "United States",
           "Santa Clara"
          ],
          [
           "grid.280747.e",
           "United States",
           "Palo Alto"
          ],
          [
           "grid.205975.c",
           "United States",
           "Santa Cruz"
          ],
          [
           "grid.262900.f",
           "United States",
           "Fairfield"
          ],
          [
           "grid.208078.5",
           "United States",
           "Farmington"
          ],
          [
           "grid.420071.0",
           "United States",
           "Washington D.C."
          ],
          [
           "grid.420285.9",
           "United States",
           "Washington D.C."
          ],
          [
           "grid.65456.34",
           "United States",
           "Miami"
          ],
          [
           "grid.170430.1",
           "United States",
           "Orlando"
          ],
          [
           "grid.255951.f",
           "United States",
           "Boca Raton"
          ],
          [
           "grid.258509.3",
           "United States",
           "Kennesaw"
          ],
          [
           "grid.257413.6",
           "United States",
           "Indianapolis"
          ],
          [
           "grid.417716.2",
           "United States",
           "Louisville"
          ],
          [
           "grid.168645.8",
           "United States",
           "Worcester"
          ],
          [
           "grid.410422.1",
           "United States",
           "Bethesda"
          ],
          [
           "grid.280785.0",
           "United States",
           "Bethesda"
          ],
          [
           "grid.420089.7",
           "United States",
           "Bethesda"
          ],
          [
           "grid.280030.9",
           "United States",
           "Bethesda"
          ],
          [
           "grid.266673.0",
           "United States",
           "Baltimore"
          ],
          [
           "grid.413874.d",
           "United States",
           "Baltimore"
          ],
          [
           "grid.256549.9",
           "United States",
           "Allendale"
          ],
          [
           "grid.280664.e",
           "United States",
           "Durham"
          ],
          [
           "grid.270913.e",
           "United States",
           "Hanover"
          ],
          [
           "grid.418431.b",
           "United States",
           "Cold Spring Harbor"
          ],
          [
           "grid.481554.9",
           "United States",
           "Yorktown Heights"
          ],
          [
           "grid.268333.f",
           "United States",
           "Dayton"
          ],
          [
           "grid.410436.4",
           "United States",
           "Beaverton"
          ],
          [
           "grid.421592.9",
           "United States",
           "Boyertown"
          ],
          [
           "grid.240473.6",
           "United States",
           "Hershey"
          ],
          [
           "grid.250221.6",
           "United States",
           "Philadelphia"
          ],
          [
           "grid.240871.8",
           "United States",
           "Memphis"
          ],
          [
           "grid.264764.5",
           "United States",
           "Galveston"
          ],
          [
           "grid.451303.0",
           "United States",
           "Richland"
          ],
          [
           "grid.280062.e",
           "United States",
           "Oakland"
          ],
          [
           "grid.416507.1",
           "United States",
           "Santa Monica"
          ],
          [
           "grid.34474.30",
           "United States",
           "Santa Monica"
          ],
          [
           "grid.267102.0",
           "United States",
           "San Diego"
          ],
          [
           "grid.98913.3a",
           "United States",
           "Menlo Park"
          ],
          [
           "grid.410311.6",
           "United States",
           "Washington D.C."
          ],
          [
           "grid.416738.f",
           "United States",
           "Atlanta"
          ],
          [
           "grid.266426.2",
           "United States",
           "Hilo"
          ],
          [
           "grid.187073.a",
           "United States",
           "Lemont"
          ],
          [
           "grid.507314.4",
           "United States",
           "New Orleans"
          ],
          [
           "grid.253264.4",
           "United States",
           "Waltham"
          ],
          [
           "grid.65499.37",
           "United States",
           "Boston"
          ],
          [
           "grid.415913.b",
           "United States",
           "Silver Spring"
          ],
          [
           "grid.279885.9",
           "United States",
           "Bethesda"
          ],
          [
           "grid.416868.5",
           "United States",
           "Bethesda"
          ],
          [
           "grid.414467.4",
           "United States",
           "Bethesda"
          ],
          [
           "grid.454225.0",
           "United States",
           "Durham"
          ],
          [
           "grid.266859.6",
           "United States",
           "Charlotte"
          ],
          [
           "grid.148313.c",
           "United States",
           "Los Alamos"
          ],
          [
           "grid.264260.4",
           "United States",
           "Binghamton"
          ],
          [
           "grid.202665.5",
           "United States",
           "Upton"
          ],
          [
           "grid.419447.b",
           "United States",
           "Ardmore"
          ],
          [
           "grid.135519.a",
           "United States",
           "Oak Ridge"
          ],
          [
           "grid.250889.e",
           "United States",
           "San Antonio"
          ],
          [
           "grid.264763.2",
           "United States",
           "College Station"
          ],
          [
           "grid.267313.2",
           "United States",
           "Dallas"
          ],
          [
           "grid.414016.6",
           "United States",
           "Oakland"
          ],
          [
           "grid.410425.6",
           "United States",
           "Duarte"
          ],
          [
           "grid.259256.f",
           "United States",
           "Los Angeles"
          ],
          [
           "grid.19006.3e",
           "United States",
           "Los Angeles"
          ],
          [
           "grid.256304.6",
           "United States",
           "Atlanta"
          ],
          [
           "grid.262641.5",
           "United States",
           "North Chicago"
          ],
          [
           "grid.268355.f",
           "United States",
           "New Orleans"
          ],
          [
           "grid.252968.2",
           "United States",
           "Waltham"
          ],
          [
           "grid.420985.2",
           "United States",
           "Boston"
          ],
          [
           "grid.239864.2",
           "United States",
           "Detroit"
          ],
          [
           "grid.268073.8",
           "United States",
           "Webster Groves"
          ],
          [
           "grid.267193.8",
           "United States",
           "Hattiesburg"
          ],
          [
           "grid.264257.0",
           "United States",
           "Syracuse"
          ],
          [
           "grid.280776.c",
           "United States",
           "Danville"
          ],
          [
           "grid.267301.1",
           "United States",
           "Memphis"
          ],
          [
           "grid.267324.6",
           "United States",
           "El Paso"
          ],
          [
           "grid.21940.3e",
           "United States",
           "Houston"
          ],
          [
           "grid.63368.38",
           "United States",
           "Houston"
          ],
          [
           "grid.280718.4",
           "United States",
           "Marshfield"
          ],
          [
           "grid.267044.3",
           "United States",
           "Mayagüez"
          ],
          [
           "grid.261120.6",
           "United States",
           "Flagstaff"
          ],
          [
           "grid.20861.3d",
           "United States",
           "Pasadena"
          ],
          [
           "grid.263081.e",
           "United States",
           "San Diego"
          ],
          [
           "grid.418158.1",
           "United States",
           "San Francisco"
          ],
          [
           "grid.133342.4",
           "United States",
           "Santa Barbara"
          ],
          [
           "grid.168010.e",
           "United States",
           "Stanford"
          ],
          [
           "grid.256036.4",
           "United States",
           "Fort Valley"
          ],
          [
           "grid.418436.c",
           "United States",
           "‘Aiea"
          ],
          [
           "grid.412584.e",
           "United States",
           "Iowa City"
          ],
          [
           "grid.170205.1",
           "United States",
           "Chicago"
          ],
          [
           "grid.62813.3e",
           "United States",
           "Chicago"
          ],
          [
           "grid.261128.e",
           "United States",
           "DeKalb"
          ],
          [
           "grid.266686.a",
           "United States",
           "New Bedford"
          ],
          [
           "grid.225262.3",
           "United States",
           "Lowell"
          ],
          [
           "grid.261112.7",
           "United States",
           "Boston"
          ],
          [
           "grid.290496.0",
           "United States",
           "Silver Spring"
          ],
          [
           "grid.418574.b",
           "United States",
           "Midland"
          ],
          [
           "grid.239559.1",
           "United States",
           "Kansas City"
          ],
          [
           "grid.41891.35",
           "United States",
           "Bozeman"
          ],
          [
           "grid.268294.3",
           "United States",
           "Winston-Salem"
          ],
          [
           "grid.266860.c",
           "United States",
           "Greensboro"
          ],
          [
           "grid.252323.7",
           "United States",
           "Boone"
          ],
          [
           "grid.261055.5",
           "United States",
           "Fargo"
          ],
          [
           "grid.414483.e",
           "United States",
           "Manchester"
          ],
          [
           "grid.417993.1",
           "United States",
           "Kenilworth"
          ],
          [
           "grid.254280.9",
           "United States",
           "Potsdam"
          ],
          [
           "grid.225279.9",
           "United States",
           "Cold Spring Harbor"
          ],
          [
           "grid.240344.5",
           "United States",
           "Columbus"
          ],
          [
           "grid.266900.b",
           "United States",
           "Norman"
          ],
          [
           "grid.65519.3e",
           "United States",
           "Stillwater"
          ],
          [
           "grid.251075.4",
           "United States",
           "Philadelphia"
          ],
          [
           "grid.166341.7",
           "United States",
           "Philadelphia"
          ],
          [
           "grid.266869.5",
           "United States",
           "Denton"
          ],
          [
           "grid.176731.5",
           "United States",
           "Galveston"
          ],
          [
           "grid.30064.31",
           "United States",
           "Pullman"
          ],
          [
           "grid.30760.32",
           "United States",
           "Milwaukee"
          ],
          [
           "grid.453260.6",
           "United States",
           "New York"
          ],
          [
           "grid.265893.3",
           "United States",
           "Huntsville"
          ],
          [
           "grid.474523.3",
           "United States",
           "Livermore"
          ],
          [
           "grid.418312.d",
           "United States",
           "Hercules"
          ],
          [
           "grid.413083.d",
           "United States",
           "Los Angeles"
          ],
          [
           "grid.266097.c",
           "United States",
           "Riverside"
          ],
          [
           "grid.286440.c",
           "United States",
           "San Diego"
          ],
          [
           "grid.280902.1",
           "United States",
           "San Francisco"
          ],
          [
           "grid.508981.d",
           "United States",
           "Fort Collins"
          ],
          [
           "grid.453252.7",
           "United States",
           "Washington D.C."
          ],
          [
           "grid.463419.d",
           "United States",
           "Washington D.C."
          ],
          [
           "grid.507680.c",
           "United States",
           "Washington D.C."
          ],
          [
           "grid.170693.a",
           "United States",
           "Tampa"
          ],
          [
           "grid.420675.2",
           "United States",
           "Sioux Center"
          ],
          [
           "grid.430804.b",
           "United States",
           "Chicago"
          ],
          [
           "grid.504876.8",
           "United States",
           "Lexington"
          ],
          [
           "grid.420015.2",
           "United States",
           "Bedford"
          ],
          [
           "grid.16694.3c",
           "United States",
           "Boston"
          ],
          [
           "grid.420086.8",
           "United States",
           "Bethesda"
          ],
          [
           "grid.410305.3",
           "United States",
           "Bethesda"
          ],
          [
           "grid.416870.c",
           "United States",
           "Bethesda"
          ],
          [
           "grid.413575.1",
           "United States",
           "Chevy Chase"
          ],
          [
           "grid.419681.3",
           "United States",
           "Bethesda"
          ],
          [
           "grid.261277.7",
           "United States",
           "Rochester"
          ],
          [
           "grid.497530.c",
           "United States",
           "Hopewell"
          ],
          [
           "grid.272362.0",
           "United States",
           "Las Vegas"
          ],
          [
           "grid.251993.5",
           "United States",
           "The Bronx"
          ],
          [
           "grid.36425.36",
           "United States",
           "Stony Brook"
          ],
          [
           "grid.267309.9",
           "United States",
           "San Antonio"
          ],
          [
           "grid.22448.38",
           "United States",
           "Fairfax"
          ],
          [
           "grid.280838.9",
           "United States",
           "Seattle"
          ],
          [
           "grid.267468.9",
           "United States",
           "Milwaukee"
          ],
          [
           "grid.38142.3c",
           "United States",
           "Cambridge"
          ],
          [
           "grid.479455.e",
           "United States",
           "Emeryville"
          ],
          [
           "grid.497331.b",
           "United States",
           "Fremont"
          ],
          [
           "grid.498512.3",
           "United States",
           "Pleasanton"
          ],
          [
           "grid.465238.e",
           "United States",
           "Fremont"
          ],
          [
           "grid.430528.8",
           "United States",
           "Novato"
          ],
          [
           "grid.504177.0",
           "United States",
           "San Diego"
          ],
          [
           "grid.492581.3",
           "United States",
           "San Diego"
          ],
          [
           "grid.484860.6",
           "United States",
           "San Diego"
          ],
          [
           "grid.470487.8",
           "United States",
           "San Diego"
          ],
          [
           "grid.488004.0",
           "United States",
           "San Francisco"
          ],
          [
           "grid.499295.a",
           "United States",
           "San Francisco"
          ],
          [
           "grid.420401.3",
           "United States",
           "San Francisco"
          ],
          [
           "grid.507173.7",
           "United States",
           "San Francisco"
          ],
          [
           "grid.507497.8",
           "United States",
           "San Francisco"
          ],
          [
           "grid.465210.4",
           "United States",
           "San Francisco"
          ],
          [
           "grid.490011.d",
           "United States",
           "San Francisco"
          ],
          [
           "grid.452682.f",
           "United States",
           "Brisbane"
          ],
          [
           "grid.459934.6",
           "United States",
           "Menlo Park"
          ],
          [
           "grid.508097.3",
           "United States",
           "South San Francisco"
          ],
          [
           "grid.491115.9",
           "United States",
           "South San Francisco"
          ],
          [
           "grid.476637.7",
           "United States",
           "South San Francisco"
          ],
          [
           "grid.505809.1",
           "United States",
           "Menlo Park"
          ],
          [
           "grid.428679.6",
           "United States",
           "South San Francisco"
          ],
          [
           "grid.504674.4",
           "United States",
           "Sunnyvale"
          ],
          [
           "grid.504403.6",
           "United States",
           "Santa Cruz"
          ],
          [
           "grid.508744.a",
           "United States",
           "Wilmington"
          ],
          [
           "grid.504602.5",
           "United States",
           "Orlando"
          ],
          [
           "grid.421185.b",
           "United States",
           "Jupiter"
          ],
          [
           "grid.431072.3",
           "United States",
           "North Chicago"
          ],
          [
           "grid.476823.c",
           "United States",
           "Carmel"
          ],
          [
           "grid.504866.9",
           "United States",
           "Lexington-Fayette"
          ],
          [
           "grid.510013.6",
           "United States",
           "Cambridge"
          ],
          [
           "grid.510029.f",
           "United States",
           "Cambridge"
          ],
          [
           "grid.510124.3",
           "United States",
           "Lexington"
          ],
          [
           "grid.492588.a",
           "United States",
           "Cambridge"
          ],
          [
           "grid.508749.7",
           "United States",
           "Cambridge"
          ],
          [
           "grid.479574.c",
           "United States",
           "Cambridge"
          ],
          [
           "grid.508052.a",
           "United States",
           "Somerville"
          ],
          [
           "grid.460014.7",
           "United States",
           "Cambridge"
          ],
          [
           "grid.489033.5",
           "United States",
           "Somerville"
          ],
          [
           "grid.507100.3",
           "United States",
           "Cambridge"
          ],
          [
           "grid.509093.6",
           "United States",
           "Cambridge"
          ],
          [
           "grid.504417.3",
           "United States",
           "Somerville"
          ],
          [
           "grid.479429.5",
           "United States",
           "Brookline"
          ],
          [
           "grid.487063.e",
           "United States",
           "Boston"
          ],
          [
           "grid.471409.f",
           "United States",
           "Boston"
          ],
          [
           "grid.450648.b",
           "United States",
           "Worcester"
          ],
          [
           "grid.429651.d",
           "United States",
           "Rockville"
          ],
          [
           "grid.429552.d",
           "United States",
           "Baltimore"
          ],
          [
           "grid.438717.e",
           "United States",
           "Grand Rapids"
          ],
          [
           "grid.470405.2",
           "United States",
           "Durham"
          ],
          [
           "grid.504731.4",
           "United States",
           "Greensboro"
          ],
          [
           "grid.499345.6",
           "United States",
           "Morrisville"
          ],
          [
           "grid.488092.f",
           "United States",
           "Montclair"
          ],
          [
           "grid.429392.7",
           "United States",
           "Edison"
          ],
          [
           "grid.509841.1",
           "United States",
           "New York"
          ],
          [
           "grid.429884.b",
           "United States",
           "New York"
          ],
          [
           "grid.504485.8",
           "United States",
           "New York"
          ],
          [
           "grid.487864.1",
           "United States",
           "Buffalo"
          ],
          [
           "grid.432026.1",
           "United States",
           "Pottstown"
          ],
          [
           "grid.476706.4",
           "United States",
           "Philadelphia"
          ],
          [
           "grid.449717.8",
           "United States",
           "Edinburg"
          ],
          [
           "grid.488617.4",
           "United States",
           "Seattle"
          ],
          [
           "grid.509573.d",
           "United States",
           "Madison"
          ],
          [
           "grid.47840.3f",
           "United States",
           "Berkeley"
          ],
          [
           "grid.30389.31",
           "United States",
           "Oakland"
          ],
          [
           "grid.266239.a",
           "United States",
           "Denver"
          ],
          [
           "grid.417548.b",
           "United States",
           "Washington D.C."
          ],
          [
           "grid.35403.31",
           "United States",
           "Urbana"
          ],
          [
           "grid.169077.e",
           "United States",
           "West Lafayette"
          ],
          [
           "grid.411031.6",
           "United States",
           "West Lafayette"
          ],
          [
           "grid.257409.d",
           "United States",
           "Terre Haute"
          ],
          [
           "grid.266515.3",
           "United States",
           "Lawrence"
          ],
          [
           "grid.36567.31",
           "United States",
           "Manhattan"
          ],
          [
           "grid.266539.d",
           "United States",
           "Lexington"
          ],
          [
           "grid.64337.35",
           "United States",
           "Baton Rouge"
          ],
          [
           "grid.266683.f",
           "United States",
           "Amherst Center"
          ],
          [
           "grid.116068.8",
           "United States",
           "Cambridge"
          ],
          [
           "grid.208226.c",
           "United States",
           "Boston"
          ],
          [
           "grid.2515.3",
           "United States",
           "Boston"
          ],
          [
           "grid.240845.f",
           "United States",
           "Boston"
          ],
          [
           "grid.268323.e",
           "United States",
           "Worcester"
          ],
          [
           "grid.21106.34",
           "United States",
           "Orono"
          ],
          [
           "grid.24434.35",
           "United States",
           "Lincoln"
          ],
          [
           "grid.167436.1",
           "United States",
           "Durham"
          ],
          [
           "grid.418235.9",
           "United States",
           "Florham Park"
          ],
          [
           "grid.262863.b",
           "United States",
           "Brooklyn"
          ],
          [
           "grid.5386.8",
           "United States",
           "Ithaca"
          ],
          [
           "grid.4391.f",
           "United States",
           "Corvallis"
          ],
          [
           "grid.259029.5",
           "United States",
           "Bethlehem"
          ],
          [
           "grid.34477.33",
           "United States",
           "Seattle"
          ],
          [
           "grid.268154.c",
           "United States",
           "Morgantown"
          ],
          [
           "grid.252546.2",
           "United States",
           "Auburn"
          ],
          [
           "grid.263156.5",
           "United States",
           "Santa Clara"
          ],
          [
           "grid.15276.37",
           "United States",
           "Gainesville"
          ],
          [
           "grid.255986.5",
           "United States",
           "Tallahassee"
          ],
          [
           "grid.34421.30",
           "United States",
           "Ames"
          ],
          [
           "grid.185648.6",
           "United States",
           "Chicago"
          ],
          [
           "grid.16753.36",
           "United States",
           "Evanston"
          ],
          [
           "grid.429997.8",
           "United States",
           "Medford"
          ],
          [
           "grid.266685.9",
           "United States",
           "Boston"
          ],
          [
           "grid.164295.d",
           "United States",
           "College Park"
          ],
          [
           "grid.257108.9",
           "United States",
           "Holland"
          ],
          [
           "grid.17088.36",
           "United States",
           "East Lansing"
          ],
          [
           "grid.17635.36",
           "United States",
           "Minneapolis"
          ],
          [
           "grid.4367.6",
           "United States",
           "St Louis"
          ],
          [
           "grid.264500.5",
           "United States",
           "Ewing"
          ],
          [
           "grid.16416.34",
           "United States",
           "Rochester"
          ],
          [
           "grid.417796.a",
           "United States",
           "Corning"
          ],
          [
           "grid.29857.31",
           "United States",
           "State College"
          ],
          [
           "grid.239552.a",
           "United States",
           "Philadelphia"
          ],
          [
           "grid.264141.4",
           "United States",
           "San Antonio"
          ],
          [
           "grid.223827.e",
           "United States",
           "Salt Lake City"
          ],
          [
           "grid.266851.e",
           "United States",
           "Florence"
          ],
          [
           "grid.189967.8",
           "United States",
           "Atlanta"
          ],
          [
           "grid.189504.1",
           "United States",
           "Boston"
          ],
          [
           "grid.280285.5",
           "United States",
           "Bethesda"
          ],
          [
           "grid.134936.a",
           "United States",
           "Columbia"
          ],
          [
           "grid.26009.3d",
           "United States",
           "Durham"
          ],
          [
           "grid.241167.7",
           "United States",
           "Winston-Salem"
          ],
          [
           "grid.137628.9",
           "United States",
           "New York"
          ],
          [
           "grid.411023.5",
           "United States",
           "Syracuse"
          ],
          [
           "grid.412332.5",
           "United States",
           "Columbus"
          ],
          [
           "grid.267065.0",
           "United States",
           "Richmond"
          ],
          [
           "grid.224260.0",
           "United States",
           "Richmond"
          ],
          [
           "grid.184769.5",
           "United States",
           "Berkeley"
          ],
          [
           "grid.410372.3",
           "United States",
           "San Francisco"
          ],
          [
           "grid.418547.b",
           "United States",
           "Palo Alto"
          ],
          [
           "grid.448406.a",
           "United States",
           "Chicago"
          ],
          [
           "grid.418232.e",
           "United States",
           "Deerfield"
          ],
          [
           "grid.279863.1",
           "United States",
           "New Orleans"
          ],
          [
           "grid.56466.37",
           "United States",
           "Falmouth"
          ],
          [
           "grid.419236.b",
           "United States",
           "Waltham"
          ],
          [
           "grid.48336.3a",
           "United States",
           "Bethesda"
          ],
          [
           "grid.467435.7",
           "United States",
           "Saint Joseph"
          ],
          [
           "grid.266756.6",
           "United States",
           "Kansas City"
          ],
          [
           "grid.189509.c",
           "United States",
           "Durham"
          ],
          [
           "grid.78989.37",
           "United States",
           "Princeton"
          ],
          [
           "grid.257060.6",
           "United States",
           "Hempstead"
          ],
          [
           "grid.453810.b",
           "United States",
           "Dallas"
          ],
          [
           "grid.253615.6",
           "United States",
           "Washington D.C."
          ],
          [
           "grid.411377.7",
           "United States",
           "Bloomington"
          ],
          [
           "grid.416498.6",
           "United States",
           "Boston"
          ],
          [
           "grid.39479.30",
           "United States",
           "Boston"
          ],
          [
           "grid.420277.4",
           "United States",
           "Rockville"
          ],
          [
           "grid.430387.b",
           "United States",
           "New Brunswick"
          ],
          [
           "grid.33647.35",
           "United States",
           "Troy"
          ],
          [
           "grid.67105.35",
           "United States",
           "Cleveland"
          ],
          [
           "grid.265008.9",
           "United States",
           "Philadelphia"
          ],
          [
           "grid.412726.4",
           "United States",
           "Philadelphia"
          ],
          [
           "grid.259828.c",
           "United States",
           "Charleston"
          ],
          [
           "grid.479509.6",
           "United States",
           "La Jolla"
          ],
          [
           "grid.249878.8",
           "United States",
           "San Francisco"
          ],
          [
           "grid.419357.d",
           "United States",
           "Golden"
          ],
          [
           "grid.419346.d",
           "United States",
           "Washington D.C."
          ],
          [
           "grid.418698.a",
           "United States",
           "Washington D.C."
          ],
          [
           "grid.503912.c",
           "United States",
           "Washington D.C."
          ],
          [
           "grid.414572.1",
           "United States",
           "Washington D.C."
          ],
          [
           "grid.419791.3",
           "United States",
           "Miami"
          ],
          [
           "grid.273406.4",
           "United States",
           "Ipswich"
          ],
          [
           "grid.417832.b",
           "United States",
           "Cambridge"
          ],
          [
           "grid.413735.7",
           "United States",
           "Cambridge"
          ],
          [
           "grid.418021.e",
           "United States",
           "Frederick"
          ],
          [
           "grid.419475.a",
           "United States",
           "Baltimore"
          ],
          [
           "grid.296275.d",
           "United States",
           "Boothbay"
          ],
          [
           "grid.413656.3",
           "United States",
           "Grand Rapids"
          ],
          [
           "grid.438656.a",
           "United States",
           "Cary"
          ],
          [
           "grid.417555.7",
           "United States",
           "Bridgewater"
          ],
          [
           "grid.1052.6",
           "United States",
           "New York"
          ],
          [
           "grid.266902.9",
           "United States",
           "Oklahoma City"
          ],
          [
           "grid.5288.7",
           "United States",
           "Portland"
          ],
          [
           "grid.267308.8",
           "United States",
           "Houston"
          ],
          [
           "grid.416992.1",
           "United States",
           "Lubbock"
          ],
          [
           "grid.266871.c",
           "United States",
           "Fort Worth"
          ],
          [
           "grid.53964.3d",
           "United States",
           "Seattle"
          ],
          [
           "grid.270240.3",
           "United States",
           "Seattle"
          ],
          [
           "grid.419815.0",
           "United States",
           "Redmond"
          ],
          [
           "grid.478347.b",
           "United States",
           "Phoenix"
          ],
          [
           "grid.488272.3",
           "United States",
           "Pasadena"
          ],
          [
           "grid.432364.4",
           "United States",
           "San Rafael"
          ],
          [
           "grid.417882.0",
           "United States",
           "Irvine"
          ],
          [
           "grid.185006.a",
           "United States",
           "San Diego"
          ],
          [
           "grid.419957.7",
           "United States",
           "San Diego"
          ],
          [
           "grid.417448.a",
           "United States",
           "San Diego"
          ],
          [
           "grid.418227.a",
           "United States",
           "Foster City"
          ],
          [
           "grid.420211.4",
           "United States",
           "Mountain View"
          ],
          [
           "grid.422597.f",
           "United States",
           "Palo Alto"
          ],
          [
           "grid.417886.4",
           "United States",
           "Thousand Oaks"
          ],
          [
           "grid.434656.6",
           "United States",
           "Washington D.C."
          ],
          [
           "grid.468198.a",
           "United States",
           "Tampa"
          ],
          [
           "grid.428467.b",
           "United States",
           "Miami"
          ],
          [
           "grid.416778.b",
           "United States",
           "Atlanta"
          ],
          [
           "grid.420360.3",
           "United States",
           "Coralville"
          ],
          [
           "grid.270301.7",
           "United States",
           "Cambridge"
          ],
          [
           "grid.422219.e",
           "United States",
           "Boston"
          ],
          [
           "grid.62560.37",
           "United States",
           "Boston"
          ],
          [
           "grid.419234.9",
           "United States",
           "Bethesda"
          ],
          [
           "grid.280128.1",
           "United States",
           "Bethesda"
          ],
          [
           "grid.201075.1",
           "United States",
           "Bethesda"
          ],
          [
           "grid.214431.1",
           "United States",
           "Bethesda"
          ],
          [
           "grid.483501.b",
           "United States",
           "College Park"
          ],
          [
           "grid.410443.6",
           "United States",
           "Adelphi"
          ],
          [
           "grid.418961.3",
           "United States",
           "Tarrytown"
          ],
          [
           "grid.458364.8",
           "United States",
           "Arlington"
          ],
          [
           "grid.461629.e",
           "United States",
           "Vienna"
          ],
          [
           "grid.488833.c",
           "United States",
           "Seattle"
          ],
          [
           "grid.239585.0",
           "United States",
           "New York"
          ],
          [
           "grid.254880.3",
           "United States",
           "Hanover"
          ],
          [
           "grid.40263.33",
           "United States",
           "Providence"
          ],
          [
           "grid.417691.c",
           "United States",
           "Huntsville"
          ],
          [
           "grid.429220.f",
           "United States",
           "Huntsville"
          ],
          [
           "grid.250942.8",
           "United States",
           "Phoenix"
          ],
          [
           "grid.417621.7",
           "United States",
           "Tucson"
          ],
          [
           "grid.423110.5",
           "United States",
           "Oakland"
          ],
          [
           "grid.417411.6",
           "United States",
           "Berkeley"
          ],
          [
           "grid.451372.6",
           "United States",
           "Emeryville"
          ],
          [
           "grid.432482.b",
           "United States",
           "Emeryville"
          ],
          [
           "grid.420641.5",
           "United States",
           "Fremont"
          ],
          [
           "grid.509756.8",
           "United States",
           "Culver City"
          ],
          [
           "grid.428355.d",
           "United States",
           "Los Angeles"
          ],
          [
           "grid.266096.d",
           "United States",
           "Merced"
          ],
          [
           "grid.236815.b",
           "United States",
           "Sacramento"
          ],
          [
           "grid.470413.5",
           "United States",
           "San Diego"
          ],
          [
           "grid.422444.0",
           "United States",
           "San Diego"
          ],
          [
           "grid.427368.c",
           "United States",
           "La Jolla"
          ],
          [
           "grid.470262.5",
           "United States",
           "San Diego"
          ],
          [
           "grid.465243.2",
           "United States",
           "San Diego"
          ],
          [
           "grid.430349.9",
           "United States",
           "San Diego"
          ],
          [
           "grid.487978.d",
           "United States",
           "San Diego"
          ],
          [
           "grid.420355.5",
           "United States",
           "San Diego"
          ],
          [
           "grid.488377.7",
           "United States",
           "San Diego"
          ],
          [
           "grid.469946.0",
           "United States",
           "La Jolla"
          ],
          [
           "grid.417474.5",
           "United States",
           "San Diego"
          ],
          [
           "grid.427548.8",
           "United States",
           "San Diego"
          ],
          [
           "grid.505083.b",
           "United States",
           "San Francisco"
          ],
          [
           "grid.418557.a",
           "United States",
           "San Francisco"
          ],
          [
           "grid.452614.0",
           "United States",
           "San Francisco"
          ],
          [
           "grid.487833.3",
           "United States",
           "San Francisco"
          ],
          [
           "grid.423340.2",
           "United States",
           "Menlo Park"
          ],
          [
           "grid.453567.6",
           "United States",
           "Menlo Park"
          ],
          [
           "grid.510077.4",
           "United States",
           "South San Francisco"
          ],
          [
           "grid.429615.d",
           "United States",
           "South San Francisco"
          ],
          [
           "grid.434549.b",
           "United States",
           "San Carlos"
          ],
          [
           "grid.420536.6",
           "United States",
           "San Carlos"
          ],
          [
           "grid.422630.1",
           "United States",
           "Mountain View"
          ],
          [
           "grid.420283.f",
           "United States",
           "Sunnyvale"
          ],
          [
           "grid.429475.9",
           "United States",
           "Saratoga"
          ],
          [
           "grid.497299.8",
           "United States",
           "Mountain View"
          ],
          [
           "grid.450278.c",
           "United States",
           "Mountain View"
          ],
          [
           "grid.437866.8",
           "United States",
           "Boulder"
          ],
          [
           "grid.422370.0",
           "United States",
           "Miramar"
          ],
          [
           "grid.421231.7",
           "United States",
           "Tucker"
          ],
          [
           "grid.419260.8",
           "United States",
           "Atlanta"
          ],
          [
           "grid.427642.1",
           "United States",
           "Cambridge"
          ],
          [
           "grid.470381.9",
           "United States",
           "Lexington"
          ],
          [
           "grid.426700.7",
           "United States",
           "Medford"
          ],
          [
           "grid.476802.f",
           "United States",
           "Cambridge"
          ],
          [
           "grid.486907.4",
           "United States",
           "Waltham"
          ],
          [
           "grid.459961.6",
           "United States",
           "Cambridge"
          ],
          [
           "grid.417437.2",
           "United States",
           "Burlington"
          ],
          [
           "grid.418190.5",
           "United States",
           "Waltham"
          ],
          [
           "grid.482682.2",
           "United States",
           "Cambridge"
          ],
          [
           "grid.427815.d",
           "United States",
           "Cambridge"
          ],
          [
           "grid.476247.4",
           "United States",
           "Cambridge"
          ],
          [
           "grid.450329.9",
           "United States",
           "Cambridge"
          ],
          [
           "grid.488375.5",
           "United States",
           "Waltham"
          ],
          [
           "grid.66859.34",
           "United States",
           "Cambridge"
          ],
          [
           "grid.417897.4",
           "United States",
           "Cambridge"
          ],
          [
           "grid.428007.9",
           "United States",
           "Waltham"
          ],
          [
           "grid.459493.6",
           "United States",
           "Cambridge"
          ],
          [
           "grid.421702.2",
           "United States",
           "Cambridge"
          ],
          [
           "grid.461656.6",
           "United States",
           "Cambridge"
          ],
          [
           "grid.430126.2",
           "United States",
           "Cambridge"
          ],
          [
           "grid.476821.e",
           "United States",
           "Boston"
          ],
          [
           "grid.420404.6",
           "United States",
           "Boston"
          ],
          [
           "grid.440664.4",
           "United States",
           "Rockville"
          ],
          [
           "grid.428731.b",
           "United States",
           "Gaithersburg"
          ],
          [
           "grid.421076.6",
           "United States",
           "Rockville"
          ],
          [
           "grid.417460.0",
           "United States",
           "Rockville"
          ],
          [
           "grid.420517.5",
           "United States",
           "Takoma Park"
          ],
          [
           "grid.280347.a",
           "United States",
           "Bethesda"
          ],
          [
           "grid.502785.d",
           "United States",
           "Baltimore"
          ],
          [
           "grid.427259.f",
           "United States",
           "Saint Paul"
          ],
          [
           "grid.429183.5",
           "United States",
           "Durham"
          ],
          [
           "grid.429964.4",
           "United States",
           "Durham"
          ],
          [
           "grid.422756.0",
           "United States",
           "Franklinton"
          ],
          [
           "grid.420134.0",
           "United States",
           "Greensboro"
          ],
          [
           "grid.470334.7",
           "United States",
           "Chapel Hill"
          ],
          [
           "grid.428198.e",
           "United States",
           "Chapel Hill"
          ],
          [
           "grid.427771.0",
           "United States",
           "Cranbury"
          ],
          [
           "grid.428496.5",
           "United States",
           "Parsippany"
          ],
          [
           "grid.504616.0",
           "United States",
           "Summit"
          ],
          [
           "grid.453209.9",
           "United States",
           "New York"
          ],
          [
           "grid.476455.1",
           "United States",
           "New York"
          ],
          [
           "grid.430781.9",
           "United States",
           "New York"
          ],
          [
           "grid.420183.c",
           "United States",
           "New York"
          ],
          [
           "grid.450645.6",
           "United States",
           "Stony Brook"
          ],
          [
           "grid.470351.4",
           "United States",
           "Pittsburgh"
          ],
          [
           "grid.421355.4",
           "United States",
           "Malvern"
          ],
          [
           "grid.419047.f",
           "United States",
           "King of Prussia"
          ],
          [
           "grid.418019.5",
           "United States",
           "Philadelphia"
          ],
          [
           "grid.281032.a",
           "United States",
           "Philadelphia"
          ],
          [
           "grid.492659.5",
           "United States",
           "Irving"
          ],
          [
           "grid.443970.d",
           "United States",
           "Ashburn"
          ],
          [
           "grid.418737.e",
           "United States",
           "Blacksburg"
          ],
          [
           "grid.471104.7",
           "United States",
           "Bellevue"
          ],
          [
           "grid.64212.33",
           "United States",
           "Seattle"
          ],
          [
           "grid.418309.7",
           "United States",
           "Seattle"
          ],
          [
           "grid.417881.3",
           "United States",
           "Seattle"
          ],
          [
           "grid.421105.3",
           "United States",
           "Seattle"
          ],
          [
           "grid.497236.d",
           "United States",
           "Seattle"
          ],
          [
           "grid.430406.5",
           "United States",
           "Seattle"
          ],
          [
           "grid.437955.9",
           "United States",
           "Madison"
          ],
          [
           "grid.451309.a",
           "United States",
           "Berkeley"
          ],
          [
           "grid.488373.3",
           "United States",
           "Fremont"
          ],
          [
           "grid.421831.d",
           "United States",
           "Richmond"
          ],
          [
           "grid.272799.0",
           "United States",
           "Novato"
          ],
          [
           "grid.422932.c",
           "United States",
           "San Rafael"
          ],
          [
           "grid.465138.d",
           "United States",
           "Aliso Viejo"
          ],
          [
           "grid.420280.c",
           "United States",
           "Fontana"
          ],
          [
           "grid.471367.0",
           "United States",
           "Mountain View Acres"
          ],
          [
           "grid.214007.0",
           "United States",
           "San Diego"
          ],
          [
           "grid.282569.2",
           "United States",
           "Carlsbad"
          ],
          [
           "grid.185669.5",
           "United States",
           "San Diego"
          ],
          [
           "grid.421926.a",
           "United States",
           "Carlsbad"
          ],
          [
           "grid.429811.7",
           "United States",
           "San Diego"
          ],
          [
           "grid.476522.0",
           "United States",
           "San Francisco"
          ],
          [
           "grid.481625.c",
           "United States",
           "South San Francisco"
          ],
          [
           "grid.418219.7",
           "United States",
           "Menlo Park"
          ],
          [
           "grid.459809.9",
           "United States",
           "Santa Clara"
          ],
          [
           "grid.414123.1",
           "United States",
           "Palo Alto"
          ],
          [
           "grid.429970.1",
           "United States",
           "Sunnyvale"
          ],
          [
           "grid.420451.6",
           "United States",
           "Mountain View"
          ],
          [
           "grid.422638.9",
           "United States",
           "Santa Clara"
          ],
          [
           "grid.429426.f",
           "United States",
           "Norwalk"
          ],
          [
           "grid.422288.6",
           "United States",
           "Cheshire"
          ],
          [
           "grid.417610.5",
           "United States",
           "Washington D.C."
          ],
          [
           "grid.418152.b",
           "United States",
           "Wilmington"
          ],
          [
           "grid.255962.f",
           "United States",
           "Fort Myers"
          ],
          [
           "grid.481548.4",
           "United States",
           "Tallahassee"
          ],
          [
           "grid.470935.c",
           "United States",
           "Atlanta"
          ],
          [
           "grid.420530.0",
           "United States",
           "Danvers"
          ],
          [
           "grid.427919.0",
           "United States",
           "Bedford"
          ],
          [
           "grid.476457.3",
           "United States",
           "Framingham"
          ],
          [
           "grid.239395.7",
           "United States",
           "Boston"
          ],
          [
           "grid.452687.a",
           "United States",
           "Boston"
          ],
          [
           "grid.483004.b",
           "United States",
           "Boston"
          ],
          [
           "grid.280642.a",
           "United States",
           "Worcester"
          ],
          [
           "grid.421987.1",
           "United States",
           "Silver Spring"
          ],
          [
           "grid.435829.1",
           "United States",
           "Gaithersburg"
          ],
          [
           "grid.429581.3",
           "United States",
           "Baltimore"
          ],
          [
           "grid.251017.0",
           "United States",
           "Grand Rapids"
          ],
          [
           "grid.421937.a",
           "United States",
           "Mattawan"
          ],
          [
           "grid.250820.d",
           "United States",
           "Kansas City"
          ],
          [
           "grid.34424.35",
           "United States",
           "St Louis"
          ],
          [
           "grid.417553.1",
           "United States",
           "Vicksburg"
          ],
          [
           "grid.422691.a",
           "United States",
           "Omaha"
          ],
          [
           "grid.437213.0",
           "United States",
           "Hackensack"
          ],
          [
           "grid.423413.3",
           "United States",
           "Rutherford"
          ],
          [
           "grid.419253.8",
           "United States",
           "Santa Fe"
          ],
          [
           "grid.430264.7",
           "United States",
           "New York"
          ],
          [
           "grid.280587.0",
           "United States",
           "New York"
          ],
          [
           "grid.418424.f",
           "United States",
           "New York"
          ],
          [
           "grid.431549.e",
           "United States",
           "New York"
          ],
          [
           "grid.250903.d",
           "United States",
           "Manhasset"
          ],
          [
           "grid.416477.7",
           "United States",
           "New Hyde Park"
          ],
          [
           "grid.281110.b",
           "United States",
           "Tarrytown"
          ],
          [
           "grid.417402.4",
           "United States",
           "Ardsley"
          ],
          [
           "grid.423008.d",
           "United States",
           "Cleveland"
          ],
          [
           "grid.413944.f",
           "United States",
           "Columbus"
          ],
          [
           "grid.477270.1",
           "United States",
           "Canton"
          ],
          [
           "grid.427922.8",
           "United States",
           "Woonsocket"
          ],
          [
           "grid.423240.3",
           "United States",
           "Charleston"
          ],
          [
           "grid.412408.b",
           "United States",
           "College Station"
          ],
          [
           "grid.417425.1",
           "United States",
           "The Woodlands"
          ],
          [
           "grid.420522.3",
           "United States",
           "Blacksburg"
          ],
          [
           "grid.462982.3",
           "United States",
           "Bothell"
          ],
          [
           "grid.438014.a",
           "United States",
           "Bothell"
          ],
          [
           "grid.467171.2",
           "United States",
           "Seattle"
          ],
          [
           "grid.421810.e",
           "United States",
           "Bainbridge Island"
          ],
          [
           "grid.439113.d",
           "United States",
           "Madison"
          ],
          [
           "grid.416832.a",
           "United States",
           "Wilmington"
          ],
          [
           "grid.411024.2",
           "United States",
           "Baltimore"
          ],
          [
           "grid.259956.4",
           "United States",
           "Oxford"
          ],
          [
           "grid.260002.6",
           "United States",
           "Middlebury (village)"
          ],
          [
           "grid.33489.35",
           "United States",
           "Newark"
          ],
          [
           "grid.16750.35",
           "United States",
           "Princeton"
          ],
          [
           "grid.25879.31",
           "United States",
           "Philadelphia"
          ],
          [
           "grid.213910.8",
           "United States",
           "Washington D.C."
          ],
          [
           "grid.213876.9",
           "United States",
           "Athens"
          ],
          [
           "grid.419849.9",
           "United States",
           "Deerfield"
          ],
          [
           "grid.410711.2",
           "United States",
           "Chapel Hill"
          ],
          [
           "grid.10698.36",
           "United States",
           "Chapel Hill"
          ],
          [
           "grid.21925.3d",
           "United States",
           "Pittsburgh"
          ],
          [
           "grid.21729.3f",
           "United States",
           "New York"
          ],
          [
           "grid.240324.3",
           "United States",
           "New York"
          ],
          [
           "grid.410513.2",
           "United States",
           "New York"
          ],
          [
           "grid.214572.7",
           "United States",
           "Iowa City"
          ],
          [
           "grid.413701.0",
           "United States",
           "Chicago"
          ],
          [
           "grid.131063.6",
           "United States",
           "Notre Dame"
          ],
          [
           "grid.416511.6",
           "United States",
           "Boston"
          ],
          [
           "grid.265850.c",
           "United States",
           "Albany"
          ],
          [
           "grid.273335.3",
           "United States",
           "Buffalo"
          ],
          [
           "grid.417046.0",
           "United States",
           "Pittsburgh"
          ],
          [
           "grid.28803.31",
           "United States",
           "Madison"
          ],
          [
           "grid.14003.36",
           "United States",
           "Madison"
          ]
         ],
         "geo": "geo",
         "hovertemplate": "<b>%{hovertext}</b><br><br>country=%{customdata[1]}<br>people=%{marker.size}<br>lat=%{lat}<br>long=%{lon}<br>gridid=%{customdata[0]}<br>city=%{customdata[2]}<extra></extra>",
         "hovertext": [
          "grid.67033.31",
          "grid.265438.e",
          "grid.411461.7",
          "grid.59062.38",
          "grid.413734.6",
          "grid.420176.6",
          "grid.483504.e",
          "grid.487961.5",
          "grid.507310.0",
          "grid.418416.e",
          "grid.492938.d",
          "grid.421404.7",
          "grid.486194.6",
          "grid.474017.1",
          "grid.476870.a",
          "grid.467642.5",
          "grid.486911.3",
          "grid.250060.1",
          "grid.428337.9",
          "grid.432444.1",
          "grid.482909.e",
          "grid.453125.4",
          "grid.507874.9",
          "grid.483500.a",
          "grid.417768.b",
          "grid.483503.9",
          "grid.432957.e",
          "grid.492575.8",
          "grid.417388.1",
          "grid.492966.6",
          "grid.47100.32",
          "grid.257167.0",
          "grid.241054.6",
          "grid.411017.2",
          "grid.266102.1",
          "grid.430503.1",
          "grid.266190.a",
          "grid.266186.d",
          "grid.254549.b",
          "grid.47894.36",
          "grid.421470.4",
          "grid.239560.b",
          "grid.164971.c",
          "grid.417540.3",
          "grid.262642.6",
          "grid.21107.35",
          "grid.263825.8",
          "grid.260120.7",
          "grid.266818.3",
          "grid.264484.8",
          "grid.261331.4",
          "grid.267337.4",
          "grid.170202.6",
          "grid.412713.2",
          "grid.411115.1",
          "grid.152326.1",
          "grid.412807.8",
          "grid.264756.4",
          "grid.267323.1",
          "grid.240145.6",
          "grid.89336.37",
          "grid.262103.4",
          "grid.253294.b",
          "grid.438526.e",
          "grid.274295.f",
          "grid.418559.4",
          "grid.26790.3a",
          "grid.292487.2",
          "grid.417480.e",
          "grid.265990.1",
          "grid.249880.f",
          "grid.412750.5",
          "grid.239578.2",
          "grid.266436.3",
          "grid.264784.b",
          "grid.32224.35",
          "grid.214458.e",
          "grid.24827.3b",
          "grid.27755.32",
          "grid.134907.8",
          "grid.50956.3f",
          "grid.239546.f",
          "grid.43582.38",
          "grid.261930.f",
          "grid.217200.6",
          "grid.418000.d",
          "grid.27860.3b",
          "grid.410445.0",
          "grid.417587.8",
          "grid.94225.38",
          "grid.507869.5",
          "grid.268187.2",
          "grid.418554.9",
          "grid.508985.9",
          "grid.60094.3b",
          "grid.147455.6",
          "grid.249335.a",
          "grid.39382.33",
          "grid.240741.4",
          "grid.257992.2",
          "grid.215654.1",
          "grid.134563.6",
          "grid.253555.1",
          "grid.42505.36",
          "grid.418412.a",
          "grid.63054.34",
          "grid.281926.6",
          "grid.39936.36",
          "grid.417467.7",
          "grid.213917.f",
          "grid.417574.4",
          "grid.94365.3d",
          "grid.66875.3a",
          "grid.40803.3f",
          "grid.266862.e",
          "grid.266813.8",
          "grid.260896.3",
          "grid.417429.d",
          "grid.266832.b",
          "grid.24805.3b",
          "grid.419971.3",
          "grid.51462.34",
          "grid.239573.9",
          "grid.264727.2",
          "grid.26090.3d",
          "grid.53857.3c",
          "grid.59734.3c",
          "grid.265892.2",
          "grid.427785.b",
          "grid.266093.8",
          "grid.253565.2",
          "grid.250671.7",
          "grid.266100.3",
          "grid.462962.d",
          "grid.242678.d",
          "grid.419318.6",
          "grid.280747.e",
          "grid.205975.c",
          "grid.262900.f",
          "grid.208078.5",
          "grid.420071.0",
          "grid.420285.9",
          "grid.65456.34",
          "grid.170430.1",
          "grid.255951.f",
          "grid.258509.3",
          "grid.257413.6",
          "grid.417716.2",
          "grid.168645.8",
          "grid.410422.1",
          "grid.280785.0",
          "grid.420089.7",
          "grid.280030.9",
          "grid.266673.0",
          "grid.413874.d",
          "grid.256549.9",
          "grid.280664.e",
          "grid.270913.e",
          "grid.418431.b",
          "grid.481554.9",
          "grid.268333.f",
          "grid.410436.4",
          "grid.421592.9",
          "grid.240473.6",
          "grid.250221.6",
          "grid.240871.8",
          "grid.264764.5",
          "grid.451303.0",
          "grid.280062.e",
          "grid.416507.1",
          "grid.34474.30",
          "grid.267102.0",
          "grid.98913.3a",
          "grid.410311.6",
          "grid.416738.f",
          "grid.266426.2",
          "grid.187073.a",
          "grid.507314.4",
          "grid.253264.4",
          "grid.65499.37",
          "grid.415913.b",
          "grid.279885.9",
          "grid.416868.5",
          "grid.414467.4",
          "grid.454225.0",
          "grid.266859.6",
          "grid.148313.c",
          "grid.264260.4",
          "grid.202665.5",
          "grid.419447.b",
          "grid.135519.a",
          "grid.250889.e",
          "grid.264763.2",
          "grid.267313.2",
          "grid.414016.6",
          "grid.410425.6",
          "grid.259256.f",
          "grid.19006.3e",
          "grid.256304.6",
          "grid.262641.5",
          "grid.268355.f",
          "grid.252968.2",
          "grid.420985.2",
          "grid.239864.2",
          "grid.268073.8",
          "grid.267193.8",
          "grid.264257.0",
          "grid.280776.c",
          "grid.267301.1",
          "grid.267324.6",
          "grid.21940.3e",
          "grid.63368.38",
          "grid.280718.4",
          "grid.267044.3",
          "grid.261120.6",
          "grid.20861.3d",
          "grid.263081.e",
          "grid.418158.1",
          "grid.133342.4",
          "grid.168010.e",
          "grid.256036.4",
          "grid.418436.c",
          "grid.412584.e",
          "grid.170205.1",
          "grid.62813.3e",
          "grid.261128.e",
          "grid.266686.a",
          "grid.225262.3",
          "grid.261112.7",
          "grid.290496.0",
          "grid.418574.b",
          "grid.239559.1",
          "grid.41891.35",
          "grid.268294.3",
          "grid.266860.c",
          "grid.252323.7",
          "grid.261055.5",
          "grid.414483.e",
          "grid.417993.1",
          "grid.254280.9",
          "grid.225279.9",
          "grid.240344.5",
          "grid.266900.b",
          "grid.65519.3e",
          "grid.251075.4",
          "grid.166341.7",
          "grid.266869.5",
          "grid.176731.5",
          "grid.30064.31",
          "grid.30760.32",
          "grid.453260.6",
          "grid.265893.3",
          "grid.474523.3",
          "grid.418312.d",
          "grid.413083.d",
          "grid.266097.c",
          "grid.286440.c",
          "grid.280902.1",
          "grid.508981.d",
          "grid.453252.7",
          "grid.463419.d",
          "grid.507680.c",
          "grid.170693.a",
          "grid.420675.2",
          "grid.430804.b",
          "grid.504876.8",
          "grid.420015.2",
          "grid.16694.3c",
          "grid.420086.8",
          "grid.410305.3",
          "grid.416870.c",
          "grid.413575.1",
          "grid.419681.3",
          "grid.261277.7",
          "grid.497530.c",
          "grid.272362.0",
          "grid.251993.5",
          "grid.36425.36",
          "grid.267309.9",
          "grid.22448.38",
          "grid.280838.9",
          "grid.267468.9",
          "grid.38142.3c",
          "grid.479455.e",
          "grid.497331.b",
          "grid.498512.3",
          "grid.465238.e",
          "grid.430528.8",
          "grid.504177.0",
          "grid.492581.3",
          "grid.484860.6",
          "grid.470487.8",
          "grid.488004.0",
          "grid.499295.a",
          "grid.420401.3",
          "grid.507173.7",
          "grid.507497.8",
          "grid.465210.4",
          "grid.490011.d",
          "grid.452682.f",
          "grid.459934.6",
          "grid.508097.3",
          "grid.491115.9",
          "grid.476637.7",
          "grid.505809.1",
          "grid.428679.6",
          "grid.504674.4",
          "grid.504403.6",
          "grid.508744.a",
          "grid.504602.5",
          "grid.421185.b",
          "grid.431072.3",
          "grid.476823.c",
          "grid.504866.9",
          "grid.510013.6",
          "grid.510029.f",
          "grid.510124.3",
          "grid.492588.a",
          "grid.508749.7",
          "grid.479574.c",
          "grid.508052.a",
          "grid.460014.7",
          "grid.489033.5",
          "grid.507100.3",
          "grid.509093.6",
          "grid.504417.3",
          "grid.479429.5",
          "grid.487063.e",
          "grid.471409.f",
          "grid.450648.b",
          "grid.429651.d",
          "grid.429552.d",
          "grid.438717.e",
          "grid.470405.2",
          "grid.504731.4",
          "grid.499345.6",
          "grid.488092.f",
          "grid.429392.7",
          "grid.509841.1",
          "grid.429884.b",
          "grid.504485.8",
          "grid.487864.1",
          "grid.432026.1",
          "grid.476706.4",
          "grid.449717.8",
          "grid.488617.4",
          "grid.509573.d",
          "grid.47840.3f",
          "grid.30389.31",
          "grid.266239.a",
          "grid.417548.b",
          "grid.35403.31",
          "grid.169077.e",
          "grid.411031.6",
          "grid.257409.d",
          "grid.266515.3",
          "grid.36567.31",
          "grid.266539.d",
          "grid.64337.35",
          "grid.266683.f",
          "grid.116068.8",
          "grid.208226.c",
          "grid.2515.3",
          "grid.240845.f",
          "grid.268323.e",
          "grid.21106.34",
          "grid.24434.35",
          "grid.167436.1",
          "grid.418235.9",
          "grid.262863.b",
          "grid.5386.8",
          "grid.4391.f",
          "grid.259029.5",
          "grid.34477.33",
          "grid.268154.c",
          "grid.252546.2",
          "grid.263156.5",
          "grid.15276.37",
          "grid.255986.5",
          "grid.34421.30",
          "grid.185648.6",
          "grid.16753.36",
          "grid.429997.8",
          "grid.266685.9",
          "grid.164295.d",
          "grid.257108.9",
          "grid.17088.36",
          "grid.17635.36",
          "grid.4367.6",
          "grid.264500.5",
          "grid.16416.34",
          "grid.417796.a",
          "grid.29857.31",
          "grid.239552.a",
          "grid.264141.4",
          "grid.223827.e",
          "grid.266851.e",
          "grid.189967.8",
          "grid.189504.1",
          "grid.280285.5",
          "grid.134936.a",
          "grid.26009.3d",
          "grid.241167.7",
          "grid.137628.9",
          "grid.411023.5",
          "grid.412332.5",
          "grid.267065.0",
          "grid.224260.0",
          "grid.184769.5",
          "grid.410372.3",
          "grid.418547.b",
          "grid.448406.a",
          "grid.418232.e",
          "grid.279863.1",
          "grid.56466.37",
          "grid.419236.b",
          "grid.48336.3a",
          "grid.467435.7",
          "grid.266756.6",
          "grid.189509.c",
          "grid.78989.37",
          "grid.257060.6",
          "grid.453810.b",
          "grid.253615.6",
          "grid.411377.7",
          "grid.416498.6",
          "grid.39479.30",
          "grid.420277.4",
          "grid.430387.b",
          "grid.33647.35",
          "grid.67105.35",
          "grid.265008.9",
          "grid.412726.4",
          "grid.259828.c",
          "grid.479509.6",
          "grid.249878.8",
          "grid.419357.d",
          "grid.419346.d",
          "grid.418698.a",
          "grid.503912.c",
          "grid.414572.1",
          "grid.419791.3",
          "grid.273406.4",
          "grid.417832.b",
          "grid.413735.7",
          "grid.418021.e",
          "grid.419475.a",
          "grid.296275.d",
          "grid.413656.3",
          "grid.438656.a",
          "grid.417555.7",
          "grid.1052.6",
          "grid.266902.9",
          "grid.5288.7",
          "grid.267308.8",
          "grid.416992.1",
          "grid.266871.c",
          "grid.53964.3d",
          "grid.270240.3",
          "grid.419815.0",
          "grid.478347.b",
          "grid.488272.3",
          "grid.432364.4",
          "grid.417882.0",
          "grid.185006.a",
          "grid.419957.7",
          "grid.417448.a",
          "grid.418227.a",
          "grid.420211.4",
          "grid.422597.f",
          "grid.417886.4",
          "grid.434656.6",
          "grid.468198.a",
          "grid.428467.b",
          "grid.416778.b",
          "grid.420360.3",
          "grid.270301.7",
          "grid.422219.e",
          "grid.62560.37",
          "grid.419234.9",
          "grid.280128.1",
          "grid.201075.1",
          "grid.214431.1",
          "grid.483501.b",
          "grid.410443.6",
          "grid.418961.3",
          "grid.458364.8",
          "grid.461629.e",
          "grid.488833.c",
          "grid.239585.0",
          "grid.254880.3",
          "grid.40263.33",
          "grid.417691.c",
          "grid.429220.f",
          "grid.250942.8",
          "grid.417621.7",
          "grid.423110.5",
          "grid.417411.6",
          "grid.451372.6",
          "grid.432482.b",
          "grid.420641.5",
          "grid.509756.8",
          "grid.428355.d",
          "grid.266096.d",
          "grid.236815.b",
          "grid.470413.5",
          "grid.422444.0",
          "grid.427368.c",
          "grid.470262.5",
          "grid.465243.2",
          "grid.430349.9",
          "grid.487978.d",
          "grid.420355.5",
          "grid.488377.7",
          "grid.469946.0",
          "grid.417474.5",
          "grid.427548.8",
          "grid.505083.b",
          "grid.418557.a",
          "grid.452614.0",
          "grid.487833.3",
          "grid.423340.2",
          "grid.453567.6",
          "grid.510077.4",
          "grid.429615.d",
          "grid.434549.b",
          "grid.420536.6",
          "grid.422630.1",
          "grid.420283.f",
          "grid.429475.9",
          "grid.497299.8",
          "grid.450278.c",
          "grid.437866.8",
          "grid.422370.0",
          "grid.421231.7",
          "grid.419260.8",
          "grid.427642.1",
          "grid.470381.9",
          "grid.426700.7",
          "grid.476802.f",
          "grid.486907.4",
          "grid.459961.6",
          "grid.417437.2",
          "grid.418190.5",
          "grid.482682.2",
          "grid.427815.d",
          "grid.476247.4",
          "grid.450329.9",
          "grid.488375.5",
          "grid.66859.34",
          "grid.417897.4",
          "grid.428007.9",
          "grid.459493.6",
          "grid.421702.2",
          "grid.461656.6",
          "grid.430126.2",
          "grid.476821.e",
          "grid.420404.6",
          "grid.440664.4",
          "grid.428731.b",
          "grid.421076.6",
          "grid.417460.0",
          "grid.420517.5",
          "grid.280347.a",
          "grid.502785.d",
          "grid.427259.f",
          "grid.429183.5",
          "grid.429964.4",
          "grid.422756.0",
          "grid.420134.0",
          "grid.470334.7",
          "grid.428198.e",
          "grid.427771.0",
          "grid.428496.5",
          "grid.504616.0",
          "grid.453209.9",
          "grid.476455.1",
          "grid.430781.9",
          "grid.420183.c",
          "grid.450645.6",
          "grid.470351.4",
          "grid.421355.4",
          "grid.419047.f",
          "grid.418019.5",
          "grid.281032.a",
          "grid.492659.5",
          "grid.443970.d",
          "grid.418737.e",
          "grid.471104.7",
          "grid.64212.33",
          "grid.418309.7",
          "grid.417881.3",
          "grid.421105.3",
          "grid.497236.d",
          "grid.430406.5",
          "grid.437955.9",
          "grid.451309.a",
          "grid.488373.3",
          "grid.421831.d",
          "grid.272799.0",
          "grid.422932.c",
          "grid.465138.d",
          "grid.420280.c",
          "grid.471367.0",
          "grid.214007.0",
          "grid.282569.2",
          "grid.185669.5",
          "grid.421926.a",
          "grid.429811.7",
          "grid.476522.0",
          "grid.481625.c",
          "grid.418219.7",
          "grid.459809.9",
          "grid.414123.1",
          "grid.429970.1",
          "grid.420451.6",
          "grid.422638.9",
          "grid.429426.f",
          "grid.422288.6",
          "grid.417610.5",
          "grid.418152.b",
          "grid.255962.f",
          "grid.481548.4",
          "grid.470935.c",
          "grid.420530.0",
          "grid.427919.0",
          "grid.476457.3",
          "grid.239395.7",
          "grid.452687.a",
          "grid.483004.b",
          "grid.280642.a",
          "grid.421987.1",
          "grid.435829.1",
          "grid.429581.3",
          "grid.251017.0",
          "grid.421937.a",
          "grid.250820.d",
          "grid.34424.35",
          "grid.417553.1",
          "grid.422691.a",
          "grid.437213.0",
          "grid.423413.3",
          "grid.419253.8",
          "grid.430264.7",
          "grid.280587.0",
          "grid.418424.f",
          "grid.431549.e",
          "grid.250903.d",
          "grid.416477.7",
          "grid.281110.b",
          "grid.417402.4",
          "grid.423008.d",
          "grid.413944.f",
          "grid.477270.1",
          "grid.427922.8",
          "grid.423240.3",
          "grid.412408.b",
          "grid.417425.1",
          "grid.420522.3",
          "grid.462982.3",
          "grid.438014.a",
          "grid.467171.2",
          "grid.421810.e",
          "grid.439113.d",
          "grid.416832.a",
          "grid.411024.2",
          "grid.259956.4",
          "grid.260002.6",
          "grid.33489.35",
          "grid.16750.35",
          "grid.25879.31",
          "grid.213910.8",
          "grid.213876.9",
          "grid.419849.9",
          "grid.410711.2",
          "grid.10698.36",
          "grid.21925.3d",
          "grid.21729.3f",
          "grid.240324.3",
          "grid.410513.2",
          "grid.214572.7",
          "grid.413701.0",
          "grid.131063.6",
          "grid.416511.6",
          "grid.265850.c",
          "grid.273335.3",
          "grid.417046.0",
          "grid.28803.31",
          "grid.14003.36"
         ],
         "lat": [
          42.349510192871094,
          42.81776809692383,
          35.955928802490234,
          44.477500915527344,
          40.842750549316406,
          38.871665954589844,
          34.366329193115234,
          37.852298736572266,
          37.887210845947266,
          37.98569869995117,
          33.83378219604492,
          37.76655960083008,
          37.75883483886719,
          37.78805923461914,
          38.886634826660156,
          33.798370361328125,
          41.7840461730957,
          30.413999557495117,
          42.50796127319336,
          42.274932861328125,
          38.99466323852539,
          39.00370407104492,
          39.14091873168945,
          39.0198974609375,
          39.0040283203125,
          39.0539436340332,
          39.286354064941406,
          35.7752571105957,
          40.75266647338867,
          38.8648567199707,
          41.302093505859375,
          40.76853942871094,
          34.74988555908203,
          36.067901611328125,
          37.76279830932617,
          39.745147705078125,
          40.00736618041992,
          38.8924446105957,
          39.7514762878418,
          40.57368087768555,
          41.33073425292969,
          38.92729187011719,
          41.999900817871094,
          39.75627136230469,
          39.48271560668945,
          39.328887939453125,
          37.315155029296875,
          33.45399856567383,
          39.545833587646484,
          43.03767013549805,
          40,
          41.65771484375,
          44.04464340209961,
          39.95833206176758,
          39.94988250732422,
          36.144935607910156,
          36.1421012878418,
          30.610368728637695,
          32.98764419555664,
          29.707059860229492,
          30.28614044189453,
          30.09193992614746,
          40.25,
          37.220008850097656,
          40.86686706542969,
          32.72248840332031,
          25.71693992614746,
          41.67121124267578,
          42.40571594238281,
          39.30555725097656,
          44.93656921386719,
          43.123870849609375,
          41.3841438293457,
          29.72020149230957,
          33.58869171142578,
          42.3628044128418,
          42.27830505371094,
          39.132022857666016,
          38.03499984741211,
          40.76250076293945,
          34.07628631591797,
          34.097476959228516,
          34.053001403808594,
          32.716854095458984,
          32.86543655395508,
          37.429115295410156,
          38.540000915527344,
          21.30011558532715,
          39.0352783203125,
          39.135589599609375,
          39.14018630981445,
          42.28333282470703,
          38.670379638671875,
          33.43285369873047,
          43.09581756591797,
          40.443321228027344,
          40.07184982299805,
          29.71103858947754,
          47.662776947021484,
          33.821998596191406,
          33.41719436645508,
          32.23224639892578,
          39.731666564941406,
          34.020511627197266,
          41.373573303222656,
          41.807167053222656,
          38.925575256347656,
          38.93688201904297,
          30.289337158203125,
          33.77588653564453,
          42.29660415649414,
          39.00044250488281,
          44.024070739746094,
          35.784385681152344,
          47.92219924926758,
          41.2555046081543,
          40.742000579833984,
          40.49861145019531,
          35.08388900756836,
          32.281639099121094,
          40.75811004638672,
          40.76419448852539,
          39.14048767089844,
          39.98225784301758,
          34.6783332824707,
          41.74069595336914,
          40.789085388183594,
          33.500675201416016,
          33.481040954589844,
          33.64535140991211,
          34.18125915527344,
          32.887149810791016,
          32.88100051879883,
          32.71036148071289,
          37.80143356323242,
          37.387603759765625,
          37.404422760009766,
          37,
          41.22222137451172,
          41.73149871826172,
          38.92563247680664,
          38.89482879638672,
          25.7574405670166,
          28.601600646972656,
          26.371200561523438,
          34.03494644165039,
          39.7769660949707,
          38.256446838378906,
          42.27544403076172,
          39.001319885253906,
          38.997833251953125,
          39.001094818115234,
          39.00387954711914,
          39.25550079345703,
          39.31864929199219,
          42.9632682800293,
          35.88383102416992,
          43.7238883972168,
          41.39236831665039,
          41.210201263427734,
          39.779502868652344,
          45.52400588989258,
          40.23331832885742,
          40.264060974121094,
          39.956783294677734,
          35.15346908569336,
          29.31559944152832,
          46.343223571777344,
          37.80611038208008,
          34.03034591674805,
          34.00959777832031,
          32.77216339111328,
          37.456600189208984,
          38.90288543701172,
          33.7988166809082,
          19.699600219726562,
          41.70916748046875,
          29.96014976501465,
          42.365665435791016,
          42.337890625,
          39.00564956665039,
          39.00428009033203,
          39.003692626953125,
          39.00166702270508,
          36.10068130493164,
          35.30355453491211,
          35.87555694580078,
          42.08924865722656,
          40.86460876464844,
          34.184410095214844,
          35.93333435058594,
          29.439739227294922,
          30.617265701293945,
          32.81218338012695,
          37.76565933227539,
          34.129634857177734,
          33.97036361694336,
          34.07222366333008,
          33.75278091430664,
          42.301048278808594,
          29.965042114257812,
          42.38576126098633,
          42.34189987182617,
          42.36798095703125,
          38.59049987792969,
          31.32963752746582,
          43.034793853759766,
          40.96788787841797,
          35.13957214355469,
          31.770000457763672,
          29.717674255371094,
          29.96696662902832,
          44.677730560302734,
          18.209444046020508,
          35.194034576416016,
          34.13857650756836,
          32.77503967285156,
          37.656402587890625,
          34.41422653198242,
          37.43000030517578,
          32.53775405883789,
          21.392026901245117,
          41.659767150878906,
          41.788848876953125,
          41.83464813232422,
          41.93388748168945,
          41.628662109375,
          42.64271545410156,
          42.33982849121094,
          39.03550720214844,
          43.61600875854492,
          39.084049224853516,
          45.668331146240234,
          36.089454650878906,
          36.066654205322266,
          36.213844299316406,
          46.891700744628906,
          42.98411178588867,
          40.67867660522461,
          44.66349411010742,
          40.861942291259766,
          39.9525032043457,
          35.20861053466797,
          36.13222122192383,
          39.951080322265625,
          39.95685958862305,
          33.21199417114258,
          29.311201095581055,
          46.7321662902832,
          43.0438117980957,
          40.70708465576172,
          34.72728729248047,
          37.67760467529297,
          38.0230598449707,
          34.06638717651367,
          33.975555419921875,
          32.79796600341797,
          37.779361724853516,
          40.559513092041016,
          38.897254943847656,
          38.88850021362305,
          39.0060920715332,
          28.054561614990234,
          43.083961486816406,
          41.87886428833008,
          42.458980560302734,
          42.50493621826172,
          42.3390998840332,
          39.010887145996094,
          39.00166702270508,
          39.00382614135742,
          39.02183532714844,
          39.066646575927734,
          42.67266082763672,
          40.389217376708984,
          36.107791900634766,
          40.852176666259766,
          40.914222717285156,
          29.508129119873047,
          38.832435607910156,
          47.608848571777344,
          43.07503128051758,
          42.377052307128906,
          37.84149932861328,
          37.54781723022461,
          37.661659240722656,
          37.46531295776367,
          38.074607849121094,
          32.888038635253906,
          32.71577835083008,
          32.721473693847656,
          32.907981872558594,
          37.774391174316406,
          37.765968322753906,
          37.667198181152344,
          37.76707458496094,
          37.655242919921875,
          37.77930450439453,
          37.771446228027344,
          37.674537658691406,
          37.47600555419922,
          37.65366744995117,
          37.663536071777344,
          37.66257858276367,
          37.477394104003906,
          37.664066314697266,
          37.40190124511719,
          36.95455551147461,
          39.7554931640625,
          28.589685440063477,
          26.884145736694336,
          42.33421325683594,
          39.978302001953125,
          38.00291442871094,
          42.39494323730469,
          42.36760330200195,
          42.47389221191406,
          42.35831069946289,
          42.357730865478516,
          42.367431640625,
          42.37818908691406,
          42.36040496826172,
          42.37799835205078,
          42.36305236816406,
          42.366668701171875,
          42.39453887939453,
          42.33272933959961,
          42.350303649902344,
          42.35115432739258,
          42.28061294555664,
          39.09584045410156,
          39.30019760131836,
          42.9503059387207,
          35.89198684692383,
          36.05707550048828,
          35.87010192871094,
          40.8419075012207,
          40.560585021972656,
          40.755104064941406,
          40.72368621826172,
          40.65643310546875,
          42.871097564697266,
          40.23278045654297,
          39.957054138183594,
          26.304983139038086,
          47.61251449584961,
          43.073360443115234,
          37.872161865234375,
          37.80216979980469,
          39.6783332824707,
          38.887939453125,
          40.10218048095703,
          40.4239501953125,
          40.428165435791016,
          39.46952438354492,
          38.954586029052734,
          39.197242736816406,
          38.03099060058594,
          30.413997650146484,
          42.38900375366211,
          42.35982131958008,
          42.3350830078125,
          42.33753967285156,
          42.34901428222656,
          42.27349090576172,
          44.89775085449219,
          40.824092864990234,
          43.13555908203125,
          40.77725601196289,
          40.655399322509766,
          42.448509216308594,
          44.563995361328125,
          40.606712341308594,
          47.65553665161133,
          39.63581848144531,
          32.60337448120117,
          37.350101470947266,
          29.643901824951172,
          30.44224739074707,
          42.024959564208984,
          41.87530517578125,
          42.05485153198242,
          42.409828186035156,
          42.31343078613281,
          38.98304748535156,
          42.788818359375,
          42.722999572753906,
          44.97419357299805,
          38.64903259277344,
          40.27122116088867,
          43.129425048828125,
          42.14539337158203,
          40.7984504699707,
          39.94898223876953,
          29.453317642211914,
          40.76496124267578,
          34.80791473388672,
          33.79278564453125,
          42.34960174560547,
          39.15106201171875,
          38.939178466796875,
          36.00314712524414,
          36.13011932373047,
          40.72999954223633,
          43.04138946533203,
          39.99479675292969,
          37.57516098022461,
          37.54878234863281,
          37.87544250488281,
          37.782470703125,
          37.413578033447266,
          41.867645263671875,
          42.15915298461914,
          29.956069946289062,
          41.52451705932617,
          42.404296875,
          39.00432586669922,
          42.08072280883789,
          39.033546447753906,
          36.007198333740234,
          40.331668853759766,
          40.71460723876953,
          32.90925598144531,
          38.89997482299805,
          39.17086410522461,
          42.336788177490234,
          42.36375427246094,
          39.06300354003906,
          40.740875244140625,
          42.73039245605469,
          41.50442123413086,
          39.947906494140625,
          39.94969177246094,
          32.786598205566406,
          32.90142059326172,
          37.76807403564453,
          39.740577697753906,
          38.903255462646484,
          38.893741607666016,
          38.9116096496582,
          38.90541076660156,
          25.788877487182617,
          42.650489807128906,
          42.36643981933594,
          42.361778259277344,
          39.43972396850586,
          39.0037956237793,
          43.859989166259766,
          42.97016906738281,
          35.82869338989258,
          40.63608169555664,
          40.747928619384766,
          35.48027801513672,
          45.49939727783203,
          29.703306198120117,
          33.58939743041992,
          32.748600006103516,
          47.62129211425781,
          47.627288818359375,
          47.63972091674805,
          33.40306854248047,
          34.14195251464844,
          38.005523681640625,
          33.671878814697266,
          32.87724304199219,
          32.803836822509766,
          32.715118408203125,
          37.56748962402344,
          37.41084289550781,
          37.53994369506836,
          34.17361831665039,
          38.945030212402344,
          28.064537048339844,
          25.7278995513916,
          33.84794235229492,
          41.69618225097656,
          42.36313247680664,
          42.353431701660156,
          42.335601806640625,
          38.98492431640625,
          38.99696731567383,
          39.02962112426758,
          39.105712890625,
          38.977378845214844,
          39.00202560424805,
          41.07861328125,
          38.893253326416016,
          38.9014892578125,
          47.61693572998047,
          40.80755615234375,
          43.704673767089844,
          41.82619857788086,
          34.72541427612305,
          34.72731399536133,
          33.46274185180664,
          32.28718948364258,
          37.80714797973633,
          37.85337448120117,
          37.84055709838867,
          37.84048080444336,
          37.50924301147461,
          34.014373779296875,
          34.158756256103516,
          37.3629150390625,
          38.58279037475586,
          32.900962829589844,
          32.88662338256836,
          32.90967559814453,
          32.883460998535156,
          32.87797546386719,
          32.87826919555664,
          32.89791488647461,
          32.878089904785156,
          32.77375030517578,
          32.869110107421875,
          32.84318161010742,
          32.89155960083008,
          37.771583557128906,
          37.77803421020508,
          37.79008865356445,
          37.776065826416016,
          37.4786376953125,
          37.48484802246094,
          37.646690368652344,
          37.65297317504883,
          37.520137786865234,
          37.50020217895508,
          37.40141296386719,
          37.382972717285156,
          37.28093338012695,
          37.39319610595703,
          37.42417907714844,
          40.02838134765625,
          25.983665466308594,
          33.837215423583984,
          33.799339294433594,
          42.36159133911133,
          42.464759826660156,
          42.49854278564453,
          42.36688995361328,
          42.38817596435547,
          42.398555755615234,
          42.49217224121094,
          42.39987564086914,
          42.361507415771484,
          42.36061477661133,
          42.39568328857422,
          42.365135192871094,
          42.40646743774414,
          42.367889404296875,
          42.36540985107422,
          42.393150329589844,
          42.364349365234375,
          42.366920471191406,
          42.36390686035156,
          42.36660385131836,
          42.364498138427734,
          42.34456253051758,
          39.095306396484375,
          39.09907531738281,
          39.10276794433594,
          39.10380172729492,
          38.9753303527832,
          39.001556396484375,
          39.286033630371094,
          44.83415222167969,
          35.870086669921875,
          35.992164611816406,
          36.0994987487793,
          36.07258224487305,
          35.911033630371094,
          35.924339294433594,
          40.33316421508789,
          40.69548416137695,
          40.73984146118164,
          40.748443603515625,
          40.74248504638672,
          40.752784729003906,
          40.75663375854492,
          40.912841796875,
          40.54411697387695,
          40.06430435180664,
          40.09614181518555,
          40.48777770996094,
          39.957035064697266,
          32.90016174316406,
          39.07160186767578,
          37.19984817504883,
          47.58267593383789,
          47.62245178222656,
          47.62361145019531,
          47.64949417114258,
          47.60365295410156,
          47.60749435424805,
          47.6059684753418,
          43.05897903442383,
          37.87749099731445,
          37.5506706237793,
          37.92441940307617,
          38.13404846191406,
          37.97012710571289,
          33.59373474121094,
          34.10954666137695,
          37.40415573120117,
          32.89621353149414,
          33.14181900024414,
          32.8859748840332,
          33.124900817871094,
          32.89482116699219,
          37.7704963684082,
          37.66899108886719,
          37.481224060058594,
          37.377166748046875,
          37.43620681762695,
          37.41093826293945,
          37.42295455932617,
          37.328182220458984,
          41.14120101928711,
          41.5504264831543,
          38.90290451049805,
          39.78590774536133,
          26.465444564819336,
          30.423267364501953,
          33.77848815917969,
          42.856685638427734,
          42.485435485839844,
          42.294612884521484,
          42.339786529541016,
          42.36225891113281,
          42.3631591796875,
          42.276729583740234,
          38.99929428100586,
          39.136680603027344,
          39.35292053222656,
          42.96950149536133,
          42.21930694580078,
          39.03725814819336,
          38.674110412597656,
          32.30145263671875,
          41.32633972167969,
          40.86146926879883,
          40.817161560058594,
          35.63654327392578,
          40.74031448364258,
          40.739383697509766,
          40.844295501708984,
          40.75436782836914,
          40.775665283203125,
          40.75301742553711,
          41.076900482177734,
          40.99681091308594,
          41.50026321411133,
          39.995628356933594,
          40.852203369140625,
          42.00244140625,
          41.9878044128418,
          30.610109329223633,
          30.182968139648438,
          37.20390319824219,
          47.75944519042969,
          47.801368713378906,
          47.62295150756836,
          47.67942810058594,
          43.076148986816406,
          39.74740982055664,
          39.287723541259766,
          39.51119613647461,
          44.00835037231445,
          39.67911148071289,
          40.344234466552734,
          39.952457427978516,
          38.90785217285156,
          33.948272705078125,
          42.153785705566406,
          35.90491485595703,
          35.9051628112793,
          40.443504333496094,
          40.80759811401367,
          40.74197006225586,
          40.750362396240234,
          41.6629524230957,
          41.88047409057617,
          41.705780029296875,
          42.358070373535156,
          42.68661880493164,
          43.00110626220703,
          40.4571647644043,
          43.075679779052734,
          43.07669448852539
         ],
         "legendgroup": "United States",
         "lon": [
          -71.06330871582031,
          -73.93053436279297,
          -83.93014526367188,
          -73.19361114501953,
          -73.9437484741211,
          -77.05599975585938,
          -92.11270141601562,
          -122.29080963134766,
          -122.30486297607422,
          -122.04743957519531,
          -117.91560363769531,
          -122.38782501220703,
          -122.39092254638672,
          -122.39329528808594,
          -77.01439666748047,
          -84.32722473144531,
          -87.59072875976562,
          -91.17829895019531,
          -71.15032958984375,
          -71.79900360107422,
          -77.07625579833984,
          -77.10132598876953,
          -77.21875762939453,
          -76.97547149658203,
          -77.10096740722656,
          -76.86304473876953,
          -76.60563659667969,
          -78.67723846435547,
          -73.97591400146484,
          -77.23929595947266,
          -72.93065643310547,
          -73.9647445678711,
          -92.32315826416016,
          -94.17365264892578,
          -122.45767211914062,
          -104.83715057373047,
          -105.2652587890625,
          -104.7970962524414,
          -105.22266387939453,
          -105.08655548095703,
          -72.91956329345703,
          -77.01441955566406,
          -87.65779876708984,
          -86.15306854248047,
          -87.3239974975586,
          -76.62027740478516,
          -89.52870178222656,
          -88.78900146484375,
          -119.81666564941406,
          -76.13398742675781,
          -83.0145034790039,
          -83.61366271972656,
          -123.07295227050781,
          -75.19916534423828,
          -75.1931381225586,
          -86.80268859863281,
          -86.80159759521484,
          -96.34405517578125,
          -96.75019836425781,
          -95.39697265625,
          -97.73941802978516,
          -95.98944091796875,
          -111.6500015258789,
          -80.42408752441406,
          -73.9058837890625,
          -117.16167449951172,
          -80.27577209472656,
          -93.7145767211914,
          -71.28266143798828,
          -76.616943359375,
          -68.00524139404297,
          -77.62522888183594,
          -81.7184066772461,
          -95.34224700927734,
          -101.86420440673828,
          -71.06863403320312,
          -83.73822021484375,
          -84.51554870605469,
          -78.50499725341797,
          -73.95555877685547,
          -118.3809814453125,
          -118.29008483886719,
          -117.26100158691406,
          -117.25068664550781,
          -117.25362396240234,
          -122.17878723144531,
          -121.75,
          -157.817626953125,
          -76.9830551147461,
          -77.21573638916016,
          -77.2184829711914,
          -85.6138916015625,
          -90.39947509765625,
          -90.90742492675781,
          -73.7822265625,
          -79.9435806274414,
          -75.09020233154297,
          -95.39630889892578,
          -122.28166961669922,
          -85.76599884033203,
          -111.93650817871094,
          -110.95354461669922,
          -121.84944152832031,
          -118.28562927246094,
          -73.51310729980469,
          -72.25250244140625,
          -77.0429916381836,
          -76.99869537353516,
          -81.43777465820312,
          -84.39629364013672,
          -87.86885070800781,
          -77.1023941040039,
          -92.46630859375,
          -78.68278503417969,
          -97.07340240478516,
          -95.97682189941406,
          -74.17900085449219,
          -74.44361114501953,
          -106.61860656738281,
          -106.75364685058594,
          -73.97286987304688,
          -73.95610046386719,
          -84.50108337402344,
          -75.15459442138672,
          -82.83916473388672,
          -111.81450653076172,
          -73.95310974121094,
          -86.80582427978516,
          -112.07855224609375,
          -117.84264373779297,
          -117.32418060302734,
          -117.24620819091797,
          -117.23799896240234,
          -117.15424346923828,
          -122.3975601196289,
          -121.96380615234375,
          -122.14091491699219,
          -122.05999755859375,
          -73.24224853515625,
          -72.79080200195312,
          -77.10169982910156,
          -77.03014373779297,
          -80.37328338623047,
          -81.20050048828125,
          -80.1016616821289,
          -84.57933044433594,
          -86.1685791015625,
          -85.7508316040039,
          -71.7625732421875,
          -77.10456848144531,
          -77.09938049316406,
          -77.10041809082031,
          -77.10012817382812,
          -76.71125793457031,
          -76.762451171875,
          -85.88810729980469,
          -78.88176727294922,
          -72.27305603027344,
          -73.93611145019531,
          -73.8030014038086,
          -84.0640869140625,
          -122.87482452392578,
          -75.55016326904297,
          -76.67450714111328,
          -75.1930923461914,
          -90.04220581054688,
          -94.81749725341797,
          -119.27633666992188,
          -122.26466369628906,
          -118.479248046875,
          -118.49066925048828,
          -117.1890640258789,
          -122.17530822753906,
          -77.06055450439453,
          -84.32559967041016,
          -155.08160400390625,
          -87.98199462890625,
          -90.12019348144531,
          -71.2597427368164,
          -71.10728454589844,
          -77.05317687988281,
          -77.10094451904297,
          -77.10456848144531,
          -77.09471893310547,
          -78.84941101074219,
          -80.73238372802734,
          -106.32416534423828,
          -75.96988677978516,
          -72.8730697631836,
          -97.09519958496094,
          -84.31666564941406,
          -98.63851165771484,
          -96.33846282958984,
          -96.84017181396484,
          -122.39096069335938,
          -117.97076416015625,
          -118.41740417480469,
          -118.44409942626953,
          -84.3861083984375,
          -87.85775756835938,
          -90.10578155517578,
          -71.2220230102539,
          -71.10308074951172,
          -83.08612060546875,
          -90.34535217285156,
          -89.33384704589844,
          -76.1354751586914,
          -76.60507202148438,
          -90.0301513671875,
          -106.50499725341797,
          -95.40184020996094,
          -95.55078887939453,
          -90.17732238769531,
          -67.14167022705078,
          -111.652587890625,
          -118.12549591064453,
          -117.0716781616211,
          -122.37760162353516,
          -119.84912109375,
          -122.16999816894531,
          -83.89649963378906,
          -158.01734924316406,
          -91.54900360107422,
          -87.59870147705078,
          -87.62657928466797,
          -88.77777862548828,
          -71.00602722167969,
          -71.33453369140625,
          -71.08917999267578,
          -76.9828109741211,
          -84.24993896484375,
          -94.57717895507812,
          -111.05000305175781,
          -80.22515869140625,
          -79.80638122558594,
          -81.67861938476562,
          -96.80000305175781,
          -71.4377212524414,
          -74.27257537841797,
          -74.99906921386719,
          -73.46722412109375,
          -82.97955322265625,
          -97.44583129882812,
          -97.0808334350586,
          -75.19554138183594,
          -75.18995666503906,
          -97.14913940429688,
          -94.77606964111328,
          -117.1544418334961,
          -88.02142333984375,
          -74.01315307617188,
          -86.63391876220703,
          -121.70643615722656,
          -122.27982330322266,
          -118.44611358642578,
          -117.33110809326172,
          -117.15113067626953,
          -122.44693756103516,
          -105.08416748046875,
          -77.02542114257812,
          -77.02999114990234,
          -77.05302429199219,
          -82.41305541992188,
          -96.16632080078125,
          -87.63887786865234,
          -71.26749420166016,
          -71.23655700683594,
          -71.10843658447266,
          -77.09764099121094,
          -77.10444641113281,
          -77.10118103027344,
          -77.15630340576172,
          -77.11183166503906,
          -83.21577453613281,
          -74.761962890625,
          -115.14376068115234,
          -73.84439086914062,
          -73.11622619628906,
          -98.57402801513672,
          -77.30806732177734,
          -122.3205795288086,
          -87.8829116821289,
          -71.11665344238281,
          -122.2911376953125,
          -121.98856353759766,
          -121.87701416015625,
          -121.9346694946289,
          -122.53250122070312,
          -117.18291473388672,
          -117.16881561279297,
          -117.1624984741211,
          -117.24263000488281,
          -122.39964294433594,
          -122.38746643066406,
          -122.39795684814453,
          -122.38785552978516,
          -122.39899444580078,
          -122.39625549316406,
          -122.3880615234375,
          -122.38800048828125,
          -122.14586639404297,
          -122.3941650390625,
          -122.3953628540039,
          -122.38953399658203,
          -122.14099884033203,
          -122.39353942871094,
          -122.02876281738281,
          -122.05419158935547,
          -75.60514831542969,
          -81.19824981689453,
          -80.11373138427734,
          -87.8395004272461,
          -86.12208557128906,
          -84.52324676513672,
          -71.14350128173828,
          -71.09246063232422,
          -71.2585220336914,
          -71.10513305664062,
          -71.10503387451172,
          -71.08763885498047,
          -71.08460235595703,
          -71.10467529296875,
          -71.08458709716797,
          -71.08355712890625,
          -71.0873794555664,
          -71.12145233154297,
          -71.1192855834961,
          -71.05712127685547,
          -71.07455444335938,
          -71.76519012451172,
          -77.19717407226562,
          -76.59072875976562,
          -85.61412811279297,
          -78.88916778564453,
          -79.74620819091797,
          -78.85014343261719,
          -74.19795989990234,
          -74.33576202392578,
          -73.98839569091797,
          -74.00519561767578,
          -73.94833374023438,
          -78.85955810546875,
          -75.55133056640625,
          -75.1974868774414,
          -98.17135620117188,
          -122.3475112915039,
          -89.40813446044922,
          -122.25857543945312,
          -122.27127838134766,
          -104.96221923828125,
          -77.030029296875,
          -88.2271957397461,
          -86.92120361328125,
          -86.92111206054688,
          -87.40705871582031,
          -95.25585174560547,
          -96.58781433105469,
          -84.50448608398438,
          -91.1810302734375,
          -72.5267105102539,
          -71.09210968017578,
          -71.17036437988281,
          -71.10550689697266,
          -71.14968872070312,
          -71.8073501586914,
          -68.66873168945312,
          -96.70064544677734,
          -70.9333267211914,
          -74.4264907836914,
          -73.9457015991211,
          -76.47862243652344,
          -123.27946472167969,
          -75.3813705444336,
          -122.30352783203125,
          -79.95452880859375,
          -85.48607635498047,
          -121.9380874633789,
          -82.35494995117188,
          -84.29917907714844,
          -93.64955139160156,
          -87.65789794921875,
          -87.67394256591797,
          -71.12194061279297,
          -71.03844451904297,
          -76.94186401367188,
          -86.1041030883789,
          -84.48100280761719,
          -93.2277603149414,
          -90.31085205078125,
          -74.78289031982422,
          -77.62187957763672,
          -77.05593872070312,
          -77.85993194580078,
          -75.19417572021484,
          -98.56121063232422,
          -111.84214782714844,
          -87.6800537109375,
          -84.32401275634766,
          -71.09970092773438,
          -77.26525115966797,
          -92.33185577392578,
          -78.92689514160156,
          -80.28146362304688,
          -73.99500274658203,
          -76.13972473144531,
          -83.01769256591797,
          -77.53871154785156,
          -77.45394134521484,
          -122.24553680419922,
          -122.50423431396484,
          -122.14508056640625,
          -87.61309051513672,
          -87.87846374511719,
          -90.0833511352539,
          -70.67097473144531,
          -71.27374267578125,
          -77.10118865966797,
          -86.48918914794922,
          -94.57557678222656,
          -78.93730163574219,
          -74.66777801513672,
          -73.60045623779297,
          -96.75105285644531,
          -77.04864501953125,
          -86.51937103271484,
          -71.1011734008789,
          -71.0707778930664,
          -77.11585998535156,
          -74.17389678955078,
          -73.67881774902344,
          -81.60838317871094,
          -75.15827178955078,
          -75.1571273803711,
          -79.95191955566406,
          -117.24195861816406,
          -122.39445495605469,
          -105.15585327148438,
          -77.04644775390625,
          -77.03043365478516,
          -77.04502868652344,
          -77.03504180908203,
          -80.21420288085938,
          -70.83389282226562,
          -71.08527374267578,
          -71.0869140625,
          -77.36293029785156,
          -77.10116577148438,
          -69.58000946044922,
          -85.66566467285156,
          -78.76713562011719,
          -74.6402587890625,
          -73.97181701660156,
          -97.49639129638672,
          -122.68590545654297,
          -95.4030532836914,
          -101.89208221435547,
          -97.36940002441406,
          -122.33881378173828,
          -122.3310775756836,
          -122.12833404541016,
          -112.00112915039062,
          -118.133544921875,
          -122.53079223632812,
          -117.85409545898438,
          -117.22032165527344,
          -117.21475982666016,
          -117.17210388183594,
          -122.28157043457031,
          -122.08076477050781,
          -122.06375885009766,
          -118.83841705322266,
          -77.0633544921875,
          -82.42188262939453,
          -80.23400115966797,
          -84.65877532958984,
          -91.61482238769531,
          -71.0894775390625,
          -71.04620361328125,
          -71.10641479492188,
          -77.09797668457031,
          -77.09693145751953,
          -77.13732147216797,
          -77.18685913085938,
          -76.92539978027344,
          -76.953369140625,
          -73.82343292236328,
          -77.08538818359375,
          -77.26541900634766,
          -122.32958221435547,
          -73.96408081054688,
          -72.28871154785156,
          -71.4031982421875,
          -86.69095611572266,
          -86.68922424316406,
          -112.09532165527344,
          -110.94598388671875,
          -122.27281951904297,
          -122.29478454589844,
          -122.28971862792969,
          -122.28965759277344,
          -121.97420501708984,
          -118.39010620117188,
          -118.5002212524414,
          -120.43008422851562,
          -121.50301361083984,
          -117.23500061035156,
          -117.16593170166016,
          -117.24364471435547,
          -117.21028900146484,
          -117.20381927490234,
          -117.2060775756836,
          -117.2193832397461,
          -117.20256042480469,
          -117.16361236572266,
          -117.2430419921875,
          -117.27938079833984,
          -117.23784637451172,
          -122.3888168334961,
          -122.39234161376953,
          -122.400634765625,
          -122.41985321044922,
          -122.14472961425781,
          -122.14838409423828,
          -122.3956527709961,
          -122.40080261230469,
          -122.26422119140625,
          -122.24212646484375,
          -122.05220794677734,
          -122.03366088867188,
          -121.999755859375,
          -122.07786560058594,
          -122.07318115234375,
          -105.24828338623047,
          -80.28262329101562,
          -84.25752258300781,
          -84.32801055908203,
          -71.10235595703125,
          -71.26464080810547,
          -71.13835144042969,
          -71.09049224853516,
          -71.26313781738281,
          -71.1399154663086,
          -71.19530487060547,
          -71.258056640625,
          -71.1022720336914,
          -71.10194396972656,
          -71.1446762084961,
          -71.08216094970703,
          -71.2724609375,
          -71.08702850341797,
          -71.08231353759766,
          -71.25572967529297,
          -71.07931518554688,
          -71.07664489746094,
          -71.09190368652344,
          -71.07927703857422,
          -71.06156158447266,
          -71.02806854248047,
          -77.20140075683594,
          -77.19448852539062,
          -77.19534301757812,
          -77.19367218017578,
          -77.01390075683594,
          -77.10059356689453,
          -76.60968017578125,
          -93.12974548339844,
          -78.86067962646484,
          -78.89936065673828,
          -78.41011810302734,
          -79.7995834350586,
          -78.97802734375,
          -78.875244140625,
          -74.50357055664062,
          -74.57843780517578,
          -74.34386444091797,
          -73.99304962158203,
          -74.00732421875,
          -73.98958587646484,
          -73.98711395263672,
          -73.123291015625,
          -79.82760620117188,
          -75.53327941894531,
          -75.40480041503906,
          -75.16969299316406,
          -75.19685363769531,
          -96.9599380493164,
          -77.46479797363281,
          -80.40624237060547,
          -122.15337371826172,
          -122.33670806884766,
          -122.3455581665039,
          -122.35216522216797,
          -122.33110809326172,
          -122.33827209472656,
          -122.33110809326172,
          -89.48101806640625,
          -122.25092315673828,
          -122.06086730957031,
          -122.37889862060547,
          -122.57386779785156,
          -122.52571868896484,
          -117.72708892822266,
          -117.47952270507812,
          -122.08367156982422,
          -117.24085998535156,
          -117.25176239013672,
          -117.17922973632812,
          -117.2894515991211,
          -117.23623657226562,
          -122.38855743408203,
          -122.39010620117188,
          -122.17378997802734,
          -121.9835205078125,
          -122.17501831054688,
          -122.0219955444336,
          -122.08406066894531,
          -121.99708557128906,
          -73.42630004882812,
          -72.92025756835938,
          -77.03880310058594,
          -75.54895782470703,
          -81.77373504638672,
          -84.3221435546875,
          -84.3968276977539,
          -71.15058135986328,
          -71.277099609375,
          -71.49169158935547,
          -71.10518646240234,
          -71.07184600830078,
          -71.06873321533203,
          -71.76768493652344,
          -77.02892303466797,
          -77.22537231445312,
          -76.6619873046875,
          -85.66699981689453,
          -85.78380584716797,
          -94.57510375976562,
          -90.39671325683594,
          -90.87156677246094,
          -96.05944061279297,
          -73.9695816040039,
          -74.10150909423828,
          -105.9589614868164,
          -73.99114990234375,
          -73.97702026367188,
          -74.50225067138672,
          -73.9761734008789,
          -73.70174407958984,
          -73.6985092163086,
          -73.82417297363281,
          -73.85721588134766,
          -81.6651840209961,
          -83.01622772216797,
          -81.42857360839844,
          -71.5112533569336,
          -88.0165786743164,
          -96.35340881347656,
          -95.48298645019531,
          -80.4114761352539,
          -122.19110870361328,
          -122.19342041015625,
          -122.33651733398438,
          -122.54546356201172,
          -89.42610931396484,
          -75.59203338623047,
          -76.62358093261719,
          -84.7281265258789,
          -73.17737579345703,
          -75.75216674804688,
          -74.6514663696289,
          -75.19322204589844,
          -77.07228088378906,
          -83.3773422241211,
          -87.87816619873047,
          -79.04692077636719,
          -79.04694366455078,
          -79.9615249633789,
          -73.96238708496094,
          -73.97402954101562,
          -73.97254180908203,
          -91.55492401123047,
          -87.69351196289062,
          -86.23567962646484,
          -71.0577163696289,
          -73.8230209350586,
          -78.78897094726562,
          -80.0076904296875,
          -89.40589904785156,
          -89.41243743896484
         ],
         "marker": {
          "color": "#00cc96",
          "size": [
           3,
           1,
           7,
           2,
           6,
           1,
           17,
           4,
           1,
           1,
           1,
           1,
           1,
           1,
           1,
           1,
           1,
           1,
           2,
           1,
           1,
           1,
           1,
           16,
           4,
           6,
           2,
           1,
           1,
           2,
           99,
           1,
           4,
           1,
           227,
           11,
           17,
           1,
           2,
           10,
           1,
           3,
           1,
           8,
           1,
           87,
           2,
           2,
           2,
           3,
           23,
           1,
           1,
           1,
           1,
           16,
           12,
           10,
           2,
           46,
           60,
           1,
           2,
           9,
           1,
           1,
           9,
           3,
           3,
           1,
           23,
           6,
           4,
           1,
           3,
           175,
           66,
           4,
           26,
           33,
           8,
           4,
           5,
           1,
           5,
           1,
           43,
           5,
           7,
           8,
           3,
           3,
           17,
           1,
           2,
           12,
           2,
           45,
           3,
           1,
           15,
           16,
           1,
           32,
           2,
           4,
           1,
           1,
           1,
           18,
           1,
           13,
           26,
           18,
           1,
           1,
           1,
           2,
           8,
           1,
           9,
           110,
           9,
           2,
           6,
           2,
           80,
           8,
           1,
           15,
           1,
           24,
           168,
           1,
           3,
           1,
           1,
           44,
           1,
           7,
           1,
           1,
           1,
           3,
           1,
           1,
           13,
           1,
           75,
           1,
           1,
           4,
           2,
           1,
           1,
           1,
           17,
           2,
           1,
           5,
           2,
           1,
           1,
           2,
           1,
           13,
           2,
           13,
           1,
           1,
           7,
           1,
           2,
           1,
           14,
           1,
           18,
           1,
           2,
           86,
           1,
           10,
           2,
           1,
           1,
           6,
           3,
           1,
           1,
           4,
           25,
           1,
           2,
           35,
           1,
           15,
           1,
           49,
           6,
           2,
           1,
           2,
           1,
           1,
           1,
           1,
           1,
           1,
           3,
           1,
           11,
           16,
           3,
           1,
           11,
           52,
           7,
           104,
           10,
           374,
           2,
           1,
           1,
           32,
           2,
           1,
           1,
           2,
           18,
           6,
           10,
           1,
           3,
           1,
           1,
           1,
           1,
           1,
           33,
           2,
           31,
           15,
           2,
           3,
           2,
           3,
           1,
           3,
           2,
           3,
           1,
           1,
           1,
           5,
           1,
           11,
           2,
           1,
           1,
           1,
           7,
           2,
           6,
           1,
           1,
           2,
           2,
           1,
           4,
           1,
           3,
           4,
           51,
           1,
           11,
           1,
           14,
           7,
           2,
           4,
           2,
           2,
           357,
           1,
           1,
           36,
           1,
           1,
           4,
           1,
           2,
           2,
           1,
           9,
           24,
           3,
           2,
           2,
           1,
           2,
           1,
           1,
           1,
           1,
           1,
           1,
           12,
           1,
           11,
           1,
           2,
           4,
           1,
           3,
           1,
           1,
           1,
           1,
           2,
           3,
           2,
           14,
           2,
           1,
           1,
           2,
           1,
           1,
           5,
           2,
           20,
           1,
           1,
           2,
           1,
           1,
           1,
           1,
           1,
           22,
           1,
           1,
           1,
           3,
           1,
           3,
           3,
           87,
           3,
           1,
           2,
           21,
           10,
           1,
           1,
           3,
           9,
           4,
           1,
           3,
           265,
           2,
           54,
           1,
           1,
           2,
           2,
           1,
           1,
           1,
           113,
           11,
           1,
           170,
           1,
           3,
           1,
           26,
           4,
           13,
           9,
           42,
           7,
           2,
           16,
           3,
           15,
           67,
           65,
           1,
           2,
           6,
           24,
           17,
           1,
           33,
           1,
           24,
           29,
           2,
           11,
           60,
           10,
           39,
           1,
           3,
           1,
           1,
           42,
           1,
           2,
           1,
           1,
           3,
           1,
           1,
           20,
           2,
           1,
           5,
           1,
           1,
           1,
           6,
           6,
           2,
           2,
           2,
           14,
           6,
           12,
           2,
           1,
           1,
           5,
           7,
           5,
           2,
           8,
           1,
           1,
           2,
           4,
           4,
           1,
           10,
           3,
           1,
           1,
           1,
           6,
           2,
           1,
           32,
           9,
           1,
           1,
           1,
           55,
           11,
           3,
           1,
           1,
           1,
           2,
           2,
           1,
           4,
           1,
           1,
           8,
           1,
           4,
           3,
           1,
           2,
           17,
           5,
           36,
           17,
           12,
           1,
           1,
           1,
           1,
           4,
           1,
           1,
           2,
           14,
           6,
           6,
           11,
           1,
           5,
           2,
           1,
           1,
           2,
           1,
           2,
           1,
           1,
           1,
           3,
           1,
           4,
           10,
           4,
           1,
           1,
           2,
           1,
           3,
           20,
           4,
           1,
           1,
           4,
           1,
           1,
           20,
           1,
           1,
           1,
           1,
           1,
           1,
           5,
           1,
           1,
           1,
           1,
           2,
           1,
           2,
           6,
           13,
           12,
           3,
           1,
           1,
           1,
           4,
           2,
           2,
           1,
           10,
           1,
           211,
           39,
           1,
           1,
           1,
           7,
           5,
           1,
           5,
           1,
           1,
           1,
           3,
           4,
           7,
           1,
           6,
           2,
           5,
           3,
           12,
           1,
           1,
           1,
           2,
           1,
           4,
           1,
           1,
           2,
           2,
           1,
           2,
           3,
           10,
           1,
           1,
           8,
           1,
           2,
           23,
           4,
           4,
           1,
           1,
           8,
           1,
           39,
           1,
           32,
           1,
           1,
           1,
           1,
           3,
           45,
           24,
           28,
           1,
           10,
           1,
           12,
           3,
           3,
           6,
           1,
           14,
           7,
           2,
           1,
           1,
           3,
           4,
           1,
           9,
           14,
           1,
           4,
           20,
           1,
           7,
           1,
           1,
           2,
           1,
           4,
           1,
           4,
           20,
           1,
           1,
           1,
           2,
           1,
           1,
           1,
           14,
           1,
           5,
           3,
           14,
           1,
           1,
           1,
           1,
           1,
           1,
           7,
           5,
           1,
           1,
           24,
           2,
           1,
           4,
           19,
           16,
           1,
           1,
           3,
           29,
           108,
           3,
           35,
           3,
           10,
           68,
           24,
           79,
           5,
           33,
           8,
           1,
           7,
           2,
           1,
           3,
           1,
           1,
           56
          ],
          "sizemode": "area",
          "sizeref": 0.935,
          "symbol": "circle"
         },
         "mode": "markers",
         "name": "United States",
         "showlegend": true,
         "type": "scattergeo"
        },
        {
         "customdata": [
          [
           "grid.412970.9",
           "Germany",
           "Hanover"
          ],
          [
           "grid.411778.c",
           "Germany",
           "Mannheim"
          ],
          [
           "grid.488550.4",
           "Germany",
           "Freiburg"
          ],
          [
           "grid.488549.c",
           "Germany",
           "Tübingen"
          ],
          [
           "grid.452370.7",
           "Germany",
           "Hanover"
          ],
          [
           "grid.414802.b",
           "Germany",
           "Bonn"
          ],
          [
           "grid.411097.a",
           "Germany",
           "Cologne"
          ],
          [
           "grid.410607.4",
           "Germany",
           "Mainz"
          ],
          [
           "grid.461816.c",
           "Germany",
           "Mainz"
          ],
          [
           "grid.476508.8",
           "Germany",
           "Berlin"
          ],
          [
           "grid.10392.39",
           "Germany",
           "Tübingen"
          ],
          [
           "grid.5252.0",
           "Germany",
           "Munich"
          ],
          [
           "grid.411984.1",
           "Germany",
           "Göttingen"
          ],
          [
           "grid.7450.6",
           "Germany",
           "Göttingen"
          ],
          [
           "grid.9647.c",
           "Germany",
           "Leipzig"
          ],
          [
           "grid.411760.5",
           "Germany",
           "Wurzburg"
          ],
          [
           "grid.8379.5",
           "Germany",
           "Wurzburg"
          ],
          [
           "grid.9018.0",
           "Germany",
           "Halle"
          ],
          [
           "grid.469880.b",
           "Germany",
           "Berlin"
          ],
          [
           "grid.6546.1",
           "Germany",
           "Darmstadt"
          ],
          [
           "grid.1957.a",
           "Germany",
           "Aachen"
          ],
          [
           "grid.500046.7",
           "Germany",
           "Hohen Neuendorf"
          ],
          [
           "grid.419498.9",
           "Germany",
           "Cologne"
          ],
          [
           "grid.418441.c",
           "Germany",
           "Dortmund"
          ],
          [
           "grid.8664.c",
           "Germany",
           "Giessen"
          ],
          [
           "grid.411668.c",
           "Germany",
           "Erlangen"
          ],
          [
           "grid.7468.d",
           "Germany",
           "Berlin"
          ],
          [
           "grid.10388.32",
           "Germany",
           "Bonn"
          ],
          [
           "grid.424065.1",
           "Germany",
           "Hamburg"
          ],
          [
           "grid.410718.b",
           "Germany",
           "Essen"
          ],
          [
           "grid.13648.38",
           "Germany",
           "Hamburg"
          ],
          [
           "grid.420061.1",
           "Germany",
           "Ingelheim am Rhein"
          ],
          [
           "grid.10253.35",
           "Germany",
           "Marburg"
          ],
          [
           "grid.5603.0",
           "Germany",
           "Greifswald"
          ],
          [
           "grid.7708.8",
           "Germany",
           "Freiburg"
          ],
          [
           "grid.5963.9",
           "Germany",
           "Freiburg"
          ],
          [
           "grid.6363.0",
           "Germany",
           "Berlin"
          ],
          [
           "grid.9613.d",
           "Germany",
           "Jena"
          ],
          [
           "grid.275559.9",
           "Germany",
           "Jena"
          ],
          [
           "grid.420081.f",
           "Germany",
           "Braunschweig"
          ],
          [
           "grid.10423.34",
           "Germany",
           "Hanover"
          ],
          [
           "grid.440947.a",
           "Germany",
           "Kiel"
          ],
          [
           "grid.419538.2",
           "Germany",
           "Berlin"
          ],
          [
           "grid.440920.b",
           "Germany",
           "Aalen"
          ],
          [
           "grid.7497.d",
           "Germany",
           "Heidelberg"
          ],
          [
           "grid.423218.e",
           "Germany",
           "Karlsruhe"
          ],
          [
           "grid.429509.3",
           "Germany",
           "Freiburg"
          ],
          [
           "grid.418026.9",
           "Germany",
           "Tübingen"
          ],
          [
           "grid.4567.0",
           "Germany",
           "Munich"
          ],
          [
           "grid.7727.5",
           "Germany",
           "Regensburg"
          ],
          [
           "grid.411327.2",
           "Germany",
           "Düsseldorf"
          ],
          [
           "grid.7491.b",
           "Germany",
           "Bielefeld"
          ],
          [
           "grid.5570.7",
           "Germany",
           "Bochum"
          ],
          [
           "grid.418481.0",
           "Germany",
           "Hamburg"
          ],
          [
           "grid.5802.f",
           "Germany",
           "Mainz"
          ],
          [
           "grid.11749.3a",
           "Germany",
           "Saarbrücken"
          ],
          [
           "grid.418213.d",
           "Germany",
           "Potsdam"
          ],
          [
           "grid.418934.3",
           "Germany",
           "Gatersleben"
          ],
          [
           "grid.14095.39",
           "Germany",
           "Berlin"
          ],
          [
           "grid.6734.6",
           "Germany",
           "Berlin"
          ],
          [
           "grid.417834.d",
           "Germany",
           "Greifswald"
          ],
          [
           "grid.419548.5",
           "Germany",
           "Munich"
          ],
          [
           "grid.7839.5",
           "Germany",
           "Frankfurt am Main"
          ],
          [
           "grid.419505.c",
           "Germany",
           "Frankfurt am Main"
          ],
          [
           "grid.440963.c",
           "Germany",
           "Mannheim"
          ],
          [
           "grid.425396.f",
           "Germany",
           "Langen"
          ],
          [
           "grid.13652.33",
           "Germany",
           "Berlin"
          ],
          [
           "grid.419495.4",
           "Germany",
           "Tübingen"
          ],
          [
           "grid.419243.9",
           "Germany",
           "Dortmund"
          ],
          [
           "grid.419534.e",
           "Germany",
           "Stuttgart"
          ],
          [
           "grid.461742.2",
           "Germany",
           "Heidelberg"
          ],
          [
           "grid.498164.6",
           "Germany",
           "Wurzburg"
          ],
          [
           "grid.424631.6",
           "Germany",
           "Mainz"
          ],
          [
           "grid.484013.a",
           "Germany",
           "Berlin"
          ],
          [
           "grid.507437.2",
           "Germany",
           "Berlin"
          ],
          [
           "grid.6936.a",
           "Germany",
           "Munich"
          ],
          [
           "grid.420044.6",
           "Germany",
           "Leverkusen"
          ],
          [
           "grid.9122.8",
           "Germany",
           "Hanover"
          ],
          [
           "grid.7700.0",
           "Germany",
           "Heidelberg"
          ],
          [
           "grid.5253.1",
           "Germany",
           "Heidelberg"
          ],
          [
           "grid.6190.e",
           "Germany",
           "Cologne"
          ],
          [
           "grid.414703.5",
           "Germany",
           "Heidelberg"
          ],
          [
           "grid.419494.5",
           "Germany",
           "Frankfurt am Main"
          ],
          [
           "grid.418032.c",
           "Germany",
           "Bad Nauheim"
          ],
          [
           "grid.5719.a",
           "Germany",
           "Stuttgart"
          ],
          [
           "grid.4488.0",
           "Germany",
           "Dresden"
          ],
          [
           "grid.411339.d",
           "Germany",
           "Leipzig"
          ],
          [
           "grid.19008.30",
           "Germany",
           "Walldorf"
          ],
          [
           "grid.413757.3",
           "Germany",
           "Mannheim"
          ],
          [
           "grid.4709.a",
           "Germany",
           "Heidelberg"
          ],
          [
           "grid.440922.9",
           "Germany",
           "Biberach an der Riss"
          ],
          [
           "grid.418615.f",
           "Germany",
           "Martinsried"
          ],
          [
           "grid.7704.4",
           "Germany",
           "Bremen"
          ],
          [
           "grid.418140.8",
           "Germany",
           "Göttingen"
          ],
          [
           "grid.31730.36",
           "Germany",
           "Hagen"
          ],
          [
           "grid.410712.1",
           "Germany",
           "Ulm"
          ],
          [
           "grid.10894.34",
           "Germany",
           "Bremerhaven"
          ],
          [
           "grid.418009.4",
           "Germany",
           "Hanover"
          ],
          [
           "grid.425376.1",
           "Germany",
           "Hanover"
          ],
          [
           "grid.59409.31",
           "Germany",
           "Cologne"
          ],
          [
           "grid.419528.3",
           "Germany",
           "Saarbrücken"
          ],
          [
           "grid.418217.9",
           "Germany",
           "Berlin"
          ],
          [
           "grid.5718.b",
           "Germany",
           "Essen"
          ],
          [
           "grid.482664.a",
           "Germany",
           "Heidelberg"
          ],
          [
           "grid.7892.4",
           "Germany",
           "Karlsruhe"
          ],
          [
           "grid.433113.7",
           "Germany",
           "Heidelberg"
          ],
          [
           "grid.451021.3",
           "Germany",
           "Heidelberg"
          ],
          [
           "grid.509524.f",
           "Germany",
           "Heidelberg"
          ],
          [
           "grid.434836.e",
           "Germany",
           "Tübingen"
          ],
          [
           "grid.476259.b",
           "Germany",
           "Tübingen"
          ],
          [
           "grid.418619.3",
           "Germany",
           "Munich"
          ],
          [
           "grid.452622.5",
           "Germany",
           "Munich"
          ],
          [
           "grid.437298.3",
           "Germany",
           "Bremen"
          ],
          [
           "grid.420105.2",
           "Germany",
           "Hamburg"
          ],
          [
           "grid.434729.f",
           "Germany",
           "Hamburg"
          ],
          [
           "grid.424957.9",
           "Germany",
           "Dreieich"
          ],
          [
           "grid.424994.6",
           "Germany",
           "Frankfurt am Main"
          ],
          [
           "grid.7490.a",
           "Germany",
           "Braunschweig"
          ],
          [
           "grid.11081.39",
           "Germany",
           "Braunschweig"
          ],
          [
           "grid.424247.3",
           "Germany",
           "Bonn"
          ],
          [
           "grid.419502.b",
           "Germany",
           "Cologne"
          ],
          [
           "grid.434484.b",
           "Germany",
           "Mainz"
          ],
          [
           "grid.424876.b",
           "Germany",
           "Saarbrücken"
          ],
          [
           "grid.461899.b",
           "Germany",
           "Saarbrücken"
          ],
          [
           "grid.412468.d",
           "Germany",
           "Kiel"
          ],
          [
           "grid.15649.3f",
           "Germany",
           "Kiel"
          ],
          [
           "grid.13946.39",
           "Germany",
           "Quedlinburg"
          ],
          [
           "grid.487265.a",
           "Germany",
           "Planegg"
          ],
          [
           "grid.411941.8",
           "Germany",
           "Regensburg"
          ],
          [
           "grid.419529.2",
           "Germany",
           "Bremen"
          ],
          [
           "grid.424123.2",
           "Germany",
           "Wolfenbüttel"
          ],
          [
           "grid.16149.3b",
           "Germany",
           "Münster"
          ],
          [
           "grid.28894.3f",
           "Germany",
           "Mainz"
          ],
          [
           "grid.4556.2",
           "Germany",
           "Potsdam"
          ],
          [
           "grid.418390.7",
           "Germany",
           "Potsdam"
          ],
          [
           "grid.419564.b",
           "Germany",
           "Potsdam"
          ],
          [
           "grid.11348.3f",
           "Germany",
           "Potsdam"
          ],
          [
           "grid.418188.c",
           "Germany",
           "Dummerstorf"
          ],
          [
           "grid.419537.d",
           "Germany",
           "Dresden"
          ],
          [
           "grid.7492.8",
           "Germany",
           "Leipzig"
          ],
          [
           "grid.419517.f",
           "Germany",
           "Magdeburg"
          ],
          [
           "grid.425084.f",
           "Germany",
           "Halle"
          ],
          [
           "grid.5807.a",
           "Germany",
           "Magdeburg"
          ],
          [
           "grid.418160.a",
           "Germany",
           "Jena"
          ],
          [
           "grid.419491.0",
           "Germany",
           "Berlin"
          ],
          [
           "grid.39009.33",
           "Germany",
           "Darmstadt"
          ],
          [
           "grid.9764.c",
           "Germany",
           "Kiel"
          ],
          [
           "grid.411544.1",
           "Germany",
           "Tübingen"
          ],
          [
           "grid.467139.e",
           "Germany",
           "Weinheim"
          ],
          [
           "grid.6738.a",
           "Germany",
           "Braunschweig"
          ],
          [
           "grid.5330.5",
           "Germany",
           "Erlangen"
          ],
          [
           "grid.15090.3d",
           "Germany",
           "Bonn"
          ],
          [
           "grid.5949.1",
           "Germany",
           "Münster"
          ],
          [
           "grid.5406.7",
           "Germany",
           "Munich"
          ]
         ],
         "geo": "geo",
         "hovertemplate": "<b>%{hovertext}</b><br><br>country=%{customdata[1]}<br>people=%{marker.size}<br>lat=%{lat}<br>long=%{lon}<br>gridid=%{customdata[0]}<br>city=%{customdata[2]}<extra></extra>",
         "hovertext": [
          "grid.412970.9",
          "grid.411778.c",
          "grid.488550.4",
          "grid.488549.c",
          "grid.452370.7",
          "grid.414802.b",
          "grid.411097.a",
          "grid.410607.4",
          "grid.461816.c",
          "grid.476508.8",
          "grid.10392.39",
          "grid.5252.0",
          "grid.411984.1",
          "grid.7450.6",
          "grid.9647.c",
          "grid.411760.5",
          "grid.8379.5",
          "grid.9018.0",
          "grid.469880.b",
          "grid.6546.1",
          "grid.1957.a",
          "grid.500046.7",
          "grid.419498.9",
          "grid.418441.c",
          "grid.8664.c",
          "grid.411668.c",
          "grid.7468.d",
          "grid.10388.32",
          "grid.424065.1",
          "grid.410718.b",
          "grid.13648.38",
          "grid.420061.1",
          "grid.10253.35",
          "grid.5603.0",
          "grid.7708.8",
          "grid.5963.9",
          "grid.6363.0",
          "grid.9613.d",
          "grid.275559.9",
          "grid.420081.f",
          "grid.10423.34",
          "grid.440947.a",
          "grid.419538.2",
          "grid.440920.b",
          "grid.7497.d",
          "grid.423218.e",
          "grid.429509.3",
          "grid.418026.9",
          "grid.4567.0",
          "grid.7727.5",
          "grid.411327.2",
          "grid.7491.b",
          "grid.5570.7",
          "grid.418481.0",
          "grid.5802.f",
          "grid.11749.3a",
          "grid.418213.d",
          "grid.418934.3",
          "grid.14095.39",
          "grid.6734.6",
          "grid.417834.d",
          "grid.419548.5",
          "grid.7839.5",
          "grid.419505.c",
          "grid.440963.c",
          "grid.425396.f",
          "grid.13652.33",
          "grid.419495.4",
          "grid.419243.9",
          "grid.419534.e",
          "grid.461742.2",
          "grid.498164.6",
          "grid.424631.6",
          "grid.484013.a",
          "grid.507437.2",
          "grid.6936.a",
          "grid.420044.6",
          "grid.9122.8",
          "grid.7700.0",
          "grid.5253.1",
          "grid.6190.e",
          "grid.414703.5",
          "grid.419494.5",
          "grid.418032.c",
          "grid.5719.a",
          "grid.4488.0",
          "grid.411339.d",
          "grid.19008.30",
          "grid.413757.3",
          "grid.4709.a",
          "grid.440922.9",
          "grid.418615.f",
          "grid.7704.4",
          "grid.418140.8",
          "grid.31730.36",
          "grid.410712.1",
          "grid.10894.34",
          "grid.418009.4",
          "grid.425376.1",
          "grid.59409.31",
          "grid.419528.3",
          "grid.418217.9",
          "grid.5718.b",
          "grid.482664.a",
          "grid.7892.4",
          "grid.433113.7",
          "grid.451021.3",
          "grid.509524.f",
          "grid.434836.e",
          "grid.476259.b",
          "grid.418619.3",
          "grid.452622.5",
          "grid.437298.3",
          "grid.420105.2",
          "grid.434729.f",
          "grid.424957.9",
          "grid.424994.6",
          "grid.7490.a",
          "grid.11081.39",
          "grid.424247.3",
          "grid.419502.b",
          "grid.434484.b",
          "grid.424876.b",
          "grid.461899.b",
          "grid.412468.d",
          "grid.15649.3f",
          "grid.13946.39",
          "grid.487265.a",
          "grid.411941.8",
          "grid.419529.2",
          "grid.424123.2",
          "grid.16149.3b",
          "grid.28894.3f",
          "grid.4556.2",
          "grid.418390.7",
          "grid.419564.b",
          "grid.11348.3f",
          "grid.418188.c",
          "grid.419537.d",
          "grid.7492.8",
          "grid.419517.f",
          "grid.425084.f",
          "grid.5807.a",
          "grid.418160.a",
          "grid.419491.0",
          "grid.39009.33",
          "grid.9764.c",
          "grid.411544.1",
          "grid.467139.e",
          "grid.6738.a",
          "grid.5330.5",
          "grid.15090.3d",
          "grid.5949.1",
          "grid.5406.7"
         ],
         "lat": [
          52.355308532714844,
          49.49085235595703,
          48.00564956665039,
          48.52960968017578,
          52.38816833496094,
          50.706024169921875,
          50.92390441894531,
          49.99289321899414,
          49.98899459838867,
          52.45450210571289,
          48.525001525878906,
          48.15068054199219,
          51.5518684387207,
          51.54100036621094,
          51.3390007019043,
          49.801517486572266,
          49.788055419921875,
          51.48638916015625,
          52.52068328857422,
          49.874996185302734,
          50.780269622802734,
          52.67536926269531,
          50.95706558227539,
          51.48965835571289,
          50.580509185791016,
          49.59944534301758,
          52.517845153808594,
          50.733890533447266,
          53.54694366455078,
          51.43523406982422,
          53.59130096435547,
          49.97706604003906,
          50.81083297729492,
          54.09463882446289,
          48.00629806518555,
          47.993751525878906,
          52.526668548583984,
          50.9283332824707,
          50.88633346557617,
          52.21142578125,
          52.3838996887207,
          54.332542419433594,
          52.44444274902344,
          48.83778762817383,
          49.41400146484375,
          48.941707611083984,
          48.025001525878906,
          48.53709030151367,
          48.22249984741211,
          49.0000114440918,
          51.1967887878418,
          52.037776947021484,
          51.44585418701172,
          53.59355163574219,
          49.992584228515625,
          49.25555419921875,
          52.34844207763672,
          51.82584762573242,
          52.452728271484375,
          52.51194381713867,
          54.184669494628906,
          48.17365646362305,
          50.124900817871094,
          50.17436981201172,
          49.469886779785156,
          50.00630569458008,
          52.53938293457031,
          48.537044525146484,
          51.49152374267578,
          48.74727249145508,
          49.41847229003906,
          49.801856994628906,
          49.98921203613281,
          52.523250579833984,
          52.525634765625,
          48.14805603027344,
          51.013423919677734,
          52.3822135925293,
          49.419349670410156,
          49.42008590698242,
          50.92805480957031,
          49.41267395019531,
          50.17361068725586,
          50.362728118896484,
          48.78166580200195,
          51.02946853637695,
          51.33082962036133,
          49.293846130371094,
          49.492252349853516,
          49.38454818725586,
          48.094032287597656,
          48.105873107910156,
          53.108612060546875,
          51.5610237121582,
          51.37738800048828,
          48.4221076965332,
          53.533287048339844,
          52.21098327636719,
          52.414581298828125,
          50.96078872680664,
          49.25777816772461,
          52.5250244140625,
          51.463890075683594,
          49.415374755859375,
          49.01184844970703,
          49.42256546020508,
          49.422367095947266,
          49.41458511352539,
          48.538063049316406,
          48.538055419921875,
          48.12303924560547,
          48.22114181518555,
          53.107940673828125,
          53.54602813720703,
          53.5890007019043,
          50.02146911621094,
          50.175106048583984,
          52.21150207519531,
          52.28617858886719,
          50.70417022705078,
          50.925411224365234,
          49.98771667480469,
          49.256221771240234,
          49.25752639770508,
          54.331565856933594,
          54.3271369934082,
          51.773162841796875,
          48.110294342041016,
          48.988487243652344,
          53.11038589477539,
          52.15684127807617,
          51.96083450317383,
          49.98889923095703,
          52.381282806396484,
          52.415687561035156,
          52.415645599365234,
          52.4011116027832,
          54.01301193237305,
          51.05861282348633,
          51.35201644897461,
          52.1386833190918,
          51.49588394165039,
          52.13999938964844,
          50.910858154296875,
          52.62483215332031,
          49.89741516113281,
          54.34580612182617,
          48.622222900390625,
          49.542930603027344,
          52.27360916137695,
          49.59788131713867,
          50.70169448852539,
          51.96342468261719,
          48.13431930541992
         ],
         "legendgroup": "Germany",
         "lon": [
          9.80143928527832,
          8.490074157714844,
          7.837676048278809,
          9.038100242614746,
          9.801238059997559,
          7.136470794677734,
          6.916883945465088,
          8.258749008178711,
          8.26934814453125,
          13.291988372802734,
          9.059000015258789,
          11.58027172088623,
          9.94296646118164,
          9.937378883361816,
          12.378999710083008,
          9.953729629516602,
          9.935277938842773,
          11.968889236450195,
          13.406808853149414,
          8.656517028808594,
          6.06565523147583,
          13.26863956451416,
          6.859202861785889,
          7.409511089324951,
          8.677087783813477,
          11.0105562210083,
          13.393355369567871,
          7.102221965789795,
          9.96500015258789,
          6.987717151641846,
          9.97659969329834,
          8.04375171661377,
          8.773611068725586,
          13.374625205993652,
          7.84062385559082,
          7.84591817855835,
          13.379721641540527,
          11.582221984863281,
          11.619140625,
          10.531188011169434,
          9.804699897766113,
          10.181029319763184,
          13.272777557373047,
          10.073625564575195,
          8.67199993133545,
          8.36905288696289,
          7.8516669273376465,
          9.057966232299805,
          11.59333324432373,
          12.092169761657715,
          6.790581226348877,
          8.493056297302246,
          7.261598110198975,
          9.973251342773438,
          8.241211891174316,
          7.0416669845581055,
          13.105172157287598,
          11.27729606628418,
          13.289647102355957,
          13.32638931274414,
          13.363031387329102,
          11.576135635375977,
          8.667762756347656,
          8.6298189163208,
          8.481504440307617,
          8.648799896240234,
          13.347251892089844,
          9.059053421020508,
          7.461954116821289,
          9.080602645874023,
          8.664259910583496,
          9.95662784576416,
          8.232605934143066,
          13.375589370727539,
          13.37442684173584,
          11.568056106567383,
          6.983161926269531,
          9.717727661132812,
          8.67023754119873,
          8.667587280273438,
          6.928610801696777,
          8.675374984741211,
          8.630277633666992,
          8.735809326171875,
          9.175277709960938,
          13.728975296020508,
          12.385819435119629,
          8.641611099243164,
          8.464414596557617,
          8.711315155029297,
          9.787903785705566,
          11.459492683410645,
          8.85361099243164,
          9.967045783996582,
          7.494662761688232,
          9.953226089477539,
          8.58085823059082,
          10.5311279296875,
          9.631105422973633,
          7.182168006896973,
          7.04555606842041,
          13.375653266906738,
          7.006111145019531,
          8.672465324401855,
          8.416644096374512,
          8.674946784973145,
          8.676460266113281,
          8.67294979095459,
          9.056902885437012,
          9.05691909790039,
          11.453301429748535,
          11.593381881713867,
          8.847689628601074,
          10.02588939666748,
          9.829000473022461,
          8.658126831054688,
          8.631749153137207,
          10.531487464904785,
          10.449823379516602,
          7.151072025299072,
          6.919372081756592,
          8.271411895751953,
          7.037086009979248,
          7.041704177856445,
          10.142350196838379,
          10.18014144897461,
          11.142946243286133,
          11.45065975189209,
          12.089144706726074,
          8.84748363494873,
          10.533576011657715,
          7.596277236938477,
          8.227198600769043,
          13.064151763916016,
          12.96891975402832,
          12.968931198120117,
          13.011943817138672,
          12.227808952331543,
          13.784722328186035,
          12.433799743652344,
          11.652766227722168,
          11.943814277648926,
          11.642999649047852,
          11.568238258361816,
          13.50261116027832,
          8.648750305175781,
          10.112298965454102,
          8.939094543457031,
          8.629840850830078,
          10.529722213745117,
          11.004508018493652,
          7.1031107902526855,
          7.61339807510376,
          11.524718284606934
         ],
         "marker": {
          "color": "#ab63fa",
          "size": [
           1,
           1,
           1,
           1,
           1,
           1,
           1,
           5,
           2,
           1,
           33,
           19,
           2,
           2,
           1,
           6,
           2,
           4,
           1,
           2,
           4,
           1,
           10,
           1,
           4,
           1,
           15,
           28,
           3,
           2,
           13,
           2,
           3,
           3,
           6,
           5,
           37,
           9,
           2,
           2,
           17,
           1,
           10,
           1,
           26,
           1,
           4,
           1,
           35,
           1,
           6,
           11,
           4,
           7,
           2,
           7,
           4,
           3,
           7,
           3,
           3,
           1,
           9,
           9,
           1,
           5,
           1,
           2,
           2,
           3,
           3,
           1,
           4,
           3,
           1,
           33,
           1,
           3,
           22,
           9,
           1,
           1,
           3,
           1,
           3,
           17,
           2,
           1,
           2,
           57,
           1,
           6,
           1,
           11,
           1,
           3,
           2,
           1,
           2,
           1,
           2,
           1,
           7,
           2,
           6,
           1,
           2,
           2,
           1,
           7,
           1,
           1,
           1,
           30,
           1,
           1,
           1,
           1,
           1,
           5,
           1,
           3,
           1,
           3,
           8,
           1,
           1,
           1,
           2,
           4,
           1,
           3,
           1,
           1,
           5,
           3,
           2,
           1,
           9,
           1,
           2,
           1,
           1,
           1,
           14,
           2,
           1,
           1,
           1,
           2,
           1,
           2,
           6,
           1
          ],
          "sizemode": "area",
          "sizeref": 0.935,
          "symbol": "circle"
         },
         "mode": "markers",
         "name": "Germany",
         "showlegend": true,
         "type": "scattergeo"
        },
        {
         "customdata": [
          [
           "grid.5608.b",
           "Italy",
           "Padova"
          ],
          [
           "grid.425375.2",
           "Italy",
           "Lodi"
          ],
          [
           "grid.419555.9",
           "Italy",
           "Candiolo"
          ],
          [
           "grid.7605.4",
           "Italy",
           "Turin"
          ],
          [
           "grid.424414.3",
           "Italy",
           "San Michele all'Adige"
          ],
          [
           "grid.5326.2",
           "Italy",
           "Rome"
          ],
          [
           "grid.4708.b",
           "Italy",
           "Milan"
          ],
          [
           "grid.18887.3e",
           "Italy",
           "Milan"
          ],
          [
           "grid.434554.7",
           "Italy",
           "Ispra"
          ],
          [
           "grid.11696.39",
           "Italy",
           "Trento"
          ],
          [
           "grid.5606.5",
           "Italy",
           "Genoa"
          ],
          [
           "grid.9027.c",
           "Italy",
           "Perugia"
          ],
          [
           "grid.7841.a",
           "Italy",
           "Rome"
          ],
          [
           "grid.452490.e",
           "Italy",
           "Rozzano"
          ],
          [
           "grid.473716.0",
           "Italy",
           "Bari"
          ],
          [
           "grid.491181.4",
           "Italy",
           "Trento"
          ],
          [
           "grid.8404.8",
           "Italy",
           "Florence"
          ],
          [
           "grid.414125.7",
           "Italy",
           "Rome"
          ],
          [
           "grid.4643.5",
           "Italy",
           "Milan"
          ],
          [
           "grid.4800.c",
           "Italy",
           "Turin"
          ],
          [
           "grid.6292.f",
           "Italy",
           "Bologna"
          ],
          [
           "grid.419504.d",
           "Italy",
           "Genoa"
          ],
          [
           "grid.5970.b",
           "Italy",
           "Trieste"
          ],
          [
           "grid.5390.f",
           "Italy",
           "Udine"
          ],
          [
           "grid.6530.0",
           "Italy",
           "Rome"
          ],
          [
           "grid.263145.7",
           "Italy",
           "Pisa"
          ],
          [
           "grid.11450.31",
           "Italy",
           "Sassari"
          ],
          [
           "grid.452691.d",
           "Italy",
           "Udine"
          ],
          [
           "grid.425285.c",
           "Italy",
           "Pomezia"
          ],
          [
           "grid.25786.3e",
           "Italy",
           "Genoa"
          ],
          [
           "grid.429135.8",
           "Italy",
           "Segrate"
          ],
          [
           "grid.11469.3b",
           "Italy",
           "Trento"
          ],
          [
           "grid.411489.1",
           "Italy",
           "Catanzaro"
          ],
          [
           "grid.9841.4",
           "Italy",
           "Caserta"
          ],
          [
           "grid.410439.b",
           "Italy",
           "Naples"
          ],
          [
           "grid.418924.2",
           "Italy",
           "Monterotondo"
          ],
          [
           "grid.423616.4",
           "Italy",
           "Rome"
          ],
          [
           "grid.7563.7",
           "Italy",
           "Milan"
          ],
          [
           "grid.7678.e",
           "Italy",
           "Milan"
          ],
          [
           "grid.509736.e",
           "Italy",
           "Milan"
          ],
          [
           "grid.15496.3f",
           "Italy",
           "Milan"
          ],
          [
           "grid.15667.33",
           "Italy",
           "Milan"
          ]
         ],
         "geo": "geo",
         "hovertemplate": "<b>%{hovertext}</b><br><br>country=%{customdata[1]}<br>people=%{marker.size}<br>lat=%{lat}<br>long=%{lon}<br>gridid=%{customdata[0]}<br>city=%{customdata[2]}<extra></extra>",
         "hovertext": [
          "grid.5608.b",
          "grid.425375.2",
          "grid.419555.9",
          "grid.7605.4",
          "grid.424414.3",
          "grid.5326.2",
          "grid.4708.b",
          "grid.18887.3e",
          "grid.434554.7",
          "grid.11696.39",
          "grid.5606.5",
          "grid.9027.c",
          "grid.7841.a",
          "grid.452490.e",
          "grid.473716.0",
          "grid.491181.4",
          "grid.8404.8",
          "grid.414125.7",
          "grid.4643.5",
          "grid.4800.c",
          "grid.6292.f",
          "grid.419504.d",
          "grid.5970.b",
          "grid.5390.f",
          "grid.6530.0",
          "grid.263145.7",
          "grid.11450.31",
          "grid.452691.d",
          "grid.425285.c",
          "grid.25786.3e",
          "grid.429135.8",
          "grid.11469.3b",
          "grid.411489.1",
          "grid.9841.4",
          "grid.410439.b",
          "grid.418924.2",
          "grid.423616.4",
          "grid.7563.7",
          "grid.7678.e",
          "grid.509736.e",
          "grid.15496.3f",
          "grid.15667.33"
         ],
         "lat": [
          45.40638732910156,
          45.30305099487305,
          44.966224670410156,
          45.06666564941406,
          46.19535827636719,
          41.9010009765625,
          45.46099090576172,
          45.50498962402344,
          45.809810638427734,
          46.069427490234375,
          44.40291976928711,
          43.11600112915039,
          41.903839111328125,
          45.37272644042969,
          41.1107292175293,
          46.0703010559082,
          43.77788162231445,
          41.897464752197266,
          45.47886276245117,
          45.06309509277344,
          44.49388885498047,
          44.39284133911133,
          45.6802978515625,
          46.080833435058594,
          41.85015106201172,
          43.721012115478516,
          40.724849700927734,
          46.01478576660156,
          41.66999435424805,
          44.475059509277344,
          45.50234603881836,
          46.06315994262695,
          38.86893081665039,
          41.06813430786133,
          40.849281311035156,
          42.085044860839844,
          41.89334487915039,
          45.518157958984375,
          45.4417724609375,
          45.50498962402344,
          45.507076263427734,
          45.41403579711914
         ],
         "legendgroup": "Italy",
         "lon": [
          11.877446174621582,
          9.479574203491211,
          7.5671281814575195,
          7.689019203186035,
          11.136234283447266,
          12.51259994506836,
          9.194592475891113,
          9.265472412109375,
          8.631204605102539,
          11.121116638183594,
          8.95888900756836,
          12.38599967956543,
          12.514437675476074,
          9.167525291442871,
          16.883256912231445,
          11.122902870178223,
          11.259733200073242,
          12.46116828918457,
          9.228205680847168,
          7.661075115203857,
          11.342778205871582,
          8.988006591796875,
          13.773675918579102,
          13.21166706085205,
          12.597990989685059,
          10.402786254882812,
          8.559746742248535,
          13.266218185424805,
          12.512499809265137,
          8.906425476074219,
          9.263050079345703,
          11.124422073364258,
          16.579795837402344,
          14.33117961883545,
          14.248241424560547,
          12.594306945800781,
          12.483071327209473,
          9.213232040405273,
          9.203139305114746,
          9.265472412109375,
          9.267317771911621,
          9.208186149597168
         ],
         "marker": {
          "color": "#FFA15A",
          "size": [
           7,
           1,
           1,
           2,
           3,
           1,
           6,
           9,
           1,
           16,
           1,
           4,
           1,
           1,
           3,
           1,
           2,
           1,
           1,
           1,
           2,
           1,
           1,
           2,
           3,
           1,
           1,
           2,
           1,
           2,
           1,
           3,
           1,
           1,
           1,
           1,
           1,
           1,
           1,
           4,
           3,
           3
          ],
          "sizemode": "area",
          "sizeref": 0.935,
          "symbol": "circle"
         },
         "mode": "markers",
         "name": "Italy",
         "showlegend": true,
         "type": "scattergeo"
        },
        {
         "customdata": [
          [
           "grid.15781.3a",
           "France",
           "Toulouse"
          ],
          [
           "grid.477396.8",
           "France",
           "Paris"
          ],
          [
           "grid.457373.1",
           "France",
           "Strasbourg"
          ],
          [
           "grid.277151.7",
           "France",
           "Nantes"
          ],
          [
           "grid.464148.b",
           "France",
           "Montfavet"
          ],
          [
           "grid.121334.6",
           "France",
           "Montpellier"
          ],
          [
           "grid.11843.3f",
           "France",
           "Strasbourg"
          ],
          [
           "grid.4817.a",
           "France",
           "Nantes"
          ],
          [
           "grid.5399.6",
           "France",
           "Marseille"
          ],
          [
           "grid.14925.3b",
           "France",
           "Villejuif"
          ],
          [
           "grid.29172.3f",
           "France",
           "Nancy"
          ],
          [
           "grid.418596.7",
           "France",
           "Paris"
          ],
          [
           "grid.428999.7",
           "France",
           "Paris"
          ],
          [
           "grid.11166.31",
           "France",
           "Poitiers"
          ],
          [
           "grid.503422.2",
           "France",
           "Lille"
          ],
          [
           "grid.7429.8",
           "France",
           "Paris"
          ],
          [
           "grid.36193.3e",
           "France",
           "Paris"
          ],
          [
           "grid.12366.30",
           "France",
           "Tours"
          ],
          [
           "grid.417870.d",
           "France",
           "Orléans"
          ],
          [
           "grid.17703.32",
           "France",
           "Lyon"
          ],
          [
           "grid.417961.c",
           "France",
           "Jouy-en-Josas"
          ],
          [
           "grid.433367.6",
           "France",
           "Palaiseau"
          ],
          [
           "grid.414221.0",
           "France",
           "Le Plessis-Robinson"
          ],
          [
           "grid.412041.2",
           "France",
           "Bordeaux"
          ],
          [
           "grid.7310.5",
           "France",
           "Avignon"
          ],
          [
           "grid.418070.a",
           "France",
           "Versailles"
          ],
          [
           "grid.508487.6",
           "France",
           "Paris"
          ],
          [
           "grid.503190.e",
           "France",
           "Paris"
          ],
          [
           "grid.503307.2",
           "France",
           "Paris"
          ],
          [
           "grid.462844.8",
           "France",
           "Paris"
          ],
          [
           "grid.462887.7",
           "France",
           "Paris"
          ],
          [
           "grid.503253.2",
           "France",
           "Paris"
          ],
          [
           "grid.462293.8",
           "France",
           "Paris"
          ],
          [
           "grid.503270.3",
           "France",
           "Évry"
          ],
          [
           "grid.460789.4",
           "France",
           "Gif-sur-Yvette"
          ],
          [
           "grid.462410.5",
           "France",
           "Créteil"
          ],
          [
           "grid.464126.3",
           "France",
           "Nouzilly"
          ],
          [
           "grid.462299.2",
           "France",
           "Dijon"
          ],
          [
           "grid.493090.7",
           "France",
           "Besançon"
          ],
          [
           "grid.452456.4",
           "France",
           "Beaucouzé"
          ],
          [
           "grid.464139.d",
           "France",
           "Villenave-d'Ornon"
          ],
          [
           "grid.508721.9",
           "France",
           "Toulouse"
          ],
          [
           "grid.503158.a",
           "France",
           "Montpellier"
          ],
          [
           "grid.503155.7",
           "France",
           "Montpellier"
          ],
          [
           "grid.450307.5",
           "France",
           "Saint-Martin-d'Hères"
          ],
          [
           "grid.494717.8",
           "France",
           "Clermont-Ferrand"
          ],
          [
           "grid.483743.f",
           "France",
           "Lyon"
          ],
          [
           "grid.460782.f",
           "France",
           "Nice"
          ],
          [
           "grid.463764.4",
           "France",
           "Marseille"
          ],
          [
           "grid.483853.1",
           "France",
           "Marseille"
          ],
          [
           "grid.411296.9",
           "France",
           "Paris"
          ],
          [
           "grid.4444.0",
           "France",
           "Paris"
          ],
          [
           "grid.4399.7",
           "France",
           "Marseille"
          ],
          [
           "grid.10988.38",
           "France",
           "Paris"
          ],
          [
           "grid.417924.d",
           "France",
           "Paris"
          ],
          [
           "grid.5842.b",
           "France",
           "Orsay"
          ],
          [
           "grid.503332.4",
           "France",
           "Nantes"
          ],
          [
           "grid.410368.8",
           "France",
           "Rennes"
          ],
          [
           "grid.7849.2",
           "France",
           "Villeurbanne"
          ],
          [
           "grid.417836.f",
           "France",
           "Paris"
          ],
          [
           "grid.8183.2",
           "France",
           "Paris"
          ],
          [
           "grid.4825.b",
           "France",
           "Issy-les-Moulineaux"
          ],
          [
           "grid.462754.6",
           "France",
           "Castanet-Tolosan"
          ],
          [
           "grid.462264.0",
           "France",
           "Grenoble"
          ],
          [
           "grid.429194.3",
           "France",
           "Valbonne"
          ],
          [
           "grid.411439.a",
           "France",
           "Paris"
          ],
          [
           "grid.462192.a",
           "France",
           "Paris"
          ],
          [
           "grid.425274.2",
           "France",
           "Paris"
          ],
          [
           "grid.483397.2",
           "France",
           "Paris"
          ],
          [
           "grid.510535.7",
           "France",
           "Paris"
          ],
          [
           "grid.463909.1",
           "France",
           "Paris"
          ],
          [
           "grid.462336.6",
           "France",
           "Paris"
          ],
          [
           "grid.503216.3",
           "France",
           "Évry"
          ],
          [
           "grid.503326.1",
           "France",
           "Illkirch-Graffenstaden"
          ],
          [
           "grid.424765.6",
           "France",
           "Rennes"
          ],
          [
           "grid.503283.f",
           "France",
           "Villenave-d'Ornon"
          ],
          [
           "grid.462008.8",
           "France",
           "Montpellier"
          ],
          [
           "grid.503180.f",
           "France",
           "Clermont-Ferrand"
          ],
          [
           "grid.25697.3f",
           "France",
           "Lyon"
          ],
          [
           "grid.462370.4",
           "France",
           "Nice"
          ],
          [
           "grid.434728.e",
           "France",
           "Évry"
          ],
          [
           "grid.463979.6",
           "France",
           "Les Ulis"
          ],
          [
           "grid.8390.2",
           "France",
           "Évry"
          ],
          [
           "grid.503249.9",
           "France",
           "Châtenay-Malabry"
          ],
          [
           "grid.465534.5",
           "France",
           "Strasbourg"
          ],
          [
           "grid.420255.4",
           "France",
           "Illkirch-Graffenstaden"
          ],
          [
           "grid.429192.5",
           "France",
           "Montpellier"
          ],
          [
           "grid.463998.9",
           "France",
           "Perpignan"
          ],
          [
           "grid.463888.9",
           "France",
           "Villefranche-sur-Mer"
          ],
          [
           "grid.503114.2",
           "France",
           "Marseille"
          ],
          [
           "grid.507621.7",
           "France",
           "Paris"
          ],
          [
           "grid.50550.35",
           "France",
           "Paris"
          ]
         ],
         "geo": "geo",
         "hovertemplate": "<b>%{hovertext}</b><br><br>country=%{customdata[1]}<br>people=%{marker.size}<br>lat=%{lat}<br>long=%{lon}<br>gridid=%{customdata[0]}<br>city=%{customdata[2]}<extra></extra>",
         "hovertext": [
          "grid.15781.3a",
          "grid.477396.8",
          "grid.457373.1",
          "grid.277151.7",
          "grid.464148.b",
          "grid.121334.6",
          "grid.11843.3f",
          "grid.4817.a",
          "grid.5399.6",
          "grid.14925.3b",
          "grid.29172.3f",
          "grid.418596.7",
          "grid.428999.7",
          "grid.11166.31",
          "grid.503422.2",
          "grid.7429.8",
          "grid.36193.3e",
          "grid.12366.30",
          "grid.417870.d",
          "grid.17703.32",
          "grid.417961.c",
          "grid.433367.6",
          "grid.414221.0",
          "grid.412041.2",
          "grid.7310.5",
          "grid.418070.a",
          "grid.508487.6",
          "grid.503190.e",
          "grid.503307.2",
          "grid.462844.8",
          "grid.462887.7",
          "grid.503253.2",
          "grid.462293.8",
          "grid.503270.3",
          "grid.460789.4",
          "grid.462410.5",
          "grid.464126.3",
          "grid.462299.2",
          "grid.493090.7",
          "grid.452456.4",
          "grid.464139.d",
          "grid.508721.9",
          "grid.503158.a",
          "grid.503155.7",
          "grid.450307.5",
          "grid.494717.8",
          "grid.483743.f",
          "grid.460782.f",
          "grid.463764.4",
          "grid.483853.1",
          "grid.411296.9",
          "grid.4444.0",
          "grid.4399.7",
          "grid.10988.38",
          "grid.417924.d",
          "grid.5842.b",
          "grid.503332.4",
          "grid.410368.8",
          "grid.7849.2",
          "grid.417836.f",
          "grid.8183.2",
          "grid.4825.b",
          "grid.462754.6",
          "grid.462264.0",
          "grid.429194.3",
          "grid.411439.a",
          "grid.462192.a",
          "grid.425274.2",
          "grid.483397.2",
          "grid.510535.7",
          "grid.463909.1",
          "grid.462336.6",
          "grid.503216.3",
          "grid.503326.1",
          "grid.424765.6",
          "grid.503283.f",
          "grid.462008.8",
          "grid.503180.f",
          "grid.25697.3f",
          "grid.462370.4",
          "grid.434728.e",
          "grid.463979.6",
          "grid.8390.2",
          "grid.503249.9",
          "grid.465534.5",
          "grid.420255.4",
          "grid.429192.5",
          "grid.463998.9",
          "grid.463888.9",
          "grid.503114.2",
          "grid.507621.7",
          "grid.50550.35"
         ],
         "lat": [
          43.56194305419922,
          48.83534622192383,
          48.590797424316406,
          47.216773986816406,
          43.915164947509766,
          43.622222900390625,
          48.58027648925781,
          47.2400016784668,
          43.29353713989258,
          48.79460525512695,
          48.696109771728516,
          48.84333419799805,
          48.84000015258789,
          46.58610916137695,
          50.63169860839844,
          48.82652282714844,
          48.83355712890625,
          47.35633087158203,
          47.840187072753906,
          45.743499755859375,
          48.76347732543945,
          48.658538818359375,
          48.784202575683594,
          44.808956146240234,
          43.95000076293945,
          48.80230712890625,
          48.863807678222656,
          48.83761978149414,
          48.841461181640625,
          48.848480224609375,
          48.84893798828125,
          48.84785461425781,
          48.83986282348633,
          48.62057113647461,
          48.707855224609375,
          48.79712677001953,
          47.54499435424805,
          47.31665802001953,
          47.24821472167969,
          47.477413177490234,
          44.78767776489258,
          43.604400634765625,
          43.63186264038086,
          43.64552688598633,
          45.192115783691406,
          45.78969192504883,
          45.72704315185547,
          43.737361907958984,
          43.23454284667969,
          43.28995132446289,
          48.88309860229492,
          48.84766387939453,
          43.31062698364258,
          48.848609924316406,
          48.82033157348633,
          48.697757720947266,
          47.28986358642578,
          48.117977142333984,
          45.78097915649414,
          48.8764533996582,
          48.86272430419922,
          48.822757720947266,
          43.528289794921875,
          45.190345764160156,
          43.618988037109375,
          48.83700180053711,
          48.839019775390625,
          48.835514068603516,
          48.81378173828125,
          48.853370666503906,
          48.84144973754883,
          48.845272064208984,
          48.61830520629883,
          48.5296516418457,
          48.11362838745117,
          44.787845611572266,
          43.62306213378906,
          45.775203704833984,
          45.74814987182617,
          43.69660949707031,
          48.623687744140625,
          50.62151336669922,
          48.62467956542969,
          48.761539459228516,
          48.5794563293457,
          48.526206970214844,
          43.63800811767578,
          42.682125091552734,
          43.699092864990234,
          43.23194885253906,
          48.861202239990234,
          48.856842041015625
         ],
         "legendgroup": "France",
         "lon": [
          1.4683330059051514,
          2.365557909011841,
          7.718481063842773,
          -1.553068995475769,
          4.878411769866943,
          3.8616669178009033,
          7.764443874359131,
          -1.5499999523162842,
          5.357944011688232,
          2.34877610206604,
          6.176667213439941,
          2.3441669940948486,
          2.311666965484619,
          0.3438889980316162,
          3.0751259326934814,
          2.3655529022216797,
          2.266132116317749,
          0.7031199932098389,
          1.9444619417190552,
          4.876100063323975,
          2.1714351177215576,
          2.684699058532715,
          2.273587942123413,
          -0.5902159810066223,
          4.818056106567383,
          2.0872159004211426,
          2.32920503616333,
          2.3413729667663574,
          2.347184896469116,
          2.343234062194824,
          2.3454790115356445,
          2.359158992767334,
          2.347659111022949,
          2.449099063873291,
          2.1524810791015625,
          2.453097105026245,
          0.7828400135040283,
          5.069207191467285,
          5.991322994232178,
          -0.6137019991874695,
          -0.577019989490509,
          1.4438999891281128,
          3.8600869178771973,
          3.8663508892059326,
          5.767275810241699,
          3.1087770462036133,
          4.832162857055664,
          7.0645670890808105,
          5.44154691696167,
          5.400683879852295,
          2.353060007095337,
          2.2640340328216553,
          5.368916034698486,
          2.3433330059051514,
          2.3285200595855713,
          2.175968885421753,
          -1.5249160528182983,
          -1.6379929780960083,
          4.867589950561523,
          2.3690309524536133,
          2.2819159030914307,
          2.259592056274414,
          1.4995579719543457,
          5.713363170623779,
          7.053061008453369,
          2.365000009536743,
          2.3543200492858887,
          2.364485025405884,
          2.387521982192993,
          2.363013982772827,
          2.347184896469116,
          2.3181049823760986,
          2.4484000205993652,
          7.735047817230225,
          -1.7063930034637451,
          -0.5770620107650757,
          3.8620970249176025,
          3.143954038619995,
          4.852352142333984,
          7.226109981536865,
          2.4392409324645996,
          3.0780251026153564,
          2.4271130561828613,
          2.2743520736694336,
          7.764659881591797,
          7.741229057312012,
          3.864983081817627,
          2.8988258838653564,
          7.307598114013672,
          5.443081855773926,
          2.3061580657958984,
          2.3504109382629395
         ],
         "marker": {
          "color": "#19d3f3",
          "size": [
           5,
           1,
           1,
           1,
           1,
           8,
           10,
           6,
           5,
           1,
           1,
           6,
           30,
           1,
           1,
           2,
           2,
           1,
           1,
           1,
           2,
           1,
           3,
           2,
           1,
           1,
           6,
           1,
           4,
           2,
           1,
           1,
           4,
           1,
           1,
           1,
           1,
           1,
           1,
           1,
           1,
           2,
           1,
           4,
           2,
           9,
           1,
           1,
           5,
           1,
           1,
           18,
           1,
           1,
           3,
           1,
           5,
           1,
           2,
           2,
           4,
           1,
           1,
           3,
           7,
           6,
           2,
           4,
           1,
           1,
           3,
           2,
           2,
           1,
           1,
           1,
           1,
           1,
           1,
           1,
           8,
           1,
           1,
           1,
           4,
           4,
           1,
           1,
           1,
           1,
           6,
           1
          ],
          "sizemode": "area",
          "sizeref": 0.935,
          "symbol": "circle"
         },
         "mode": "markers",
         "name": "France",
         "showlegend": true,
         "type": "scattergeo"
        },
        {
         "customdata": [
          [
           "grid.4491.8",
           "Czechia",
           "Prague"
          ],
          [
           "grid.454748.e",
           "Czechia",
           "Olomouc"
          ],
          [
           "grid.10979.36",
           "Czechia",
           "Olomouc"
          ],
          [
           "grid.419008.4",
           "Czechia",
           "Prague"
          ],
          [
           "grid.424999.b",
           "Czechia",
           "Prague"
          ],
          [
           "grid.10267.32",
           "Czechia",
           "Brno"
          ],
          [
           "grid.418925.3",
           "Czechia",
           "Prague"
          ],
          [
           "grid.454751.6",
           "Czechia",
           "Brno"
          ]
         ],
         "geo": "geo",
         "hovertemplate": "<b>%{hovertext}</b><br><br>country=%{customdata[1]}<br>people=%{marker.size}<br>lat=%{lat}<br>long=%{lon}<br>gridid=%{customdata[0]}<br>city=%{customdata[2]}<extra></extra>",
         "hovertext": [
          "grid.4491.8",
          "grid.454748.e",
          "grid.10979.36",
          "grid.419008.4",
          "grid.424999.b",
          "grid.10267.32",
          "grid.418925.3",
          "grid.454751.6"
         ],
         "lat": [
          50.088401794433594,
          49.595458984375,
          49.5950813293457,
          50.127906799316406,
          50.08671569824219,
          49.198612213134766,
          50.069252014160156,
          49.20178985595703
         ],
         "legendgroup": "Czechia",
         "lon": [
          14.40369987487793,
          17.26024055480957,
          17.259140014648438,
          14.38254165649414,
          14.339067459106445,
          16.604999542236328,
          14.424286842346191,
          16.603670120239258
         ],
         "marker": {
          "color": "#FF6692",
          "size": [
           2,
           3,
           1,
           1,
           4,
           3,
           1,
           1
          ],
          "sizemode": "area",
          "sizeref": 0.935,
          "symbol": "circle"
         },
         "mode": "markers",
         "name": "Czechia",
         "showlegend": true,
         "type": "scattergeo"
        },
        {
         "customdata": [
          [
           "grid.452254.0",
           "Singapore",
           "Singapore"
          ],
          [
           "grid.4280.e",
           "Singapore",
           "Singapore"
          ],
          [
           "grid.508077.d",
           "Singapore",
           "Singapore"
          ],
          [
           "grid.414963.d",
           "Singapore",
           "Singapore"
          ],
          [
           "grid.418812.6",
           "Singapore",
           "Singapore"
          ],
          [
           "grid.453420.4",
           "Singapore",
           "Singapore"
          ],
          [
           "grid.430276.4",
           "Singapore",
           "Singapore"
          ],
          [
           "grid.418325.9",
           "Singapore",
           "Singapore"
          ],
          [
           "grid.418830.6",
           "Singapore",
           "Singapore"
          ],
          [
           "grid.412634.6",
           "Singapore",
           "Singapore"
          ],
          [
           "grid.428397.3",
           "Singapore",
           "Singapore"
          ],
          [
           "grid.418377.e",
           "Singapore",
           "Singapore"
          ],
          [
           "grid.452198.3",
           "Singapore",
           "Singapore"
          ],
          [
           "grid.59025.3b",
           "Singapore",
           "Singapore"
          ],
          [
           "grid.185448.4",
           "Singapore",
           "Singapore"
          ],
          [
           "grid.240988.f",
           "Singapore",
           "Singapore"
          ]
         ],
         "geo": "geo",
         "hovertemplate": "<b>%{hovertext}</b><br><br>country=%{customdata[1]}<br>people=%{marker.size}<br>lat=%{lat}<br>long=%{lon}<br>gridid=%{customdata[0]}<br>city=%{customdata[2]}<extra></extra>",
         "hovertext": [
          "grid.452254.0",
          "grid.4280.e",
          "grid.508077.d",
          "grid.414963.d",
          "grid.418812.6",
          "grid.453420.4",
          "grid.430276.4",
          "grid.418325.9",
          "grid.418830.6",
          "grid.412634.6",
          "grid.428397.3",
          "grid.418377.e",
          "grid.452198.3",
          "grid.59025.3b",
          "grid.185448.4",
          "grid.240988.f"
         ],
         "lat": [
          1.3055089712142944,
          1.2955559492111206,
          1.3221030235290527,
          1.3106839656829834,
          1.303104043006897,
          1.2811009883880615,
          1.3058249950408936,
          1.3043659925460815,
          1.307108998298645,
          1.2969059944152832,
          1.282565951347351,
          1.3032679557800293,
          1.304000973701477,
          1.344722032546997,
          1.2999529838562012,
          1.3208099603652954
         ],
         "legendgroup": "Singapore",
         "lon": [
          103.79166412353516,
          103.77666473388672,
          103.84720611572266,
          103.84683990478516,
          103.7928237915039,
          103.8362808227539,
          103.79646301269531,
          103.79342651367188,
          103.79782104492188,
          103.85209655761719,
          103.83402252197266,
          103.79283905029297,
          103.79227447509766,
          103.68138885498047,
          103.78764343261719,
          103.84613037109375
         ],
         "marker": {
          "color": "#B6E880",
          "size": [
           1,
           27,
           4,
           7,
           4,
           1,
           6,
           6,
           7,
           1,
           8,
           23,
           2,
           12,
           6,
           2
          ],
          "sizemode": "area",
          "sizeref": 0.935,
          "symbol": "circle"
         },
         "mode": "markers",
         "name": "Singapore",
         "showlegend": true,
         "type": "scattergeo"
        },
        {
         "customdata": [
          [
           "grid.418729.1",
           "Austria",
           "Vienna"
          ],
          [
           "grid.5173.0",
           "Austria",
           "Vienna"
          ],
          [
           "grid.486422.e",
           "Austria",
           "Vienna"
          ],
          [
           "grid.22937.3d",
           "Austria",
           "Vienna"
          ],
          [
           "grid.10420.37",
           "Austria",
           "Vienna"
          ],
          [
           "grid.9970.7",
           "Austria",
           "Linz"
          ],
          [
           "grid.432147.7",
           "Austria",
           "Graz"
          ],
          [
           "grid.416346.2",
           "Austria",
           "Vienna"
          ],
          [
           "grid.7039.d",
           "Austria",
           "Salzburg"
          ],
          [
           "grid.7520.0",
           "Austria",
           "Klagenfurt"
          ],
          [
           "grid.475780.9",
           "Austria",
           "Vienna"
          ],
          [
           "grid.454388.6",
           "Austria",
           "Vienna"
          ],
          [
           "grid.14826.39",
           "Austria",
           "Vienna"
          ],
          [
           "grid.5110.5",
           "Austria",
           "Graz"
          ],
          [
           "grid.6583.8",
           "Austria",
           "Vienna"
          ],
          [
           "grid.425126.6",
           "Austria",
           "Maria Enzersdorf"
          ],
          [
           "grid.33565.36",
           "Austria",
           "Klosterneuburg"
          ],
          [
           "grid.11598.34",
           "Austria",
           "Graz"
          ],
          [
           "grid.414107.7",
           "Austria",
           "Vienna"
          ],
          [
           "grid.24194.3a",
           "Austria",
           "Vienna"
          ],
          [
           "grid.417521.4",
           "Austria",
           "Vienna"
          ],
          [
           "grid.419480.0",
           "Austria",
           "Vienna"
          ],
          [
           "grid.507465.5",
           "Austria",
           "Vienna"
          ]
         ],
         "geo": "geo",
         "hovertemplate": "<b>%{hovertext}</b><br><br>country=%{customdata[1]}<br>people=%{marker.size}<br>lat=%{lat}<br>long=%{lon}<br>gridid=%{customdata[0]}<br>city=%{customdata[2]}<extra></extra>",
         "hovertext": [
          "grid.418729.1",
          "grid.5173.0",
          "grid.486422.e",
          "grid.22937.3d",
          "grid.10420.37",
          "grid.9970.7",
          "grid.432147.7",
          "grid.416346.2",
          "grid.7039.d",
          "grid.7520.0",
          "grid.475780.9",
          "grid.454388.6",
          "grid.14826.39",
          "grid.5110.5",
          "grid.6583.8",
          "grid.425126.6",
          "grid.33565.36",
          "grid.11598.34",
          "grid.414107.7",
          "grid.24194.3a",
          "grid.417521.4",
          "grid.419480.0",
          "grid.507465.5"
         ],
         "lat": [
          48.21950912475586,
          48.23666763305664,
          48.17028045654297,
          48.220001220703125,
          48.21305465698242,
          48.337501525878906,
          47.06515121459961,
          48.2159423828125,
          47.79818344116211,
          46.616310119628906,
          48.1983528137207,
          48.23655700683594,
          48.1887321472168,
          47.077999114990234,
          48.255279541015625,
          48.09946823120117,
          48.31055450439453,
          47.079166412353516,
          48.2546272277832,
          48.18946075439453,
          48.192874908447266,
          48.21279525756836,
          48.17056655883789
         ],
         "legendgroup": "Austria",
         "lon": [
          16.349512100219727,
          16.337221145629883,
          16.317243576049805,
          16.351388931274414,
          16.359722137451172,
          14.317500114440918,
          15.453042984008789,
          16.344287872314453,
          13.04613208770752,
          14.265278816223145,
          16.378276824951172,
          16.383813858032227,
          16.401273727416992,
          15.449880599975586,
          16.43138885498047,
          16.259044647216797,
          16.261110305786133,
          15.449443817138672,
          16.483871459960938,
          16.401809692382812,
          16.401914596557617,
          16.414276123046875,
          16.33449935913086
         ],
         "marker": {
          "color": "#FF97FF",
          "size": [
           4,
           11,
           3,
           9,
           9,
           2,
           1,
           2,
           1,
           1,
           1,
           1,
           17,
           1,
           2,
           1,
           3,
           6,
           1,
           1,
           5,
           2,
           1
          ],
          "sizemode": "area",
          "sizeref": 0.935,
          "symbol": "circle"
         },
         "mode": "markers",
         "name": "Austria",
         "showlegend": true,
         "type": "scattergeo"
        },
        {
         "customdata": [
          [
           "grid.493032.f",
           "Australia",
           "Canberra"
          ],
          [
           "grid.1010.0",
           "Australia",
           "Adelaide"
          ],
          [
           "grid.416107.5",
           "Australia",
           "Melbourne"
          ],
          [
           "grid.1016.6",
           "Australia",
           "Canberra"
          ],
          [
           "grid.414539.e",
           "Australia",
           "Melbourne"
          ],
          [
           "grid.415994.4",
           "Australia",
           "Liverpool"
          ],
          [
           "grid.1003.2",
           "Australia",
           "Brisbane"
          ],
          [
           "grid.413249.9",
           "Australia",
           "Sydney"
          ],
          [
           "grid.1017.7",
           "Australia",
           "Melbourne"
          ],
          [
           "grid.1004.5",
           "Australia",
           "Sydney"
          ],
          [
           "grid.415306.5",
           "Australia",
           "Darlinghurst"
          ],
          [
           "grid.1011.1",
           "Australia",
           "Townsville"
          ],
          [
           "grid.1014.4",
           "Australia",
           "Adelaide"
          ],
          [
           "grid.1018.8",
           "Australia",
           "Melbourne"
          ],
          [
           "grid.452824.d",
           "Australia",
           "Clayton"
          ],
          [
           "grid.1001.0",
           "Australia",
           "Canberra"
          ],
          [
           "grid.1005.4",
           "Australia",
           "Sydney"
          ],
          [
           "grid.1049.c",
           "Australia",
           "Brisbane"
          ],
          [
           "grid.1055.1",
           "Australia",
           "Melbourne"
          ],
          [
           "grid.1042.7",
           "Australia",
           "Melbourne"
          ],
          [
           "grid.1012.2",
           "Australia",
           "Perth"
          ],
          [
           "grid.1029.a",
           "Australia",
           "Richmond"
          ],
          [
           "grid.1009.8",
           "Australia",
           "Hobart"
          ],
          [
           "grid.1002.3",
           "Australia",
           "Melbourne"
          ],
          [
           "grid.1073.5",
           "Australia",
           "Fitzroy"
          ],
          [
           "grid.489335.0",
           "Australia",
           "Woolloongabba"
          ],
          [
           "grid.1013.3",
           "Australia",
           "Sydney"
          ],
          [
           "grid.1008.9",
           "Australia",
           "Melbourne"
          ],
          [
           "grid.416259.d",
           "Australia",
           "Melbourne"
          ],
          [
           "grid.1022.1",
           "Australia",
           "Brisbane"
          ],
          [
           "grid.1046.3",
           "Australia",
           "Townsville"
          ],
          [
           "grid.418025.a",
           "Australia",
           "Melbourne"
          ],
          [
           "grid.1025.6",
           "Australia",
           "Perth"
          ],
          [
           "grid.248902.5",
           "Australia",
           "Sydney"
          ],
          [
           "grid.117476.2",
           "Australia",
           "Sydney"
          ],
          [
           "grid.1024.7",
           "Australia",
           "Brisbane"
          ],
          [
           "grid.433802.e",
           "Australia",
           "Southbank"
          ],
          [
           "grid.1058.c",
           "Australia",
           "Melbourne"
          ],
          [
           "grid.1032.0",
           "Australia",
           "Perth"
          ],
          [
           "grid.410692.8",
           "Australia",
           "Sydney"
          ],
          [
           "grid.1680.f",
           "Australia",
           "Orange"
          ],
          [
           "grid.484852.7",
           "Australia",
           "Clayton"
          ],
          [
           "grid.499527.4",
           "Australia",
           "Canberra"
          ],
          [
           "grid.1064.3",
           "Australia",
           "Brisbane"
          ],
          [
           "grid.431595.f",
           "Australia",
           "Nedlands"
          ],
          [
           "grid.416153.4",
           "Australia",
           "Melbourne"
          ]
         ],
         "geo": "geo",
         "hovertemplate": "<b>%{hovertext}</b><br><br>country=%{customdata[1]}<br>people=%{marker.size}<br>lat=%{lat}<br>long=%{lon}<br>gridid=%{customdata[0]}<br>city=%{customdata[2]}<extra></extra>",
         "hovertext": [
          "grid.493032.f",
          "grid.1010.0",
          "grid.416107.5",
          "grid.1016.6",
          "grid.414539.e",
          "grid.415994.4",
          "grid.1003.2",
          "grid.413249.9",
          "grid.1017.7",
          "grid.1004.5",
          "grid.415306.5",
          "grid.1011.1",
          "grid.1014.4",
          "grid.1018.8",
          "grid.452824.d",
          "grid.1001.0",
          "grid.1005.4",
          "grid.1049.c",
          "grid.1055.1",
          "grid.1042.7",
          "grid.1012.2",
          "grid.1029.a",
          "grid.1009.8",
          "grid.1002.3",
          "grid.1073.5",
          "grid.489335.0",
          "grid.1013.3",
          "grid.1008.9",
          "grid.416259.d",
          "grid.1022.1",
          "grid.1046.3",
          "grid.418025.a",
          "grid.1025.6",
          "grid.248902.5",
          "grid.117476.2",
          "grid.1024.7",
          "grid.433802.e",
          "grid.1058.c",
          "grid.1032.0",
          "grid.410692.8",
          "grid.1680.f",
          "grid.484852.7",
          "grid.499527.4",
          "grid.1064.3",
          "grid.431595.f",
          "grid.416153.4"
         ],
         "lat": [
          -35.27627182006836,
          -34.920654296875,
          -37.79499816894531,
          -35.27627182006836,
          -37.81723403930664,
          -33.91972351074219,
          -27.49596405029297,
          -33.8891716003418,
          -37.80674743652344,
          -33.7752571105957,
          -33.878360748291016,
          -19.327777862548828,
          -35.0240364074707,
          -37.7217903137207,
          -37.9213981628418,
          -35.277801513671875,
          -33.91773223876953,
          -27.449466705322266,
          -37.81149673461914,
          -37.79800033569336,
          -31.980915069580078,
          -33.81157302856445,
          -42.90209197998047,
          -37.90829849243164,
          -37.806575775146484,
          -27.49906349182129,
          -33.888580322265625,
          -37.797115325927734,
          -37.79874038696289,
          -27.470609664916992,
          -19.2677001953125,
          -37.793663024902344,
          -32.066001892089844,
          -33.88799285888672,
          -33.88327407836914,
          -27.47683334350586,
          -37.82414627075195,
          -37.793663024902344,
          -32.00593185424805,
          -33.92103576660156,
          -33.28591537475586,
          -37.91049575805664,
          -35.277976989746094,
          -27.484697341918945,
          -31.968040466308594,
          -37.79875564575195
         ],
         "legendgroup": "Australia",
         "lon": [
          149.1461181640625,
          138.6057586669922,
          144.94972229003906,
          149.1461181640625,
          144.99331665039062,
          150.93028259277344,
          153.00962829589844,
          151.18287658691406,
          144.9625701904297,
          151.1129150390625,
          151.22164916992188,
          146.75833129882812,
          138.57261657714844,
          145.04791259765625,
          145.1259002685547,
          149.12049865722656,
          151.23095703125,
          153.0271759033203,
          144.9772491455078,
          144.95599365234375,
          115.81987762451172,
          151.025146484375,
          147.33250427246094,
          145.13800048828125,
          144.97393798828125,
          153.03118896484375,
          151.1873016357422,
          144.95997619628906,
          144.955810546875,
          153.02285766601562,
          146.80569458007812,
          144.95684814453125,
          115.83499908447266,
          151.183837890625,
          151.20045471191406,
          153.0283966064453,
          144.9647674560547,
          144.9494171142578,
          115.89439392089844,
          150.93434143066406,
          149.1057891845703,
          145.12930297851562,
          149.12831115722656,
          153.02847290039062,
          115.81380462646484,
          144.9559326171875
         ],
         "marker": {
          "color": "#FECB52",
          "size": [
           18,
           9,
           2,
           5,
           1,
           1,
           25,
           2,
           2,
           2,
           9,
           1,
           1,
           3,
           1,
           5,
           18,
           4,
           22,
           4,
           9,
           2,
           6,
           23,
           1,
           1,
           16,
           37,
           4,
           2,
           1,
           1,
           3,
           1,
           1,
           3,
           4,
           9,
           2,
           1,
           1,
           2,
           11,
           1,
           2,
           3
          ],
          "sizemode": "area",
          "sizeref": 0.935,
          "symbol": "circle"
         },
         "mode": "markers",
         "name": "Australia",
         "showlegend": true,
         "type": "scattergeo"
        },
        {
         "customdata": [
          [
           "grid.434706.2",
           "Canada",
           "Vancouver"
          ],
          [
           "grid.21613.37",
           "Canada",
           "Winnipeg"
          ],
          [
           "grid.42327.30",
           "Canada",
           "Toronto"
          ],
          [
           "grid.39381.30",
           "Canada",
           "London"
          ],
          [
           "grid.14848.31",
           "Canada",
           "Montreal"
          ],
          [
           "grid.413571.5",
           "Canada",
           "Calgary"
          ],
          [
           "grid.55602.34",
           "Canada",
           "Halifax"
          ],
          [
           "grid.17089.37",
           "Canada",
           "Edmonton"
          ],
          [
           "grid.25152.31",
           "Canada",
           "Saskatoon"
          ],
          [
           "grid.411418.9",
           "Canada",
           "Montreal"
          ],
          [
           "grid.17091.3e",
           "Canada",
           "Vancouver"
          ],
          [
           "grid.25073.33",
           "Canada",
           "Hamilton"
          ],
          [
           "grid.47609.3c",
           "Canada",
           "Lethbridge"
          ],
          [
           "grid.22072.35",
           "Canada",
           "Calgary"
          ],
          [
           "grid.418084.1",
           "Canada",
           "Québec"
          ],
          [
           "grid.440605.3",
           "Canada",
           "North Vancouver"
          ],
          [
           "grid.61971.38",
           "Canada",
           "Burnaby"
          ],
          [
           "grid.143640.4",
           "Canada",
           "Victoria"
          ],
          [
           "grid.34429.38",
           "Canada",
           "Guelph"
          ],
          [
           "grid.258900.6",
           "Canada",
           "Thunder Bay"
          ],
          [
           "grid.34428.39",
           "Canada",
           "Ottawa"
          ],
          [
           "grid.57926.3f",
           "Canada",
           "Regina"
          ],
          [
           "grid.24433.32",
           "Canada",
           "Ottawa"
          ],
          [
           "grid.146611.5",
           "Canada",
           "Ottawa"
          ],
          [
           "grid.415224.4",
           "Canada",
           "Toronto"
          ],
          [
           "grid.46078.3d",
           "Canada",
           "Waterloo"
          ],
          [
           "grid.21100.32",
           "Canada",
           "Toronto"
          ],
          [
           "grid.492573.e",
           "Canada",
           "Toronto"
          ],
          [
           "grid.453391.9",
           "Canada",
           "Toronto"
          ],
          [
           "grid.414980.0",
           "Canada",
           "Montreal"
          ],
          [
           "grid.248762.d",
           "Canada",
           "Vancouver"
          ],
          [
           "grid.17063.33",
           "Canada",
           "Toronto"
          ],
          [
           "grid.14709.3b",
           "Canada",
           "Montreal"
          ],
          [
           "grid.414148.c",
           "Canada",
           "Ottawa"
          ],
          [
           "grid.410319.e",
           "Canada",
           "Montreal"
          ],
          [
           "grid.250674.2",
           "Canada",
           "Toronto"
          ],
          [
           "grid.453243.7",
           "Canada",
           "Ottawa"
          ],
          [
           "grid.419890.d",
           "Canada",
           "Toronto"
          ],
          [
           "grid.498726.6",
           "Canada",
           "Toronto"
          ],
          [
           "grid.484022.8",
           "Canada",
           "Toronto"
          ],
          [
           "grid.415368.d",
           "Canada",
           "Ottawa"
          ],
          [
           "grid.459284.6",
           "Canada",
           "Montreal"
          ],
          [
           "grid.418053.b",
           "Canada",
           "Burnaby"
          ],
          [
           "grid.438788.8",
           "Canada",
           "Toronto"
          ],
          [
           "grid.412745.1",
           "Canada",
           "London"
          ],
          [
           "grid.231844.8",
           "Canada",
           "Toronto"
          ],
          [
           "grid.57544.37",
           "Canada",
           "Ottawa"
          ],
          [
           "grid.438535.c",
           "Canada",
           "Montreal"
          ],
          [
           "grid.63984.30",
           "Canada",
           "Montreal"
          ],
          [
           "grid.23856.3a",
           "Canada",
           "Québec"
          ],
          [
           "grid.410356.5",
           "Canada",
           "Kingston"
          ],
          [
           "grid.412687.e",
           "Canada",
           "Ottawa"
          ],
          [
           "grid.28046.38",
           "Canada",
           "Ottawa"
          ]
         ],
         "geo": "geo",
         "hovertemplate": "<b>%{hovertext}</b><br><br>country=%{customdata[1]}<br>people=%{marker.size}<br>lat=%{lat}<br>long=%{lon}<br>gridid=%{customdata[0]}<br>city=%{customdata[2]}<extra></extra>",
         "hovertext": [
          "grid.434706.2",
          "grid.21613.37",
          "grid.42327.30",
          "grid.39381.30",
          "grid.14848.31",
          "grid.413571.5",
          "grid.55602.34",
          "grid.17089.37",
          "grid.25152.31",
          "grid.411418.9",
          "grid.17091.3e",
          "grid.25073.33",
          "grid.47609.3c",
          "grid.22072.35",
          "grid.418084.1",
          "grid.440605.3",
          "grid.61971.38",
          "grid.143640.4",
          "grid.34429.38",
          "grid.258900.6",
          "grid.34428.39",
          "grid.57926.3f",
          "grid.24433.32",
          "grid.146611.5",
          "grid.415224.4",
          "grid.46078.3d",
          "grid.21100.32",
          "grid.492573.e",
          "grid.453391.9",
          "grid.414980.0",
          "grid.248762.d",
          "grid.17063.33",
          "grid.14709.3b",
          "grid.414148.c",
          "grid.410319.e",
          "grid.250674.2",
          "grid.453243.7",
          "grid.419890.d",
          "grid.498726.6",
          "grid.484022.8",
          "grid.415368.d",
          "grid.459284.6",
          "grid.418053.b",
          "grid.438788.8",
          "grid.412745.1",
          "grid.231844.8",
          "grid.57544.37",
          "grid.438535.c",
          "grid.63984.30",
          "grid.23856.3a",
          "grid.410356.5",
          "grid.412687.e",
          "grid.28046.38"
         ],
         "lat": [
          49.265254974365234,
          49.80689239501953,
          43.65773010253906,
          43.00983810424805,
          45.50555419921875,
          51.07463455200195,
          44.63683319091797,
          53.523780822753906,
          52.13371658325195,
          45.50312805175781,
          49.26067352294922,
          43.26333236694336,
          49.67898178100586,
          51.07749938964844,
          46.813011169433594,
          49.31776809692383,
          49.278282165527344,
          48.46332550048828,
          43.53341293334961,
          48.421016693115234,
          45.38309860229492,
          50.41555404663086,
          45.446231842041016,
          45.422054290771484,
          43.658084869384766,
          43.4725341796875,
          43.7736701965332,
          43.665771484375,
          43.65960693359375,
          45.49800109863281,
          49.27635192871094,
          43.66166687011719,
          45.50416564941406,
          45.4011116027832,
          45.45867156982422,
          43.65754318237305,
          45.41916275024414,
          43.6598014831543,
          43.654361724853516,
          43.64582443237305,
          45.343597412109375,
          45.49968338012695,
          49.19929504394531,
          43.68460464477539,
          42.9605712890625,
          43.65858459472656,
          45.40824890136719,
          45.54204177856445,
          45.49693298339844,
          46.781097412109375,
          44.225502014160156,
          45.40174865722656,
          45.42219924926758
         ],
         "legendgroup": "Canada",
         "lon": [
          -123.1171875,
          -97.13834381103516,
          -79.3869857788086,
          -81.27375793457031,
          -73.615478515625,
          -114.14849853515625,
          -63.5916862487793,
          -113.52906799316406,
          -106.63238525390625,
          -73.62486267089844,
          -123.24607849121094,
          -79.91889190673828,
          -112.84640502929688,
          -114.133056640625,
          -71.22404479980469,
          -123.01917266845703,
          -122.91990661621094,
          -123.31175231933594,
          -80.2272720336914,
          -89.2564468383789,
          -75.69760131835938,
          -104.58795166015625,
          -75.61698150634766,
          -75.70828247070312,
          -79.3901138305664,
          -80.54487609863281,
          -79.50189208984375,
          -79.35529327392578,
          -79.38970947265625,
          -73.62899780273438,
          -123.16281127929688,
          -79.3949966430664,
          -73.57472229003906,
          -75.6513900756836,
          -73.64010620117188,
          -79.3907241821289,
          -75.70553588867188,
          -79.38890838623047,
          -79.39366149902344,
          -79.38308715820312,
          -75.7056655883789,
          -73.61515045166016,
          -123.00983428955078,
          -79.5839614868164,
          -81.22650909423828,
          -79.38729095458984,
          -75.73759460449219,
          -73.56205749511719,
          -73.58890533447266,
          -71.2781753540039,
          -76.49516296386719,
          -75.647216796875,
          -75.68240356445312
         ],
         "marker": {
          "color": "#636efa",
          "size": [
           5,
           2,
           16,
           10,
           7,
           1,
           6,
           14,
           7,
           1,
           46,
           8,
           3,
           10,
           2,
           1,
           7,
           1,
           6,
           1,
           4,
           7,
           1,
           1,
           19,
           2,
           2,
           1,
           1,
           1,
           1,
           99,
           24,
           7,
           8,
           10,
           1,
           17,
           4,
           1,
           2,
           1,
           7,
           1,
           1,
           16,
           4,
           1,
           3,
           3,
           3,
           5,
           11
          ],
          "sizemode": "area",
          "sizeref": 0.935,
          "symbol": "circle"
         },
         "mode": "markers",
         "name": "Canada",
         "showlegend": true,
         "type": "scattergeo"
        },
        {
         "customdata": [
          [
           "grid.412004.3",
           "Switzerland",
           "Zurich"
          ],
          [
           "grid.9851.5",
           "Switzerland",
           "Lausanne"
          ],
          [
           "grid.6612.3",
           "Switzerland",
           "Basel"
          ],
          [
           "grid.467607.4",
           "Switzerland",
           "Glattbrugg"
          ],
          [
           "grid.7354.5",
           "Switzerland",
           "Dübendorf"
          ],
          [
           "grid.8591.5",
           "Switzerland",
           "Geneva"
          ],
          [
           "grid.488260.0",
           "Switzerland",
           "Bern"
          ],
          [
           "grid.417570.0",
           "Switzerland",
           "Basel"
          ],
          [
           "grid.9132.9",
           "Switzerland",
           "Geneva"
          ],
          [
           "grid.508836.0",
           "Switzerland",
           "Basel"
          ],
          [
           "grid.412341.1",
           "Switzerland",
           "Zurich"
          ],
          [
           "grid.419905.0",
           "Switzerland",
           "Vevey"
          ],
          [
           "grid.417771.3",
           "Switzerland",
           "Bern"
          ],
          [
           "grid.5333.6",
           "Switzerland",
           "Lausanne"
          ],
          [
           "grid.5801.c",
           "Switzerland",
           "Zurich"
          ],
          [
           "grid.5734.5",
           "Switzerland",
           "Bern"
          ],
          [
           "grid.10711.36",
           "Switzerland",
           "Neuchâtel"
          ],
          [
           "grid.7400.3",
           "Switzerland",
           "Zurich"
          ],
          [
           "grid.410567.1",
           "Switzerland",
           "Basel"
          ],
          [
           "grid.482245.d",
           "Switzerland",
           "Basel"
          ],
          [
           "grid.476349.b",
           "Switzerland",
           "La Chaux-de-Fonds"
          ],
          [
           "grid.483664.b",
           "Switzerland",
           "Bern"
          ],
          [
           "grid.420222.4",
           "Switzerland",
           "Basel"
          ],
          [
           "grid.452485.a",
           "Switzerland",
           "Geneva"
          ],
          [
           "grid.480337.b",
           "Switzerland",
           "Lausanne"
          ],
          [
           "grid.437224.4",
           "Switzerland",
           "Otelfingen"
          ],
          [
           "grid.19739.35",
           "Switzerland",
           "Winterthur"
          ],
          [
           "grid.419481.1",
           "Switzerland",
           "Basel"
          ],
          [
           "grid.436681.e",
           "Switzerland",
           "Geneva"
          ],
          [
           "grid.419765.8",
           "Switzerland",
           "Geneva"
          ],
          [
           "grid.150338.c",
           "Switzerland",
           "Geneva"
          ],
          [
           "grid.469411.f",
           "Switzerland",
           "Kreuzlingen"
          ],
          [
           "grid.29078.34",
           "Switzerland",
           "Lugano"
          ],
          [
           "grid.8515.9",
           "Switzerland",
           "Lausanne"
          ],
          [
           "grid.411656.1",
           "Switzerland",
           "Bern"
          ]
         ],
         "geo": "geo",
         "hovertemplate": "<b>%{hovertext}</b><br><br>country=%{customdata[1]}<br>people=%{marker.size}<br>lat=%{lat}<br>long=%{lon}<br>gridid=%{customdata[0]}<br>city=%{customdata[2]}<extra></extra>",
         "hovertext": [
          "grid.412004.3",
          "grid.9851.5",
          "grid.6612.3",
          "grid.467607.4",
          "grid.7354.5",
          "grid.8591.5",
          "grid.488260.0",
          "grid.417570.0",
          "grid.9132.9",
          "grid.508836.0",
          "grid.412341.1",
          "grid.419905.0",
          "grid.417771.3",
          "grid.5333.6",
          "grid.5801.c",
          "grid.5734.5",
          "grid.10711.36",
          "grid.7400.3",
          "grid.410567.1",
          "grid.482245.d",
          "grid.476349.b",
          "grid.483664.b",
          "grid.420222.4",
          "grid.452485.a",
          "grid.480337.b",
          "grid.437224.4",
          "grid.19739.35",
          "grid.419481.1",
          "grid.436681.e",
          "grid.419765.8",
          "grid.150338.c",
          "grid.469411.f",
          "grid.29078.34",
          "grid.8515.9",
          "grid.411656.1"
         ],
         "lat": [
          47.37666702270508,
          46.521095275878906,
          47.55857849121094,
          47.44060516357422,
          47.40232467651367,
          46.19965744018555,
          46.961307525634766,
          47.558624267578125,
          46.23416519165039,
          47.56281661987305,
          47.371585845947266,
          46.466495513916016,
          46.93008041381836,
          46.519081115722656,
          47.37580871582031,
          46.95051956176758,
          46.9938850402832,
          47.374534606933594,
          47.56231689453125,
          47.567596435546875,
          47.0853385925293,
          46.952327728271484,
          47.56724166870117,
          46.2271728515625,
          46.51467514038086,
          47.45785140991211,
          47.496944427490234,
          47.57432174682617,
          46.16936111450195,
          46.193546295166016,
          46.193817138671875,
          47.6483268737793,
          46.01100158691406,
          46.52497863769531,
          46.94805908203125
         ],
         "legendgroup": "Switzerland",
         "lon": [
          8.549721717834473,
          6.5801568031311035,
          7.583600044250488,
          8.565705299377441,
          8.611903190612793,
          6.145094871520996,
          7.461761951446533,
          7.606017112731934,
          6.0527777671813965,
          7.5765380859375,
          8.55801010131836,
          6.8348259925842285,
          7.423003196716309,
          6.566747188568115,
          8.54648208618164,
          7.438108921051025,
          6.939560890197754,
          8.550970077514648,
          7.583076000213623,
          7.603571891784668,
          6.80994176864624,
          7.435420036315918,
          7.606231212615967,
          6.1302337646484375,
          6.610992908477783,
          8.401283264160156,
          8.729999542236328,
          7.579728126525879,
          6.103454113006592,
          6.151157855987549,
          6.148997783660889,
          9.16130542755127,
          8.958000183105469,
          6.642691135406494,
          7.451300144195557
         ],
         "marker": {
          "color": "#EF553B",
          "size": [
           13,
           22,
           14,
           1,
           1,
           14,
           1,
           6,
           1,
           2,
           5,
           1,
           6,
           31,
           89,
           21,
           1,
           41,
           2,
           12,
           1,
           1,
           1,
           3,
           3,
           1,
           1,
           24,
           6,
           3,
           1,
           1,
           1,
           3,
           1
          ],
          "sizemode": "area",
          "sizeref": 0.935,
          "symbol": "circle"
         },
         "mode": "markers",
         "name": "Switzerland",
         "showlegend": true,
         "type": "scattergeo"
        },
        {
         "customdata": [
          [
           "grid.506974.9",
           "China",
           "Hangzhou"
          ],
          [
           "grid.507734.2",
           "China",
           "Shanghai"
          ],
          [
           "grid.470124.4",
           "China",
           "Guangzhou"
          ],
          [
           "grid.186775.a",
           "China",
           "Hefei"
          ],
          [
           "grid.260463.5",
           "China",
           "Nanchang"
          ],
          [
           "grid.12955.3a",
           "China",
           "Amoy"
          ],
          [
           "grid.410736.7",
           "China",
           "Harbin"
          ],
          [
           "grid.413254.5",
           "China",
           "Ürümqi"
          ],
          [
           "grid.458458.0",
           "China",
           "Beijing"
          ],
          [
           "grid.435133.3",
           "China",
           "Beijing"
          ],
          [
           "grid.413106.1",
           "China",
           "Beijing"
          ],
          [
           "grid.39436.3b",
           "China",
           "Shanghai"
          ],
          [
           "grid.11841.3d",
           "China",
           "Shanghai"
          ],
          [
           "grid.440773.3",
           "China",
           "Kunming"
          ],
          [
           "grid.411863.9",
           "China",
           "Guangzhou"
          ],
          [
           "grid.12981.33",
           "China",
           "Guangzhou"
          ],
          [
           "grid.443347.3",
           "China",
           "Chengdu"
          ],
          [
           "grid.190737.b",
           "China",
           "Chongqing"
          ],
          [
           "grid.410595.c",
           "China",
           "Hangzhou"
          ],
          [
           "grid.263826.b",
           "China",
           "Nanjing"
          ],
          [
           "grid.41156.37",
           "China",
           "Nanjing"
          ],
          [
           "grid.27871.3b",
           "China",
           "Nanjing"
          ],
          [
           "grid.263761.7",
           "China",
           "Suzhou"
          ],
          [
           "grid.414011.1",
           "China",
           "Zhengzhou"
          ],
          [
           "grid.274504.0",
           "China",
           "Baoding"
          ],
          [
           "grid.20513.35",
           "China",
           "Beijing"
          ],
          [
           "grid.22935.3f",
           "China",
           "Beijing"
          ],
          [
           "grid.412528.8",
           "China",
           "Shanghai"
          ],
          [
           "grid.8547.e",
           "China",
           "Shanghai"
          ],
          [
           "grid.412277.5",
           "China",
           "Shanghai"
          ],
          [
           "grid.24516.34",
           "China",
           "Shanghai"
          ],
          [
           "grid.27255.37",
           "China",
           "Jinan"
          ],
          [
           "grid.440622.6",
           "China",
           "Tai’an"
          ],
          [
           "grid.452672.0",
           "China",
           "Xi'an"
          ],
          [
           "grid.412262.1",
           "China",
           "Xi'an"
          ],
          [
           "grid.20561.30",
           "China",
           "Guangzhou"
          ],
          [
           "grid.80510.3c",
           "China",
           "Yucheng"
          ],
          [
           "grid.263906.8",
           "China",
           "Chongqing"
          ],
          [
           "grid.452223.0",
           "China",
           "Changsha"
          ],
          [
           "grid.412260.3",
           "China",
           "Lanzhou"
          ],
          [
           "grid.469521.d",
           "China",
           "Hefei"
          ],
          [
           "grid.24696.3f",
           "China",
           "Beijing"
          ],
          [
           "grid.135769.f",
           "China",
           "Wushan"
          ],
          [
           "grid.10784.3a",
           "China",
           "Hong Kong"
          ],
          [
           "grid.464406.4",
           "China",
           "Wuhan"
          ],
          [
           "grid.412243.2",
           "China",
           "Harbin"
          ],
          [
           "grid.9227.e",
           "China",
           "Beijing"
          ],
          [
           "grid.419897.a",
           "China",
           "Beijing"
          ],
          [
           "grid.440677.6",
           "China",
           "Beijing"
          ],
          [
           "grid.43555.32",
           "China",
           "Beijing"
          ],
          [
           "grid.443420.5",
           "China",
           "Jinan"
          ],
          [
           "grid.412498.2",
           "China",
           "Xi'an"
          ],
          [
           "grid.412645.0",
           "China",
           "Tianjin"
          ],
          [
           "grid.64924.3d",
           "China",
           "Changchun"
          ],
          [
           "grid.27446.33",
           "China",
           "Changchun"
          ],
          [
           "grid.162110.5",
           "China",
           "Wuhan"
          ],
          [
           "grid.452244.1",
           "China",
           "Guiyang"
          ],
          [
           "grid.268099.c",
           "China",
           "Wenzhou"
          ],
          [
           "grid.410744.2",
           "China",
           "Hangzhou"
          ],
          [
           "grid.256922.8",
           "China",
           "Kaifeng"
          ],
          [
           "grid.108266.b",
           "China",
           "Zhengzhou"
          ],
          [
           "grid.12527.33",
           "China",
           "Beijing"
          ],
          [
           "grid.216938.7",
           "China",
           "Tianjin"
          ],
          [
           "grid.194645.b",
           "China",
           "Hong Kong"
          ],
          [
           "grid.13402.34",
           "China",
           "Hangzhou"
          ],
          [
           "grid.35155.37",
           "China",
           "Wuhan"
          ],
          [
           "grid.49470.3e",
           "China",
           "Wuhan"
          ],
          [
           "grid.181531.f",
           "China",
           "Beijing"
          ],
          [
           "grid.11135.37",
           "China",
           "Beijing"
          ],
          [
           "grid.16821.3c",
           "China",
           "Shanghai"
          ],
          [
           "grid.412521.1",
           "China",
           "Qingdao"
          ],
          [
           "grid.452402.5",
           "China",
           "Jinan"
          ],
          [
           "grid.43169.39",
           "China",
           "Xi'an"
          ],
          [
           "grid.412901.f",
           "China",
           "Chengdu"
          ],
          [
           "grid.59053.3a",
           "China",
           "Hefei"
          ],
          [
           "grid.252251.3",
           "China",
           "Hefei"
          ],
          [
           "grid.207374.5",
           "China",
           "Zhengzhou"
          ],
          [
           "grid.414252.4",
           "China",
           "Beijing"
          ],
          [
           "grid.410727.7",
           "China",
           "Beijing"
          ],
          [
           "grid.424936.e",
           "China",
           "Beijing"
          ],
          [
           "grid.411617.4",
           "China",
           "Beijing"
          ],
          [
           "grid.464332.4",
           "China",
           "Beijing"
          ],
          [
           "grid.464356.6",
           "China",
           "Beijing"
          ],
          [
           "grid.506261.6",
           "China",
           "Beijing"
          ],
          [
           "grid.464357.7",
           "China",
           "Beijing"
          ],
          [
           "grid.66741.32",
           "China",
           "Beijing"
          ],
          [
           "grid.64939.31",
           "China",
           "Beijing"
          ],
          [
           "grid.410318.f",
           "China",
           "Beijing"
          ],
          [
           "grid.48166.3d",
           "China",
           "Beijing"
          ],
          [
           "grid.418856.6",
           "China",
           "Beijing"
          ],
          [
           "grid.458488.d",
           "China",
           "Beijing"
          ],
          [
           "grid.418524.e",
           "China",
           "Beijing"
          ],
          [
           "grid.507037.6",
           "China",
           "Shanghai"
          ],
          [
           "grid.412987.1",
           "China",
           "Shanghai"
          ],
          [
           "grid.422150.0",
           "China",
           "Shanghai"
          ],
          [
           "grid.28056.39",
           "China",
           "Shanghai"
          ],
          [
           "grid.22069.3f",
           "China",
           "Shanghai"
          ],
          [
           "grid.412638.a",
           "China",
           "Qufu"
          ],
          [
           "grid.497420.c",
           "China",
           "Qingdao"
          ],
          [
           "grid.412735.6",
           "China",
           "Tianjin"
          ],
          [
           "grid.265021.2",
           "China",
           "Tianjin"
          ],
          [
           "grid.419010.d",
           "China",
           "Kunming"
          ],
          [
           "grid.79703.3a",
           "China",
           "Guangzhou"
          ],
          [
           "grid.410737.6",
           "China",
           "Guangzhou"
          ],
          [
           "grid.54549.39",
           "China",
           "Chengdu"
          ],
          [
           "grid.411587.e",
           "China",
           "Chongqing"
          ],
          [
           "grid.203458.8",
           "China",
           "Chongqing"
          ],
          [
           "grid.410570.7",
           "China",
           "Chongqing"
          ],
          [
           "grid.429211.d",
           "China",
           "Wuhan"
          ],
          [
           "grid.33199.31",
           "China",
           "Wuhan"
          ],
          [
           "grid.464367.4",
           "China",
           "Shenyang"
          ],
          [
           "grid.484516.a",
           "China",
           "Nanjing"
          ],
          [
           "grid.452723.5",
           "China",
           "Beijing"
          ],
          [
           "grid.488847.f",
           "China",
           "Beijing"
          ],
          [
           "grid.410753.4",
           "China",
           "Beijing"
          ],
          [
           "grid.507675.6",
           "China",
           "Shanghai"
          ],
          [
           "grid.440637.2",
           "China",
           "Shanghai"
          ],
          [
           "grid.449457.f",
           "China",
           "Shanghai"
          ],
          [
           "grid.507732.4",
           "China",
           "Shanghai"
          ],
          [
           "grid.509499.8",
           "China",
           "Tianjin"
          ],
          [
           "grid.458513.e",
           "China",
           "Tianjin"
          ],
          [
           "grid.488316.0",
           "China",
           "Shenzhen"
          ],
          [
           "grid.411918.4",
           "China",
           "Tianjin"
          ],
          [
           "grid.89957.3a",
           "China",
           "Nanjing"
          ],
          [
           "grid.510447.3",
           "China",
           "Zhenjiang"
          ],
          [
           "grid.452675.7",
           "China",
           "Nanjing"
          ],
          [
           "grid.254147.1",
           "China",
           "Nanjing"
          ],
          [
           "grid.256111.0",
           "China",
           "Fuzhou"
          ],
          [
           "grid.256607.0",
           "China",
           "Nanning"
          ],
          [
           "grid.419093.6",
           "China",
           "Pudong"
          ],
          [
           "grid.144022.1",
           "China",
           "Yangling"
          ],
          [
           "grid.440588.5",
           "China",
           "Xi'an"
          ],
          [
           "grid.410696.c",
           "China",
           "Kunming"
          ],
          [
           "grid.263785.d",
           "China",
           "Guangzhou"
          ],
          [
           "grid.411427.5",
           "China",
           "Changsha"
          ],
          [
           "grid.452458.a",
           "China",
           "Shijiazhuang"
          ],
          [
           "grid.458449.0",
           "China",
           "Changsha"
          ],
          [
           "grid.410726.6",
           "China",
           "Beijing"
          ],
          [
           "grid.452847.8",
           "China",
           "Shenzhen"
          ],
          [
           "grid.437123.0",
           "China",
           "Macao"
          ],
          [
           "grid.418527.d",
           "China",
           "Hangzhou"
          ],
          [
           "grid.411854.d",
           "China",
           "Wuhan"
          ],
          [
           "grid.440706.1",
           "China",
           "Dalian"
          ],
          [
           "grid.418873.1",
           "China",
           "Beijing"
          ],
          [
           "grid.263488.3",
           "China",
           "Shenzhen"
          ],
          [
           "grid.461863.e",
           "China",
           "Chengdu"
          ],
          [
           "grid.35030.35",
           "China",
           "Hong Kong"
          ],
          [
           "grid.454811.d",
           "China",
           "Hefei"
          ],
          [
           "grid.50971.3a",
           "China",
           "Ningbo"
          ],
          [
           "grid.496730.f",
           "China",
           "Zhangjiakou"
          ],
          [
           "grid.410717.4",
           "China",
           "Beijing"
          ],
          [
           "grid.460010.3",
           "China",
           "Beijing"
          ],
          [
           "grid.418558.5",
           "China",
           "Beijing"
          ],
          [
           "grid.464209.d",
           "China",
           "Beijing"
          ],
          [
           "grid.419265.d",
           "China",
           "Beijing"
          ],
          [
           "grid.464345.4",
           "China",
           "Beijing"
          ],
          [
           "grid.419611.a",
           "China",
           "Beijing"
          ],
          [
           "grid.507739.f",
           "China",
           "Shanghai"
          ],
          [
           "grid.429007.8",
           "China",
           "Xuhui"
          ],
          [
           "grid.428926.3",
           "China",
           "Guangzhou"
          ],
          [
           "grid.263817.9",
           "China",
           "Shenzhen"
          ],
          [
           "grid.458489.c",
           "China",
           "Shenzhen"
          ],
          [
           "grid.509158.0",
           "China",
           "Haikou"
          ],
          [
           "grid.482283.7",
           "China",
           "Hong Kong"
          ],
          [
           "grid.462323.2",
           "China",
           "Shijiazhuang"
          ],
          [
           "grid.411680.a",
           "China",
           "Shihezi"
          ],
          [
           "grid.464267.5",
           "China",
           "Beijing"
          ],
          [
           "grid.419092.7",
           "China",
           "Shanghai"
          ],
          [
           "grid.21155.32",
           "China",
           "Shenzhen"
          ],
          [
           "grid.440601.7",
           "China",
           "Shenzhen"
          ],
          [
           "grid.24515.37",
           "China",
           "Hong Kong"
          ],
          [
           "grid.13291.38",
           "China",
           "Chengdu"
          ]
         ],
         "geo": "geo",
         "hovertemplate": "<b>%{hovertext}</b><br><br>country=%{customdata[1]}<br>people=%{marker.size}<br>lat=%{lat}<br>long=%{lon}<br>gridid=%{customdata[0]}<br>city=%{customdata[2]}<extra></extra>",
         "hovertext": [
          "grid.506974.9",
          "grid.507734.2",
          "grid.470124.4",
          "grid.186775.a",
          "grid.260463.5",
          "grid.12955.3a",
          "grid.410736.7",
          "grid.413254.5",
          "grid.458458.0",
          "grid.435133.3",
          "grid.413106.1",
          "grid.39436.3b",
          "grid.11841.3d",
          "grid.440773.3",
          "grid.411863.9",
          "grid.12981.33",
          "grid.443347.3",
          "grid.190737.b",
          "grid.410595.c",
          "grid.263826.b",
          "grid.41156.37",
          "grid.27871.3b",
          "grid.263761.7",
          "grid.414011.1",
          "grid.274504.0",
          "grid.20513.35",
          "grid.22935.3f",
          "grid.412528.8",
          "grid.8547.e",
          "grid.412277.5",
          "grid.24516.34",
          "grid.27255.37",
          "grid.440622.6",
          "grid.452672.0",
          "grid.412262.1",
          "grid.20561.30",
          "grid.80510.3c",
          "grid.263906.8",
          "grid.452223.0",
          "grid.412260.3",
          "grid.469521.d",
          "grid.24696.3f",
          "grid.135769.f",
          "grid.10784.3a",
          "grid.464406.4",
          "grid.412243.2",
          "grid.9227.e",
          "grid.419897.a",
          "grid.440677.6",
          "grid.43555.32",
          "grid.443420.5",
          "grid.412498.2",
          "grid.412645.0",
          "grid.64924.3d",
          "grid.27446.33",
          "grid.162110.5",
          "grid.452244.1",
          "grid.268099.c",
          "grid.410744.2",
          "grid.256922.8",
          "grid.108266.b",
          "grid.12527.33",
          "grid.216938.7",
          "grid.194645.b",
          "grid.13402.34",
          "grid.35155.37",
          "grid.49470.3e",
          "grid.181531.f",
          "grid.11135.37",
          "grid.16821.3c",
          "grid.412521.1",
          "grid.452402.5",
          "grid.43169.39",
          "grid.412901.f",
          "grid.59053.3a",
          "grid.252251.3",
          "grid.207374.5",
          "grid.414252.4",
          "grid.410727.7",
          "grid.424936.e",
          "grid.411617.4",
          "grid.464332.4",
          "grid.464356.6",
          "grid.506261.6",
          "grid.464357.7",
          "grid.66741.32",
          "grid.64939.31",
          "grid.410318.f",
          "grid.48166.3d",
          "grid.418856.6",
          "grid.458488.d",
          "grid.418524.e",
          "grid.507037.6",
          "grid.412987.1",
          "grid.422150.0",
          "grid.28056.39",
          "grid.22069.3f",
          "grid.412638.a",
          "grid.497420.c",
          "grid.412735.6",
          "grid.265021.2",
          "grid.419010.d",
          "grid.79703.3a",
          "grid.410737.6",
          "grid.54549.39",
          "grid.411587.e",
          "grid.203458.8",
          "grid.410570.7",
          "grid.429211.d",
          "grid.33199.31",
          "grid.464367.4",
          "grid.484516.a",
          "grid.452723.5",
          "grid.488847.f",
          "grid.410753.4",
          "grid.507675.6",
          "grid.440637.2",
          "grid.449457.f",
          "grid.507732.4",
          "grid.509499.8",
          "grid.458513.e",
          "grid.488316.0",
          "grid.411918.4",
          "grid.89957.3a",
          "grid.510447.3",
          "grid.452675.7",
          "grid.254147.1",
          "grid.256111.0",
          "grid.256607.0",
          "grid.419093.6",
          "grid.144022.1",
          "grid.440588.5",
          "grid.410696.c",
          "grid.263785.d",
          "grid.411427.5",
          "grid.452458.a",
          "grid.458449.0",
          "grid.410726.6",
          "grid.452847.8",
          "grid.437123.0",
          "grid.418527.d",
          "grid.411854.d",
          "grid.440706.1",
          "grid.418873.1",
          "grid.263488.3",
          "grid.461863.e",
          "grid.35030.35",
          "grid.454811.d",
          "grid.50971.3a",
          "grid.496730.f",
          "grid.410717.4",
          "grid.460010.3",
          "grid.418558.5",
          "grid.464209.d",
          "grid.419265.d",
          "grid.464345.4",
          "grid.419611.a",
          "grid.507739.f",
          "grid.429007.8",
          "grid.428926.3",
          "grid.263817.9",
          "grid.458489.c",
          "grid.509158.0",
          "grid.482283.7",
          "grid.462323.2",
          "grid.411680.a",
          "grid.464267.5",
          "grid.419092.7",
          "grid.21155.32",
          "grid.440601.7",
          "grid.24515.37",
          "grid.13291.38"
         ],
         "lat": [
          30.22980308532715,
          31.19378662109375,
          23.112611770629883,
          31.79414176940918,
          28.665771484375,
          24.437328338623047,
          45.70045852661133,
          43.76528549194336,
          40.003700256347656,
          39.991275787353516,
          39.91328811645508,
          31.31833267211914,
          31.197778701782227,
          24.84114646911621,
          23.038799285888672,
          23.096200942993164,
          30.663021087646484,
          29.560258865356445,
          30.316110610961914,
          32.05592727661133,
          32.05611038208008,
          32.031944274902344,
          31.30919075012207,
          34.77337646484375,
          null,
          39.95722198486328,
          40.00431823730469,
          31.177715301513672,
          31.297712326049805,
          31.210899353027344,
          31.2819766998291,
          36.67361068725586,
          36.194091796875,
          34.27041244506836,
          34.248905181884766,
          23.15837860107422,
          29.978803634643555,
          29.813899993896484,
          28.164648056030273,
          36.10084915161133,
          31.887697219848633,
          39.86543273925781,
          23.154077529907227,
          22.419721603393555,
          30.606828689575195,
          45.73989486694336,
          39.90811538696289,
          39.91387939453125,
          39.99530792236328,
          39.95777893066406,
          36.55568313598633,
          34.203338623046875,
          39.117496490478516,
          43.82497024536133,
          43.82892608642578,
          30.59894371032715,
          26.593969345092773,
          27.925127029418945,
          30.305686950683594,
          34.812721252441406,
          34.86692810058594,
          39.99958419799805,
          39.10392761230469,
          22.283287048339844,
          30.263877868652344,
          30.47525405883789,
          30.53631591796875,
          40.00055694580078,
          39.987152099609375,
          31.20126724243164,
          36.07022476196289,
          36.65550231933594,
          34.247222900390625,
          30.64322280883789,
          31.82264518737793,
          31.84889030456543,
          34.81602478027344,
          39.902793884277344,
          39.95823669433594,
          39.98189163208008,
          39.87693786621094,
          40.02986145019531,
          40.0197868347168,
          39.91149139404297,
          39.963077545166016,
          40.001426696777344,
          39.97999954223633,
          39.941802978515625,
          39.97199630737305,
          40.00215148925781,
          40.00441360473633,
          39.923614501953125,
          31.107084274291992,
          31.27400016784668,
          31.19243621826172,
          31.143056869506836,
          31.228055953979492,
          35.595611572265625,
          35.94357681274414,
          39.06003952026367,
          39.10549545288086,
          25.067495346069336,
          23.15130615234375,
          23.13623809814453,
          30.67571258544922,
          29.53459358215332,
          29.625120162963867,
          29.525144577026367,
          30.5447940826416,
          30.508182525634766,
          42.34898376464844,
          32.07342529296875,
          39.917293548583984,
          39.8126106262207,
          40.011295318603516,
          31.16239356994629,
          31.177494049072266,
          31.225505828857422,
          31.20146369934082,
          39.12730026245117,
          39.140525817871094,
          22.5958251953125,
          39.105743408203125,
          32.043846130371094,
          32.198272705078125,
          32.088531494140625,
          32.07459259033203,
          26.084888458251953,
          22.797279357910156,
          31.201997756958008,
          34.262577056884766,
          34.2436408996582,
          25.136226654052734,
          23.136499404907227,
          28.18609619140625,
          38.01620864868164,
          28.198137283325195,
          39.9090576171875,
          22.556692123413086,
          22.13003921508789,
          30.270238876342773,
          30.509979248046875,
          39.10060119628906,
          39.91537857055664,
          22.539255142211914,
          30.621145248413086,
          22.336421966552734,
          31.822477340698242,
          29.802200317382812,
          40.782596588134766,
          40.09566879272461,
          39.914756774902344,
          40.00528335571289,
          40.003971099853516,
          39.98919677734375,
          39.96118927001953,
          40.097801208496094,
          31.201618194580078,
          31.213743209838867,
          23.162212371826172,
          22.59428596496582,
          22.59502410888672,
          19.98431968688965,
          22.269004821777344,
          38.01375961303711,
          44.30653381347656,
          39.91221618652344,
          31.201383590698242,
          40.004127502441406,
          22.55612564086914,
          22.336181640625,
          30.630159378051758
         ],
         "legendgroup": "China",
         "lon": [
          120.1686782836914,
          121.45671844482422,
          113.26228332519531,
          117.21269989013672,
          115.81262969970703,
          118.10030364990234,
          126.62017059326172,
          87.61611938476562,
          116.3810806274414,
          116.21073150634766,
          116.41742706298828,
          121.38722229003906,
          121.45194244384766,
          102.82626342773438,
          113.36920166015625,
          113.29805755615234,
          104.01628112792969,
          106.45419311523438,
          120.394775390625,
          118.79425048828125,
          118.7750015258789,
          118.836669921875,
          120.6413345336914,
          113.69383239746094,
          null,
          116.36250305175781,
          116.35270690917969,
          121.42337036132812,
          121.50360870361328,
          121.46659851074219,
          121.50619506835938,
          117.05388641357422,
          117.11932373046875,
          108.95060729980469,
          108.92652130126953,
          113.3511962890625,
          102.9934310913086,
          106.41290283203125,
          112.93253326416016,
          103.73619842529297,
          117.24604034423828,
          116.35283660888672,
          113.33786010742188,
          114.20679473876953,
          114.28935241699219,
          126.72557067871094,
          116.25065612792969,
          116.36881256103516,
          116.43528747558594,
          116.30833435058594,
          116.8116226196289,
          108.95021057128906,
          117.18585205078125,
          125.28977966308594,
          125.42731475830078,
          114.3424301147461,
          106.7127914428711,
          120.71196746826172,
          120.19596862792969,
          114.36369323730469,
          113.65796661376953,
          116.3254165649414,
          117.17413330078125,
          114.13707733154297,
          120.12342071533203,
          114.35424041748047,
          114.36431121826172,
          116.32611083984375,
          116.30585479736328,
          121.43277740478516,
          120.3277816772461,
          117.01814270019531,
          108.97916412353516,
          104.06109619140625,
          117.28070068359375,
          117.2547836303711,
          113.5357666015625,
          116.27447509765625,
          116.32789611816406,
          116.32687377929688,
          116.40232849121094,
          116.27537536621094,
          116.28385162353516,
          116.41478729248047,
          116.3310317993164,
          116.34553527832031,
          116.34083557128906,
          116.42837524414062,
          116.42107391357422,
          116.37870025634766,
          116.38334655761719,
          116.40707397460938,
          121.60909271240234,
          121.51699829101562,
          121.45732116699219,
          121.42500305175781,
          121.4000015258789,
          116.96907806396484,
          120.17155456542969,
          117.12675476074219,
          117.18460845947266,
          102.70480346679688,
          113.34464263916016,
          113.25353240966797,
          104.10027313232422,
          106.60526275634766,
          106.30549621582031,
          106.43838500976562,
          114.35702514648438,
          114.41474151611328,
          123.16258239746094,
          118.76742553710938,
          116.40158081054688,
          116.5314712524414,
          116.35246276855469,
          121.4068603515625,
          121.5924072265625,
          121.53350830078125,
          121.45303344726562,
          117.17436218261719,
          117.40614318847656,
          114.49524688720703,
          117.1845703125,
          118.77476501464844,
          119.46642303466797,
          118.76878356933594,
          118.77417755126953,
          119.23978424072266,
          108.35040283203125,
          121.58737182617188,
          108.07372283935547,
          108.91378021240234,
          102.7455062866211,
          113.34960174560547,
          112.9498291015625,
          114.5527114868164,
          113.03703308105469,
          116.25057220458984,
          114.0863037109375,
          113.54579162597656,
          120.1596908569336,
          114.15965270996094,
          121.8205337524414,
          116.40840148925781,
          113.93368530273438,
          104.06702423095703,
          114.17298889160156,
          117.2808609008789,
          121.55919647216797,
          114.88949584960938,
          116.2686538696289,
          116.49137115478516,
          116.3817367553711,
          116.3848876953125,
          116.3249740600586,
          116.32819366455078,
          116.2796859741211,
          121.45304107666016,
          121.4710464477539,
          113.4477767944336,
          113.99891662597656,
          113.9913330078125,
          110.33142852783203,
          114.12911987304688,
          114.5486831665039,
          86.05794525146484,
          116.40977478027344,
          121.45247650146484,
          116.3849105834961,
          114.04913330078125,
          114.26512145996094,
          104.09001159667969
         ],
         "marker": {
          "color": "#00cc96",
          "size": [
           1,
           1,
           3,
           1,
           2,
           1,
           1,
           1,
           5,
           4,
           1,
           1,
           1,
           2,
           1,
           17,
           1,
           1,
           2,
           1,
           3,
           38,
           3,
           1,
           2,
           1,
           1,
           3,
           12,
           1,
           3,
           6,
           1,
           2,
           2,
           3,
           1,
           16,
           1,
           1,
           1,
           2,
           1,
           8,
           1,
           3,
           27,
           1,
           1,
           4,
           1,
           1,
           1,
           2,
           2,
           2,
           1,
           1,
           1,
           1,
           2,
           16,
           2,
           18,
           16,
           4,
           2,
           1,
           58,
           12,
           1,
           1,
           1,
           3,
           3,
           1,
           5,
           1,
           6,
           10,
           1,
           1,
           3,
           3,
           1,
           1,
           1,
           1,
           1,
           5,
           9,
           1,
           1,
           1,
           2,
           20,
           24,
           1,
           2,
           1,
           1,
           11,
           2,
           1,
           1,
           2,
           1,
           1,
           1,
           6,
           1,
           1,
           6,
           2,
           10,
           2,
           10,
           1,
           2,
           1,
           8,
           2,
           1,
           2,
           1,
           1,
           1,
           1,
           2,
           1,
           1,
           2,
           1,
           2,
           2,
           1,
           1,
           13,
           1,
           5,
           8,
           1,
           1,
           2,
           1,
           1,
           2,
           1,
           1,
           1,
           2,
           5,
           61,
           2,
           9,
           22,
           9,
           2,
           2,
           1,
           1,
           5,
           1,
           1,
           2,
           2,
           7,
           5,
           95,
           1,
           3,
           2
          ],
          "sizemode": "area",
          "sizeref": 0.935,
          "symbol": "circle"
         },
         "mode": "markers",
         "name": "China",
         "showlegend": true,
         "type": "scattergeo"
        },
        {
         "customdata": [
          [
           "grid.417164.1",
           "Japan",
           "Sapporo"
          ],
          [
           "grid.26999.3d",
           "Japan",
           "Tokyo"
          ],
          [
           "grid.410775.0",
           "Japan",
           "Tokyo"
          ],
          [
           "grid.410821.e",
           "Japan",
           "Tokyo"
          ],
          [
           "grid.415479.a",
           "Japan",
           "Tokyo"
          ],
          [
           "grid.27476.30",
           "Japan",
           "Nagoya"
          ],
          [
           "grid.39158.36",
           "Japan",
           "Sapporo"
          ],
          [
           "grid.255178.c",
           "Japan",
           "Kyoto"
          ],
          [
           "grid.272458.e",
           "Japan",
           "Kyoto"
          ],
          [
           "grid.261356.5",
           "Japan",
           "Okayama"
          ],
          [
           "grid.265073.5",
           "Japan",
           "Tokyo"
          ],
          [
           "grid.259879.8",
           "Japan",
           "Nagoya"
          ],
          [
           "grid.278276.e",
           "Japan",
           "Kochi"
          ],
          [
           "grid.412339.e",
           "Japan",
           "Saga"
          ],
          [
           "grid.411763.6",
           "Japan",
           "Tokyo"
          ],
          [
           "grid.177174.3",
           "Japan",
           "Fukuoka"
          ],
          [
           "grid.416853.d",
           "Japan",
           "Takamatsu"
          ],
          [
           "grid.268441.d",
           "Japan",
           "Yokohama"
          ],
          [
           "grid.143643.7",
           "Japan",
           "Tokyo"
          ],
          [
           "grid.5290.e",
           "Japan",
           "Tokyo"
          ],
          [
           "grid.32197.3e",
           "Japan",
           "Tokyo"
          ],
          [
           "grid.482898.7",
           "Japan",
           "Okinawa"
          ],
          [
           "grid.272242.3",
           "Japan",
           "Tokyo"
          ],
          [
           "grid.256115.4",
           "Japan",
           "Toyoake"
          ],
          [
           "grid.410800.d",
           "Japan",
           "Nagoya"
          ],
          [
           "grid.411241.3",
           "Japan",
           "Fukuoka"
          ],
          [
           "grid.410777.2",
           "Japan",
           "Kōriyama"
          ],
          [
           "grid.136304.3",
           "Japan",
           "Chiba"
          ],
          [
           "grid.256342.4",
           "Japan",
           "Gifu City"
          ],
          [
           "grid.256642.1",
           "Japan",
           "Maebashi"
          ],
          [
           "grid.31432.37",
           "Japan",
           "Kobe"
          ],
          [
           "grid.258331.e",
           "Japan",
           "Takamatsu"
          ],
          [
           "grid.419025.b",
           "Japan",
           "Kyoto"
          ],
          [
           "grid.260026.0",
           "Japan",
           "Tsu"
          ],
          [
           "grid.263518.b",
           "Japan",
           "Matsumoto"
          ],
          [
           "grid.174567.6",
           "Japan",
           "Nagasaki"
          ],
          [
           "grid.410814.8",
           "Japan",
           "Kashihara-shi"
          ],
          [
           "grid.288127.6",
           "Japan",
           "Mishima"
          ],
          [
           "grid.267335.6",
           "Japan",
           "Tokushima"
          ],
          [
           "grid.7597.c",
           "Japan",
           "Wako"
          ],
          [
           "grid.258799.8",
           "Japan",
           "Kyoto"
          ],
          [
           "grid.418587.7",
           "Japan",
           "Tokyo"
          ],
          [
           "grid.268397.1",
           "Japan",
           "Yamaguchi"
          ],
          [
           "grid.410813.f",
           "Japan",
           "Tokyo"
          ],
          [
           "grid.508743.d",
           "Japan",
           "Kobe"
          ],
          [
           "grid.509461.f",
           "Japan",
           "Yokohama"
          ],
          [
           "grid.509459.4",
           "Japan",
           "Yokohama"
          ],
          [
           "grid.272456.0",
           "Japan",
           "Tokyo"
          ],
          [
           "grid.412708.8",
           "Japan",
           "Tokyo"
          ],
          [
           "grid.26091.3c",
           "Japan",
           "Tokyo"
          ],
          [
           "grid.258269.2",
           "Japan",
           "Tokyo"
          ],
          [
           "grid.20515.33",
           "Japan",
           "Tsukuba"
          ],
          [
           "grid.410789.3",
           "Japan",
           "Nonoichi"
          ],
          [
           "grid.416614.0",
           "Japan",
           "Saitama"
          ],
          [
           "grid.410786.c",
           "Japan",
           "Tokyo"
          ],
          [
           "grid.275033.0",
           "Japan",
           "Hayama"
          ],
          [
           "grid.419280.6",
           "Japan",
           "Tokyo"
          ],
          [
           "grid.411909.4",
           "Japan",
           "Tokyo"
          ],
          [
           "grid.208504.b",
           "Japan",
           "Tsukuba"
          ],
          [
           "grid.63906.3a",
           "Japan",
           "Tokyo"
          ],
          [
           "grid.490702.8",
           "Japan",
           "Tokyo"
          ],
          [
           "grid.277489.7",
           "Japan",
           "Kitakami"
          ],
          [
           "grid.260493.a",
           "Japan",
           "Ikoma"
          ],
          [
           "grid.474690.8",
           "Japan",
           "Wako"
          ],
          [
           "grid.410785.f",
           "Japan",
           "Hachiōji"
          ],
          [
           "grid.136593.b",
           "Japan",
           "Osaka"
          ]
         ],
         "geo": "geo",
         "hovertemplate": "<b>%{hovertext}</b><br><br>country=%{customdata[1]}<br>people=%{marker.size}<br>lat=%{lat}<br>long=%{lon}<br>gridid=%{customdata[0]}<br>city=%{customdata[2]}<extra></extra>",
         "hovertext": [
          "grid.417164.1",
          "grid.26999.3d",
          "grid.410775.0",
          "grid.410821.e",
          "grid.415479.a",
          "grid.27476.30",
          "grid.39158.36",
          "grid.255178.c",
          "grid.272458.e",
          "grid.261356.5",
          "grid.265073.5",
          "grid.259879.8",
          "grid.278276.e",
          "grid.412339.e",
          "grid.411763.6",
          "grid.177174.3",
          "grid.416853.d",
          "grid.268441.d",
          "grid.143643.7",
          "grid.5290.e",
          "grid.32197.3e",
          "grid.482898.7",
          "grid.272242.3",
          "grid.256115.4",
          "grid.410800.d",
          "grid.411241.3",
          "grid.410777.2",
          "grid.136304.3",
          "grid.256342.4",
          "grid.256642.1",
          "grid.31432.37",
          "grid.258331.e",
          "grid.419025.b",
          "grid.260026.0",
          "grid.263518.b",
          "grid.174567.6",
          "grid.410814.8",
          "grid.288127.6",
          "grid.267335.6",
          "grid.7597.c",
          "grid.258799.8",
          "grid.418587.7",
          "grid.268397.1",
          "grid.410813.f",
          "grid.508743.d",
          "grid.509461.f",
          "grid.509459.4",
          "grid.272456.0",
          "grid.412708.8",
          "grid.26091.3c",
          "grid.258269.2",
          "grid.20515.33",
          "grid.410789.3",
          "grid.416614.0",
          "grid.410786.c",
          "grid.275033.0",
          "grid.419280.6",
          "grid.411909.4",
          "grid.208504.b",
          "grid.63906.3a",
          "grid.490702.8",
          "grid.277489.7",
          "grid.260493.a",
          "grid.474690.8",
          "grid.410785.f",
          "grid.136593.b"
         ],
         "lat": [
          43.062591552734375,
          35.71333312988281,
          35.659908294677734,
          35.721099853515625,
          35.72972106933594,
          35.154720306396484,
          43.07817840576172,
          35.02973556518555,
          35.02277755737305,
          34.689857482910156,
          35.70138931274414,
          35.13605499267578,
          33.594722747802734,
          33.24300765991211,
          35.7823486328125,
          33.62653350830078,
          34.340755462646484,
          35.33399963378906,
          35.69966125488281,
          35.70920181274414,
          35.605281829833984,
          26.11109161376953,
          35.9000358581543,
          35.070255279541016,
          35.176185607910156,
          33.66985321044922,
          37.418731689453125,
          35.62881851196289,
          35.46638107299805,
          36.43027877807617,
          34.728057861328125,
          34.34297180175781,
          35.025028228759766,
          34.746070861816406,
          36.25126266479492,
          32.786109924316406,
          34.50408172607422,
          35.118614196777344,
          34.06999969482422,
          35.78060531616211,
          35.02615737915039,
          35.65256881713867,
          34.14764404296875,
          35.668975830078125,
          34.65788650512695,
          35.48948287963867,
          35.48944854736328,
          35.664058685302734,
          35.71294403076172,
          35.649539947509766,
          35.70222091674805,
          36.11143112182617,
          36.50822448730469,
          35.80379867553711,
          35.64255905151367,
          35.26111602783203,
          35.73709487915039,
          35.631961822509766,
          36.06024169921875,
          35.6337776184082,
          35.67195129394531,
          39.35097885131836,
          34.73265075683594,
          35.77899932861328,
          35.6380615234375,
          34.822288513183594
         ],
         "legendgroup": "Japan",
         "lon": [
          141.34803771972656,
          139.76222229003906,
          139.75344848632812,
          139.75900268554688,
          139.7563934326172,
          136.96694946289062,
          141.3399658203125,
          135.76072692871094,
          135.77027893066406,
          133.9214324951172,
          139.76527404785156,
          136.97544860839844,
          133.61305236816406,
          130.2921600341797,
          139.50592041015625,
          130.42465209960938,
          134.0430145263672,
          139.6179962158203,
          139.74298095703125,
          139.71932983398438,
          139.68258666992188,
          127.68586730957031,
          139.9407958984375,
          136.99969482421875,
          136.97171020507812,
          130.44482421875,
          140.37513732910156,
          140.10348510742188,
          136.73704528808594,
          139.0449981689453,
          135.23472595214844,
          134.0376434326172,
          135.72463989257812,
          136.52444458007812,
          137.97830200195312,
          129.86639404296875,
          135.79360961914062,
          138.9383087158203,
          134.55999755859375,
          139.61241149902344,
          135.77978515625,
          139.75042724609375,
          131.46875,
          139.74658203125,
          135.21493530273438,
          139.6835479736328,
          139.68356323242188,
          139.6224365234375,
          139.7652587890625,
          139.74307250976562,
          139.76083374023438,
          140.1038360595703,
          136.59661865234375,
          139.4676055908203,
          139.7256317138672,
          139.6084442138672,
          139.4759063720703,
          139.2890167236328,
          140.1331024169922,
          139.6126708984375,
          139.74635314941406,
          141.10678100585938,
          135.73390197753906,
          139.6129150390625,
          139.38658142089844,
          135.52444458007812
         ],
         "marker": {
          "color": "#ab63fa",
          "size": [
           1,
           26,
           1,
           1,
           1,
           3,
           1,
           2,
           1,
           1,
           1,
           1,
           1,
           1,
           1,
           3,
           1,
           5,
           1,
           3,
           1,
           1,
           1,
           1,
           1,
           1,
           1,
           1,
           1,
           5,
           7,
           1,
           1,
           2,
           1,
           2,
           1,
           2,
           1,
           26,
           10,
           18,
           6,
           4,
           2,
           1,
           7,
           1,
           1,
           10,
           1,
           10,
           1,
           1,
           1,
           2,
           1,
           1,
           2,
           3,
           5,
           11,
           3,
           2,
           1,
           11
          ],
          "sizemode": "area",
          "sizeref": 0.935,
          "symbol": "circle"
         },
         "mode": "markers",
         "name": "Japan",
         "showlegend": true,
         "type": "scattergeo"
        },
        {
         "customdata": [
          [
           "grid.410899.d",
           "South Korea",
           "Iksan"
          ],
          [
           "grid.264381.a",
           "South Korea",
           "Seoul"
          ],
          [
           "grid.222754.4",
           "South Korea",
           "Seoul"
          ],
          [
           "grid.255168.d",
           "South Korea",
           "Seoul"
          ],
          [
           "grid.412670.6",
           "South Korea",
           "Seoul"
          ],
          [
           "grid.255649.9",
           "South Korea",
           "Seoul"
          ],
          [
           "grid.15444.30",
           "South Korea",
           "Seoul"
          ],
          [
           "grid.420186.9",
           "South Korea",
           "Jeonju"
          ],
          [
           "grid.263736.5",
           "South Korea",
           "Seoul"
          ],
          [
           "grid.35541.36",
           "South Korea",
           "Seoul"
          ],
          [
           "grid.413028.c",
           "South Korea",
           "Daegu"
          ],
          [
           "grid.412010.6",
           "South Korea",
           "Chuncheon"
          ],
          [
           "grid.255166.3",
           "South Korea",
           "Busan"
          ],
          [
           "grid.31501.36",
           "South Korea",
           "Seoul"
          ],
          [
           "grid.289247.2",
           "South Korea",
           "Seoul"
          ],
          [
           "grid.258676.8",
           "South Korea",
           "Seoul"
          ],
          [
           "grid.258803.4",
           "South Korea",
           "Daegu"
          ],
          [
           "grid.411982.7",
           "South Korea",
           "Cheonan"
          ],
          [
           "grid.256681.e",
           "South Korea",
           "Jinju"
          ],
          [
           "grid.254224.7",
           "South Korea",
           "Seoul"
          ],
          [
           "grid.507563.2",
           "South Korea",
           "Seoul"
          ],
          [
           "grid.14005.30",
           "South Korea",
           "Gwangju"
          ],
          [
           "grid.254230.2",
           "South Korea",
           "Daejeon"
          ],
          [
           "grid.410720.0",
           "South Korea",
           "Daejeon"
          ],
          [
           "grid.411947.e",
           "South Korea",
           "Seoul"
          ],
          [
           "grid.419666.a",
           "South Korea",
           "Seoul"
          ],
          [
           "grid.49606.3d",
           "South Korea",
           "Seoul"
          ],
          [
           "grid.412674.2",
           "South Korea",
           "Seoul"
          ],
          [
           "grid.37172.30",
           "South Korea",
           "Daejeon"
          ],
          [
           "grid.29869.3c",
           "South Korea",
           "Daejeon"
          ],
          [
           "grid.267370.7",
           "South Korea",
           "Ulsan"
          ],
          [
           "grid.411134.2",
           "South Korea",
           "Seoul"
          ],
          [
           "grid.413967.e",
           "South Korea",
           "Seoul"
          ],
          [
           "grid.49100.3c",
           "South Korea",
           "Pohang"
          ],
          [
           "grid.249967.7",
           "South Korea",
           "Daejeon"
          ],
          [
           "grid.482586.5",
           "South Korea",
           "Chuncheon"
          ],
          [
           "grid.418549.5",
           "South Korea",
           "Seongnam-si"
          ],
          [
           "grid.410914.9",
           "South Korea",
           "Goyang-si"
          ],
          [
           "grid.417736.0",
           "South Korea",
           "Daegu"
          ],
          [
           "grid.412786.e",
           "South Korea",
           "Daejeon"
          ],
          [
           "grid.42687.3f",
           "South Korea",
           "Ulsan"
          ],
          [
           "grid.30311.30",
           "South Korea",
           "Seoul"
          ],
          [
           "grid.410909.5",
           "South Korea",
           "Seoul"
          ],
          [
           "grid.492507.d",
           "South Korea",
           "Seoul"
          ],
          [
           "grid.411605.7",
           "South Korea",
           "Incheon"
          ],
          [
           "grid.410886.3",
           "South Korea",
           "Seongnam-si"
          ],
          [
           "grid.411261.1",
           "South Korea",
           "Suwon"
          ]
         ],
         "geo": "geo",
         "hovertemplate": "<b>%{hovertext}</b><br><br>country=%{customdata[1]}<br>people=%{marker.size}<br>lat=%{lat}<br>long=%{lon}<br>gridid=%{customdata[0]}<br>city=%{customdata[2]}<extra></extra>",
         "hovertext": [
          "grid.410899.d",
          "grid.264381.a",
          "grid.222754.4",
          "grid.255168.d",
          "grid.412670.6",
          "grid.255649.9",
          "grid.15444.30",
          "grid.420186.9",
          "grid.263736.5",
          "grid.35541.36",
          "grid.413028.c",
          "grid.412010.6",
          "grid.255166.3",
          "grid.31501.36",
          "grid.289247.2",
          "grid.258676.8",
          "grid.258803.4",
          "grid.411982.7",
          "grid.256681.e",
          "grid.254224.7",
          "grid.507563.2",
          "grid.14005.30",
          "grid.254230.2",
          "grid.410720.0",
          "grid.411947.e",
          "grid.419666.a",
          "grid.49606.3d",
          "grid.412674.2",
          "grid.37172.30",
          "grid.29869.3c",
          "grid.267370.7",
          "grid.411134.2",
          "grid.413967.e",
          "grid.49100.3c",
          "grid.249967.7",
          "grid.482586.5",
          "grid.418549.5",
          "grid.410914.9",
          "grid.417736.0",
          "grid.412786.e",
          "grid.42687.3f",
          "grid.30311.30",
          "grid.410909.5",
          "grid.492507.d",
          "grid.411605.7",
          "grid.410886.3",
          "grid.411261.1"
         ],
         "lat": [
          35.970577239990234,
          37.58822250366211,
          37.590476989746094,
          37.55781173706055,
          37.54600524902344,
          37.56306838989258,
          37.56603240966797,
          35.83116149902344,
          37.551109313964844,
          37.595176696777344,
          35.83416748046875,
          37.86944580078125,
          35.115814208984375,
          37.46015548706055,
          37.59674835205078,
          37.54194259643555,
          35.88893508911133,
          37.32270812988281,
          35.15496826171875,
          37.504150390625,
          37.56966018676758,
          35.176387786865234,
          36.36888885498047,
          36.402191162109375,
          37.586212158203125,
          37.49660873413086,
          37.55746841430664,
          36.77077102661133,
          36.36964416503906,
          36.38871765136719,
          35.54277038574219,
          37.59102249145508,
          37.527042388916016,
          36.01414489746094,
          36.37836837768555,
          37.86948013305664,
          37.40656280517578,
          37.658260345458984,
          35.705299377441406,
          36.38636779785156,
          35.573001861572266,
          37.459327697753906,
          37.484474182128906,
          38.03364944458008,
          37.44966506958008,
          37.85675048828125,
          37.282142639160156
         ],
         "legendgroup": "South Korea",
         "lon": [
          126.95735931396484,
          126.99360656738281,
          127.02678680419922,
          127.00077819824219,
          126.96452331542969,
          126.94673919677734,
          126.93853759765625,
          127.05624389648438,
          126.94110870361328,
          126.99803924560547,
          128.758056640625,
          127.7441635131836,
          128.96717834472656,
          126.95189666748047,
          127.05188751220703,
          127.07638549804688,
          128.61026000976562,
          127.12674713134766,
          128.09800720214844,
          126.95693969726562,
          126.98026275634766,
          126.9080581665039,
          127.34610748291016,
          127.3995132446289,
          127.00411224365234,
          127.02690124511719,
          127.0453109741211,
          126.93160247802734,
          127.364013671875,
          127.35980224609375,
          129.25672912597656,
          127.02778625488281,
          127.10833740234375,
          129.3231658935547,
          127.3583755493164,
          127.74446868896484,
          127.10343170166016,
          126.78684997558594,
          128.45709228515625,
          127.36930084228516,
          129.19000244140625,
          126.95310974121094,
          126.87898254394531,
          126.35806274414062,
          126.65308380126953,
          127.13780975341797,
          127.04631042480469
         ],
         "marker": {
          "color": "#FFA15A",
          "size": [
           2,
           5,
           6,
           1,
           1,
           1,
           37,
           2,
           6,
           1,
           2,
           1,
           8,
           17,
           4,
           2,
           2,
           1,
           1,
           1,
           1,
           1,
           8,
           18,
           2,
           2,
           3,
           1,
           25,
           4,
           1,
           1,
           8,
           2,
           4,
           1,
           1,
           3,
           1,
           2,
           2,
           1,
           1,
           1,
           1,
           2,
           1
          ],
          "sizemode": "area",
          "sizeref": 0.935,
          "symbol": "circle"
         },
         "mode": "markers",
         "name": "South Korea",
         "showlegend": true,
         "type": "scattergeo"
        },
        {
         "customdata": [
          [
           "grid.413442.4",
           "Malaysia",
           "Kuala Selangor"
          ],
          [
           "grid.414676.6",
           "Malaysia",
           "Kuala Lumpur"
          ],
          [
           "grid.11875.3a",
           "Malaysia",
           "George Town"
          ],
          [
           "grid.10347.31",
           "Malaysia",
           "Kuala Lumpur"
          ],
          [
           "grid.440422.4",
           "Malaysia",
           "Kuala Lumpur"
          ]
         ],
         "geo": "geo",
         "hovertemplate": "<b>%{hovertext}</b><br><br>country=%{customdata[1]}<br>people=%{marker.size}<br>lat=%{lat}<br>long=%{lon}<br>gridid=%{customdata[0]}<br>city=%{customdata[2]}<extra></extra>",
         "hovertext": [
          "grid.413442.4",
          "grid.414676.6",
          "grid.11875.3a",
          "grid.10347.31",
          "grid.440422.4"
         ],
         "lat": [
          3.2424468994140625,
          3.1823461055755615,
          5.3569440841674805,
          3.120832920074463,
          3.2517619132995605
         ],
         "legendgroup": "Malaysia",
         "lon": [
          101.64885711669922,
          101.70453643798828,
          100.3013916015625,
          101.65638732910156,
          101.73655700683594
         ],
         "marker": {
          "color": "#19d3f3",
          "size": [
           2,
           1,
           1,
           1,
           1
          ],
          "sizemode": "area",
          "sizeref": 0.935,
          "symbol": "circle"
         },
         "mode": "markers",
         "name": "Malaysia",
         "showlegend": true,
         "type": "scattergeo"
        },
        {
         "customdata": [
          [
           "grid.419860.2",
           "Nicaragua",
           "Managua"
          ]
         ],
         "geo": "geo",
         "hovertemplate": "<b>%{hovertext}</b><br><br>country=%{customdata[1]}<br>people=%{marker.size}<br>lat=%{lat}<br>long=%{lon}<br>gridid=%{customdata[0]}<br>city=%{customdata[2]}<extra></extra>",
         "hovertext": [
          "grid.419860.2"
         ],
         "lat": [
          12.126771926879883
         ],
         "legendgroup": "Nicaragua",
         "lon": [
          -86.22521209716797
         ],
         "marker": {
          "color": "#FF6692",
          "size": [
           1
          ],
          "sizemode": "area",
          "sizeref": 0.935,
          "symbol": "circle"
         },
         "mode": "markers",
         "name": "Nicaragua",
         "showlegend": true,
         "type": "scattergeo"
        },
        {
         "customdata": [
          [
           "grid.487647.e",
           "Netherlands",
           "Utrecht"
          ],
          [
           "grid.508717.c",
           "Netherlands",
           "Rotterdam"
          ],
          [
           "grid.5590.9",
           "Netherlands",
           "Nijmegen"
          ],
          [
           "grid.12295.3d",
           "Netherlands",
           "Tilburg"
          ],
          [
           "grid.5132.5",
           "Netherlands",
           "Leiden"
          ],
          [
           "grid.12380.38",
           "Netherlands",
           "Amsterdam"
          ],
          [
           "grid.16872.3a",
           "Netherlands",
           "Amsterdam"
          ],
          [
           "grid.491235.8",
           "Netherlands",
           "Utrecht"
          ],
          [
           "grid.6214.1",
           "Netherlands",
           "Enschede"
          ],
          [
           "grid.4818.5",
           "Netherlands",
           "Wageningen"
          ],
          [
           "grid.430814.a",
           "Netherlands",
           "Amsterdam"
          ],
          [
           "grid.31147.30",
           "Netherlands",
           "De Bilt"
          ],
          [
           "grid.419927.0",
           "Netherlands",
           "Utrecht"
          ],
          [
           "grid.6906.9",
           "Netherlands",
           "Rotterdam"
          ],
          [
           "grid.468395.5",
           "Netherlands",
           "Utrecht"
          ],
          [
           "grid.10417.33",
           "Netherlands",
           "Nijmegen"
          ],
          [
           "grid.6852.9",
           "Netherlands",
           "Eindhoven"
          ],
          [
           "grid.497529.4",
           "Netherlands",
           "Leiden"
          ],
          [
           "grid.5477.1",
           "Netherlands",
           "Utrecht"
          ],
          [
           "grid.7177.6",
           "Netherlands",
           "Amsterdam"
          ],
          [
           "grid.509540.d",
           "Netherlands",
           "Amsterdam"
          ],
          [
           "grid.484519.5",
           "Netherlands",
           "Amsterdam"
          ],
          [
           "grid.499559.d",
           "Netherlands",
           "Utrecht"
          ],
          [
           "grid.474144.6",
           "Netherlands",
           "Leiden"
          ],
          [
           "grid.5645.2",
           "Netherlands",
           "Rotterdam"
          ],
          [
           "grid.5012.6",
           "Netherlands",
           "Maastricht"
          ],
          [
           "grid.425600.5",
           "Netherlands",
           "Wageningen"
          ],
          [
           "grid.411989.c",
           "Netherlands",
           "Groningen"
          ],
          [
           "grid.412966.e",
           "Netherlands",
           "Maastricht"
          ],
          [
           "grid.416373.4",
           "Netherlands",
           "Tilburg"
          ],
          [
           "grid.5650.6",
           "Netherlands",
           "Amsterdam"
          ],
          [
           "grid.418011.d",
           "Netherlands",
           "Leiden"
          ],
          [
           "grid.476937.8",
           "Netherlands",
           "Nijmegen"
          ],
          [
           "grid.4494.d",
           "Netherlands",
           "Groningen"
          ],
          [
           "grid.417732.4",
           "Netherlands",
           "Amsterdam"
          ],
          [
           "grid.452397.e",
           "Netherlands",
           "Amsterdam"
          ],
          [
           "grid.466767.2",
           "Netherlands",
           "Utrecht"
          ],
          [
           "grid.7692.a",
           "Netherlands",
           "Utrecht"
          ],
          [
           "grid.10419.3d",
           "Netherlands",
           "Leiden"
          ],
          [
           "grid.418101.d",
           "Netherlands",
           "Amsterdam"
          ],
          [
           "grid.4830.f",
           "Netherlands",
           "Groningen"
          ],
          [
           "grid.5292.c",
           "Netherlands",
           "Delft"
          ]
         ],
         "geo": "geo",
         "hovertemplate": "<b>%{hovertext}</b><br><br>country=%{customdata[1]}<br>people=%{marker.size}<br>lat=%{lat}<br>long=%{lon}<br>gridid=%{customdata[0]}<br>city=%{customdata[2]}<extra></extra>",
         "hovertext": [
          "grid.487647.e",
          "grid.508717.c",
          "grid.5590.9",
          "grid.12295.3d",
          "grid.5132.5",
          "grid.12380.38",
          "grid.16872.3a",
          "grid.491235.8",
          "grid.6214.1",
          "grid.4818.5",
          "grid.430814.a",
          "grid.31147.30",
          "grid.419927.0",
          "grid.6906.9",
          "grid.468395.5",
          "grid.10417.33",
          "grid.6852.9",
          "grid.497529.4",
          "grid.5477.1",
          "grid.7177.6",
          "grid.509540.d",
          "grid.484519.5",
          "grid.499559.d",
          "grid.474144.6",
          "grid.5645.2",
          "grid.5012.6",
          "grid.425600.5",
          "grid.411989.c",
          "grid.412966.e",
          "grid.416373.4",
          "grid.5650.6",
          "grid.418011.d",
          "grid.476937.8",
          "grid.4494.d",
          "grid.417732.4",
          "grid.452397.e",
          "grid.466767.2",
          "grid.7692.a",
          "grid.10419.3d",
          "grid.418101.d",
          "grid.4830.f",
          "grid.5292.c"
         ],
         "lat": [
          52.089378356933594,
          51.9111213684082,
          51.81901168823242,
          51.563804626464844,
          52.15668869018555,
          52.33394241333008,
          52.33515930175781,
          52.08674240112305,
          52.24273681640625,
          51.9847526550293,
          52.350868225097656,
          52.117774963378906,
          52.089630126953125,
          51.91568374633789,
          52.08955764770508,
          51.823055267333984,
          51.4486083984375,
          52.1666259765625,
          52.09016418457031,
          52.35579299926758,
          null,
          52.33295440673828,
          52.08821105957031,
          52.16865921020508,
          51.90999984741211,
          50.84583282470703,
          51.97660827636719,
          53.24051284790039,
          50.835262298583984,
          51.539756774902344,
          52.293331146240234,
          52.16755676269531,
          51.8416862487793,
          53.22279357910156,
          52.41469955444336,
          52.3372917175293,
          52.083824157714844,
          52.0886116027832,
          52.16583251953125,
          52.37152862548828,
          53.219444274902344,
          52.00279235839844
         ],
         "legendgroup": "Netherlands",
         "lon": [
          5.182098865509033,
          4.467573165893555,
          5.856998920440674,
          5.042572975158691,
          4.485036849975586,
          4.865708827972412,
          4.859904766082764,
          5.100819110870361,
          6.853263854980469,
          5.6657490730285645,
          4.826389789581299,
          5.189863204956055,
          5.176787853240967,
          4.525846004486084,
          5.175922870635986,
          5.862500190734863,
          5.4907097816467285,
          4.456520080566406,
          5.12260103225708,
          4.954782009124756,
          null,
          4.864879131317139,
          5.107466220855713,
          4.464984893798828,
          4.46750020980835,
          5.687222003936768,
          5.645790100097656,
          6.532702922821045,
          5.714328765869141,
          5.102811813354492,
          4.957777976989746,
          4.469543933868408,
          5.86587381362915,
          6.574038982391357,
          4.96953010559082,
          4.886320114135742,
          5.178102016448975,
          5.179721832275391,
          4.477499961853027,
          4.899722099304199,
          6.5629658699035645,
          4.3708977699279785
         ],
         "marker": {
          "color": "#B6E880",
          "size": [
           12,
           2,
           5,
           2,
           5,
           14,
           1,
           6,
           4,
           25,
           26,
           1,
           5,
           2,
           1,
           6,
           1,
           1,
           23,
           11,
           3,
           1,
           16,
           3,
           8,
           9,
           1,
           1,
           1,
           1,
           2,
           1,
           1,
           8,
           3,
           10,
           4,
           20,
           21,
           1,
           6,
           5
          ],
          "sizemode": "area",
          "sizeref": 0.935,
          "symbol": "circle"
         },
         "mode": "markers",
         "name": "Netherlands",
         "showlegend": true,
         "type": "scattergeo"
        },
        {
         "customdata": [
          [
           "grid.452146.0",
           "Qatar",
           "Doha"
          ],
          [
           "grid.416973.e",
           "Qatar",
           "Doha"
          ],
          [
           "grid.466903.e",
           "Qatar",
           "Doha"
          ],
          [
           "grid.418818.c",
           "Qatar",
           "Doha"
          ]
         ],
         "geo": "geo",
         "hovertemplate": "<b>%{hovertext}</b><br><br>country=%{customdata[1]}<br>people=%{marker.size}<br>lat=%{lat}<br>long=%{lon}<br>gridid=%{customdata[0]}<br>city=%{customdata[2]}<extra></extra>",
         "hovertext": [
          "grid.452146.0",
          "grid.416973.e",
          "grid.466903.e",
          "grid.418818.c"
         ],
         "lat": [
          25.314186096191406,
          25.31800079345703,
          25.326993942260742,
          25.315296173095703
         ],
         "legendgroup": "Qatar",
         "lon": [
          51.44140625,
          51.438899993896484,
          51.52824020385742,
          51.43629455566406
         ],
         "marker": {
          "color": "#FF97FF",
          "size": [
           2,
           2,
           1,
           2
          ],
          "sizemode": "area",
          "sizeref": 0.935,
          "symbol": "circle"
         },
         "mode": "markers",
         "name": "Qatar",
         "showlegend": true,
         "type": "scattergeo"
        },
        {
         "customdata": [
          [
           "grid.463455.5",
           "Sierra Leone",
           "Freetown"
          ]
         ],
         "geo": "geo",
         "hovertemplate": "<b>%{hovertext}</b><br><br>country=%{customdata[1]}<br>people=%{marker.size}<br>lat=%{lat}<br>long=%{lon}<br>gridid=%{customdata[0]}<br>city=%{customdata[2]}<extra></extra>",
         "hovertext": [
          "grid.463455.5"
         ],
         "lat": [
          8.476297378540039
         ],
         "legendgroup": "Sierra Leone",
         "lon": [
          -13.248137474060059
         ],
         "marker": {
          "color": "#FECB52",
          "size": [
           2
          ],
          "sizemode": "area",
          "sizeref": 0.935,
          "symbol": "circle"
         },
         "mode": "markers",
         "name": "Sierra Leone",
         "showlegend": true,
         "type": "scattergeo"
        },
        {
         "customdata": [
          [
           "grid.436981.1",
           "Tanzania",
           "Dar es Salaam"
          ]
         ],
         "geo": "geo",
         "hovertemplate": "<b>%{hovertext}</b><br><br>country=%{customdata[1]}<br>people=%{marker.size}<br>lat=%{lat}<br>long=%{lon}<br>gridid=%{customdata[0]}<br>city=%{customdata[2]}<extra></extra>",
         "hovertext": [
          "grid.436981.1"
         ],
         "lat": [
          -6.760177135467529
         ],
         "legendgroup": "Tanzania",
         "lon": [
          39.24089431762695
         ],
         "marker": {
          "color": "#636efa",
          "size": [
           1
          ],
          "sizemode": "area",
          "sizeref": 0.935,
          "symbol": "circle"
         },
         "mode": "markers",
         "name": "Tanzania",
         "showlegend": true,
         "type": "scattergeo"
        },
        {
         "customdata": [
          [
           "grid.483732.9",
           "Belgium",
           "Brussels"
          ],
          [
           "grid.421932.f",
           "Belgium",
           "Brussels"
          ],
          [
           "grid.5342.0",
           "Belgium",
           "Ghent"
          ],
          [
           "grid.416672.0",
           "Belgium",
           "Aalst"
          ],
          [
           "grid.5596.f",
           "Belgium",
           "Leuven"
          ],
          [
           "grid.270680.b",
           "Belgium",
           "Brussels"
          ],
          [
           "grid.419619.2",
           "Belgium",
           "Beerse"
          ],
          [
           "grid.4989.c",
           "Belgium",
           "Brussels"
          ],
          [
           "grid.8767.e",
           "Belgium",
           "Brussels"
          ],
          [
           "grid.6520.1",
           "Belgium",
           "Namur"
          ],
          [
           "grid.410569.f",
           "Belgium",
           "Leuven"
          ],
          [
           "grid.484123.8",
           "Belgium",
           "Brussels"
          ],
          [
           "grid.16549.3f",
           "Belgium",
           "Brussels"
          ],
          [
           "grid.15762.37",
           "Belgium",
           "Leuven"
          ],
          [
           "grid.454814.8",
           "Belgium",
           "Brussels"
          ],
          [
           "grid.5284.b",
           "Belgium",
           "Antwerp"
          ],
          [
           "grid.416667.4",
           "Belgium",
           "Antwerp"
          ],
          [
           "grid.461914.f",
           "Belgium",
           "Ghent"
          ],
          [
           "grid.425090.a",
           "Belgium",
           "Wavre"
          ],
          [
           "grid.434482.d",
           "Belgium",
           "Brussels"
          ],
          [
           "grid.6717.7",
           "Belgium",
           "Mol"
          ],
          [
           "grid.11486.3a",
           "Belgium",
           "Ghent"
          ],
          [
           "grid.410566.0",
           "Belgium",
           "Ghent"
          ]
         ],
         "geo": "geo",
         "hovertemplate": "<b>%{hovertext}</b><br><br>country=%{customdata[1]}<br>people=%{marker.size}<br>lat=%{lat}<br>long=%{lon}<br>gridid=%{customdata[0]}<br>city=%{customdata[2]}<extra></extra>",
         "hovertext": [
          "grid.483732.9",
          "grid.421932.f",
          "grid.5342.0",
          "grid.416672.0",
          "grid.5596.f",
          "grid.270680.b",
          "grid.419619.2",
          "grid.4989.c",
          "grid.8767.e",
          "grid.6520.1",
          "grid.410569.f",
          "grid.484123.8",
          "grid.16549.3f",
          "grid.15762.37",
          "grid.454814.8",
          "grid.5284.b",
          "grid.416667.4",
          "grid.461914.f",
          "grid.425090.a",
          "grid.434482.d",
          "grid.6717.7",
          "grid.11486.3a",
          "grid.410566.0"
         ],
         "lat": [
          50.85018539428711,
          50.81640625,
          51.0467643737793,
          50.943885803222656,
          50.8781623840332,
          50.85165023803711,
          51.307456970214844,
          50.81351852416992,
          50.82320022583008,
          50.46778869628906,
          50.880401611328125,
          50.83638000488281,
          50.851951599121094,
          50.867637634277344,
          50.83926773071289,
          51.22272872924805,
          51.22218322753906,
          51.00958251953125,
          50.73945236206055,
          50.837501525878906,
          51.230857849121094,
          51.018741607666016,
          51.025169372558594
         ],
         "legendgroup": "Belgium",
         "lon": [
          4.344831943511963,
          4.274133205413818,
          3.727874994277954,
          4.055221080780029,
          4.700263023376465,
          4.3636698722839355,
          4.875338077545166,
          4.38162088394165,
          4.392588138580322,
          4.8600239753723145,
          4.695499897003174,
          4.3710408210754395,
          4.4556050300598145,
          4.678236961364746,
          4.366168022155762,
          4.408430099487305,
          4.4352498054504395,
          3.714698076248169,
          4.598863124847412,
          4.404770851135254,
          5.0920538902282715,
          3.693763017654419,
          3.725213050842285
         ],
         "marker": {
          "color": "#EF553B",
          "size": [
           1,
           1,
           57,
           1,
           16,
           3,
           2,
           5,
           18,
           1,
           1,
           2,
           2,
           1,
           3,
           6,
           1,
           1,
           1,
           1,
           1,
           3,
           4
          ],
          "sizemode": "area",
          "sizeref": 0.935,
          "symbol": "circle"
         },
         "mode": "markers",
         "name": "Belgium",
         "showlegend": true,
         "type": "scattergeo"
        },
        {
         "customdata": [
          [
           "grid.8993.b",
           "Sweden",
           "Uppsala"
          ],
          [
           "grid.10548.38",
           "Sweden",
           "Stockholm"
          ],
          [
           "grid.4714.6",
           "Sweden",
           "Stockholm"
          ],
          [
           "grid.12650.30",
           "Sweden",
           "Umeå"
          ],
          [
           "grid.420056.5",
           "Sweden",
           "Uppsala"
          ],
          [
           "grid.8761.8",
           "Sweden",
           "Gothenburg"
          ],
          [
           "grid.5037.1",
           "Sweden",
           "Stockholm"
          ],
          [
           "grid.5371.0",
           "Sweden",
           "Gothenburg"
          ],
          [
           "grid.6341.0",
           "Sweden",
           "Uppsala"
          ],
          [
           "grid.412798.1",
           "Sweden",
           "Skövde"
          ],
          [
           "grid.437537.1",
           "Sweden",
           "Uppsala"
          ],
          [
           "grid.24381.3c",
           "Sweden",
           "Stockholm"
          ],
          [
           "grid.415001.1",
           "Sweden",
           "Uppsala"
          ],
          [
           "grid.418151.8",
           "Sweden",
           "Södertälje"
          ],
          [
           "grid.4514.4",
           "Sweden",
           "Lund"
          ]
         ],
         "geo": "geo",
         "hovertemplate": "<b>%{hovertext}</b><br><br>country=%{customdata[1]}<br>people=%{marker.size}<br>lat=%{lat}<br>long=%{lon}<br>gridid=%{customdata[0]}<br>city=%{customdata[2]}<extra></extra>",
         "hovertext": [
          "grid.8993.b",
          "grid.10548.38",
          "grid.4714.6",
          "grid.12650.30",
          "grid.420056.5",
          "grid.8761.8",
          "grid.5037.1",
          "grid.5371.0",
          "grid.6341.0",
          "grid.412798.1",
          "grid.437537.1",
          "grid.24381.3c",
          "grid.415001.1",
          "grid.418151.8",
          "grid.4514.4"
         ],
         "lat": [
          59.851051330566406,
          59.36527633666992,
          59.348018646240234,
          63.82156753540039,
          59.854129791259766,
          57.69834518432617,
          59.34748077392578,
          57.688331604003906,
          59.814998626708984,
          58.39453125,
          59.843379974365234,
          59.35222244262695,
          59.8425407409668,
          59.56682205200195,
          55.71320343017578
         ],
         "legendgroup": "Sweden",
         "lon": [
          17.629966735839844,
          18.058332443237305,
          18.02228546142578,
          20.310623168945312,
          17.665613174438477,
          11.971845626831055,
          18.07352638244629,
          11.976667404174805,
          17.663000106811523,
          13.854120254516602,
          17.64362907409668,
          18.032222747802734,
          17.64031219482422,
          17.553089141845703,
          13.193536758422852
         ],
         "marker": {
          "color": "#00cc96",
          "size": [
           16,
           4,
           92,
           2,
           2,
           7,
           27,
           9,
           6,
           1,
           1,
           3,
           2,
           1,
           30
          ],
          "sizemode": "area",
          "sizeref": 0.935,
          "symbol": "circle"
         },
         "mode": "markers",
         "name": "Sweden",
         "showlegend": true,
         "type": "scattergeo"
        },
        {
         "customdata": [
          [
           "grid.5254.6",
           "Denmark",
           "Copenhagen"
          ],
          [
           "grid.424026.6",
           "Denmark",
           "Hørsholm"
          ],
          [
           "grid.425956.9",
           "Denmark",
           "Copenhagen"
          ],
          [
           "grid.7048.b",
           "Denmark",
           "Aarhus"
          ],
          [
           "grid.6203.7",
           "Denmark",
           "Copenhagen"
          ],
          [
           "grid.420009.f",
           "Denmark",
           "Ballerup Municipality"
          ],
          [
           "grid.4655.2",
           "Denmark",
           "Copenhagen"
          ],
          [
           "grid.452548.a",
           "Denmark",
           "Copenhagen"
          ],
          [
           "grid.480633.a",
           "Denmark",
           "Copenhagen"
          ],
          [
           "grid.509919.d",
           "Denmark",
           "Copenhagen"
          ],
          [
           "grid.5170.3",
           "Denmark",
           "Kongens Lyngby"
          ],
          [
           "grid.411900.d",
           "Denmark",
           "Herlev"
          ],
          [
           "grid.5117.2",
           "Denmark",
           "Aalborg"
          ],
          [
           "grid.11702.35",
           "Denmark",
           "Roskilde"
          ],
          [
           "grid.10582.3e",
           "Denmark",
           "Copenhagen"
          ],
          [
           "grid.433318.e",
           "Denmark",
           "Copenhagen"
          ],
          [
           "grid.10825.3e",
           "Denmark",
           "Odense"
          ],
          [
           "grid.475435.4",
           "Denmark",
           "Copenhagen"
          ]
         ],
         "geo": "geo",
         "hovertemplate": "<b>%{hovertext}</b><br><br>country=%{customdata[1]}<br>people=%{marker.size}<br>lat=%{lat}<br>long=%{lon}<br>gridid=%{customdata[0]}<br>city=%{customdata[2]}<extra></extra>",
         "hovertext": [
          "grid.5254.6",
          "grid.424026.6",
          "grid.425956.9",
          "grid.7048.b",
          "grid.6203.7",
          "grid.420009.f",
          "grid.4655.2",
          "grid.452548.a",
          "grid.480633.a",
          "grid.509919.d",
          "grid.5170.3",
          "grid.411900.d",
          "grid.5117.2",
          "grid.11702.35",
          "grid.10582.3e",
          "grid.433318.e",
          "grid.10825.3e",
          "grid.475435.4"
         ],
         "lat": [
          55.67972183227539,
          55.873573303222656,
          55.753883361816406,
          56.16815948486328,
          55.66600036621094,
          55.72703170776367,
          55.681671142578125,
          55.664859771728516,
          55.68473815917969,
          55.699058532714844,
          55.785797119140625,
          55.731388092041016,
          57.01456832885742,
          55.65289306640625,
          55.756954193115234,
          55.67914581298828,
          55.36861038208008,
          55.69607925415039
         ],
         "legendgroup": "Denmark",
         "lon": [
          12.572500228881836,
          12.487531661987305,
          12.44839859008789,
          10.202980041503906,
          12.590999603271484,
          12.387982368469238,
          12.52963638305664,
          12.52531909942627,
          12.58211898803711,
          12.556065559387207,
          12.521533012390137,
          12.443611145019531,
          9.981863975524902,
          12.140558242797852,
          12.454569816589355,
          12.597397804260254,
          10.428055763244629,
          12.566587448120117
         ],
         "marker": {
          "color": "#ab63fa",
          "size": [
           74,
           2,
           3,
           8,
           2,
           1,
           1,
           1,
           1,
           2,
           51,
           3,
           7,
           1,
           1,
           2,
           1,
           3
          ],
          "sizemode": "area",
          "sizeref": 0.935,
          "symbol": "circle"
         },
         "mode": "markers",
         "name": "Denmark",
         "showlegend": true,
         "type": "scattergeo"
        },
        {
         "customdata": [
          [
           "grid.452433.7",
           "Finland",
           "Helsinki"
          ],
          [
           "grid.1374.1",
           "Finland",
           "Turku"
          ],
          [
           "grid.15485.3d",
           "Finland",
           "Helsinki"
          ],
          [
           "grid.6324.3",
           "Finland",
           "Espoo"
          ],
          [
           "grid.13797.3b",
           "Finland",
           "Turku"
          ],
          [
           "grid.7737.4",
           "Finland",
           "Helsinki"
          ],
          [
           "grid.10858.34",
           "Finland",
           "Oulu"
          ],
          [
           "grid.465153.0",
           "Finland",
           "Helsinki"
          ],
          [
           "grid.5373.2",
           "Finland",
           "Helsinki"
          ],
          [
           "grid.502801.e",
           "Finland",
           "Tampere"
          ],
          [
           "grid.9668.1",
           "Finland",
           "Kuopio"
          ],
          [
           "grid.20709.3c",
           "Finland",
           "Espoo"
          ],
          [
           "grid.14758.3f",
           "Finland",
           "Helsinki"
          ],
          [
           "grid.490668.5",
           "Finland",
           "Helsinki"
          ],
          [
           "grid.452494.a",
           "Finland",
           "Helsinki"
          ],
          [
           "grid.452861.c",
           "Finland",
           "Turku"
          ]
         ],
         "geo": "geo",
         "hovertemplate": "<b>%{hovertext}</b><br><br>country=%{customdata[1]}<br>people=%{marker.size}<br>lat=%{lat}<br>long=%{lon}<br>gridid=%{customdata[0]}<br>city=%{customdata[2]}<extra></extra>",
         "hovertext": [
          "grid.452433.7",
          "grid.1374.1",
          "grid.15485.3d",
          "grid.6324.3",
          "grid.13797.3b",
          "grid.7737.4",
          "grid.10858.34",
          "grid.465153.0",
          "grid.5373.2",
          "grid.502801.e",
          "grid.9668.1",
          "grid.20709.3c",
          "grid.14758.3f",
          "grid.490668.5",
          "grid.452494.a",
          "grid.452861.c"
         ],
         "lat": [
          60.15951919555664,
          60.456298828125,
          60.1886100769043,
          60.14276123046875,
          60.45100784301758,
          60.172508239746094,
          65.05916595458984,
          60.19148635864258,
          60.18666458129883,
          61.49687576293945,
          62.89250183105469,
          60.17805862426758,
          60.20085144042969,
          60.2041015625,
          60.19139099121094,
          60.45642852783203
         ],
         "legendgroup": "Finland",
         "lon": [
          24.9530086517334,
          22.285112380981445,
          24.905277252197266,
          25.25123405456543,
          22.279916763305664,
          24.950956344604492,
          25.466110229492188,
          24.904891967773438,
          24.827682495117188,
          23.77906036376953,
          27.678300857543945,
          24.8326473236084,
          24.89925193786621,
          24.900146484375,
          24.903942108154297,
          22.28510284423828
         ],
         "marker": {
          "color": "#FFA15A",
          "size": [
           1,
           2,
           1,
           1,
           2,
           13,
           1,
           1,
           5,
           3,
           3,
           1,
           1,
           2,
           5,
           1
          ],
          "sizemode": "area",
          "sizeref": 0.935,
          "symbol": "circle"
         },
         "mode": "markers",
         "name": "Finland",
         "showlegend": true,
         "type": "scattergeo"
        },
        {
         "customdata": [
          [
           "grid.411340.3",
           "India",
           "Aligarh"
          ],
          [
           "grid.418105.9",
           "India",
           "New Delhi"
          ],
          [
           "grid.8195.5",
           "India",
           "New Delhi"
          ],
          [
           "grid.411488.0",
           "India",
           "Lucknow"
          ],
          [
           "grid.34980.36",
           "India",
           "Bengaluru"
          ],
          [
           "grid.11586.3b",
           "India",
           "Vellore"
          ],
          [
           "grid.261674.0",
           "India",
           "Chandigarh"
          ],
          [
           "grid.482359.1",
           "India",
           "Jorhāt"
          ],
          [
           "grid.417967.a",
           "India",
           "New Delhi"
          ],
          [
           "grid.444419.8",
           "India",
           "Durgapur"
          ],
          [
           "grid.411141.0",
           "India",
           "Meerut"
          ],
          [
           "grid.425934.d",
           "India",
           "New Delhi"
          ],
          [
           "grid.411507.6",
           "India",
           "Varanasi"
          ],
          [
           "grid.464742.7",
           "India",
           "Jodhpur"
          ],
          [
           "grid.417969.4",
           "India",
           "Chennai"
          ],
          [
           "grid.418363.b",
           "India",
           "Lucknow"
          ],
          [
           "grid.417642.2",
           "India",
           "Lucknow"
          ],
          [
           "grid.508105.9",
           "India",
           "Hyderabad"
          ],
          [
           "grid.59056.3f",
           "India",
           "Kolkata"
          ],
          [
           "grid.430221.6",
           "India",
           "Mumbai"
          ],
          [
           "grid.417639.e",
           "India",
           "Delhi"
          ],
          [
           "grid.419867.5",
           "India",
           "New Delhi"
          ],
          [
           "grid.419337.b",
           "India",
           "Patancheru"
          ],
          [
           "grid.420069.9",
           "India",
           "Dibrugarh"
          ],
          [
           "grid.419235.8",
           "India",
           "Pune"
          ],
          [
           "grid.464590.a",
           "India",
           "Kanpur"
          ],
          [
           "grid.454294.a",
           "India",
           "Delhi"
          ],
          [
           "grid.449498.c",
           "India",
           "Jūnāgadh"
          ],
          [
           "grid.464841.b",
           "India",
           "Mumbai"
          ],
          [
           "grid.444681.b",
           "India",
           "Pune"
          ],
          [
           "grid.475408.a",
           "India",
           "Bengaluru"
          ],
          [
           "grid.418831.7",
           "India",
           "Bengaluru"
          ],
          [
           "grid.462082.a",
           "India",
           "Sancoale"
          ],
          [
           "grid.444644.2",
           "India",
           "Noida"
          ],
          [
           "grid.440550.0",
           "India",
           "Lucknow"
          ],
          [
           "grid.19003.3b",
           "India",
           "Roorkee"
          ]
         ],
         "geo": "geo",
         "hovertemplate": "<b>%{hovertext}</b><br><br>country=%{customdata[1]}<br>people=%{marker.size}<br>lat=%{lat}<br>long=%{lon}<br>gridid=%{customdata[0]}<br>city=%{customdata[2]}<extra></extra>",
         "hovertext": [
          "grid.411340.3",
          "grid.418105.9",
          "grid.8195.5",
          "grid.411488.0",
          "grid.34980.36",
          "grid.11586.3b",
          "grid.261674.0",
          "grid.482359.1",
          "grid.417967.a",
          "grid.444419.8",
          "grid.411141.0",
          "grid.425934.d",
          "grid.411507.6",
          "grid.464742.7",
          "grid.417969.4",
          "grid.418363.b",
          "grid.417642.2",
          "grid.508105.9",
          "grid.59056.3f",
          "grid.430221.6",
          "grid.417639.e",
          "grid.419867.5",
          "grid.419337.b",
          "grid.420069.9",
          "grid.419235.8",
          "grid.464590.a",
          "grid.454294.a",
          "grid.449498.c",
          "grid.464841.b",
          "grid.444681.b",
          "grid.475408.a",
          "grid.418831.7",
          "grid.462082.a",
          "grid.444644.2",
          "grid.440550.0",
          "grid.19003.3b"
         ],
         "lat": [
          27.917369842529297,
          28.616247177124023,
          28.583332061767578,
          26.865556716918945,
          13.02127456665039,
          12.925211906433105,
          30.76087760925293,
          26.720430374145508,
          28.545000076293945,
          23.550519943237305,
          28.969999313354492,
          28.549306869506836,
          25.266632080078125,
          26.262632369995117,
          12.992998123168945,
          26.943241119384766,
          26.85607147216797,
          17.437532424926758,
          22.57495880126953,
          19.112333297729492,
          28.554601669311523,
          28.589967727661133,
          17.51108741760254,
          27.47294807434082,
          18.54729461669922,
          26.492816925048828,
          28.544443130493164,
          21.50642967224121,
          19.07505989074707,
          18.537246704101562,
          13.07138442993164,
          12.84421157836914,
          15.389981269836426,
          28.544275283813477,
          26.76987648010254,
          29.86214256286621
         ],
         "legendgroup": "India",
         "lon": [
          78.07785034179688,
          77.21373748779297,
          77.16666412353516,
          80.93638610839844,
          77.56576538085938,
          79.13603210449219,
          76.7653579711914,
          94.22810363769531,
          77.19222259521484,
          87.29072570800781,
          77.74150085449219,
          77.1793212890625,
          82.99057006835938,
          72.99714660644531,
          80.23680114746094,
          80.93928527832031,
          80.94935607910156,
          78.32181549072266,
          88.36378479003906,
          72.82905578613281,
          77.27458190917969,
          77.22525787353516,
          78.27547454833984,
          94.98281860351562,
          73.83150482177734,
          80.27185821533203,
          77.27249908447266,
          70.44894409179688,
          72.87295532226562,
          73.73201751708984,
          77.57819366455078,
          77.65856170654297,
          73.87786102294922,
          77.33392333984375,
          80.9261245727539,
          77.89672088623047
         ],
         "marker": {
          "color": "#19d3f3",
          "size": [
           1,
           2,
           1,
           1,
           2,
           1,
           2,
           1,
           4,
           1,
           1,
           1,
           1,
           1,
           2,
           3,
           10,
           1,
           1,
           1,
           1,
           1,
           13,
           3,
           1,
           3,
           1,
           1,
           1,
           1,
           2,
           3,
           1,
           1,
           1,
           1
          ],
          "sizemode": "area",
          "sizeref": 0.935,
          "symbol": "circle"
         },
         "mode": "markers",
         "name": "India",
         "showlegend": true,
         "type": "scattergeo"
        },
        {
         "customdata": [
          [
           "grid.419041.9",
           "Brazil",
           "São Paulo"
          ],
          [
           "grid.8430.f",
           "Brazil",
           "Belo Horizonte"
          ],
          [
           "grid.12799.34",
           "Brazil",
           "Viçosa"
          ],
          [
           "grid.8536.8",
           "Brazil",
           "Rio de Janeiro"
          ],
          [
           "grid.418068.3",
           "Brazil",
           "Rio de Janeiro"
          ],
          [
           "grid.510149.8",
           "Brazil",
           "Campinas"
          ],
          [
           "grid.7632.0",
           "Brazil",
           "Brasília"
          ],
          [
           "grid.411087.b",
           "Brazil",
           "Campinas"
          ],
          [
           "grid.8399.b",
           "Brazil",
           "Salvador"
          ],
          [
           "grid.11899.38",
           "Brazil",
           "São Paulo"
          ],
          [
           "grid.412352.3",
           "Brazil",
           "Campo Grande"
          ],
          [
           "grid.271762.7",
           "Brazil",
           "Maringá"
          ]
         ],
         "geo": "geo",
         "hovertemplate": "<b>%{hovertext}</b><br><br>country=%{customdata[1]}<br>people=%{marker.size}<br>lat=%{lat}<br>long=%{lon}<br>gridid=%{customdata[0]}<br>city=%{customdata[2]}<extra></extra>",
         "hovertext": [
          "grid.419041.9",
          "grid.8430.f",
          "grid.12799.34",
          "grid.8536.8",
          "grid.418068.3",
          "grid.510149.8",
          "grid.7632.0",
          "grid.411087.b",
          "grid.8399.b",
          "grid.11899.38",
          "grid.412352.3",
          "grid.271762.7"
         ],
         "lat": [
          -23.588001251220703,
          -19.871904373168945,
          -20.760299682617188,
          -22.953330993652344,
          -22.874881744384766,
          -22.892120361328125,
          -15.763153076171875,
          -22.81682777404785,
          -13.001666069030762,
          -23.563051223754883,
          -20.501766204833984,
          -23.405235290527344
         ],
         "legendgroup": "Brazil",
         "lon": [
          -46.64881134033203,
          -43.96624755859375,
          -42.867801666259766,
          -43.17428970336914,
          -43.24543762207031,
          -47.06478500366211,
          -47.87063217163086,
          -47.069740295410156,
          -38.506656646728516,
          -46.7301025390625,
          -54.61563491821289,
          -51.93809127807617
         ],
         "marker": {
          "color": "#FF6692",
          "size": [
           1,
           1,
           4,
           3,
           10,
           2,
           3,
           1,
           1,
           10,
           1,
           1
          ],
          "sizemode": "area",
          "sizeref": 0.935,
          "symbol": "circle"
         },
         "mode": "markers",
         "name": "Brazil",
         "showlegend": true,
         "type": "scattergeo"
        },
        {
         "customdata": [
          [
           "grid.410498.0",
           "Israel",
           "Rishon LeZiyyon"
          ],
          [
           "grid.414529.f",
           "Israel",
           "Haifa"
          ],
          [
           "grid.9619.7",
           "Israel",
           "Jerusalem"
          ],
          [
           "grid.415593.f",
           "Israel",
           "Jerusalem"
          ],
          [
           "grid.7489.2",
           "Israel",
           "Beersheba"
          ],
          [
           "grid.18098.38",
           "Israel",
           "Haifa"
          ],
          [
           "grid.413449.f",
           "Israel",
           "Tel Aviv"
          ],
          [
           "grid.413795.d",
           "Israel",
           "Ramat Gan"
          ],
          [
           "grid.6451.6",
           "Israel",
           "Haifa"
          ],
          [
           "grid.415250.7",
           "Israel",
           "Kfar Saba"
          ],
          [
           "grid.22098.31",
           "Israel",
           "Ramat Gan"
          ],
          [
           "grid.12136.37",
           "Israel",
           "Tel Aviv"
          ],
          [
           "grid.13992.30",
           "Israel",
           "Rehovot"
          ],
          [
           "grid.413731.3",
           "Israel",
           "Haifa"
          ],
          [
           "grid.414003.2",
           "Israel",
           "Tel Aviv"
          ],
          [
           "grid.17788.31",
           "Israel",
           "Jerusalem"
          ],
          [
           "grid.11447.37",
           "Israel",
           "Haifa"
          ],
          [
           "grid.476631.1",
           "Israel",
           "Karmiel"
          ],
          [
           "grid.21166.32",
           "Israel",
           "Herzliya"
          ]
         ],
         "geo": "geo",
         "hovertemplate": "<b>%{hovertext}</b><br><br>country=%{customdata[1]}<br>people=%{marker.size}<br>lat=%{lat}<br>long=%{lon}<br>gridid=%{customdata[0]}<br>city=%{customdata[2]}<extra></extra>",
         "hovertext": [
          "grid.410498.0",
          "grid.414529.f",
          "grid.9619.7",
          "grid.415593.f",
          "grid.7489.2",
          "grid.18098.38",
          "grid.413449.f",
          "grid.413795.d",
          "grid.6451.6",
          "grid.415250.7",
          "grid.22098.31",
          "grid.12136.37",
          "grid.13992.30",
          "grid.413731.3",
          "grid.414003.2",
          "grid.17788.31",
          "grid.11447.37",
          "grid.476631.1",
          "grid.21166.32"
         ],
         "lat": [
          31.990278244018555,
          32.80535125732422,
          31.794841766357422,
          31.773056030273438,
          31.262191772460938,
          32.76247787475586,
          32.079978942871094,
          32.0487060546875,
          32.77750015258789,
          32.1818962097168,
          32.067779541015625,
          32.11338806152344,
          31.907499313354492,
          32.83298873901367,
          32.1078987121582,
          31.797222137451172,
          32.10221481323242,
          32.91518020629883,
          32.17657470703125
         ],
         "legendgroup": "Israel",
         "lon": [
          34.81745529174805,
          34.99253845214844,
          35.24137878417969,
          35.185001373291016,
          34.801509857177734,
          35.02088928222656,
          34.78972625732422,
          34.84511947631836,
          35.02166748046875,
          34.89561080932617,
          34.842498779296875,
          34.802154541015625,
          34.809165954589844,
          34.9857063293457,
          34.83880615234375,
          35.241943359375,
          34.85060501098633,
          35.29109573364258,
          34.83562469482422
         ],
         "marker": {
          "color": "#B6E880",
          "size": [
           2,
           1,
           42,
           2,
           12,
           2,
           2,
           1,
           19,
           1,
           6,
           15,
           61,
           1,
           1,
           23,
           1,
           2,
           2
          ],
          "sizemode": "area",
          "sizeref": 0.935,
          "symbol": "circle"
         },
         "mode": "markers",
         "name": "Israel",
         "showlegend": true,
         "type": "scattergeo"
        },
        {
         "customdata": [
          [
           "grid.8065.b",
           "Sri Lanka",
           "Colombo"
          ],
          [
           "grid.45202.31",
           "Sri Lanka",
           "Kelaniya"
          ]
         ],
         "geo": "geo",
         "hovertemplate": "<b>%{hovertext}</b><br><br>country=%{customdata[1]}<br>people=%{marker.size}<br>lat=%{lat}<br>long=%{lon}<br>gridid=%{customdata[0]}<br>city=%{customdata[2]}<extra></extra>",
         "hovertext": [
          "grid.8065.b",
          "grid.45202.31"
         ],
         "lat": [
          6.903069019317627,
          6.9729461669921875
         ],
         "legendgroup": "Sri Lanka",
         "lon": [
          79.86019134521484,
          79.91587829589844
         ],
         "marker": {
          "color": "#FF97FF",
          "size": [
           1,
           1
          ],
          "sizemode": "area",
          "sizeref": 0.935,
          "symbol": "circle"
         },
         "mode": "markers",
         "name": "Sri Lanka",
         "showlegend": true,
         "type": "scattergeo"
        },
        {
         "customdata": [
          [
           "grid.148374.d",
           "New Zealand",
           "Palmerston North"
          ],
          [
           "grid.9654.e",
           "New Zealand",
           "Auckland"
          ],
          [
           "grid.49481.30",
           "New Zealand",
           "Hamilton"
          ],
          [
           "grid.250086.9",
           "New Zealand",
           "Wellington"
          ],
          [
           "grid.457328.f",
           "New Zealand",
           "Rotorua"
          ],
          [
           "grid.252547.3",
           "New Zealand",
           "Auckland"
          ],
          [
           "grid.267827.e",
           "New Zealand",
           "Wellington"
          ],
          [
           "grid.29980.3a",
           "New Zealand",
           "Dunedin"
          ],
          [
           "grid.415117.7",
           "New Zealand",
           "Wellington"
          ],
          [
           "grid.488638.9",
           "New Zealand",
           "Wellington"
          ],
          [
           "grid.417738.e",
           "New Zealand",
           "Lincoln"
          ],
          [
           "grid.419706.d",
           "New Zealand",
           "Porirua"
          ]
         ],
         "geo": "geo",
         "hovertemplate": "<b>%{hovertext}</b><br><br>country=%{customdata[1]}<br>people=%{marker.size}<br>lat=%{lat}<br>long=%{lon}<br>gridid=%{customdata[0]}<br>city=%{customdata[2]}<extra></extra>",
         "hovertext": [
          "grid.148374.d",
          "grid.9654.e",
          "grid.49481.30",
          "grid.250086.9",
          "grid.457328.f",
          "grid.252547.3",
          "grid.267827.e",
          "grid.29980.3a",
          "grid.415117.7",
          "grid.488638.9",
          "grid.417738.e",
          "grid.419706.d"
         ],
         "lat": [
          -40.38563919067383,
          -36.85230255126953,
          -37.78694534301758,
          -41.29082489013672,
          -38.160430908203125,
          -36.853233337402344,
          -41.2901611328125,
          -45.86489486694336,
          -41.30748748779297,
          -41.292274475097656,
          -43.64131164550781,
          -41.14776611328125
         ],
         "legendgroup": "New Zealand",
         "lon": [
          175.61805725097656,
          174.76773071289062,
          175.3138885498047,
          174.76828002929688,
          176.26560974121094,
          174.76649475097656,
          174.76864624023438,
          170.51467895507812,
          174.77821350097656,
          174.77642822265625,
          172.47125244140625,
          174.83895874023438
         ],
         "marker": {
          "color": "#FECB52",
          "size": [
           2,
           1,
           1,
           2,
           1,
           1,
           1,
           7,
           1,
           1,
           5,
           1
          ],
          "sizemode": "area",
          "sizeref": 0.935,
          "symbol": "circle"
         },
         "mode": "markers",
         "name": "New Zealand",
         "showlegend": true,
         "type": "scattergeo"
        },
        {
         "customdata": [
          [
           "grid.412036.2",
           "Taiwan",
           "Kaohsiung City"
          ],
          [
           "grid.19188.39",
           "Taiwan",
           "Taipei"
          ],
          [
           "grid.38348.34",
           "Taiwan",
           "Hsinchu"
          ],
          [
           "grid.260542.7",
           "Taiwan",
           "Taichung"
          ],
          [
           "grid.278247.c",
           "Taiwan",
           "Taipei"
          ],
          [
           "grid.64523.36",
           "Taiwan",
           "Tainan City"
          ],
          [
           "grid.260770.4",
           "Taiwan",
           "Taipei"
          ],
          [
           "grid.506934.d",
           "Taiwan",
           "Taipei"
          ],
          [
           "grid.145695.a",
           "Taiwan",
           "Taoyuan City"
          ],
          [
           "grid.510093.e",
           "Taiwan",
           "Taipei"
          ],
          [
           "grid.506937.e",
           "Taiwan",
           "Taipei"
          ]
         ],
         "geo": "geo",
         "hovertemplate": "<b>%{hovertext}</b><br><br>country=%{customdata[1]}<br>people=%{marker.size}<br>lat=%{lat}<br>long=%{lon}<br>gridid=%{customdata[0]}<br>city=%{customdata[2]}<extra></extra>",
         "hovertext": [
          "grid.412036.2",
          "grid.19188.39",
          "grid.38348.34",
          "grid.260542.7",
          "grid.278247.c",
          "grid.64523.36",
          "grid.260770.4",
          "grid.506934.d",
          "grid.145695.a",
          "grid.510093.e",
          "grid.506937.e"
         ],
         "lat": [
          22.626667022705078,
          25.016000747680664,
          24.793611526489258,
          24.122459411621094,
          25.119138717651367,
          23,
          25.123817443847656,
          25.0435733795166,
          25.037246704101562,
          25.075803756713867,
          25.043533325195312
         ],
         "legendgroup": "Taiwan",
         "lon": [
          120.26583099365234,
          121.53600311279297,
          120.9927749633789,
          120.67426300048828,
          121.5195541381836,
          120.21666717529297,
          121.51618957519531,
          121.61304473876953,
          121.38954162597656,
          121.57496643066406,
          121.61516571044922
         ],
         "marker": {
          "color": "#636efa",
          "size": [
           1,
           3,
           1,
           1,
           1,
           1,
           1,
           3,
           1,
           1,
           1
          ],
          "sizemode": "area",
          "sizeref": 0.935,
          "symbol": "circle"
         },
         "mode": "markers",
         "name": "Taiwan",
         "showlegend": true,
         "type": "scattergeo"
        },
        {
         "customdata": [
          [
           "grid.463494.8",
           "Nigeria",
           "Umuahia"
          ],
          [
           "grid.442553.1",
           "Nigeria",
           "Lagos"
          ]
         ],
         "geo": "geo",
         "hovertemplate": "<b>%{hovertext}</b><br><br>country=%{customdata[1]}<br>people=%{marker.size}<br>lat=%{lat}<br>long=%{lon}<br>gridid=%{customdata[0]}<br>city=%{customdata[2]}<extra></extra>",
         "hovertext": [
          "grid.463494.8",
          "grid.442553.1"
         ],
         "lat": [
          6.416473865509033,
          7.680909156799316
         ],
         "legendgroup": "Nigeria",
         "lon": [
          7.920151233673096,
          4.456478118896484
         ],
         "marker": {
          "color": "#EF553B",
          "size": [
           1,
           3
          ],
          "sizemode": "area",
          "sizeref": 0.935,
          "symbol": "circle"
         },
         "mode": "markers",
         "name": "Nigeria",
         "showlegend": true,
         "type": "scattergeo"
        },
        {
         "customdata": [
          [
           "grid.418193.6",
           "Norway",
           "Oslo"
          ],
          [
           "grid.411279.8",
           "Norway",
           "Lillestrøm"
          ],
          [
           "grid.10919.30",
           "Norway",
           "Tromsø"
          ],
          [
           "grid.7914.b",
           "Norway",
           "Bergen"
          ],
          [
           "grid.412414.6",
           "Norway",
           "Oslo"
          ],
          [
           "grid.19477.3c",
           "Norway",
           "Ås"
          ],
          [
           "grid.55325.34",
           "Norway",
           "Oslo"
          ],
          [
           "grid.458594.1",
           "Norway",
           "Trondheim"
          ],
          [
           "grid.10917.3e",
           "Norway",
           "Bergen"
          ],
          [
           "grid.452322.0",
           "Norway",
           "Tromsø"
          ],
          [
           "grid.5947.f",
           "Norway",
           "Trondheim"
          ]
         ],
         "geo": "geo",
         "hovertemplate": "<b>%{hovertext}</b><br><br>country=%{customdata[1]}<br>people=%{marker.size}<br>lat=%{lat}<br>long=%{lon}<br>gridid=%{customdata[0]}<br>city=%{customdata[2]}<extra></extra>",
         "hovertext": [
          "grid.418193.6",
          "grid.411279.8",
          "grid.10919.30",
          "grid.7914.b",
          "grid.412414.6",
          "grid.19477.3c",
          "grid.55325.34",
          "grid.458594.1",
          "grid.10917.3e",
          "grid.452322.0",
          "grid.5947.f"
         ],
         "lat": [
          59.934085845947266,
          59.9320182800293,
          69.68014526367188,
          60.388084411621094,
          59.92186737060547,
          59.671722412109375,
          59.94860076904297,
          63.4166259765625,
          60.399959564208984,
          69.68162536621094,
          63.4194450378418
         ],
         "legendgroup": "Norway",
         "lon": [
          10.745208740234375,
          10.993924140930176,
          18.971044540405273,
          5.322872161865234,
          10.733406066894531,
          10.766356468200684,
          10.715299606323242,
          10.403369903564453,
          5.303892135620117,
          18.987916946411133,
          10.40250015258789
         ],
         "marker": {
          "color": "#00cc96",
          "size": [
           1,
           1,
           1,
           5,
           1,
           2,
           7,
           1,
           2,
           1,
           9
          ],
          "sizemode": "area",
          "sizeref": 0.935,
          "symbol": "circle"
         },
         "mode": "markers",
         "name": "Norway",
         "showlegend": true,
         "type": "scattergeo"
        },
        {
         "customdata": [
          [
           "grid.4793.9",
           "Greece",
           "Thessaloniki"
          ],
          [
           "grid.11047.33",
           "Greece",
           "Pátrai"
          ],
          [
           "grid.22459.38",
           "Greece",
           "Athens"
          ],
          [
           "grid.5216.0",
           "Greece",
           "Athens"
          ],
          [
           "grid.4241.3",
           "Greece",
           "Athens"
          ],
          [
           "grid.424165.0",
           "Greece",
           "Athens"
          ]
         ],
         "geo": "geo",
         "hovertemplate": "<b>%{hovertext}</b><br><br>country=%{customdata[1]}<br>people=%{marker.size}<br>lat=%{lat}<br>long=%{lon}<br>gridid=%{customdata[0]}<br>city=%{customdata[2]}<extra></extra>",
         "hovertext": [
          "grid.4793.9",
          "grid.11047.33",
          "grid.22459.38",
          "grid.5216.0",
          "grid.4241.3",
          "grid.424165.0"
         ],
         "lat": [
          40.630001068115234,
          38.28666687011719,
          37.97406768798828,
          37.968265533447266,
          37.97871398925781,
          37.824310302734375
         ],
         "legendgroup": "Greece",
         "lon": [
          22.95805549621582,
          21.786388397216797,
          23.74580955505371,
          23.778343200683594,
          23.78265380859375,
          23.793842315673828
         ],
         "marker": {
          "color": "#ab63fa",
          "size": [
           1,
           1,
           1,
           1,
           1,
           1
          ],
          "sizemode": "area",
          "sizeref": 0.935,
          "symbol": "circle"
         },
         "mode": "markers",
         "name": "Greece",
         "showlegend": true,
         "type": "scattergeo"
        },
        {
         "customdata": [
          [
           "grid.6441.7",
           "Lithuania",
           "Vilnius"
          ],
          [
           "grid.45083.3a",
           "Lithuania",
           "Kaunas"
          ]
         ],
         "geo": "geo",
         "hovertemplate": "<b>%{hovertext}</b><br><br>country=%{customdata[1]}<br>people=%{marker.size}<br>lat=%{lat}<br>long=%{lon}<br>gridid=%{customdata[0]}<br>city=%{customdata[2]}<extra></extra>",
         "hovertext": [
          "grid.6441.7",
          "grid.45083.3a"
         ],
         "lat": [
          54.682498931884766,
          54.894168853759766
         ],
         "legendgroup": "Lithuania",
         "lon": [
          25.287221908569336,
          23.91638946533203
         ],
         "marker": {
          "color": "#FFA15A",
          "size": [
           1,
           2
          ],
          "sizemode": "area",
          "sizeref": 0.935,
          "symbol": "circle"
         },
         "mode": "markers",
         "name": "Lithuania",
         "showlegend": true,
         "type": "scattergeo"
        },
        {
         "customdata": [
          [
           "grid.7776.1",
           "Egypt",
           "Giza"
          ],
          [
           "grid.7269.a",
           "Egypt",
           "Cairo"
          ],
          [
           "grid.7155.6",
           "Egypt",
           "Alexandria"
          ],
          [
           "grid.420091.e",
           "Egypt",
           "Giza"
          ],
          [
           "grid.433309.e",
           "Egypt",
           "Alexandria"
          ]
         ],
         "geo": "geo",
         "hovertemplate": "<b>%{hovertext}</b><br><br>country=%{customdata[1]}<br>people=%{marker.size}<br>lat=%{lat}<br>long=%{lon}<br>gridid=%{customdata[0]}<br>city=%{customdata[2]}<extra></extra>",
         "hovertext": [
          "grid.7776.1",
          "grid.7269.a",
          "grid.7155.6",
          "grid.420091.e",
          "grid.433309.e"
         ],
         "lat": [
          30.027599334716797,
          30.07691192626953,
          31.206729888916016,
          30.093889236450195,
          31.208959579467773
         ],
         "legendgroup": "Egypt",
         "lon": [
          31.210140228271484,
          31.290681838989258,
          29.9113712310791,
          31.22333335876465,
          29.90907859802246
         ],
         "marker": {
          "color": "#19d3f3",
          "size": [
           1,
           1,
           1,
           1,
           1
          ],
          "sizemode": "area",
          "sizeref": 0.935,
          "symbol": "circle"
         },
         "mode": "markers",
         "name": "Egypt",
         "showlegend": true,
         "type": "scattergeo"
        },
        {
         "customdata": [
          [
           "grid.78028.35",
           "Russia",
           "Moscow"
          ],
          [
           "grid.35915.3b",
           "Russia",
           "Saint Petersburg"
          ],
          [
           "grid.77642.30",
           "Russia",
           "Moscow"
          ],
          [
           "grid.436529.f",
           "Russia",
           "Moscow"
          ],
          [
           "grid.18763.3b",
           "Russia",
           "Dolgoprudnyy"
          ],
          [
           "grid.18919.38",
           "Russia",
           "Moscow"
          ],
          [
           "grid.465277.5",
           "Russia",
           "Moscow"
          ],
          [
           "grid.418853.3",
           "Russia",
           "Moscow"
          ],
          [
           "grid.454320.4",
           "Russia",
           "Skolkovo"
          ],
          [
           "grid.433823.d",
           "Russia",
           "Moscow"
          ],
          [
           "grid.423490.8",
           "Russia",
           "Moscow"
          ],
          [
           "grid.77268.3c",
           "Russia",
           "Kazan’"
          ],
          [
           "grid.4886.2",
           "Russia",
           "Moscow"
          ],
          [
           "grid.15447.33",
           "Russia",
           "Saint Petersburg"
          ],
          [
           "grid.14476.30",
           "Russia",
           "Moscow"
          ]
         ],
         "geo": "geo",
         "hovertemplate": "<b>%{hovertext}</b><br><br>country=%{customdata[1]}<br>people=%{marker.size}<br>lat=%{lat}<br>long=%{lon}<br>gridid=%{customdata[0]}<br>city=%{customdata[2]}<extra></extra>",
         "hovertext": [
          "grid.78028.35",
          "grid.35915.3b",
          "grid.77642.30",
          "grid.436529.f",
          "grid.18763.3b",
          "grid.18919.38",
          "grid.465277.5",
          "grid.418853.3",
          "grid.454320.4",
          "grid.433823.d",
          "grid.423490.8",
          "grid.77268.3c",
          "grid.4886.2",
          "grid.15447.33",
          "grid.14476.30"
         ],
         "lat": [
          55.647220611572266,
          59.95640182495117,
          55.650699615478516,
          55.983333587646484,
          55.929443359375,
          55.80197525024414,
          55.8128547668457,
          55.647552490234375,
          55.68451690673828,
          55.696067810058594,
          55.7108154296875,
          55.79069900512695,
          55.710792541503906,
          59.94200134277344,
          55.70393371582031
         ],
         "legendgroup": "Russia",
         "lon": [
          37.49027633666992,
          30.309999465942383,
          37.5019416809082,
          37.20833206176758,
          37.52138900756836,
          37.47685623168945,
          37.479557037353516,
          37.51060104370117,
          37.3403434753418,
          37.56521987915039,
          37.57781219482422,
          49.12189865112305,
          37.57781219482422,
          30.298999786376953,
          37.52867126464844
         ],
         "marker": {
          "color": "#FF6692",
          "size": [
           4,
           1,
           1,
           1,
           5,
           1,
           1,
           20,
           4,
           1,
           2,
           1,
           4,
           1,
           2
          ],
          "sizemode": "area",
          "sizeref": 0.935,
          "symbol": "circle"
         },
         "mode": "markers",
         "name": "Russia",
         "showlegend": true,
         "type": "scattergeo"
        },
        {
         "customdata": [
          [
           "grid.7870.8",
           "Chile",
           "Santiago"
          ],
          [
           "grid.441837.d",
           "Chile",
           "Temuco"
          ],
          [
           "grid.10999.38",
           "Chile",
           "Talca"
          ],
          [
           "grid.443909.3",
           "Chile",
           "Santiago"
          ]
         ],
         "geo": "geo",
         "hovertemplate": "<b>%{hovertext}</b><br><br>country=%{customdata[1]}<br>people=%{marker.size}<br>lat=%{lat}<br>long=%{lon}<br>gridid=%{customdata[0]}<br>city=%{customdata[2]}<extra></extra>",
         "hovertext": [
          "grid.7870.8",
          "grid.441837.d",
          "grid.10999.38",
          "grid.443909.3"
         ],
         "lat": [
          -33.44091033935547,
          -33.426204681396484,
          -35.405399322509766,
          -33.443321228027344
         ],
         "legendgroup": "Chile",
         "lon": [
          -70.64080047607422,
          -70.61126708984375,
          -71.63310241699219,
          -70.65058135986328
         ],
         "marker": {
          "color": "#B6E880",
          "size": [
           1,
           1,
           3,
           2
          ],
          "sizemode": "area",
          "sizeref": 0.935,
          "symbol": "circle"
         },
         "mode": "markers",
         "name": "Chile",
         "showlegend": true,
         "type": "scattergeo"
        },
        {
         "customdata": [
          [
           "grid.11173.35",
           "Pakistan",
           "Lahore"
          ],
          [
           "grid.412117.0",
           "Pakistan",
           "Islamabad"
          ]
         ],
         "geo": "geo",
         "hovertemplate": "<b>%{hovertext}</b><br><br>country=%{customdata[1]}<br>people=%{marker.size}<br>lat=%{lat}<br>long=%{lon}<br>gridid=%{customdata[0]}<br>city=%{customdata[2]}<extra></extra>",
         "hovertext": [
          "grid.11173.35",
          "grid.412117.0"
         ],
         "lat": [
          31.49545669555664,
          33.64560317993164
         ],
         "legendgroup": "Pakistan",
         "lon": [
          74.29387664794922,
          72.99032592773438
         ],
         "marker": {
          "color": "#FF97FF",
          "size": [
           2,
           1
          ],
          "sizemode": "area",
          "sizeref": 0.935,
          "symbol": "circle"
         },
         "mode": "markers",
         "name": "Pakistan",
         "showlegend": true,
         "type": "scattergeo"
        },
        {
         "customdata": [
          [
           "grid.415836.d",
           "Thailand",
           "Nonthaburi"
          ],
          [
           "grid.10223.32",
           "Thailand",
           "Bangkok"
          ],
          [
           "grid.7922.e",
           "Thailand",
           "Bangkok"
          ],
          [
           "grid.413910.e",
           "Thailand",
           "Bangkok"
          ],
          [
           "grid.412434.4",
           "Thailand",
           "Bangkok"
          ]
         ],
         "geo": "geo",
         "hovertemplate": "<b>%{hovertext}</b><br><br>country=%{customdata[1]}<br>people=%{marker.size}<br>lat=%{lat}<br>long=%{lon}<br>gridid=%{customdata[0]}<br>city=%{customdata[2]}<extra></extra>",
         "hovertext": [
          "grid.415836.d",
          "grid.10223.32",
          "grid.7922.e",
          "grid.413910.e",
          "grid.412434.4"
         ],
         "lat": [
          13.731771469116211,
          13.793405532836914,
          13.738496780395508,
          13.763069152832031,
          13.755852699279785
         ],
         "legendgroup": "Thailand",
         "lon": [
          100.53617858886719,
          100.32251739501953,
          100.5308609008789,
          100.5335922241211,
          100.49087524414062
         ],
         "marker": {
          "color": "#FECB52",
          "size": [
           1,
           2,
           1,
           2,
           1
          ],
          "sizemode": "area",
          "sizeref": 0.935,
          "symbol": "circle"
         },
         "mode": "markers",
         "name": "Thailand",
         "showlegend": true,
         "type": "scattergeo"
        },
        {
         "customdata": [
          [
           "grid.8217.c",
           "Ireland",
           "Dublin"
          ],
          [
           "grid.7886.1",
           "Ireland",
           "Dublin"
          ],
          [
           "grid.412751.4",
           "Ireland",
           "Dublin"
          ],
          [
           "grid.10049.3c",
           "Ireland",
           "Limerick"
          ],
          [
           "grid.6142.1",
           "Ireland",
           "Galway"
          ],
          [
           "grid.7872.a",
           "Ireland",
           "Cork"
          ]
         ],
         "geo": "geo",
         "hovertemplate": "<b>%{hovertext}</b><br><br>country=%{customdata[1]}<br>people=%{marker.size}<br>lat=%{lat}<br>long=%{lon}<br>gridid=%{customdata[0]}<br>city=%{customdata[2]}<extra></extra>",
         "hovertext": [
          "grid.8217.c",
          "grid.7886.1",
          "grid.412751.4",
          "grid.10049.3c",
          "grid.6142.1",
          "grid.7872.a"
         ],
         "lat": [
          53.34444046020508,
          53.307212829589844,
          53.31669235229492,
          52.67399978637695,
          53.27778244018555,
          51.8914794921875
         ],
         "legendgroup": "Ireland",
         "lon": [
          -6.259191989898682,
          -6.222681999206543,
          -6.212736129760742,
          -8.571000099182129,
          -9.061860084533691,
          -8.49766731262207
         ],
         "marker": {
          "color": "#636efa",
          "size": [
           4,
           7,
           1,
           1,
           3,
           2
          ],
          "sizemode": "area",
          "sizeref": 0.935,
          "symbol": "circle"
         },
         "mode": "markers",
         "name": "Ireland",
         "showlegend": true,
         "type": "scattergeo"
        },
        {
         "customdata": [
          [
           "grid.5522.0",
           "Poland",
           "Krakow"
          ],
          [
           "grid.418855.5",
           "Poland",
           "Poznań"
          ],
          [
           "grid.510509.8",
           "Poland",
           "Wrocław"
          ],
          [
           "grid.412607.6",
           "Poland",
           "Olsztyn"
          ]
         ],
         "geo": "geo",
         "hovertemplate": "<b>%{hovertext}</b><br><br>country=%{customdata[1]}<br>people=%{marker.size}<br>lat=%{lat}<br>long=%{lon}<br>gridid=%{customdata[0]}<br>city=%{customdata[2]}<extra></extra>",
         "hovertext": [
          "grid.5522.0",
          "grid.418855.5",
          "grid.510509.8",
          "grid.412607.6"
         ],
         "lat": [
          50.06083297729492,
          52.41136169433594,
          51.13345718383789,
          53.760276794433594
         ],
         "legendgroup": "Poland",
         "lon": [
          19.932777404785156,
          16.91774559020996,
          16.929370880126953,
          20.461111068725586
         ],
         "marker": {
          "color": "#EF553B",
          "size": [
           2,
           1,
           1,
           1
          ],
          "sizemode": "area",
          "sizeref": 0.935,
          "symbol": "circle"
         },
         "mode": "markers",
         "name": "Poland",
         "showlegend": true,
         "type": "scattergeo"
        },
        {
         "customdata": [
          [
           "grid.9670.8",
           "Jordan",
           "Amman"
          ],
          [
           "grid.37553.37",
           "Jordan",
           "Irbid"
          ]
         ],
         "geo": "geo",
         "hovertemplate": "<b>%{hovertext}</b><br><br>country=%{customdata[1]}<br>people=%{marker.size}<br>lat=%{lat}<br>long=%{lon}<br>gridid=%{customdata[0]}<br>city=%{customdata[2]}<extra></extra>",
         "hovertext": [
          "grid.9670.8",
          "grid.37553.37"
         ],
         "lat": [
          32.01488494873047,
          32.49461364746094
         ],
         "legendgroup": "Jordan",
         "lon": [
          35.88007736206055,
          35.9897346496582
         ],
         "marker": {
          "color": "#00cc96",
          "size": [
           1,
           1
          ],
          "sizemode": "area",
          "sizeref": 0.935,
          "symbol": "circle"
         },
         "mode": "markers",
         "name": "Jordan",
         "showlegend": true,
         "type": "scattergeo"
        },
        {
         "customdata": [
          [
           "grid.412125.1",
           "Saudi Arabia",
           "Jeddah"
          ],
          [
           "grid.411975.f",
           "Saudi Arabia",
           "Dammam"
          ],
          [
           "grid.45672.32",
           "Saudi Arabia",
           "Jeddah"
          ]
         ],
         "geo": "geo",
         "hovertemplate": "<b>%{hovertext}</b><br><br>country=%{customdata[1]}<br>people=%{marker.size}<br>lat=%{lat}<br>long=%{lon}<br>gridid=%{customdata[0]}<br>city=%{customdata[2]}<extra></extra>",
         "hovertext": [
          "grid.412125.1",
          "grid.411975.f",
          "grid.45672.32"
         ],
         "lat": [
          21.49388885498047,
          26.392372131347656,
          22.31260108947754
         ],
         "legendgroup": "Saudi Arabia",
         "lon": [
          39.25027847290039,
          50.189430236816406,
          39.110469818115234
         ],
         "marker": {
          "color": "#ab63fa",
          "size": [
           2,
           1,
           5
          ],
          "sizemode": "area",
          "sizeref": 0.935,
          "symbol": "circle"
         },
         "mode": "markers",
         "name": "Saudi Arabia",
         "showlegend": true,
         "type": "scattergeo"
        },
        {
         "customdata": [
          [
           "grid.12984.36",
           "Zambia",
           "Lusaka"
          ]
         ],
         "geo": "geo",
         "hovertemplate": "<b>%{hovertext}</b><br><br>country=%{customdata[1]}<br>people=%{marker.size}<br>lat=%{lat}<br>long=%{lon}<br>gridid=%{customdata[0]}<br>city=%{customdata[2]}<extra></extra>",
         "hovertext": [
          "grid.12984.36"
         ],
         "lat": [
          -15.399999618530273
         ],
         "legendgroup": "Zambia",
         "lon": [
          28.333332061767578
         ],
         "marker": {
          "color": "#FFA15A",
          "size": [
           1
          ],
          "sizemode": "area",
          "sizeref": 0.935,
          "symbol": "circle"
         },
         "mode": "markers",
         "name": "Zambia",
         "showlegend": true,
         "type": "scattergeo"
        },
        {
         "customdata": [
          [
           "grid.419387.0",
           "Philippines",
           "Los Baños"
          ]
         ],
         "geo": "geo",
         "hovertemplate": "<b>%{hovertext}</b><br><br>country=%{customdata[1]}<br>people=%{marker.size}<br>lat=%{lat}<br>long=%{lon}<br>gridid=%{customdata[0]}<br>city=%{customdata[2]}<extra></extra>",
         "hovertext": [
          "grid.419387.0"
         ],
         "lat": [
          14.170000076293945
         ],
         "legendgroup": "Philippines",
         "lon": [
          121.25700378417969
         ],
         "marker": {
          "color": "#19d3f3",
          "size": [
           4
          ],
          "sizemode": "area",
          "sizeref": 0.935,
          "symbol": "circle"
         },
         "mode": "markers",
         "name": "Philippines",
         "showlegend": true,
         "type": "scattergeo"
        },
        {
         "customdata": [
          [
           "grid.10814.3c",
           "Argentina",
           "Rosario"
          ],
          [
           "grid.423606.5",
           "Argentina",
           "Buenos Aires"
          ],
          [
           "grid.507426.2",
           "Argentina",
           "Mendoza"
          ],
          [
           "grid.501777.3",
           "Argentina",
           "Rosario"
          ],
          [
           "grid.10692.3c",
           "Argentina",
           "Córdoba"
          ]
         ],
         "geo": "geo",
         "hovertemplate": "<b>%{hovertext}</b><br><br>country=%{customdata[1]}<br>people=%{marker.size}<br>lat=%{lat}<br>long=%{lon}<br>gridid=%{customdata[0]}<br>city=%{customdata[2]}<extra></extra>",
         "hovertext": [
          "grid.10814.3c",
          "grid.423606.5",
          "grid.507426.2",
          "grid.501777.3",
          "grid.10692.3c"
         ],
         "lat": [
          -32.94997787475586,
          -34.59323501586914,
          -32.89269256591797,
          -32.969852447509766,
          -31.4375
         ],
         "legendgroup": "Argentina",
         "lon": [
          -60.63606643676758,
          -58.39506912231445,
          -68.87498474121094,
          -60.62473678588867,
          -64.18777465820312
         ],
         "marker": {
          "color": "#FF6692",
          "size": [
           1,
           1,
           1,
           1,
           1
          ],
          "sizemode": "area",
          "sizeref": 0.935,
          "symbol": "circle"
         },
         "mode": "markers",
         "name": "Argentina",
         "showlegend": true,
         "type": "scattergeo"
        },
        {
         "customdata": [
          [
           "grid.418348.2",
           "Colombia",
           "Santiago de Cali"
          ],
          [
           "grid.8271.c",
           "Colombia",
           "Santiago de Cali"
          ],
          [
           "grid.7247.6",
           "Colombia",
           "Bogotá"
          ],
          [
           "grid.507743.2",
           "Colombia",
           "Chía"
          ],
          [
           "grid.412885.2",
           "Colombia",
           "Cartagena"
          ]
         ],
         "geo": "geo",
         "hovertemplate": "<b>%{hovertext}</b><br><br>country=%{customdata[1]}<br>people=%{marker.size}<br>lat=%{lat}<br>long=%{lon}<br>gridid=%{customdata[0]}<br>city=%{customdata[2]}<extra></extra>",
         "hovertext": [
          "grid.418348.2",
          "grid.8271.c",
          "grid.7247.6",
          "grid.507743.2",
          "grid.412885.2"
         ],
         "lat": [
          3.5026159286499023,
          3.3751089572906494,
          4.6016130447387695,
          4.864800930023193,
          10.402461051940918
         ],
         "legendgroup": "Colombia",
         "lon": [
          -76.35503387451172,
          -76.53353881835938,
          -74.06517028808594,
          -74.05142974853516,
          -75.50468444824219
         ],
         "marker": {
          "color": "#B6E880",
          "size": [
           3,
           1,
           2,
           1,
           1
          ],
          "sizemode": "area",
          "sizeref": 0.935,
          "symbol": "circle"
         },
         "mode": "markers",
         "name": "Colombia",
         "showlegend": true,
         "type": "scattergeo"
        },
        {
         "customdata": [
          [
           "grid.419157.f",
           "Mexico",
           "Mexico City"
          ],
          [
           "grid.416850.e",
           "Mexico",
           "Mexico City"
          ],
          [
           "grid.433436.5",
           "Mexico",
           "Texcoco"
          ],
          [
           "grid.419886.a",
           "Mexico",
           "Monterrey"
          ],
          [
           "grid.9486.3",
           "Mexico",
           "Mexico City"
          ],
          [
           "grid.418275.d",
           "Mexico",
           "Mexico City"
          ],
          [
           "grid.484045.9",
           "Mexico",
           "Tlalpan"
          ]
         ],
         "geo": "geo",
         "hovertemplate": "<b>%{hovertext}</b><br><br>country=%{customdata[1]}<br>people=%{marker.size}<br>lat=%{lat}<br>long=%{lon}<br>gridid=%{customdata[0]}<br>city=%{customdata[2]}<extra></extra>",
         "hovertext": [
          "grid.419157.f",
          "grid.416850.e",
          "grid.433436.5",
          "grid.419886.a",
          "grid.9486.3",
          "grid.418275.d",
          "grid.484045.9"
         ],
         "lat": [
          19.423545837402344,
          19.287931442260742,
          19.531829833984375,
          25.651840209960938,
          19.322816848754883,
          19.501558303833008,
          19.301315307617188
         ],
         "legendgroup": "Mexico",
         "lon": [
          -99.17326354980469,
          -99.15633392333984,
          -98.84613037109375,
          -100.2895278930664,
          -99.18663024902344,
          -99.1376724243164,
          -99.1864013671875
         ],
         "marker": {
          "color": "#FF97FF",
          "size": [
           1,
           2,
           2,
           1,
           13,
           1,
           4
          ],
          "sizemode": "area",
          "sizeref": 0.935,
          "symbol": "circle"
         },
         "mode": "markers",
         "name": "Mexico",
         "showlegend": true,
         "type": "scattergeo"
        },
        {
         "customdata": [
          [
           "grid.454324.0",
           "Slovenia",
           "Ljubljana"
          ],
          [
           "grid.8954.0",
           "Slovenia",
           "Ljubljana"
          ],
          [
           "grid.412740.4",
           "Slovenia",
           "Koper"
          ]
         ],
         "geo": "geo",
         "hovertemplate": "<b>%{hovertext}</b><br><br>country=%{customdata[1]}<br>people=%{marker.size}<br>lat=%{lat}<br>long=%{lon}<br>gridid=%{customdata[0]}<br>city=%{customdata[2]}<extra></extra>",
         "hovertext": [
          "grid.454324.0",
          "grid.8954.0",
          "grid.412740.4"
         ],
         "lat": [
          46.04293441772461,
          46.04926681518555,
          45.54792404174805
         ],
         "legendgroup": "Slovenia",
         "lon": [
          14.493017196655273,
          14.505099296569824,
          13.729503631591797
         ],
         "marker": {
          "color": "#FECB52",
          "size": [
           11,
           1,
           1
          ],
          "sizemode": "area",
          "sizeref": 0.935,
          "symbol": "circle"
         },
         "mode": "markers",
         "name": "Slovenia",
         "showlegend": true,
         "type": "scattergeo"
        },
        {
         "customdata": [
          [
           "grid.7256.6",
           "Turkey",
           "Ankara"
          ],
          [
           "grid.493104.b",
           "Turkey",
           "Konya"
          ],
          [
           "grid.18376.3b",
           "Turkey",
           "Ankara"
          ],
          [
           "grid.411761.4",
           "Turkey",
           "Burdur"
          ],
          [
           "grid.411742.5",
           "Turkey",
           "Denizli"
          ],
          [
           "grid.10359.3e",
           "Turkey",
           "Istanbul"
          ],
          [
           "grid.15876.3d",
           "Turkey",
           "Istanbul"
          ],
          [
           "grid.448834.7",
           "Turkey",
           "Gebze"
          ]
         ],
         "geo": "geo",
         "hovertemplate": "<b>%{hovertext}</b><br><br>country=%{customdata[1]}<br>people=%{marker.size}<br>lat=%{lat}<br>long=%{lon}<br>gridid=%{customdata[0]}<br>city=%{customdata[2]}<extra></extra>",
         "hovertext": [
          "grid.7256.6",
          "grid.493104.b",
          "grid.18376.3b",
          "grid.411761.4",
          "grid.411742.5",
          "grid.10359.3e",
          "grid.15876.3d",
          "grid.448834.7"
         ],
         "lat": [
          39.93669891357422,
          37.87683868408203,
          39.86800003051758,
          37.714359283447266,
          37.73978805541992,
          41.04166793823242,
          41.20560836791992,
          40.80915069580078
         ],
         "legendgroup": "Turkey",
         "lon": [
          32.830299377441406,
          32.4749641418457,
          32.74869918823242,
          30.271629333496094,
          29.101539611816406,
          29.009443283081055,
          29.072647094726562,
          29.36539077758789
         ],
         "marker": {
          "color": "#636efa",
          "size": [
           2,
           1,
           2,
           1,
           1,
           1,
           1,
           1
          ],
          "sizemode": "area",
          "sizeref": 0.935,
          "symbol": "circle"
         },
         "mode": "markers",
         "name": "Turkey",
         "showlegend": true,
         "type": "scattergeo"
        },
        {
         "customdata": [
          [
           "grid.430529.9",
           "Trinidad and Tobago",
           "Saint Augustine"
          ]
         ],
         "geo": "geo",
         "hovertemplate": "<b>%{hovertext}</b><br><br>country=%{customdata[1]}<br>people=%{marker.size}<br>lat=%{lat}<br>long=%{lon}<br>gridid=%{customdata[0]}<br>city=%{customdata[2]}<extra></extra>",
         "hovertext": [
          "grid.430529.9"
         ],
         "lat": [
          10.642119407653809
         ],
         "legendgroup": "Trinidad and Tobago",
         "lon": [
          -61.400123596191406
         ],
         "marker": {
          "color": "#EF553B",
          "size": [
           3
          ],
          "sizemode": "area",
          "sizeref": 0.935,
          "symbol": "circle"
         },
         "mode": "markers",
         "name": "Trinidad and Tobago",
         "showlegend": true,
         "type": "scattergeo"
        },
        {
         "customdata": [
          [
           "grid.14013.37",
           "Iceland",
           "Reykjavik"
          ],
          [
           "grid.410540.4",
           "Iceland",
           "Reykjavik"
          ],
          [
           "grid.421812.c",
           "Iceland",
           "Reykjavik"
          ]
         ],
         "geo": "geo",
         "hovertemplate": "<b>%{hovertext}</b><br><br>country=%{customdata[1]}<br>people=%{marker.size}<br>lat=%{lat}<br>long=%{lon}<br>gridid=%{customdata[0]}<br>city=%{customdata[2]}<extra></extra>",
         "hovertext": [
          "grid.14013.37",
          "grid.410540.4",
          "grid.421812.c"
         ],
         "lat": [
          64.13976287841797,
          64.13833618164062,
          64.13567352294922
         ],
         "legendgroup": "Iceland",
         "lon": [
          -21.95191192626953,
          -21.927221298217773,
          -21.94615936279297
         ],
         "marker": {
          "color": "#00cc96",
          "size": [
           5,
           1,
           2
          ],
          "sizemode": "area",
          "sizeref": 0.935,
          "symbol": "circle"
         },
         "mode": "markers",
         "name": "Iceland",
         "showlegend": true,
         "type": "scattergeo"
        },
        {
         "customdata": [
          [
           "grid.9983.b",
           "Portugal",
           "Lisbon"
          ],
          [
           "grid.5808.5",
           "Portugal",
           "Porto"
          ],
          [
           "grid.437803.b",
           "Portugal",
           "Braga"
          ],
          [
           "grid.420943.8",
           "Portugal",
           "Lisbon"
          ],
          [
           "grid.45349.3f",
           "Portugal",
           "Lisbon"
          ],
          [
           "grid.10772.33",
           "Portugal",
           "Lisbon"
          ]
         ],
         "geo": "geo",
         "hovertemplate": "<b>%{hovertext}</b><br><br>country=%{customdata[1]}<br>people=%{marker.size}<br>lat=%{lat}<br>long=%{lon}<br>gridid=%{customdata[0]}<br>city=%{customdata[2]}<extra></extra>",
         "hovertext": [
          "grid.9983.b",
          "grid.5808.5",
          "grid.437803.b",
          "grid.420943.8",
          "grid.45349.3f",
          "grid.10772.33"
         ],
         "lat": [
          38.75322723388672,
          41.14646530151367,
          41.55186462402344,
          38.6953239440918,
          38.74810028076172,
          38.733699798583984
         ],
         "legendgroup": "Portugal",
         "lon": [
          -9.156779289245605,
          -8.615785598754883,
          -8.388213157653809,
          -9.31850528717041,
          -9.153464317321777,
          -9.160246849060059
         ],
         "marker": {
          "color": "#ab63fa",
          "size": [
           3,
           3,
           2,
           1,
           1,
           2
          ],
          "sizemode": "area",
          "sizeref": 0.935,
          "symbol": "circle"
         },
         "mode": "markers",
         "name": "Portugal",
         "showlegend": true,
         "type": "scattergeo"
        },
        {
         "customdata": [
          [
           "grid.418511.8",
           "Madagascar",
           "Antananarivo"
          ]
         ],
         "geo": "geo",
         "hovertemplate": "<b>%{hovertext}</b><br><br>country=%{customdata[1]}<br>people=%{marker.size}<br>lat=%{lat}<br>long=%{lon}<br>gridid=%{customdata[0]}<br>city=%{customdata[2]}<extra></extra>",
         "hovertext": [
          "grid.418511.8"
         ],
         "lat": [
          -18.90260887145996
         ],
         "legendgroup": "Madagascar",
         "lon": [
          47.546268463134766
         ],
         "marker": {
          "color": "#FFA15A",
          "size": [
           1
          ],
          "sizemode": "area",
          "sizeref": 0.935,
          "symbol": "circle"
         },
         "mode": "markers",
         "name": "Madagascar",
         "showlegend": true,
         "type": "scattergeo"
        },
        {
         "customdata": [
          [
           "grid.419228.4",
           "Peru",
           "Lima"
          ],
          [
           "grid.435311.1",
           "Peru",
           "Lima"
          ]
         ],
         "geo": "geo",
         "hovertemplate": "<b>%{hovertext}</b><br><br>country=%{customdata[1]}<br>people=%{marker.size}<br>lat=%{lat}<br>long=%{lon}<br>gridid=%{customdata[0]}<br>city=%{customdata[2]}<extra></extra>",
         "hovertext": [
          "grid.419228.4",
          "grid.435311.1"
         ],
         "lat": [
          -12.182029724121094,
          -12.076963424682617
         ],
         "legendgroup": "Peru",
         "lon": [
          -77.01680755615234,
          -76.9466781616211
         ],
         "marker": {
          "color": "#19d3f3",
          "size": [
           1,
           1
          ],
          "sizemode": "area",
          "sizeref": 0.935,
          "symbol": "circle"
         },
         "mode": "markers",
         "name": "Peru",
         "showlegend": true,
         "type": "scattergeo"
        },
        {
         "customdata": [
          [
           "grid.411059.8",
           "Cuba",
           "Santa Clara"
          ]
         ],
         "geo": "geo",
         "hovertemplate": "<b>%{hovertext}</b><br><br>country=%{customdata[1]}<br>people=%{marker.size}<br>lat=%{lat}<br>long=%{lon}<br>gridid=%{customdata[0]}<br>city=%{customdata[2]}<extra></extra>",
         "hovertext": [
          "grid.411059.8"
         ],
         "lat": [
          22.436784744262695
         ],
         "legendgroup": "Cuba",
         "lon": [
          -79.90071105957031
         ],
         "marker": {
          "color": "#FF6692",
          "size": [
           1
          ],
          "sizemode": "area",
          "sizeref": 0.935,
          "symbol": "circle"
         },
         "mode": "markers",
         "name": "Cuba",
         "showlegend": true,
         "type": "scattergeo"
        },
        {
         "customdata": [
          [
           "grid.419012.f",
           "Hungary",
           "Budapest"
          ],
          [
           "grid.425397.e",
           "Hungary",
           "Budapest"
          ],
          [
           "grid.5018.c",
           "Hungary",
           "Budapest"
          ],
          [
           "grid.11804.3c",
           "Hungary",
           "Budapest"
          ],
          [
           "grid.5146.6",
           "Hungary",
           "Budapest"
          ],
          [
           "grid.425416.0",
           "Hungary",
           "Martonvásár"
          ]
         ],
         "geo": "geo",
         "hovertemplate": "<b>%{hovertext}</b><br><br>country=%{customdata[1]}<br>people=%{marker.size}<br>lat=%{lat}<br>long=%{lon}<br>gridid=%{customdata[0]}<br>city=%{customdata[2]}<extra></extra>",
         "hovertext": [
          "grid.419012.f",
          "grid.425397.e",
          "grid.5018.c",
          "grid.11804.3c",
          "grid.5146.6",
          "grid.425416.0"
         ],
         "lat": [
          47.48322296142578,
          47.491615295410156,
          47.50107955932617,
          47.487220764160156,
          47.50034713745117,
          47.31473159790039
         ],
         "legendgroup": "Hungary",
         "lon": [
          19.07952308654785,
          19.065799713134766,
          19.046499252319336,
          19.067222595214844,
          19.05178451538086,
          18.782501220703125
         ],
         "marker": {
          "color": "#B6E880",
          "size": [
           2,
           1,
           1,
           1,
           1,
           1
          ],
          "sizemode": "area",
          "sizeref": 0.935,
          "symbol": "circle"
         },
         "mode": "markers",
         "name": "Hungary",
         "showlegend": true,
         "type": "scattergeo"
        },
        {
         "customdata": [
          [
           "grid.80817.36",
           "Nepal",
           "Kathmandu"
          ]
         ],
         "geo": "geo",
         "hovertemplate": "<b>%{hovertext}</b><br><br>country=%{customdata[1]}<br>people=%{marker.size}<br>lat=%{lat}<br>long=%{lon}<br>gridid=%{customdata[0]}<br>city=%{customdata[2]}<extra></extra>",
         "hovertext": [
          "grid.80817.36"
         ],
         "lat": [
          27.681840896606445
         ],
         "legendgroup": "Nepal",
         "lon": [
          85.28646087646484
         ],
         "marker": {
          "color": "#FF97FF",
          "size": [
           1
          ],
          "sizemode": "area",
          "sizeref": 0.935,
          "symbol": "circle"
         },
         "mode": "markers",
         "name": "Nepal",
         "showlegend": true,
         "type": "scattergeo"
        },
        {
         "customdata": [
          [
           "grid.16697.3f",
           "Estonia",
           "Tartu"
          ],
          [
           "grid.10939.32",
           "Estonia",
           "Tartu"
          ]
         ],
         "geo": "geo",
         "hovertemplate": "<b>%{hovertext}</b><br><br>country=%{customdata[1]}<br>people=%{marker.size}<br>lat=%{lat}<br>long=%{lon}<br>gridid=%{customdata[0]}<br>city=%{customdata[2]}<extra></extra>",
         "hovertext": [
          "grid.16697.3f",
          "grid.10939.32"
         ],
         "lat": [
          58.388057708740234,
          58.38111114501953
         ],
         "legendgroup": "Estonia",
         "lon": [
          26.697221755981445,
          26.720277786254883
         ],
         "marker": {
          "color": "#FECB52",
          "size": [
           1,
           1
          ],
          "sizemode": "area",
          "sizeref": 0.935,
          "symbol": "circle"
         },
         "mode": "markers",
         "name": "Estonia",
         "showlegend": true,
         "type": "scattergeo"
        },
        {
         "customdata": [
          [
           "grid.502995.2",
           "Croatia",
           "Koprivnica"
          ],
          [
           "grid.22939.33",
           "Croatia",
           "Rijeka"
          ],
          [
           "grid.4808.4",
           "Croatia",
           "Zagreb"
          ]
         ],
         "geo": "geo",
         "hovertemplate": "<b>%{hovertext}</b><br><br>country=%{customdata[1]}<br>people=%{marker.size}<br>lat=%{lat}<br>long=%{lon}<br>gridid=%{customdata[0]}<br>city=%{customdata[2]}<extra></extra>",
         "hovertext": [
          "grid.502995.2",
          "grid.22939.33",
          "grid.4808.4"
         ],
         "lat": [
          46.174232482910156,
          45.32933807373047,
          45.810672760009766
         ],
         "legendgroup": "Croatia",
         "lon": [
          16.842416763305664,
          14.44323444366455,
          15.970096588134766
         ],
         "marker": {
          "color": "#636efa",
          "size": [
           1,
           1,
           2
          ],
          "sizemode": "area",
          "sizeref": 0.935,
          "symbol": "circle"
         },
         "mode": "markers",
         "name": "Croatia",
         "showlegend": true,
         "type": "scattergeo"
        },
        {
         "customdata": [
          [
           "grid.488675.0",
           "South Africa",
           "Durban"
          ],
          [
           "grid.11956.3a",
           "South Africa",
           "Stellenbosch"
          ],
          [
           "grid.7836.a",
           "South Africa",
           "Rondebosch"
          ],
          [
           "grid.412988.e",
           "South Africa",
           "Johannesburg"
          ],
          [
           "grid.477958.0",
           "South Africa",
           "Cape Town"
          ]
         ],
         "geo": "geo",
         "hovertemplate": "<b>%{hovertext}</b><br><br>country=%{customdata[1]}<br>people=%{marker.size}<br>lat=%{lat}<br>long=%{lon}<br>gridid=%{customdata[0]}<br>city=%{customdata[2]}<extra></extra>",
         "hovertext": [
          "grid.488675.0",
          "grid.11956.3a",
          "grid.7836.a",
          "grid.412988.e",
          "grid.477958.0"
         ],
         "lat": [
          -29.8822078704834,
          -33.933162689208984,
          -33.95750045776367,
          -26.18943214416504,
          -33.957828521728516
         ],
         "legendgroup": "South Africa",
         "lon": [
          30.987539291381836,
          18.862043380737305,
          18.460556030273438,
          28.01374626159668,
          18.462142944335938
         ],
         "marker": {
          "color": "#EF553B",
          "size": [
           1,
           2,
           4,
           1,
           1
          ],
          "sizemode": "area",
          "sizeref": 0.935,
          "symbol": "circle"
         },
         "mode": "markers",
         "name": "South Africa",
         "showlegend": true,
         "type": "scattergeo"
        },
        {
         "customdata": [
          [
           "grid.418333.e",
           "Romania",
           "Bucharest"
          ]
         ],
         "geo": "geo",
         "hovertemplate": "<b>%{hovertext}</b><br><br>country=%{customdata[1]}<br>people=%{marker.size}<br>lat=%{lat}<br>long=%{lon}<br>gridid=%{customdata[0]}<br>city=%{customdata[2]}<extra></extra>",
         "hovertext": [
          "grid.418333.e"
         ],
         "lat": [
          44.44584274291992
         ],
         "legendgroup": "Romania",
         "lon": [
          26.0898380279541
         ],
         "marker": {
          "color": "#00cc96",
          "size": [
           1
          ],
          "sizemode": "area",
          "sizeref": 0.935,
          "symbol": "circle"
         },
         "mode": "markers",
         "name": "Romania",
         "showlegend": true,
         "type": "scattergeo"
        },
        {
         "customdata": [
          [
           "grid.10984.34",
           "Panama",
           "Panama City"
          ],
          [
           "grid.441509.d",
           "Panama",
           "Panama City"
          ],
          [
           "grid.452535.0",
           "Panama",
           "Panama City"
          ]
         ],
         "geo": "geo",
         "hovertemplate": "<b>%{hovertext}</b><br><br>country=%{customdata[1]}<br>people=%{marker.size}<br>lat=%{lat}<br>long=%{lon}<br>gridid=%{customdata[0]}<br>city=%{customdata[2]}<extra></extra>",
         "hovertext": [
          "grid.10984.34",
          "grid.441509.d",
          "grid.452535.0"
         ],
         "lat": [
          8.983888626098633,
          9.024221420288086,
          9.003291130065918
         ],
         "legendgroup": "Panama",
         "lon": [
          -79.53333282470703,
          -79.53162384033203,
          -79.58493041992188
         ],
         "marker": {
          "color": "#ab63fa",
          "size": [
           1,
           1,
           2
          ],
          "sizemode": "area",
          "sizeref": 0.935,
          "symbol": "circle"
         },
         "mode": "markers",
         "name": "Panama",
         "showlegend": true,
         "type": "scattergeo"
        },
        {
         "customdata": [
          [
           "grid.43519.3a",
           "United Arab Emirates",
           "Al Ain"
          ],
          [
           "grid.412789.1",
           "United Arab Emirates",
           "Sharjah city"
          ]
         ],
         "geo": "geo",
         "hovertemplate": "<b>%{hovertext}</b><br><br>country=%{customdata[1]}<br>people=%{marker.size}<br>lat=%{lat}<br>long=%{lon}<br>gridid=%{customdata[0]}<br>city=%{customdata[2]}<extra></extra>",
         "hovertext": [
          "grid.43519.3a",
          "grid.412789.1"
         ],
         "lat": [
          24.19894790649414,
          25.287500381469727
         ],
         "legendgroup": "United Arab Emirates",
         "lon": [
          55.67885208129883,
          55.47694396972656
         ],
         "marker": {
          "color": "#FFA15A",
          "size": [
           1,
           1
          ],
          "sizemode": "area",
          "sizeref": 0.935,
          "symbol": "circle"
         },
         "mode": "markers",
         "name": "United Arab Emirates",
         "showlegend": true,
         "type": "scattergeo"
        },
        {
         "customdata": [
          [
           "grid.10733.36",
           "Niger",
           "Niamey"
          ]
         ],
         "geo": "geo",
         "hovertemplate": "<b>%{hovertext}</b><br><br>country=%{customdata[1]}<br>people=%{marker.size}<br>lat=%{lat}<br>long=%{lon}<br>gridid=%{customdata[0]}<br>city=%{customdata[2]}<extra></extra>",
         "hovertext": [
          "grid.10733.36"
         ],
         "lat": [
          13.501388549804688
         ],
         "legendgroup": "Niger",
         "lon": [
          2.0986111164093018
         ],
         "marker": {
          "color": "#19d3f3",
          "size": [
           1
          ],
          "sizemode": "area",
          "sizeref": 0.935,
          "symbol": "circle"
         },
         "mode": "markers",
         "name": "Niger",
         "showlegend": true,
         "type": "scattergeo"
        },
        {
         "customdata": [
          [
           "grid.14416.36",
           "Senegal",
           "Dakar"
          ]
         ],
         "geo": "geo",
         "hovertemplate": "<b>%{hovertext}</b><br><br>country=%{customdata[1]}<br>people=%{marker.size}<br>lat=%{lat}<br>long=%{lon}<br>gridid=%{customdata[0]}<br>city=%{customdata[2]}<extra></extra>",
         "hovertext": [
          "grid.14416.36"
         ],
         "lat": [
          14.70140552520752
         ],
         "legendgroup": "Senegal",
         "lon": [
          -17.426076889038086
         ],
         "marker": {
          "color": "#FF6692",
          "size": [
           2
          ],
          "sizemode": "area",
          "sizeref": 0.935,
          "symbol": "circle"
         },
         "mode": "markers",
         "name": "Senegal",
         "showlegend": true,
         "type": "scattergeo"
        },
        {
         "customdata": [
          [
           "grid.482620.a",
           "Ukraine",
           "Kharkiv"
          ],
          [
           "grid.445562.4",
           "Ukraine",
           "Kharkiv"
          ]
         ],
         "geo": "geo",
         "hovertemplate": "<b>%{hovertext}</b><br><br>country=%{customdata[1]}<br>people=%{marker.size}<br>lat=%{lat}<br>long=%{lon}<br>gridid=%{customdata[0]}<br>city=%{customdata[2]}<extra></extra>",
         "hovertext": [
          "grid.482620.a",
          "grid.445562.4"
         ],
         "lat": [
          50.000858306884766,
          49.992958068847656
         ],
         "legendgroup": "Ukraine",
         "lon": [
          36.16608810424805,
          36.24107360839844
         ],
         "marker": {
          "color": "#B6E880",
          "size": [
           1,
           1
          ],
          "sizemode": "area",
          "sizeref": 0.935,
          "symbol": "circle"
         },
         "mode": "markers",
         "name": "Ukraine",
         "showlegend": true,
         "type": "scattergeo"
        },
        {
         "customdata": [
          [
           "grid.466620.0",
           "Bangladesh",
           "Dhaka"
          ]
         ],
         "geo": "geo",
         "hovertemplate": "<b>%{hovertext}</b><br><br>country=%{customdata[1]}<br>people=%{marker.size}<br>lat=%{lat}<br>long=%{lon}<br>gridid=%{customdata[0]}<br>city=%{customdata[2]}<extra></extra>",
         "hovertext": [
          "grid.466620.0"
         ],
         "lat": [
          23.77308464050293
         ],
         "legendgroup": "Bangladesh",
         "lon": [
          90.36886596679688
         ],
         "marker": {
          "color": "#FF97FF",
          "size": [
           1
          ],
          "sizemode": "area",
          "sizeref": 0.935,
          "symbol": "circle"
         },
         "mode": "markers",
         "name": "Bangladesh",
         "showlegend": true,
         "type": "scattergeo"
        },
        {
         "customdata": [
          [
           "grid.418744.a",
           "Iran",
           "Tehran"
          ],
          [
           "grid.419336.a",
           "Iran",
           "Tehran"
          ]
         ],
         "geo": "geo",
         "hovertemplate": "<b>%{hovertext}</b><br><br>country=%{customdata[1]}<br>people=%{marker.size}<br>lat=%{lat}<br>long=%{lon}<br>gridid=%{customdata[0]}<br>city=%{customdata[2]}<extra></extra>",
         "hovertext": [
          "grid.418744.a",
          "grid.419336.a"
         ],
         "lat": [
          35.810001373291016,
          35.7557373046875
         ],
         "legendgroup": "Iran",
         "lon": [
          51.470001220703125,
          51.46813201904297
         ],
         "marker": {
          "color": "#FECB52",
          "size": [
           1,
           1
          ],
          "sizemode": "area",
          "sizeref": 0.935,
          "symbol": "circle"
         },
         "mode": "markers",
         "name": "Iran",
         "showlegend": true,
         "type": "scattergeo"
        },
        {
         "customdata": [
          [
           "grid.451012.3",
           "Luxembourg",
           "Strassen"
          ],
          [
           "grid.16008.3f",
           "Luxembourg",
           "Luxembourg"
          ]
         ],
         "geo": "geo",
         "hovertemplate": "<b>%{hovertext}</b><br><br>country=%{customdata[1]}<br>people=%{marker.size}<br>lat=%{lat}<br>long=%{lon}<br>gridid=%{customdata[0]}<br>city=%{customdata[2]}<extra></extra>",
         "hovertext": [
          "grid.451012.3",
          "grid.16008.3f"
         ],
         "lat": [
          49.61996078491211,
          49.66017532348633
         ],
         "legendgroup": "Luxembourg",
         "lon": [
          6.095944881439209,
          6.134008884429932
         ],
         "marker": {
          "color": "#636efa",
          "size": [
           1,
           12
          ],
          "sizemode": "area",
          "sizeref": 0.935,
          "symbol": "circle"
         },
         "mode": "markers",
         "name": "Luxembourg",
         "showlegend": true,
         "type": "scattergeo"
        },
        {
         "customdata": [
          [
           "grid.251700.1",
           "Morocco",
           "Tétouan"
          ],
          [
           "grid.418539.2",
           "Morocco",
           "Casablanca"
          ]
         ],
         "geo": "geo",
         "hovertemplate": "<b>%{hovertext}</b><br><br>country=%{customdata[1]}<br>people=%{marker.size}<br>lat=%{lat}<br>long=%{lon}<br>gridid=%{customdata[0]}<br>city=%{customdata[2]}<extra></extra>",
         "hovertext": [
          "grid.251700.1",
          "grid.418539.2"
         ],
         "lat": [
          35.5620002746582,
          33.57381057739258
         ],
         "legendgroup": "Morocco",
         "lon": [
          -5.36299991607666,
          -7.624452114105225
         ],
         "marker": {
          "color": "#EF553B",
          "size": [
           2,
           1
          ],
          "sizemode": "area",
          "sizeref": 0.935,
          "symbol": "circle"
         },
         "mode": "markers",
         "name": "Morocco",
         "showlegend": true,
         "type": "scattergeo"
        },
        {
         "customdata": [
          [
           "grid.463387.d",
           "Uganda",
           "Kampala"
          ]
         ],
         "geo": "geo",
         "hovertemplate": "<b>%{hovertext}</b><br><br>country=%{customdata[1]}<br>people=%{marker.size}<br>lat=%{lat}<br>long=%{lon}<br>gridid=%{customdata[0]}<br>city=%{customdata[2]}<extra></extra>",
         "hovertext": [
          "grid.463387.d"
         ],
         "lat": [
          0.05892900004982948
         ],
         "legendgroup": "Uganda",
         "lon": [
          32.4780387878418
         ],
         "marker": {
          "color": "#00cc96",
          "size": [
           2
          ],
          "sizemode": "area",
          "sizeref": 0.935,
          "symbol": "circle"
         },
         "mode": "markers",
         "name": "Uganda",
         "showlegend": true,
         "type": "scattergeo"
        },
        {
         "customdata": [
          [
           "grid.417705.0",
           "Cyprus",
           "Nicosia"
          ]
         ],
         "geo": "geo",
         "hovertemplate": "<b>%{hovertext}</b><br><br>country=%{customdata[1]}<br>people=%{marker.size}<br>lat=%{lat}<br>long=%{lon}<br>gridid=%{customdata[0]}<br>city=%{customdata[2]}<extra></extra>",
         "hovertext": [
          "grid.417705.0"
         ],
         "lat": [
          35.16832733154297
         ],
         "legendgroup": "Cyprus",
         "lon": [
          33.314414978027344
         ],
         "marker": {
          "color": "#ab63fa",
          "size": [
           2
          ],
          "sizemode": "area",
          "sizeref": 0.935,
          "symbol": "circle"
         },
         "mode": "markers",
         "name": "Cyprus",
         "showlegend": true,
         "type": "scattergeo"
        },
        {
         "customdata": [
          [
           "grid.412433.3",
           "Vietnam",
           "Ho Chi Minh City"
          ]
         ],
         "geo": "geo",
         "hovertemplate": "<b>%{hovertext}</b><br><br>country=%{customdata[1]}<br>people=%{marker.size}<br>lat=%{lat}<br>long=%{lon}<br>gridid=%{customdata[0]}<br>city=%{customdata[2]}<extra></extra>",
         "hovertext": [
          "grid.412433.3"
         ],
         "lat": [
          10.75251579284668
         ],
         "legendgroup": "Vietnam",
         "lon": [
          106.67835998535156
         ],
         "marker": {
          "color": "#FFA15A",
          "size": [
           1
          ],
          "sizemode": "area",
          "sizeref": 0.935,
          "symbol": "circle"
         },
         "mode": "markers",
         "name": "Vietnam",
         "showlegend": true,
         "type": "scattergeo"
        },
        {
         "customdata": [
          [
           "grid.7149.b",
           "Serbia",
           "Belgrade"
          ]
         ],
         "geo": "geo",
         "hovertemplate": "<b>%{hovertext}</b><br><br>country=%{customdata[1]}<br>people=%{marker.size}<br>lat=%{lat}<br>long=%{lon}<br>gridid=%{customdata[0]}<br>city=%{customdata[2]}<extra></extra>",
         "hovertext": [
          "grid.7149.b"
         ],
         "lat": [
          44.81843948364258
         ],
         "legendgroup": "Serbia",
         "lon": [
          20.457422256469727
         ],
         "marker": {
          "color": "#19d3f3",
          "size": [
           1
          ],
          "sizemode": "area",
          "sizeref": 0.935,
          "symbol": "circle"
         },
         "mode": "markers",
         "name": "Serbia",
         "showlegend": true,
         "type": "scattergeo"
        },
        {
         "customdata": [
          [
           "grid.10601.36",
           "Honduras",
           "Tegucigalpa"
          ]
         ],
         "geo": "geo",
         "hovertemplate": "<b>%{hovertext}</b><br><br>country=%{customdata[1]}<br>people=%{marker.size}<br>lat=%{lat}<br>long=%{lon}<br>gridid=%{customdata[0]}<br>city=%{customdata[2]}<extra></extra>",
         "hovertext": [
          "grid.10601.36"
         ],
         "lat": [
          14.085660934448242
         ],
         "legendgroup": "Honduras",
         "lon": [
          -87.16597747802734
         ],
         "marker": {
          "color": "#FF6692",
          "size": [
           3
          ],
          "sizemode": "area",
          "sizeref": 0.935,
          "symbol": "circle"
         },
         "mode": "markers",
         "name": "Honduras",
         "showlegend": true,
         "type": "scattergeo"
        }
       ],
       "layout": {
        "geo": {
         "center": {},
         "domain": {
          "x": [
           0,
           1
          ],
          "y": [
           0,
           1
          ]
         },
         "projection": {
          "type": "natural earth"
         }
        },
        "legend": {
         "itemsizing": "constant",
         "title": {
          "text": "country"
         },
         "tracegroupgap": 0
        },
        "margin": {
         "t": 60
        },
        "template": {
         "data": {
          "bar": [
           {
            "error_x": {
             "color": "#2a3f5f"
            },
            "error_y": {
             "color": "#2a3f5f"
            },
            "marker": {
             "line": {
              "color": "#E5ECF6",
              "width": 0.5
             }
            },
            "type": "bar"
           }
          ],
          "barpolar": [
           {
            "marker": {
             "line": {
              "color": "#E5ECF6",
              "width": 0.5
             }
            },
            "type": "barpolar"
           }
          ],
          "carpet": [
           {
            "aaxis": {
             "endlinecolor": "#2a3f5f",
             "gridcolor": "white",
             "linecolor": "white",
             "minorgridcolor": "white",
             "startlinecolor": "#2a3f5f"
            },
            "baxis": {
             "endlinecolor": "#2a3f5f",
             "gridcolor": "white",
             "linecolor": "white",
             "minorgridcolor": "white",
             "startlinecolor": "#2a3f5f"
            },
            "type": "carpet"
           }
          ],
          "choropleth": [
           {
            "colorbar": {
             "outlinewidth": 0,
             "ticks": ""
            },
            "type": "choropleth"
           }
          ],
          "contour": [
           {
            "colorbar": {
             "outlinewidth": 0,
             "ticks": ""
            },
            "colorscale": [
             [
              0,
              "#0d0887"
             ],
             [
              0.1111111111111111,
              "#46039f"
             ],
             [
              0.2222222222222222,
              "#7201a8"
             ],
             [
              0.3333333333333333,
              "#9c179e"
             ],
             [
              0.4444444444444444,
              "#bd3786"
             ],
             [
              0.5555555555555556,
              "#d8576b"
             ],
             [
              0.6666666666666666,
              "#ed7953"
             ],
             [
              0.7777777777777778,
              "#fb9f3a"
             ],
             [
              0.8888888888888888,
              "#fdca26"
             ],
             [
              1,
              "#f0f921"
             ]
            ],
            "type": "contour"
           }
          ],
          "contourcarpet": [
           {
            "colorbar": {
             "outlinewidth": 0,
             "ticks": ""
            },
            "type": "contourcarpet"
           }
          ],
          "heatmap": [
           {
            "colorbar": {
             "outlinewidth": 0,
             "ticks": ""
            },
            "colorscale": [
             [
              0,
              "#0d0887"
             ],
             [
              0.1111111111111111,
              "#46039f"
             ],
             [
              0.2222222222222222,
              "#7201a8"
             ],
             [
              0.3333333333333333,
              "#9c179e"
             ],
             [
              0.4444444444444444,
              "#bd3786"
             ],
             [
              0.5555555555555556,
              "#d8576b"
             ],
             [
              0.6666666666666666,
              "#ed7953"
             ],
             [
              0.7777777777777778,
              "#fb9f3a"
             ],
             [
              0.8888888888888888,
              "#fdca26"
             ],
             [
              1,
              "#f0f921"
             ]
            ],
            "type": "heatmap"
           }
          ],
          "heatmapgl": [
           {
            "colorbar": {
             "outlinewidth": 0,
             "ticks": ""
            },
            "colorscale": [
             [
              0,
              "#0d0887"
             ],
             [
              0.1111111111111111,
              "#46039f"
             ],
             [
              0.2222222222222222,
              "#7201a8"
             ],
             [
              0.3333333333333333,
              "#9c179e"
             ],
             [
              0.4444444444444444,
              "#bd3786"
             ],
             [
              0.5555555555555556,
              "#d8576b"
             ],
             [
              0.6666666666666666,
              "#ed7953"
             ],
             [
              0.7777777777777778,
              "#fb9f3a"
             ],
             [
              0.8888888888888888,
              "#fdca26"
             ],
             [
              1,
              "#f0f921"
             ]
            ],
            "type": "heatmapgl"
           }
          ],
          "histogram": [
           {
            "marker": {
             "colorbar": {
              "outlinewidth": 0,
              "ticks": ""
             }
            },
            "type": "histogram"
           }
          ],
          "histogram2d": [
           {
            "colorbar": {
             "outlinewidth": 0,
             "ticks": ""
            },
            "colorscale": [
             [
              0,
              "#0d0887"
             ],
             [
              0.1111111111111111,
              "#46039f"
             ],
             [
              0.2222222222222222,
              "#7201a8"
             ],
             [
              0.3333333333333333,
              "#9c179e"
             ],
             [
              0.4444444444444444,
              "#bd3786"
             ],
             [
              0.5555555555555556,
              "#d8576b"
             ],
             [
              0.6666666666666666,
              "#ed7953"
             ],
             [
              0.7777777777777778,
              "#fb9f3a"
             ],
             [
              0.8888888888888888,
              "#fdca26"
             ],
             [
              1,
              "#f0f921"
             ]
            ],
            "type": "histogram2d"
           }
          ],
          "histogram2dcontour": [
           {
            "colorbar": {
             "outlinewidth": 0,
             "ticks": ""
            },
            "colorscale": [
             [
              0,
              "#0d0887"
             ],
             [
              0.1111111111111111,
              "#46039f"
             ],
             [
              0.2222222222222222,
              "#7201a8"
             ],
             [
              0.3333333333333333,
              "#9c179e"
             ],
             [
              0.4444444444444444,
              "#bd3786"
             ],
             [
              0.5555555555555556,
              "#d8576b"
             ],
             [
              0.6666666666666666,
              "#ed7953"
             ],
             [
              0.7777777777777778,
              "#fb9f3a"
             ],
             [
              0.8888888888888888,
              "#fdca26"
             ],
             [
              1,
              "#f0f921"
             ]
            ],
            "type": "histogram2dcontour"
           }
          ],
          "mesh3d": [
           {
            "colorbar": {
             "outlinewidth": 0,
             "ticks": ""
            },
            "type": "mesh3d"
           }
          ],
          "parcoords": [
           {
            "line": {
             "colorbar": {
              "outlinewidth": 0,
              "ticks": ""
             }
            },
            "type": "parcoords"
           }
          ],
          "pie": [
           {
            "automargin": true,
            "type": "pie"
           }
          ],
          "scatter": [
           {
            "marker": {
             "colorbar": {
              "outlinewidth": 0,
              "ticks": ""
             }
            },
            "type": "scatter"
           }
          ],
          "scatter3d": [
           {
            "line": {
             "colorbar": {
              "outlinewidth": 0,
              "ticks": ""
             }
            },
            "marker": {
             "colorbar": {
              "outlinewidth": 0,
              "ticks": ""
             }
            },
            "type": "scatter3d"
           }
          ],
          "scattercarpet": [
           {
            "marker": {
             "colorbar": {
              "outlinewidth": 0,
              "ticks": ""
             }
            },
            "type": "scattercarpet"
           }
          ],
          "scattergeo": [
           {
            "marker": {
             "colorbar": {
              "outlinewidth": 0,
              "ticks": ""
             }
            },
            "type": "scattergeo"
           }
          ],
          "scattergl": [
           {
            "marker": {
             "colorbar": {
              "outlinewidth": 0,
              "ticks": ""
             }
            },
            "type": "scattergl"
           }
          ],
          "scattermapbox": [
           {
            "marker": {
             "colorbar": {
              "outlinewidth": 0,
              "ticks": ""
             }
            },
            "type": "scattermapbox"
           }
          ],
          "scatterpolar": [
           {
            "marker": {
             "colorbar": {
              "outlinewidth": 0,
              "ticks": ""
             }
            },
            "type": "scatterpolar"
           }
          ],
          "scatterpolargl": [
           {
            "marker": {
             "colorbar": {
              "outlinewidth": 0,
              "ticks": ""
             }
            },
            "type": "scatterpolargl"
           }
          ],
          "scatterternary": [
           {
            "marker": {
             "colorbar": {
              "outlinewidth": 0,
              "ticks": ""
             }
            },
            "type": "scatterternary"
           }
          ],
          "surface": [
           {
            "colorbar": {
             "outlinewidth": 0,
             "ticks": ""
            },
            "colorscale": [
             [
              0,
              "#0d0887"
             ],
             [
              0.1111111111111111,
              "#46039f"
             ],
             [
              0.2222222222222222,
              "#7201a8"
             ],
             [
              0.3333333333333333,
              "#9c179e"
             ],
             [
              0.4444444444444444,
              "#bd3786"
             ],
             [
              0.5555555555555556,
              "#d8576b"
             ],
             [
              0.6666666666666666,
              "#ed7953"
             ],
             [
              0.7777777777777778,
              "#fb9f3a"
             ],
             [
              0.8888888888888888,
              "#fdca26"
             ],
             [
              1,
              "#f0f921"
             ]
            ],
            "type": "surface"
           }
          ],
          "table": [
           {
            "cells": {
             "fill": {
              "color": "#EBF0F8"
             },
             "line": {
              "color": "white"
             }
            },
            "header": {
             "fill": {
              "color": "#C8D4E3"
             },
             "line": {
              "color": "white"
             }
            },
            "type": "table"
           }
          ]
         },
         "layout": {
          "annotationdefaults": {
           "arrowcolor": "#2a3f5f",
           "arrowhead": 0,
           "arrowwidth": 1
          },
          "autotypenumbers": "strict",
          "coloraxis": {
           "colorbar": {
            "outlinewidth": 0,
            "ticks": ""
           }
          },
          "colorscale": {
           "diverging": [
            [
             0,
             "#8e0152"
            ],
            [
             0.1,
             "#c51b7d"
            ],
            [
             0.2,
             "#de77ae"
            ],
            [
             0.3,
             "#f1b6da"
            ],
            [
             0.4,
             "#fde0ef"
            ],
            [
             0.5,
             "#f7f7f7"
            ],
            [
             0.6,
             "#e6f5d0"
            ],
            [
             0.7,
             "#b8e186"
            ],
            [
             0.8,
             "#7fbc41"
            ],
            [
             0.9,
             "#4d9221"
            ],
            [
             1,
             "#276419"
            ]
           ],
           "sequential": [
            [
             0,
             "#0d0887"
            ],
            [
             0.1111111111111111,
             "#46039f"
            ],
            [
             0.2222222222222222,
             "#7201a8"
            ],
            [
             0.3333333333333333,
             "#9c179e"
            ],
            [
             0.4444444444444444,
             "#bd3786"
            ],
            [
             0.5555555555555556,
             "#d8576b"
            ],
            [
             0.6666666666666666,
             "#ed7953"
            ],
            [
             0.7777777777777778,
             "#fb9f3a"
            ],
            [
             0.8888888888888888,
             "#fdca26"
            ],
            [
             1,
             "#f0f921"
            ]
           ],
           "sequentialminus": [
            [
             0,
             "#0d0887"
            ],
            [
             0.1111111111111111,
             "#46039f"
            ],
            [
             0.2222222222222222,
             "#7201a8"
            ],
            [
             0.3333333333333333,
             "#9c179e"
            ],
            [
             0.4444444444444444,
             "#bd3786"
            ],
            [
             0.5555555555555556,
             "#d8576b"
            ],
            [
             0.6666666666666666,
             "#ed7953"
            ],
            [
             0.7777777777777778,
             "#fb9f3a"
            ],
            [
             0.8888888888888888,
             "#fdca26"
            ],
            [
             1,
             "#f0f921"
            ]
           ]
          },
          "colorway": [
           "#636efa",
           "#EF553B",
           "#00cc96",
           "#ab63fa",
           "#FFA15A",
           "#19d3f3",
           "#FF6692",
           "#B6E880",
           "#FF97FF",
           "#FECB52"
          ],
          "font": {
           "color": "#2a3f5f"
          },
          "geo": {
           "bgcolor": "white",
           "lakecolor": "white",
           "landcolor": "#E5ECF6",
           "showlakes": true,
           "showland": true,
           "subunitcolor": "white"
          },
          "hoverlabel": {
           "align": "left"
          },
          "hovermode": "closest",
          "mapbox": {
           "style": "light"
          },
          "paper_bgcolor": "white",
          "plot_bgcolor": "#E5ECF6",
          "polar": {
           "angularaxis": {
            "gridcolor": "white",
            "linecolor": "white",
            "ticks": ""
           },
           "bgcolor": "#E5ECF6",
           "radialaxis": {
            "gridcolor": "white",
            "linecolor": "white",
            "ticks": ""
           }
          },
          "scene": {
           "xaxis": {
            "backgroundcolor": "#E5ECF6",
            "gridcolor": "white",
            "gridwidth": 2,
            "linecolor": "white",
            "showbackground": true,
            "ticks": "",
            "zerolinecolor": "white"
           },
           "yaxis": {
            "backgroundcolor": "#E5ECF6",
            "gridcolor": "white",
            "gridwidth": 2,
            "linecolor": "white",
            "showbackground": true,
            "ticks": "",
            "zerolinecolor": "white"
           },
           "zaxis": {
            "backgroundcolor": "#E5ECF6",
            "gridcolor": "white",
            "gridwidth": 2,
            "linecolor": "white",
            "showbackground": true,
            "ticks": "",
            "zerolinecolor": "white"
           }
          },
          "shapedefaults": {
           "line": {
            "color": "#2a3f5f"
           }
          },
          "ternary": {
           "aaxis": {
            "gridcolor": "white",
            "linecolor": "white",
            "ticks": ""
           },
           "baxis": {
            "gridcolor": "white",
            "linecolor": "white",
            "ticks": ""
           },
           "bgcolor": "#E5ECF6",
           "caxis": {
            "gridcolor": "white",
            "linecolor": "white",
            "ticks": ""
           }
          },
          "title": {
           "x": 0.05
          },
          "xaxis": {
           "automargin": true,
           "gridcolor": "white",
           "linecolor": "white",
           "ticks": "",
           "title": {
            "standoff": 15
           },
           "zerolinecolor": "white",
           "zerolinewidth": 2
          },
          "yaxis": {
           "automargin": true,
           "gridcolor": "white",
           "linecolor": "white",
           "ticks": "",
           "title": {
            "standoff": 15
           },
           "zerolinecolor": "white",
           "zerolinewidth": 2
          }
         }
        }
       }
      }
     },
     "metadata": {}
    }
   ],
   "source": [
    "px.scatter_geo(df, lat=\"lat\", lon=\"long\", size=\"people\", projection=\"natural earth\", hover_name=\"gridid\", hover_data=['gridid', 'country', 'city'], color=\"country\")\n"
   ]
  },
  {
   "cell_type": "code",
   "execution_count": null,
   "metadata": {},
   "outputs": [],
   "source": []
  }
 ]
}